{
  "nbformat": 4,
  "nbformat_minor": 0,
  "metadata": {
    "colab": {
      "name": "2011MT10_solution_assignment1.ipynb",
      "provenance": [],
      "collapsed_sections": [],
      "toc_visible": true
    },
    "kernelspec": {
      "name": "python3",
      "display_name": "Python 3"
    }
  },
  "cells": [
    {
      "cell_type": "markdown",
      "metadata": {
        "id": "view-in-github"
      },
      "source": [
        "<a href=\"https://colab.research.google.com/github/cs575ts/Assignments/blob/main/Assignment_1/CS575_Assignment1.ipynb\" target=\"_parent\"><img src=\"https://colab.research.google.com/assets/colab-badge.svg\" alt=\"Open In Colab\"/></a>"
      ]
    },
    {
      "cell_type": "markdown",
      "metadata": {
        "id": "5UVv_bwue7JE"
      },
      "source": [
        "#Basic Descriptive Stats"
      ]
    },
    {
      "cell_type": "markdown",
      "metadata": {
        "id": "r1WSk4v2pabB"
      },
      "source": [
        "##Load Numpy, Pandas and other Libraries"
      ]
    },
    {
      "cell_type": "code",
      "metadata": {
        "id": "1AhcpQj6UAEY"
      },
      "source": [
        "import pandas as pd\r\n",
        "import numpy as np\r\n",
        "import scipy.stats as stats\r\n",
        "from scipy.stats import iqr\r\n",
        "import math\r\n",
        "import statistics"
      ],
      "execution_count": 74,
      "outputs": []
    },
    {
      "cell_type": "markdown",
      "metadata": {
        "id": "0E_fqWDcpk1S"
      },
      "source": [
        "### Load Dataset \"Inc_Exp_Data.csv\" using Pandas"
      ]
    },
    {
      "cell_type": "code",
      "metadata": {
        "id": "XKGx0SxMmAGg"
      },
      "source": [
        "df=pd.read_csv('Inc_Exp_Data.csv')"
      ],
      "execution_count": 75,
      "outputs": []
    },
    {
      "cell_type": "markdown",
      "metadata": {
        "id": "26a653XTpsrL"
      },
      "source": [
        "Analyze the data using pandas info() *function*"
      ]
    },
    {
      "cell_type": "code",
      "metadata": {
        "id": "HbA5rIO4qJSS",
        "colab": {
          "base_uri": "https://localhost:8080/"
        },
        "outputId": "41dcdf69-313d-4b17-e2b6-a92b7545649c"
      },
      "source": [
        "df.info()"
      ],
      "execution_count": 76,
      "outputs": [
        {
          "output_type": "stream",
          "text": [
            "<class 'pandas.core.frame.DataFrame'>\n",
            "RangeIndex: 50 entries, 0 to 49\n",
            "Data columns (total 7 columns):\n",
            " #   Column                    Non-Null Count  Dtype \n",
            "---  ------                    --------------  ----- \n",
            " 0   Mthly_HH_Income           50 non-null     int64 \n",
            " 1   Mthly_HH_Expense          50 non-null     int64 \n",
            " 2   No_of_Fly_Members         50 non-null     int64 \n",
            " 3   Emi_or_Rent_Amt           50 non-null     int64 \n",
            " 4   Annual_HH_Income          50 non-null     int64 \n",
            " 5   Highest_Qualified_Member  50 non-null     object\n",
            " 6   No_of_Earning_Members     50 non-null     int64 \n",
            "dtypes: int64(6), object(1)\n",
            "memory usage: 2.9+ KB\n"
          ],
          "name": "stdout"
        }
      ]
    },
    {
      "cell_type": "markdown",
      "metadata": {
        "id": "0bfcP5Twp4Sr"
      },
      "source": [
        "Analyze the data using pandas describe() *function*"
      ]
    },
    {
      "cell_type": "code",
      "metadata": {
        "id": "wf08Cv0cqJ-K",
        "colab": {
          "base_uri": "https://localhost:8080/",
          "height": 310
        },
        "outputId": "184a0e4e-e36f-4ee8-b593-d7137091390d"
      },
      "source": [
        "df.describe()"
      ],
      "execution_count": 77,
      "outputs": [
        {
          "output_type": "execute_result",
          "data": {
            "text/html": [
              "<div>\n",
              "<style scoped>\n",
              "    .dataframe tbody tr th:only-of-type {\n",
              "        vertical-align: middle;\n",
              "    }\n",
              "\n",
              "    .dataframe tbody tr th {\n",
              "        vertical-align: top;\n",
              "    }\n",
              "\n",
              "    .dataframe thead th {\n",
              "        text-align: right;\n",
              "    }\n",
              "</style>\n",
              "<table border=\"1\" class=\"dataframe\">\n",
              "  <thead>\n",
              "    <tr style=\"text-align: right;\">\n",
              "      <th></th>\n",
              "      <th>Mthly_HH_Income</th>\n",
              "      <th>Mthly_HH_Expense</th>\n",
              "      <th>No_of_Fly_Members</th>\n",
              "      <th>Emi_or_Rent_Amt</th>\n",
              "      <th>Annual_HH_Income</th>\n",
              "      <th>No_of_Earning_Members</th>\n",
              "    </tr>\n",
              "  </thead>\n",
              "  <tbody>\n",
              "    <tr>\n",
              "      <th>count</th>\n",
              "      <td>50.000000</td>\n",
              "      <td>50.000000</td>\n",
              "      <td>50.000000</td>\n",
              "      <td>50.000000</td>\n",
              "      <td>5.000000e+01</td>\n",
              "      <td>50.000000</td>\n",
              "    </tr>\n",
              "    <tr>\n",
              "      <th>mean</th>\n",
              "      <td>41558.000000</td>\n",
              "      <td>18818.000000</td>\n",
              "      <td>4.060000</td>\n",
              "      <td>3060.000000</td>\n",
              "      <td>4.900190e+05</td>\n",
              "      <td>1.460000</td>\n",
              "    </tr>\n",
              "    <tr>\n",
              "      <th>std</th>\n",
              "      <td>26097.908979</td>\n",
              "      <td>12090.216824</td>\n",
              "      <td>1.517382</td>\n",
              "      <td>6241.434948</td>\n",
              "      <td>3.201358e+05</td>\n",
              "      <td>0.734291</td>\n",
              "    </tr>\n",
              "    <tr>\n",
              "      <th>min</th>\n",
              "      <td>5000.000000</td>\n",
              "      <td>2000.000000</td>\n",
              "      <td>1.000000</td>\n",
              "      <td>0.000000</td>\n",
              "      <td>6.420000e+04</td>\n",
              "      <td>1.000000</td>\n",
              "    </tr>\n",
              "    <tr>\n",
              "      <th>25%</th>\n",
              "      <td>23550.000000</td>\n",
              "      <td>10000.000000</td>\n",
              "      <td>3.000000</td>\n",
              "      <td>0.000000</td>\n",
              "      <td>2.587500e+05</td>\n",
              "      <td>1.000000</td>\n",
              "    </tr>\n",
              "    <tr>\n",
              "      <th>50%</th>\n",
              "      <td>35000.000000</td>\n",
              "      <td>15500.000000</td>\n",
              "      <td>4.000000</td>\n",
              "      <td>0.000000</td>\n",
              "      <td>4.474200e+05</td>\n",
              "      <td>1.000000</td>\n",
              "    </tr>\n",
              "    <tr>\n",
              "      <th>75%</th>\n",
              "      <td>50375.000000</td>\n",
              "      <td>25000.000000</td>\n",
              "      <td>5.000000</td>\n",
              "      <td>3500.000000</td>\n",
              "      <td>5.947200e+05</td>\n",
              "      <td>2.000000</td>\n",
              "    </tr>\n",
              "    <tr>\n",
              "      <th>max</th>\n",
              "      <td>100000.000000</td>\n",
              "      <td>50000.000000</td>\n",
              "      <td>7.000000</td>\n",
              "      <td>35000.000000</td>\n",
              "      <td>1.404000e+06</td>\n",
              "      <td>4.000000</td>\n",
              "    </tr>\n",
              "  </tbody>\n",
              "</table>\n",
              "</div>"
            ],
            "text/plain": [
              "       Mthly_HH_Income  ...  No_of_Earning_Members\n",
              "count        50.000000  ...              50.000000\n",
              "mean      41558.000000  ...               1.460000\n",
              "std       26097.908979  ...               0.734291\n",
              "min        5000.000000  ...               1.000000\n",
              "25%       23550.000000  ...               1.000000\n",
              "50%       35000.000000  ...               1.000000\n",
              "75%       50375.000000  ...               2.000000\n",
              "max      100000.000000  ...               4.000000\n",
              "\n",
              "[8 rows x 6 columns]"
            ]
          },
          "metadata": {
            "tags": []
          },
          "execution_count": 77
        }
      ]
    },
    {
      "cell_type": "markdown",
      "metadata": {
        "id": "Gy_Q1psDp3K0"
      },
      "source": [
        "Analyze the data using pandas shape object"
      ]
    },
    {
      "cell_type": "code",
      "metadata": {
        "id": "lskKTYblqKUC",
        "colab": {
          "base_uri": "https://localhost:8080/"
        },
        "outputId": "bc490c40-6e17-4c6e-d72f-e65a7e35b200"
      },
      "source": [
        "print(df.shape)"
      ],
      "execution_count": 78,
      "outputs": [
        {
          "output_type": "stream",
          "text": [
            "(50, 7)\n"
          ],
          "name": "stdout"
        }
      ]
    },
    {
      "cell_type": "markdown",
      "metadata": {
        "id": "bTQjekrUp9LW"
      },
      "source": [
        "Check for missing values"
      ]
    },
    {
      "cell_type": "code",
      "metadata": {
        "id": "e9FUUTH7qKtq",
        "colab": {
          "base_uri": "https://localhost:8080/"
        },
        "outputId": "ca59fb85-02f8-4265-e646-523c121a907d"
      },
      "source": [
        "df.isnull().sum()"
      ],
      "execution_count": 79,
      "outputs": [
        {
          "output_type": "execute_result",
          "data": {
            "text/plain": [
              "Mthly_HH_Income             0\n",
              "Mthly_HH_Expense            0\n",
              "No_of_Fly_Members           0\n",
              "Emi_or_Rent_Amt             0\n",
              "Annual_HH_Income            0\n",
              "Highest_Qualified_Member    0\n",
              "No_of_Earning_Members       0\n",
              "dtype: int64"
            ]
          },
          "metadata": {
            "tags": []
          },
          "execution_count": 79
        }
      ]
    },
    {
      "cell_type": "markdown",
      "metadata": {
        "id": "VSfKC-bgqLFC"
      },
      "source": [
        "What is the Mean Expense of a Household? Compute mean using Inbuilt pandas function and write your own function for the same."
      ]
    },
    {
      "cell_type": "code",
      "metadata": {
        "id": "1qjSM6pf0eOg"
      },
      "source": [
        "#My mean function\r\n",
        "def my_mean(arr):\r\n",
        "  Sum=0\r\n",
        "  for i in arr:\r\n",
        "    Sum+=i\r\n",
        "  mean=Sum/len(arr)\r\n",
        "  return mean"
      ],
      "execution_count": 81,
      "outputs": []
    },
    {
      "cell_type": "code",
      "metadata": {
        "id": "DCRfeoKZqMzP",
        "colab": {
          "base_uri": "https://localhost:8080/"
        },
        "outputId": "b7094c43-3f43-4715-a9e8-e7ddd672d9c8"
      },
      "source": [
        "mean1=df['Mthly_HH_Expense'].mean()\r\n",
        "mean2=my_mean(df['Mthly_HH_Expense'])\r\n",
        "print(\"Mean Expense of a Household using inbuilt function is: \",mean1)\r\n",
        "print(\"Mean Expense of a Household using my mean function is: \",mean2)"
      ],
      "execution_count": 82,
      "outputs": [
        {
          "output_type": "stream",
          "text": [
            "Mean Expense of a Household using inbuilt function is:  18818.0\n",
            "Mean Expense of a Household using my mean function is:  18818.0\n"
          ],
          "name": "stdout"
        }
      ]
    },
    {
      "cell_type": "markdown",
      "metadata": {
        "id": "f9YrCDbZqNH6"
      },
      "source": [
        "What is the Median Household Expense? Compute Median using Inbuilt pandas function and write your own function for the same."
      ]
    },
    {
      "cell_type": "code",
      "metadata": {
        "id": "U8CXKDeTFoet"
      },
      "source": [
        "#My median function\r\n",
        "def my_median(arr):\r\n",
        "  n = len(arr)\r\n",
        "  if n % 2 == 0: \r\n",
        "    m1 = arr[n//2] \r\n",
        "    m2 = arr[n//2 - 1] \r\n",
        "    median = (m1 + m2)/2\r\n",
        "  else: \r\n",
        "    median = arr[n//2]\r\n",
        "  return median"
      ],
      "execution_count": 83,
      "outputs": []
    },
    {
      "cell_type": "code",
      "metadata": {
        "id": "wYWaDFM2qPxq",
        "colab": {
          "base_uri": "https://localhost:8080/"
        },
        "outputId": "45e2d24f-171e-4aed-972d-5bcbd2676048"
      },
      "source": [
        "exp_sort=sorted(list(df.Mthly_HH_Expense))\r\n",
        "median1=df['Mthly_HH_Expense'].median()\r\n",
        "median2=my_median(exp_sort)\r\n",
        "print(\"Median Expense of a Household using inbuilt function is: \",median1)\r\n",
        "print(\"Median Expense of a Household using my median function is: \",median2)"
      ],
      "execution_count": 84,
      "outputs": [
        {
          "output_type": "stream",
          "text": [
            "Median Expense of a Household using inbuilt function is:  15500.0\n",
            "Median Expense of a Household using my median function is:  15500.0\n"
          ],
          "name": "stdout"
        }
      ]
    },
    {
      "cell_type": "markdown",
      "metadata": {
        "id": "jD4gKP8IqRFT"
      },
      "source": [
        "What is the Monthly Expense for most of the Households?\r\n"
      ]
    },
    {
      "cell_type": "code",
      "metadata": {
        "id": "OrUkGIVlqUJb",
        "colab": {
          "base_uri": "https://localhost:8080/"
        },
        "outputId": "8565e123-f5e7-4d85-d003-fa4a5e7c5e3b"
      },
      "source": [
        "print(\"Monthly Expense for most of the Households is: \",statistics.mode(df.Mthly_HH_Expense))"
      ],
      "execution_count": 85,
      "outputs": [
        {
          "output_type": "stream",
          "text": [
            "Monthly Expense for most of the Households is:  25000\n"
          ],
          "name": "stdout"
        }
      ]
    },
    {
      "cell_type": "markdown",
      "metadata": {
        "id": "CZtVOZxJqXzz"
      },
      "source": [
        "Calculate IQR(difference between 75% and 25% quartile)"
      ]
    },
    {
      "cell_type": "code",
      "metadata": {
        "id": "sxPVuHYrqX8s",
        "colab": {
          "base_uri": "https://localhost:8080/"
        },
        "outputId": "e63ffd5e-88fa-4700-ab06-de8ba631e1dd"
      },
      "source": [
        "df[['Mthly_HH_Income', 'Mthly_HH_Expense','No_of_Fly_Members','Emi_or_Rent_Amt','Annual_HH_Income','No_of_Earning_Members']].apply(iqr)"
      ],
      "execution_count": 88,
      "outputs": [
        {
          "output_type": "execute_result",
          "data": {
            "text/plain": [
              "Mthly_HH_Income           26825.0\n",
              "Mthly_HH_Expense          15000.0\n",
              "No_of_Fly_Members             2.0\n",
              "Emi_or_Rent_Amt            3500.0\n",
              "Annual_HH_Income         335970.0\n",
              "No_of_Earning_Members         1.0\n",
              "dtype: float64"
            ]
          },
          "metadata": {
            "tags": []
          },
          "execution_count": 88
        }
      ]
    },
    {
      "cell_type": "markdown",
      "metadata": {
        "id": "jElORm3tqblT"
      },
      "source": [
        "Calculate Standard Deviation for first 4 columns. Compute Standard Deviation using Inbuilt pandas function and write your own function for the same."
      ]
    },
    {
      "cell_type": "code",
      "metadata": {
        "id": "vOt6PrTPkLog"
      },
      "source": [
        "#My variance function\r\n",
        "def my_var(arr):\r\n",
        "  mu=my_mean(arr)\r\n",
        "  Sum=0\r\n",
        "  for i in arr:\r\n",
        "    Sum=Sum+((i-mu)**2)\r\n",
        "  var=Sum/(len(arr)-1)\r\n",
        "  return var"
      ],
      "execution_count": 89,
      "outputs": []
    },
    {
      "cell_type": "code",
      "metadata": {
        "id": "EZsrBn-OkNnQ"
      },
      "source": [
        "#My standard deviation function\r\n",
        "def my_std(arr):\r\n",
        "  var=my_var(arr)\r\n",
        "  std=math.sqrt(var)\r\n",
        "  return std"
      ],
      "execution_count": 90,
      "outputs": []
    },
    {
      "cell_type": "code",
      "metadata": {
        "id": "ZYA56UIHqbsD",
        "colab": {
          "base_uri": "https://localhost:8080/"
        },
        "outputId": "2a5a5b42-8509-4626-d6b7-c26eb993cc91"
      },
      "source": [
        "y=df[['Mthly_HH_Income', 'Mthly_HH_Expense','No_of_Fly_Members','Emi_or_Rent_Amt']].std()\r\n",
        "print('Standard Deviation for first 4 columns using inbuilt pandas function are:')\r\n",
        "print(y)\r\n",
        "std1=my_std(df.Mthly_HH_Income)\r\n",
        "std2=my_std(df.Mthly_HH_Expense)\r\n",
        "std3=my_std(df.No_of_Fly_Members)\r\n",
        "std4=my_std(df.Emi_or_Rent_Amt)\r\n",
        "print('Standard Deviation for first 4 columns using my standard deviation function are:')\r\n",
        "print('Mthly_HH_Income:',std1,'\\nMthly_HH_Expense:',std2,'\\nNo_of_Fly_Members:',std3,'\\nEmi_or_Rent_Amt:',std4)"
      ],
      "execution_count": 91,
      "outputs": [
        {
          "output_type": "stream",
          "text": [
            "Standard Deviation for first 4 columns using inbuilt pandas function are:\n",
            "Mthly_HH_Income      26097.908979\n",
            "Mthly_HH_Expense     12090.216824\n",
            "No_of_Fly_Members        1.517382\n",
            "Emi_or_Rent_Amt       6241.434948\n",
            "dtype: float64\n",
            "Standard Deviation for first 4 columns using my standard deviation function are:\n",
            "Mthly_HH_Income: 26097.908978713687 \n",
            "Mthly_HH_Expense: 12090.216824240286 \n",
            "No_of_Fly_Members: 1.5173822786601394 \n",
            "Emi_or_Rent_Amt: 6241.434947516607\n"
          ],
          "name": "stdout"
        }
      ]
    },
    {
      "cell_type": "markdown",
      "metadata": {
        "id": "UHL1TLkPqfNX"
      },
      "source": [
        "Calculate Variance for first 3 columns. Compute Variance using Inbuilt pandas \r\n",
        "function and write your own function for the same."
      ]
    },
    {
      "cell_type": "code",
      "metadata": {
        "id": "W30ohdg-tyAZ",
        "colab": {
          "base_uri": "https://localhost:8080/"
        },
        "outputId": "ddf8260e-b85b-4d43-8d61-d53f84ef7243"
      },
      "source": [
        "#Mean and variance called from self defined function above\r\n",
        "y=df[['Mthly_HH_Income', 'Mthly_HH_Expense','No_of_Fly_Members']].var()\r\n",
        "print(\"Variance for first 3 columns using inbuilt pandas function are:\")\r\n",
        "print(y)\r\n",
        "var1=my_var(df.Mthly_HH_Income)\r\n",
        "var2=my_var(df.Mthly_HH_Expense)\r\n",
        "var3=my_var(df.No_of_Fly_Members)\r\n",
        "print(\"Variance for first 3 columns using my variance function are:\")\r\n",
        "print('Mthly_HH_Income:',var1,'\\nMthly_HH_Expense:',var2,'\\nNo_of_Fly_Members:',var3)"
      ],
      "execution_count": 92,
      "outputs": [
        {
          "output_type": "stream",
          "text": [
            "Variance for first 3 columns using inbuilt pandas function are:\n",
            "Mthly_HH_Income      6.811009e+08\n",
            "Mthly_HH_Expense     1.461733e+08\n",
            "No_of_Fly_Members    2.302449e+00\n",
            "dtype: float64\n",
            "Variance for first 3 columns using my variance function are:\n",
            "Mthly_HH_Income: 681100853.0612245 \n",
            "Mthly_HH_Expense: 146173342.85714287 \n",
            "No_of_Fly_Members: 2.302448979591837\n"
          ],
          "name": "stdout"
        }
      ]
    },
    {
      "cell_type": "markdown",
      "metadata": {
        "id": "ASY9WWAAuIx-"
      },
      "source": [
        "Calculate Skewness for first 3 columns. Compute Skewness using Inbuilt pandas function and write your own function for the same.\r\n"
      ]
    },
    {
      "cell_type": "code",
      "metadata": {
        "id": "dsDRWJOLQNbV"
      },
      "source": [
        "#My variance function\r\n",
        "def my_var2(arr):\r\n",
        "  mu=my_mean(arr)\r\n",
        "  Sum=0\r\n",
        "  for i in arr:\r\n",
        "    Sum=Sum+((i-mu)**2)\r\n",
        "  var=Sum/(len(arr))\r\n",
        "  return var"
      ],
      "execution_count": 93,
      "outputs": []
    },
    {
      "cell_type": "code",
      "metadata": {
        "id": "m_ZZLREZQUj0"
      },
      "source": [
        "#My standard deviation function\r\n",
        "def my_std2(arr):\r\n",
        "  var=my_var2(arr)\r\n",
        "  std=math.sqrt(var)\r\n",
        "  return std"
      ],
      "execution_count": 94,
      "outputs": []
    },
    {
      "cell_type": "code",
      "metadata": {
        "id": "cmDdI1_-nfdQ"
      },
      "source": [
        "#My skewness function\r\n",
        "def my_skew(arr):\r\n",
        "  mu=my_mean(arr)\r\n",
        "  s=my_std2(arr)\r\n",
        "  Sum=0\r\n",
        "  for i in arr:\r\n",
        "    Sum=Sum+((i-mu)**3)\r\n",
        "  skew=Sum/(len(arr)*(s**3))\r\n",
        "  return skew"
      ],
      "execution_count": 95,
      "outputs": []
    },
    {
      "cell_type": "code",
      "metadata": {
        "id": "Sl4uw-jouI88",
        "colab": {
          "base_uri": "https://localhost:8080/"
        },
        "outputId": "129e32c8-9258-47b6-f89d-b3c426dbaac1"
      },
      "source": [
        "y=df[['Mthly_HH_Income', 'Mthly_HH_Expense','No_of_Fly_Members']].skew()\r\n",
        "print(\"Skewness for first 3 columns using inbuilt pandas function are:\")\r\n",
        "print(y)\r\n",
        "skew1=my_skew(df.Mthly_HH_Income)\r\n",
        "skew2=my_skew(df.Mthly_HH_Expense)\r\n",
        "skew3=my_skew(df.No_of_Fly_Members)\r\n",
        "print(\"Skewness for first 3 columns using my skewness function are:\")\r\n",
        "print('Mthly_HH_Income:',skew1,'\\nMthly_HH_Expense:',skew2,'\\nNo_of_Fly_Members:',skew3)"
      ],
      "execution_count": 96,
      "outputs": [
        {
          "output_type": "stream",
          "text": [
            "Skewness for first 3 columns using inbuilt pandas function are:\n",
            "Mthly_HH_Income      0.924615\n",
            "Mthly_HH_Expense     1.199461\n",
            "No_of_Fly_Members    0.113674\n",
            "dtype: float64\n",
            "Skewness for first 3 columns using my skewness function are:\n",
            "Mthly_HH_Income: 0.8966419872996333 \n",
            "Mthly_HH_Expense: 1.163172846960863 \n",
            "No_of_Fly_Members: 0.11023510701807843\n"
          ],
          "name": "stdout"
        }
      ]
    },
    {
      "cell_type": "markdown",
      "metadata": {
        "id": "bHm8S-umuKV9"
      },
      "source": [
        "Calculate Kurtosis for first 3 columns. Compute Kurtosis using Inbuilt pandas function and write your own function for the same."
      ]
    },
    {
      "cell_type": "code",
      "metadata": {
        "id": "eIETmVZos1mo"
      },
      "source": [
        "#My kurtosis function\r\n",
        "def my_kurtosis(arr):\r\n",
        "  mu=my_mean(arr)   #Mean and standard deviation called from self defined function above\r\n",
        "  s=my_std2(arr)\r\n",
        "  Sum=0\r\n",
        "  for i in arr:\r\n",
        "    Sum=Sum+((i-mu)**4)\r\n",
        "  kurtosis=Sum/((len(arr)-1)*(s**4))-3\r\n",
        "  return kurtosis"
      ],
      "execution_count": 99,
      "outputs": []
    },
    {
      "cell_type": "code",
      "metadata": {
        "id": "_7DYdHt3uKkd",
        "colab": {
          "base_uri": "https://localhost:8080/"
        },
        "outputId": "82f5ebc3-a5d1-463b-a412-cb7bc0a8b1b8"
      },
      "source": [
        "y=df[['Mthly_HH_Income', 'Mthly_HH_Expense','No_of_Fly_Members']].kurtosis()\r\n",
        "print(\"Kurtosis for first 3 columns using inbuilt pandas function are:\")\r\n",
        "print(y)\r\n",
        "kurtosis1=my_kurtosis(df.Mthly_HH_Income)\r\n",
        "kurtosis2=my_kurtosis(df.Mthly_HH_Expense)\r\n",
        "kurtosis3=my_kurtosis(df.No_of_Fly_Members)\r\n",
        "print(\"Kurtosis for first 3 columns using my kurtosis function are:\")\r\n",
        "print('Mthly_HH_Income:',kurtosis1,'\\nMthly_HH_Expense:',kurtosis2,'\\nNo_of_Fly_Members:',kurtosis3)"
      ],
      "execution_count": 100,
      "outputs": [
        {
          "output_type": "stream",
          "text": [
            "Kurtosis for first 3 columns using inbuilt pandas function are:\n",
            "Mthly_HH_Income      0.115550\n",
            "Mthly_HH_Expense     0.942490\n",
            "No_of_Fly_Members   -0.851445\n",
            "dtype: float64\n",
            "Kurtosis for first 3 columns using my kurtosis function are:\n",
            "Mthly_HH_Income: 0.0476194401137775 \n",
            "Mthly_HH_Expense: 0.8093837384589446 \n",
            "No_of_Fly_Members: -0.8431613146456525\n"
          ],
          "name": "stdout"
        }
      ]
    },
    {
      "cell_type": "markdown",
      "metadata": {
        "id": "Mg32NdXwtCM6"
      },
      "source": [
        "Find the correlation coeeficient between the \"Mthly_HH_Income\" and\t\"Mthly_HH_Expense\". Compute correlation coeeficient using Inbuilt pandas function and write your own function for the same.\r\n"
      ]
    },
    {
      "cell_type": "code",
      "metadata": {
        "id": "J6AvJbx4uz_L"
      },
      "source": [
        "#My correlation function\r\n",
        "def my_corr(arr1,arr2):\r\n",
        "  Sum1=0\r\n",
        "  Sum2=0\r\n",
        "  Sum3=0\r\n",
        "  mu1=my_mean(arr1)       #Mean called from self defined function above\r\n",
        "  mu2=my_mean(arr2)\r\n",
        "  for i, j in zip(arr1, arr2):\r\n",
        "    Sum1+=((i-mu1)*(j-mu2))\r\n",
        "  for i in arr1:\r\n",
        "    Sum2+=((i-mu1)**2)\r\n",
        "  for j in arr2:\r\n",
        "    Sum3+=((j-mu2)**2)\r\n",
        "  corr=Sum1/(math.sqrt(Sum2*Sum3))\r\n",
        "  return corr"
      ],
      "execution_count": 101,
      "outputs": []
    },
    {
      "cell_type": "code",
      "metadata": {
        "id": "my0YjieUq2A6",
        "colab": {
          "base_uri": "https://localhost:8080/"
        },
        "outputId": "cefab12e-6cdc-4a5a-d92b-cf35d047b3f9"
      },
      "source": [
        "corr1=df.Mthly_HH_Income.corr(df.Mthly_HH_Expense)\r\n",
        "print(\"Correlation coeeficient between the Mthly_HH_Income and Mthly_HH_Expense using Inbuilt pandas function is:\\n\",corr1)\r\n",
        "corr2=my_corr(df.Mthly_HH_Income,df.Mthly_HH_Expense)\r\n",
        "print(\"Correlation coeeficient between the Mthly_HH_Income and Mthly_HH_Expense using my correlation function is:\\n\",corr2)"
      ],
      "execution_count": 103,
      "outputs": [
        {
          "output_type": "stream",
          "text": [
            "Correlation coeeficient between the Mthly_HH_Income and Mthly_HH_Expense using Inbuilt pandas function is:\n",
            " 0.6492152549316462\n",
            "Correlation coeeficient between the Mthly_HH_Income and Mthly_HH_Expense using my correlation function is:\n",
            " 0.6492152549316461\n"
          ],
          "name": "stdout"
        }
      ]
    },
    {
      "cell_type": "markdown",
      "metadata": {
        "id": "sNTnuxS3q2kD"
      },
      "source": [
        "Calculate the total counts under each qualification"
      ]
    },
    {
      "cell_type": "code",
      "metadata": {
        "id": "9uYeQk_xq2si",
        "colab": {
          "base_uri": "https://localhost:8080/"
        },
        "outputId": "dccc917b-a7d8-4925-fd49-87908b03ff61"
      },
      "source": [
        "df[['Highest_Qualified_Member']].value_counts()"
      ],
      "execution_count": 105,
      "outputs": [
        {
          "output_type": "execute_result",
          "data": {
            "text/plain": [
              "Highest_Qualified_Member\n",
              "Graduate                    19\n",
              "Under-Graduate              10\n",
              "Professional                10\n",
              "Post-Graduate                6\n",
              "Illiterate                   5\n",
              "dtype: int64"
            ]
          },
          "metadata": {
            "tags": []
          },
          "execution_count": 105
        }
      ]
    },
    {
      "cell_type": "markdown",
      "metadata": {
        "id": "vQT6RPqOyvi8"
      },
      "source": [
        "Compute logarithmic mean of the first two cols using your own function"
      ]
    },
    {
      "cell_type": "code",
      "metadata": {
        "id": "EUy4s5fjyzuh"
      },
      "source": [
        "def my_lmean(arr):\r\n",
        "  x = min(arr)\r\n",
        "  y = max(arr)\r\n",
        "  lmean = (y - x)/(np.log(y)-np.log(x))\r\n",
        "  return lmean"
      ],
      "execution_count": 106,
      "outputs": []
    },
    {
      "cell_type": "code",
      "metadata": {
        "colab": {
          "base_uri": "https://localhost:8080/"
        },
        "id": "a9XR9swAL9xb",
        "outputId": "f945bd14-a938-4246-a1cd-0d0bb84382be"
      },
      "source": [
        "print(\"Logarithmic mean of the first column is: \",my_lmean(df.Mthly_HH_Income))\r\n",
        "print(\"Logarithmic mean of the second column is: \",my_lmean(df.Mthly_HH_Expense))"
      ],
      "execution_count": 107,
      "outputs": [
        {
          "output_type": "stream",
          "text": [
            "Logarithmic mean of the first column is:  31711.77906605674\n",
            "Logarithmic mean of the second column is:  14912.038429430682\n"
          ],
          "name": "stdout"
        }
      ]
    },
    {
      "cell_type": "markdown",
      "metadata": {
        "id": "LG4ph_BXyzmq"
      },
      "source": [
        "Compute geometric mean of the first two cols using your own  function and verify using inbuilt Python function"
      ]
    },
    {
      "cell_type": "code",
      "metadata": {
        "id": "P0xg13CivuMR"
      },
      "source": [
        "def my_gmean(arr):\r\n",
        "  Product=1\r\n",
        "  for i in arr:\r\n",
        "    Product*=i\r\n",
        "  gmean=(Product)**(1/len(arr))\r\n",
        "  return gmean"
      ],
      "execution_count": 108,
      "outputs": []
    },
    {
      "cell_type": "code",
      "metadata": {
        "colab": {
          "base_uri": "https://localhost:8080/"
        },
        "id": "l7rJEB6S2lGK",
        "outputId": "c9403c8b-1588-4f66-d5db-b9d16fd4d269"
      },
      "source": [
        "gmean11=stats.gmean(df.Mthly_HH_Income)\r\n",
        "gmean12=stats.gmean(df.Mthly_HH_Expense)\r\n",
        "gmean21=my_gmean(df.Mthly_HH_Income)\r\n",
        "gmean22=my_gmean(df.Mthly_HH_Expense)\r\n",
        "print(\"Geometric mean of first column using inbuilt Python function is: \",gmean11)\r\n",
        "print(\"Geometric mean of second column using inbuilt Python function is: \",gmean12)\r\n",
        "print(\"Geometric mean of first column using my function is: \",gmean21)\r\n",
        "print(\"Geometric mean of second column using my function is: \",gmean22)"
      ],
      "execution_count": 109,
      "outputs": [
        {
          "output_type": "stream",
          "text": [
            "Geometric mean of first column using inbuilt Python function is:  33590.37754021395\n",
            "Geometric mean of second column using inbuilt Python function is:  15391.89958222314\n",
            "Geometric mean of first column using my function is:  33590.377540213965\n",
            "Geometric mean of second column using my function is:  15391.899582223135\n"
          ],
          "name": "stdout"
        }
      ]
    },
    {
      "cell_type": "markdown",
      "metadata": {
        "id": "Sgq9FwT-y7vC"
      },
      "source": [
        "Compute *Mean Deviation from the Mean* of the first two cols using your own  function and verify using inbuilt Python function"
      ]
    },
    {
      "cell_type": "code",
      "metadata": {
        "id": "ImCyk2CAy7zJ"
      },
      "source": [
        "def my_meandev(arr):\r\n",
        "  mu = my_mean(arr)\r\n",
        "  Sum = 0\r\n",
        "  for i in arr:\r\n",
        "    Sum+=(i-mu)\r\n",
        "  dev=(Sum/len(arr))\r\n",
        "  return dev"
      ],
      "execution_count": 112,
      "outputs": []
    },
    {
      "cell_type": "code",
      "metadata": {
        "colab": {
          "base_uri": "https://localhost:8080/"
        },
        "id": "eLdJXDAlTKky",
        "outputId": "c9cea8bf-1279-4a12-ef55-44555759a951"
      },
      "source": [
        "print(\"Mean Deviation from the Mean of the Mthly_HH_Income column is: \",my_meandev(df.Mthly_HH_Income))\r\n",
        "print(\"Mean Deviation from the Mean of the Mthly_HH_Expense column is: \",my_meandev(df.Mthly_HH_Expense))"
      ],
      "execution_count": 113,
      "outputs": [
        {
          "output_type": "stream",
          "text": [
            "Mean Deviation from the Mean of the Mthly_HH_Income column is:  0.0\n",
            "Mean Deviation from the Mean of the Mthly_HH_Expense column is:  0.0\n"
          ],
          "name": "stdout"
        }
      ]
    },
    {
      "cell_type": "code",
      "metadata": {
        "id": "TA7EHbvGUeq0"
      },
      "source": [
        "#Mean deviation inbuilt function not found"
      ],
      "execution_count": 130,
      "outputs": []
    },
    {
      "cell_type": "markdown",
      "metadata": {
        "id": "IPbeTeSlzEEi"
      },
      "source": [
        "Compute *Mean Absolute Deviation from the Mean* of the first two cols using your own function and verify using inbuilt Python function"
      ]
    },
    {
      "cell_type": "code",
      "metadata": {
        "id": "P5qNxybdE7sC"
      },
      "source": [
        "#My mean absolute deviation function\r\n",
        "def my_mad(arr):\r\n",
        "  Sum=0\r\n",
        "  mu=my_mean(arr)\r\n",
        "  for i in arr:\r\n",
        "    Sum+=abs(i-mu)\r\n",
        "  mad=Sum/len(arr)\r\n",
        "  return mad"
      ],
      "execution_count": 116,
      "outputs": []
    },
    {
      "cell_type": "code",
      "metadata": {
        "id": "hITjKV8QzENJ",
        "colab": {
          "base_uri": "https://localhost:8080/"
        },
        "outputId": "af82b4a6-c02b-4a55-80f5-8e5c338bbc7f"
      },
      "source": [
        "mad11=df.Mthly_HH_Income.mad()\r\n",
        "mad12=df.Mthly_HH_Expense.mad()\r\n",
        "mad21=my_mad(df.Mthly_HH_Income)\r\n",
        "mad22=my_mad(df.Mthly_HH_Expense)\r\n",
        "print(\"Mean absolute deviation of first column using inbuilt Python function is: \",mad11)\r\n",
        "print(\"Mean absolute deviation of second column using inbuilt Python function is: \",mad12)\r\n",
        "print(\"Mean absolute deviation of first column using my function is: \",mad21)\r\n",
        "print(\"Mean absolute deviation of second column using my function is: \",mad22)"
      ],
      "execution_count": 117,
      "outputs": [
        {
          "output_type": "stream",
          "text": [
            "Mean absolute deviation of first column using inbuilt Python function is:  20288.96\n",
            "Mean absolute deviation of second column using inbuilt Python function is:  9247.44\n",
            "Mean absolute deviation of first column using my function is:  20288.96\n",
            "Mean absolute deviation of second column using my function is:  9247.44\n"
          ],
          "name": "stdout"
        }
      ]
    },
    {
      "cell_type": "markdown",
      "metadata": {
        "id": "OVoo_Mc0zMfS"
      },
      "source": [
        "Compute *Coefficient of Variation* of the first two cols using your own function and verify using inbuilt Python function"
      ]
    },
    {
      "cell_type": "code",
      "metadata": {
        "id": "1qRRwXcgJCDz"
      },
      "source": [
        "#My Coefficient of Variation function\r\n",
        "def my_cv(arr):\r\n",
        "  mu=my_mean(arr)\r\n",
        "  sigma=my_std2(arr)\r\n",
        "  cv=sigma/mu\r\n",
        "  return cv"
      ],
      "execution_count": 118,
      "outputs": []
    },
    {
      "cell_type": "code",
      "metadata": {
        "id": "3Xw8Xa0czMly",
        "colab": {
          "base_uri": "https://localhost:8080/"
        },
        "outputId": "56a7cd68-7e6f-4f5d-fd55-fe962f8c7b49"
      },
      "source": [
        "cv11=stats.variation(df.Mthly_HH_Income)\r\n",
        "cv12=stats.variation(df.Mthly_HH_Expense)\r\n",
        "cv21=my_cv(df.Mthly_HH_Income)\r\n",
        "cv22=my_cv(df.Mthly_HH_Expense)\r\n",
        "print(\"Coefficient of Variation of first column using inbuilt Python function is: \",cv11)\r\n",
        "print(\"Coefficient of Variation of second column using inbuilt Python function is: \",cv12)\r\n",
        "print(\"Coefficient of Variation of first column using my function is: \",cv21)\r\n",
        "print(\"Coefficient of Variation of second column using my function is: \",cv22)"
      ],
      "execution_count": 119,
      "outputs": [
        {
          "output_type": "stream",
          "text": [
            "Coefficient of Variation of first column using inbuilt Python function is:  0.6216760137420672\n",
            "Coefficient of Variation of second column using inbuilt Python function is:  0.636024233362227\n",
            "Coefficient of Variation of first column using my function is:  0.6216760137420672\n",
            "Coefficient of Variation of second column using my function is:  0.636024233362227\n"
          ],
          "name": "stdout"
        }
      ]
    },
    {
      "cell_type": "markdown",
      "metadata": {
        "id": "zXC0DSBH0WFV"
      },
      "source": [
        "Compute z score  for all numerical cols using your own function  and verify using inbuilt Python function"
      ]
    },
    {
      "cell_type": "code",
      "metadata": {
        "id": "zT3awTQ2UWwI"
      },
      "source": [
        "#My z score function\r\n",
        "def my_zscore(arr):\r\n",
        "  zscore=[]\r\n",
        "  mu=my_mean(arr)\r\n",
        "  sigma=my_std2(arr)\r\n",
        "  for i in arr:\r\n",
        "    z=(i-mu)/sigma\r\n",
        "    zscore.append(z)\r\n",
        "  return zscore"
      ],
      "execution_count": 120,
      "outputs": []
    },
    {
      "cell_type": "code",
      "metadata": {
        "id": "scxvh7XAVHob",
        "colab": {
          "base_uri": "https://localhost:8080/"
        },
        "outputId": "ef5c7901-06db-49d4-fd82-311226d7cf57"
      },
      "source": [
        "zscore1=my_zscore(df.Mthly_HH_Income)\r\n",
        "zscore2=my_zscore(df.Mthly_HH_Expense)\r\n",
        "zscore3=my_zscore(df.No_of_Fly_Members)\r\n",
        "zscore4=my_zscore(df.Emi_or_Rent_Amt)\r\n",
        "zscore5=my_zscore(df.Annual_HH_Income)\r\n",
        "zscore6=my_zscore(df.No_of_Earning_Members)\r\n",
        "\r\n",
        "print(\"z scores for column Mthly_HH_Income using my zscore function are: \\n\\n\",np.array(zscore1))\r\n",
        "print(\"\\nz scores for column Mthly_HH_Expense using my zscore function are: \\n\\n\",np.array(zscore2))\r\n",
        "print(\"\\nz scores for column No_of_Fly_Members using my zscore function are: \\n\\n\",np.array(zscore3))\r\n",
        "print(\"\\nz scores for column Emi_or_Rent_Amt using my zscore function are: \\n\\n\",np.array(zscore4))\r\n",
        "print(\"\\nz scores for column Annual_HH_Income using my zscore function are: \\n\\n\",np.array(zscore5))\r\n",
        "print(\"\\nz scores for column No_of_Earning_Members using my zscore function are: \\n\\n\",np.array(zscore6))\r\n"
      ],
      "execution_count": 124,
      "outputs": [
        {
          "output_type": "stream",
          "text": [
            "z scores for column Mthly_HH_Income using my zscore function are: \n",
            "\n",
            " [-1.41502358 -1.37631732 -1.22149227 -1.22149227 -1.12472661 -1.06666721\n",
            " -1.02796095 -0.91184216 -0.87313589 -0.83442963 -0.83442963 -0.7570171\n",
            " -0.70282833 -0.67960458 -0.67960458 -0.64089831 -0.64089831 -0.64089831\n",
            " -0.48607326 -0.44736699 -0.42801386 -0.36995447 -0.29254194 -0.29254194\n",
            " -0.25383568 -0.25383568 -0.09901062 -0.06030436  0.01710817  0.05581443\n",
            "  0.13322696  0.13322696  0.13322696  0.13322696  0.17193322  0.21063949\n",
            "  0.32675828  0.34611141  0.5202896   0.71382091  0.71382091  0.90735223\n",
            "  1.10088355  1.48794619  1.6814775   1.87500882  2.18465893  2.26207146\n",
            "  2.26207146  2.26207146]\n",
            "\n",
            "z scores for column Mthly_HH_Expense using my zscore function are: \n",
            "\n",
            " [-0.90385726 -0.98740849 -1.19628658 -1.40516467 -0.56965232 -0.90385726\n",
            " -0.23544738  0.09875756 -0.82030602 -0.82030602 -0.06834491  0.51651373\n",
            " -1.15451096 -0.69497917 -0.73675479 -0.54458695  0.09875756 -0.73675479\n",
            " -1.02082899 -0.48610108  0.51651373 -0.31899861  0.01520632  0.51651373\n",
            " -0.56965232  0.51651373 -0.90385726 -0.73675479 -0.31899861 -0.56965232\n",
            "  0.51651373  1.76978226 -0.73675479  0.26586003  0.51651373 -0.31899861\n",
            "  0.09875756  0.09875756  2.18753843 -0.73675479  2.6052946   0.09875756\n",
            " -0.82030602  0.09875756  0.51651373  2.43819213  0.51651373  0.93426991\n",
            "  2.6052946   1.76978226]\n",
            "\n",
            "z scores for column No_of_Fly_Members using my zscore function are: \n",
            "\n",
            " [-0.70566377 -1.37138431 -1.37138431 -2.03710484 -1.37138431 -1.37138431\n",
            " -0.70566377  0.6257773  -1.37138431 -0.03994323 -0.03994323  1.29149784\n",
            " -0.70566377  1.29149784 -0.03994323 -0.70566377 -0.70566377  1.29149784\n",
            " -1.37138431 -0.03994323  0.6257773  -0.03994323  1.29149784 -0.70566377\n",
            " -0.70566377 -0.03994323 -0.03994323 -0.03994323 -0.03994323 -0.03994323\n",
            "  1.29149784  1.29149784 -1.37138431 -0.03994323  0.6257773   1.95721838\n",
            " -0.03994323 -0.70566377  1.29149784 -0.70566377  1.29149784 -0.03994323\n",
            " -1.37138431 -0.03994323  0.6257773   1.95721838  0.6257773   1.29149784\n",
            " -0.03994323  1.29149784]\n",
            "\n",
            "z scores for column Emi_or_Rent_Amt using my zscore function are: \n",
            "\n",
            " [-0.17155697 -0.00971077 -0.49524938 -0.49524938 -0.00971077 -0.49524938\n",
            "  5.16936771  0.79952024 -0.49524938 -0.49524938  0.79952024  1.44690505\n",
            " -0.49524938 -0.49524938 -0.49524938 -0.49524938  0.07121233 -0.49524938\n",
            " -0.17155697 -0.49524938  0.31398163 -0.49524938 -0.49524938  0.15213543\n",
            " -0.49524938 -0.49524938 -0.49524938 -0.49524938 -0.49524938 -0.49524938\n",
            " -0.49524938  0.07121233 -0.33340318 -0.09063387  0.07121233 -0.49524938\n",
            " -0.49524938 -0.49524938  1.44690505 -0.49524938  1.12321265  0.31398163\n",
            " -0.49524938 -0.49524938 -0.49524938 -0.49524938 -0.49524938 -0.49524938\n",
            "  2.74167467  1.12321265]\n",
            "\n",
            "z scores for column Annual_HH_Income using my zscore function are: \n",
            "\n",
            " [-1.34362417 -1.29402147 -1.19027232 -1.23949637 -1.08235806 -0.92597705\n",
            " -1.01798815 -0.86463631 -0.85554879 -0.84949045 -0.66774012 -0.66319636\n",
            " -0.62472587 -0.54657323 -0.77376115 -0.76997468 -0.72264386 -0.73211003\n",
            " -0.44812513 -0.33074471 -0.43752303 -0.14066416 -0.50340753 -0.06569214\n",
            " -0.07515831 -0.12816882  0.21109847 -0.24365601 -0.00359411  0.40761601\n",
            "  0.10659203  0.05547475 -0.16603347  0.37921752  0.33491588 -0.10469274\n",
            "  0.25237094  0.2894783   0.3489258   0.31674085  0.31674085  0.49659795\n",
            "  0.83927305  1.84647281  2.05851486  1.2482113   2.09032117  2.88396429\n",
            "  1.71016006  2.61891172]\n",
            "\n",
            "z scores for column No_of_Earning_Members using my zscore function are: \n",
            "\n",
            " [-0.63281451 -0.63281451 -0.63281451 -0.63281451 -0.63281451 -0.63281451\n",
            " -0.63281451 -0.63281451 -0.63281451  0.7428692   0.7428692  -0.63281451\n",
            " -0.63281451  0.7428692   0.7428692  -0.63281451 -0.63281451  2.11855292\n",
            " -0.63281451 -0.63281451 -0.63281451 -0.63281451 -0.63281451 -0.63281451\n",
            " -0.63281451  0.7428692  -0.63281451 -0.63281451 -0.63281451 -0.63281451\n",
            "  2.11855292  0.7428692  -0.63281451 -0.63281451 -0.63281451  3.49423663\n",
            " -0.63281451  0.7428692   0.7428692  -0.63281451 -0.63281451  0.7428692\n",
            " -0.63281451 -0.63281451  0.7428692   2.11855292  0.7428692   2.11855292\n",
            "  0.7428692  -0.63281451]\n"
          ],
          "name": "stdout"
        }
      ]
    },
    {
      "cell_type": "code",
      "metadata": {
        "colab": {
          "base_uri": "https://localhost:8080/",
          "height": 1000
        },
        "id": "qwI0MrHWGQOu",
        "outputId": "d0c65ded-527c-4f42-da04-79c8930735a4"
      },
      "source": [
        "newdf = df.select_dtypes(include=np.number)\r\n",
        "print(\"z scores for all numerical columns using inbuilt python function are: \")\r\n",
        "newdf.apply(stats.zscore)"
      ],
      "execution_count": 126,
      "outputs": [
        {
          "output_type": "stream",
          "text": [
            "z scores for all numerical columns using inbuilt python function are: \n"
          ],
          "name": "stdout"
        },
        {
          "output_type": "execute_result",
          "data": {
            "text/html": [
              "<div>\n",
              "<style scoped>\n",
              "    .dataframe tbody tr th:only-of-type {\n",
              "        vertical-align: middle;\n",
              "    }\n",
              "\n",
              "    .dataframe tbody tr th {\n",
              "        vertical-align: top;\n",
              "    }\n",
              "\n",
              "    .dataframe thead th {\n",
              "        text-align: right;\n",
              "    }\n",
              "</style>\n",
              "<table border=\"1\" class=\"dataframe\">\n",
              "  <thead>\n",
              "    <tr style=\"text-align: right;\">\n",
              "      <th></th>\n",
              "      <th>Mthly_HH_Income</th>\n",
              "      <th>Mthly_HH_Expense</th>\n",
              "      <th>No_of_Fly_Members</th>\n",
              "      <th>Emi_or_Rent_Amt</th>\n",
              "      <th>Annual_HH_Income</th>\n",
              "      <th>No_of_Earning_Members</th>\n",
              "    </tr>\n",
              "  </thead>\n",
              "  <tbody>\n",
              "    <tr>\n",
              "      <th>0</th>\n",
              "      <td>-1.415024</td>\n",
              "      <td>-0.903857</td>\n",
              "      <td>-0.705664</td>\n",
              "      <td>-0.171557</td>\n",
              "      <td>-1.343624</td>\n",
              "      <td>-0.632815</td>\n",
              "    </tr>\n",
              "    <tr>\n",
              "      <th>1</th>\n",
              "      <td>-1.376317</td>\n",
              "      <td>-0.987408</td>\n",
              "      <td>-1.371384</td>\n",
              "      <td>-0.009711</td>\n",
              "      <td>-1.294021</td>\n",
              "      <td>-0.632815</td>\n",
              "    </tr>\n",
              "    <tr>\n",
              "      <th>2</th>\n",
              "      <td>-1.221492</td>\n",
              "      <td>-1.196287</td>\n",
              "      <td>-1.371384</td>\n",
              "      <td>-0.495249</td>\n",
              "      <td>-1.190272</td>\n",
              "      <td>-0.632815</td>\n",
              "    </tr>\n",
              "    <tr>\n",
              "      <th>3</th>\n",
              "      <td>-1.221492</td>\n",
              "      <td>-1.405165</td>\n",
              "      <td>-2.037105</td>\n",
              "      <td>-0.495249</td>\n",
              "      <td>-1.239496</td>\n",
              "      <td>-0.632815</td>\n",
              "    </tr>\n",
              "    <tr>\n",
              "      <th>4</th>\n",
              "      <td>-1.124727</td>\n",
              "      <td>-0.569652</td>\n",
              "      <td>-1.371384</td>\n",
              "      <td>-0.009711</td>\n",
              "      <td>-1.082358</td>\n",
              "      <td>-0.632815</td>\n",
              "    </tr>\n",
              "    <tr>\n",
              "      <th>5</th>\n",
              "      <td>-1.066667</td>\n",
              "      <td>-0.903857</td>\n",
              "      <td>-1.371384</td>\n",
              "      <td>-0.495249</td>\n",
              "      <td>-0.925977</td>\n",
              "      <td>-0.632815</td>\n",
              "    </tr>\n",
              "    <tr>\n",
              "      <th>6</th>\n",
              "      <td>-1.027961</td>\n",
              "      <td>-0.235447</td>\n",
              "      <td>-0.705664</td>\n",
              "      <td>5.169368</td>\n",
              "      <td>-1.017988</td>\n",
              "      <td>-0.632815</td>\n",
              "    </tr>\n",
              "    <tr>\n",
              "      <th>7</th>\n",
              "      <td>-0.911842</td>\n",
              "      <td>0.098758</td>\n",
              "      <td>0.625777</td>\n",
              "      <td>0.799520</td>\n",
              "      <td>-0.864636</td>\n",
              "      <td>-0.632815</td>\n",
              "    </tr>\n",
              "    <tr>\n",
              "      <th>8</th>\n",
              "      <td>-0.873136</td>\n",
              "      <td>-0.820306</td>\n",
              "      <td>-1.371384</td>\n",
              "      <td>-0.495249</td>\n",
              "      <td>-0.855549</td>\n",
              "      <td>-0.632815</td>\n",
              "    </tr>\n",
              "    <tr>\n",
              "      <th>9</th>\n",
              "      <td>-0.834430</td>\n",
              "      <td>-0.820306</td>\n",
              "      <td>-0.039943</td>\n",
              "      <td>-0.495249</td>\n",
              "      <td>-0.849490</td>\n",
              "      <td>0.742869</td>\n",
              "    </tr>\n",
              "    <tr>\n",
              "      <th>10</th>\n",
              "      <td>-0.834430</td>\n",
              "      <td>-0.068345</td>\n",
              "      <td>-0.039943</td>\n",
              "      <td>0.799520</td>\n",
              "      <td>-0.667740</td>\n",
              "      <td>0.742869</td>\n",
              "    </tr>\n",
              "    <tr>\n",
              "      <th>11</th>\n",
              "      <td>-0.757017</td>\n",
              "      <td>0.516514</td>\n",
              "      <td>1.291498</td>\n",
              "      <td>1.446905</td>\n",
              "      <td>-0.663196</td>\n",
              "      <td>-0.632815</td>\n",
              "    </tr>\n",
              "    <tr>\n",
              "      <th>12</th>\n",
              "      <td>-0.702828</td>\n",
              "      <td>-1.154511</td>\n",
              "      <td>-0.705664</td>\n",
              "      <td>-0.495249</td>\n",
              "      <td>-0.624726</td>\n",
              "      <td>-0.632815</td>\n",
              "    </tr>\n",
              "    <tr>\n",
              "      <th>13</th>\n",
              "      <td>-0.679605</td>\n",
              "      <td>-0.694979</td>\n",
              "      <td>1.291498</td>\n",
              "      <td>-0.495249</td>\n",
              "      <td>-0.546573</td>\n",
              "      <td>0.742869</td>\n",
              "    </tr>\n",
              "    <tr>\n",
              "      <th>14</th>\n",
              "      <td>-0.679605</td>\n",
              "      <td>-0.736755</td>\n",
              "      <td>-0.039943</td>\n",
              "      <td>-0.495249</td>\n",
              "      <td>-0.773761</td>\n",
              "      <td>0.742869</td>\n",
              "    </tr>\n",
              "    <tr>\n",
              "      <th>15</th>\n",
              "      <td>-0.640898</td>\n",
              "      <td>-0.544587</td>\n",
              "      <td>-0.705664</td>\n",
              "      <td>-0.495249</td>\n",
              "      <td>-0.769975</td>\n",
              "      <td>-0.632815</td>\n",
              "    </tr>\n",
              "    <tr>\n",
              "      <th>16</th>\n",
              "      <td>-0.640898</td>\n",
              "      <td>0.098758</td>\n",
              "      <td>-0.705664</td>\n",
              "      <td>0.071212</td>\n",
              "      <td>-0.722644</td>\n",
              "      <td>-0.632815</td>\n",
              "    </tr>\n",
              "    <tr>\n",
              "      <th>17</th>\n",
              "      <td>-0.640898</td>\n",
              "      <td>-0.736755</td>\n",
              "      <td>1.291498</td>\n",
              "      <td>-0.495249</td>\n",
              "      <td>-0.732110</td>\n",
              "      <td>2.118553</td>\n",
              "    </tr>\n",
              "    <tr>\n",
              "      <th>18</th>\n",
              "      <td>-0.486073</td>\n",
              "      <td>-1.020829</td>\n",
              "      <td>-1.371384</td>\n",
              "      <td>-0.171557</td>\n",
              "      <td>-0.448125</td>\n",
              "      <td>-0.632815</td>\n",
              "    </tr>\n",
              "    <tr>\n",
              "      <th>19</th>\n",
              "      <td>-0.447367</td>\n",
              "      <td>-0.486101</td>\n",
              "      <td>-0.039943</td>\n",
              "      <td>-0.495249</td>\n",
              "      <td>-0.330745</td>\n",
              "      <td>-0.632815</td>\n",
              "    </tr>\n",
              "    <tr>\n",
              "      <th>20</th>\n",
              "      <td>-0.428014</td>\n",
              "      <td>0.516514</td>\n",
              "      <td>0.625777</td>\n",
              "      <td>0.313982</td>\n",
              "      <td>-0.437523</td>\n",
              "      <td>-0.632815</td>\n",
              "    </tr>\n",
              "    <tr>\n",
              "      <th>21</th>\n",
              "      <td>-0.369954</td>\n",
              "      <td>-0.318999</td>\n",
              "      <td>-0.039943</td>\n",
              "      <td>-0.495249</td>\n",
              "      <td>-0.140664</td>\n",
              "      <td>-0.632815</td>\n",
              "    </tr>\n",
              "    <tr>\n",
              "      <th>22</th>\n",
              "      <td>-0.292542</td>\n",
              "      <td>0.015206</td>\n",
              "      <td>1.291498</td>\n",
              "      <td>-0.495249</td>\n",
              "      <td>-0.503408</td>\n",
              "      <td>-0.632815</td>\n",
              "    </tr>\n",
              "    <tr>\n",
              "      <th>23</th>\n",
              "      <td>-0.292542</td>\n",
              "      <td>0.516514</td>\n",
              "      <td>-0.705664</td>\n",
              "      <td>0.152135</td>\n",
              "      <td>-0.065692</td>\n",
              "      <td>-0.632815</td>\n",
              "    </tr>\n",
              "    <tr>\n",
              "      <th>24</th>\n",
              "      <td>-0.253836</td>\n",
              "      <td>-0.569652</td>\n",
              "      <td>-0.705664</td>\n",
              "      <td>-0.495249</td>\n",
              "      <td>-0.075158</td>\n",
              "      <td>-0.632815</td>\n",
              "    </tr>\n",
              "    <tr>\n",
              "      <th>25</th>\n",
              "      <td>-0.253836</td>\n",
              "      <td>0.516514</td>\n",
              "      <td>-0.039943</td>\n",
              "      <td>-0.495249</td>\n",
              "      <td>-0.128169</td>\n",
              "      <td>0.742869</td>\n",
              "    </tr>\n",
              "    <tr>\n",
              "      <th>26</th>\n",
              "      <td>-0.099011</td>\n",
              "      <td>-0.903857</td>\n",
              "      <td>-0.039943</td>\n",
              "      <td>-0.495249</td>\n",
              "      <td>0.211098</td>\n",
              "      <td>-0.632815</td>\n",
              "    </tr>\n",
              "    <tr>\n",
              "      <th>27</th>\n",
              "      <td>-0.060304</td>\n",
              "      <td>-0.736755</td>\n",
              "      <td>-0.039943</td>\n",
              "      <td>-0.495249</td>\n",
              "      <td>-0.243656</td>\n",
              "      <td>-0.632815</td>\n",
              "    </tr>\n",
              "    <tr>\n",
              "      <th>28</th>\n",
              "      <td>0.017108</td>\n",
              "      <td>-0.318999</td>\n",
              "      <td>-0.039943</td>\n",
              "      <td>-0.495249</td>\n",
              "      <td>-0.003594</td>\n",
              "      <td>-0.632815</td>\n",
              "    </tr>\n",
              "    <tr>\n",
              "      <th>29</th>\n",
              "      <td>0.055814</td>\n",
              "      <td>-0.569652</td>\n",
              "      <td>-0.039943</td>\n",
              "      <td>-0.495249</td>\n",
              "      <td>0.407616</td>\n",
              "      <td>-0.632815</td>\n",
              "    </tr>\n",
              "    <tr>\n",
              "      <th>30</th>\n",
              "      <td>0.133227</td>\n",
              "      <td>0.516514</td>\n",
              "      <td>1.291498</td>\n",
              "      <td>-0.495249</td>\n",
              "      <td>0.106592</td>\n",
              "      <td>2.118553</td>\n",
              "    </tr>\n",
              "    <tr>\n",
              "      <th>31</th>\n",
              "      <td>0.133227</td>\n",
              "      <td>1.769782</td>\n",
              "      <td>1.291498</td>\n",
              "      <td>0.071212</td>\n",
              "      <td>0.055475</td>\n",
              "      <td>0.742869</td>\n",
              "    </tr>\n",
              "    <tr>\n",
              "      <th>32</th>\n",
              "      <td>0.133227</td>\n",
              "      <td>-0.736755</td>\n",
              "      <td>-1.371384</td>\n",
              "      <td>-0.333403</td>\n",
              "      <td>-0.166033</td>\n",
              "      <td>-0.632815</td>\n",
              "    </tr>\n",
              "    <tr>\n",
              "      <th>33</th>\n",
              "      <td>0.133227</td>\n",
              "      <td>0.265860</td>\n",
              "      <td>-0.039943</td>\n",
              "      <td>-0.090634</td>\n",
              "      <td>0.379218</td>\n",
              "      <td>-0.632815</td>\n",
              "    </tr>\n",
              "    <tr>\n",
              "      <th>34</th>\n",
              "      <td>0.171933</td>\n",
              "      <td>0.516514</td>\n",
              "      <td>0.625777</td>\n",
              "      <td>0.071212</td>\n",
              "      <td>0.334916</td>\n",
              "      <td>-0.632815</td>\n",
              "    </tr>\n",
              "    <tr>\n",
              "      <th>35</th>\n",
              "      <td>0.210639</td>\n",
              "      <td>-0.318999</td>\n",
              "      <td>1.957218</td>\n",
              "      <td>-0.495249</td>\n",
              "      <td>-0.104693</td>\n",
              "      <td>3.494237</td>\n",
              "    </tr>\n",
              "    <tr>\n",
              "      <th>36</th>\n",
              "      <td>0.326758</td>\n",
              "      <td>0.098758</td>\n",
              "      <td>-0.039943</td>\n",
              "      <td>-0.495249</td>\n",
              "      <td>0.252371</td>\n",
              "      <td>-0.632815</td>\n",
              "    </tr>\n",
              "    <tr>\n",
              "      <th>37</th>\n",
              "      <td>0.346111</td>\n",
              "      <td>0.098758</td>\n",
              "      <td>-0.705664</td>\n",
              "      <td>-0.495249</td>\n",
              "      <td>0.289478</td>\n",
              "      <td>0.742869</td>\n",
              "    </tr>\n",
              "    <tr>\n",
              "      <th>38</th>\n",
              "      <td>0.520290</td>\n",
              "      <td>2.187538</td>\n",
              "      <td>1.291498</td>\n",
              "      <td>1.446905</td>\n",
              "      <td>0.348926</td>\n",
              "      <td>0.742869</td>\n",
              "    </tr>\n",
              "    <tr>\n",
              "      <th>39</th>\n",
              "      <td>0.713821</td>\n",
              "      <td>-0.736755</td>\n",
              "      <td>-0.705664</td>\n",
              "      <td>-0.495249</td>\n",
              "      <td>0.316741</td>\n",
              "      <td>-0.632815</td>\n",
              "    </tr>\n",
              "    <tr>\n",
              "      <th>40</th>\n",
              "      <td>0.713821</td>\n",
              "      <td>2.605295</td>\n",
              "      <td>1.291498</td>\n",
              "      <td>1.123213</td>\n",
              "      <td>0.316741</td>\n",
              "      <td>-0.632815</td>\n",
              "    </tr>\n",
              "    <tr>\n",
              "      <th>41</th>\n",
              "      <td>0.907352</td>\n",
              "      <td>0.098758</td>\n",
              "      <td>-0.039943</td>\n",
              "      <td>0.313982</td>\n",
              "      <td>0.496598</td>\n",
              "      <td>0.742869</td>\n",
              "    </tr>\n",
              "    <tr>\n",
              "      <th>42</th>\n",
              "      <td>1.100884</td>\n",
              "      <td>-0.820306</td>\n",
              "      <td>-1.371384</td>\n",
              "      <td>-0.495249</td>\n",
              "      <td>0.839273</td>\n",
              "      <td>-0.632815</td>\n",
              "    </tr>\n",
              "    <tr>\n",
              "      <th>43</th>\n",
              "      <td>1.487946</td>\n",
              "      <td>0.098758</td>\n",
              "      <td>-0.039943</td>\n",
              "      <td>-0.495249</td>\n",
              "      <td>1.846473</td>\n",
              "      <td>-0.632815</td>\n",
              "    </tr>\n",
              "    <tr>\n",
              "      <th>44</th>\n",
              "      <td>1.681478</td>\n",
              "      <td>0.516514</td>\n",
              "      <td>0.625777</td>\n",
              "      <td>-0.495249</td>\n",
              "      <td>2.058515</td>\n",
              "      <td>0.742869</td>\n",
              "    </tr>\n",
              "    <tr>\n",
              "      <th>45</th>\n",
              "      <td>1.875009</td>\n",
              "      <td>2.438192</td>\n",
              "      <td>1.957218</td>\n",
              "      <td>-0.495249</td>\n",
              "      <td>1.248211</td>\n",
              "      <td>2.118553</td>\n",
              "    </tr>\n",
              "    <tr>\n",
              "      <th>46</th>\n",
              "      <td>2.184659</td>\n",
              "      <td>0.516514</td>\n",
              "      <td>0.625777</td>\n",
              "      <td>-0.495249</td>\n",
              "      <td>2.090321</td>\n",
              "      <td>0.742869</td>\n",
              "    </tr>\n",
              "    <tr>\n",
              "      <th>47</th>\n",
              "      <td>2.262071</td>\n",
              "      <td>0.934270</td>\n",
              "      <td>1.291498</td>\n",
              "      <td>-0.495249</td>\n",
              "      <td>2.883964</td>\n",
              "      <td>2.118553</td>\n",
              "    </tr>\n",
              "    <tr>\n",
              "      <th>48</th>\n",
              "      <td>2.262071</td>\n",
              "      <td>2.605295</td>\n",
              "      <td>-0.039943</td>\n",
              "      <td>2.741675</td>\n",
              "      <td>1.710160</td>\n",
              "      <td>0.742869</td>\n",
              "    </tr>\n",
              "    <tr>\n",
              "      <th>49</th>\n",
              "      <td>2.262071</td>\n",
              "      <td>1.769782</td>\n",
              "      <td>1.291498</td>\n",
              "      <td>1.123213</td>\n",
              "      <td>2.618912</td>\n",
              "      <td>-0.632815</td>\n",
              "    </tr>\n",
              "  </tbody>\n",
              "</table>\n",
              "</div>"
            ],
            "text/plain": [
              "    Mthly_HH_Income  Mthly_HH_Expense  ...  Annual_HH_Income  No_of_Earning_Members\n",
              "0         -1.415024         -0.903857  ...         -1.343624              -0.632815\n",
              "1         -1.376317         -0.987408  ...         -1.294021              -0.632815\n",
              "2         -1.221492         -1.196287  ...         -1.190272              -0.632815\n",
              "3         -1.221492         -1.405165  ...         -1.239496              -0.632815\n",
              "4         -1.124727         -0.569652  ...         -1.082358              -0.632815\n",
              "5         -1.066667         -0.903857  ...         -0.925977              -0.632815\n",
              "6         -1.027961         -0.235447  ...         -1.017988              -0.632815\n",
              "7         -0.911842          0.098758  ...         -0.864636              -0.632815\n",
              "8         -0.873136         -0.820306  ...         -0.855549              -0.632815\n",
              "9         -0.834430         -0.820306  ...         -0.849490               0.742869\n",
              "10        -0.834430         -0.068345  ...         -0.667740               0.742869\n",
              "11        -0.757017          0.516514  ...         -0.663196              -0.632815\n",
              "12        -0.702828         -1.154511  ...         -0.624726              -0.632815\n",
              "13        -0.679605         -0.694979  ...         -0.546573               0.742869\n",
              "14        -0.679605         -0.736755  ...         -0.773761               0.742869\n",
              "15        -0.640898         -0.544587  ...         -0.769975              -0.632815\n",
              "16        -0.640898          0.098758  ...         -0.722644              -0.632815\n",
              "17        -0.640898         -0.736755  ...         -0.732110               2.118553\n",
              "18        -0.486073         -1.020829  ...         -0.448125              -0.632815\n",
              "19        -0.447367         -0.486101  ...         -0.330745              -0.632815\n",
              "20        -0.428014          0.516514  ...         -0.437523              -0.632815\n",
              "21        -0.369954         -0.318999  ...         -0.140664              -0.632815\n",
              "22        -0.292542          0.015206  ...         -0.503408              -0.632815\n",
              "23        -0.292542          0.516514  ...         -0.065692              -0.632815\n",
              "24        -0.253836         -0.569652  ...         -0.075158              -0.632815\n",
              "25        -0.253836          0.516514  ...         -0.128169               0.742869\n",
              "26        -0.099011         -0.903857  ...          0.211098              -0.632815\n",
              "27        -0.060304         -0.736755  ...         -0.243656              -0.632815\n",
              "28         0.017108         -0.318999  ...         -0.003594              -0.632815\n",
              "29         0.055814         -0.569652  ...          0.407616              -0.632815\n",
              "30         0.133227          0.516514  ...          0.106592               2.118553\n",
              "31         0.133227          1.769782  ...          0.055475               0.742869\n",
              "32         0.133227         -0.736755  ...         -0.166033              -0.632815\n",
              "33         0.133227          0.265860  ...          0.379218              -0.632815\n",
              "34         0.171933          0.516514  ...          0.334916              -0.632815\n",
              "35         0.210639         -0.318999  ...         -0.104693               3.494237\n",
              "36         0.326758          0.098758  ...          0.252371              -0.632815\n",
              "37         0.346111          0.098758  ...          0.289478               0.742869\n",
              "38         0.520290          2.187538  ...          0.348926               0.742869\n",
              "39         0.713821         -0.736755  ...          0.316741              -0.632815\n",
              "40         0.713821          2.605295  ...          0.316741              -0.632815\n",
              "41         0.907352          0.098758  ...          0.496598               0.742869\n",
              "42         1.100884         -0.820306  ...          0.839273              -0.632815\n",
              "43         1.487946          0.098758  ...          1.846473              -0.632815\n",
              "44         1.681478          0.516514  ...          2.058515               0.742869\n",
              "45         1.875009          2.438192  ...          1.248211               2.118553\n",
              "46         2.184659          0.516514  ...          2.090321               0.742869\n",
              "47         2.262071          0.934270  ...          2.883964               2.118553\n",
              "48         2.262071          2.605295  ...          1.710160               0.742869\n",
              "49         2.262071          1.769782  ...          2.618912              -0.632815\n",
              "\n",
              "[50 rows x 6 columns]"
            ]
          },
          "metadata": {
            "tags": []
          },
          "execution_count": 126
        }
      ]
    },
    {
      "cell_type": "markdown",
      "metadata": {
        "id": "EkbYcbGJ0ddc"
      },
      "source": [
        "Compute mode using your own function for the first two columns and verify using inbuilt Python function"
      ]
    },
    {
      "cell_type": "code",
      "metadata": {
        "id": "JAOXOaQw0djV"
      },
      "source": [
        "#My mode function\r\n",
        "def my_mode(arr):\r\n",
        "  freq={}\r\n",
        "  for i in arr:\r\n",
        "    freq.setdefault(i,0)\r\n",
        "    freq[i]+=1\r\n",
        "  arr1=max(freq.values())\r\n",
        "  arr2=[]\r\n",
        "  for i, j in freq.items():\r\n",
        "    if j == arr1:\r\n",
        "      arr2.append(i)\r\n",
        "  return arr2"
      ],
      "execution_count": 127,
      "outputs": []
    },
    {
      "cell_type": "code",
      "metadata": {
        "colab": {
          "base_uri": "https://localhost:8080/"
        },
        "id": "8eXA_cU07RXw",
        "outputId": "675a1c1b-86c7-4401-a69f-8d47eb66bb43"
      },
      "source": [
        "mode11=statistics.mode(df.Mthly_HH_Income)\r\n",
        "mode12=statistics.mode(df.Mthly_HH_Expense)\r\n",
        "mode21=my_mode(df.Mthly_HH_Income)\r\n",
        "mode22=my_mode(df.Mthly_HH_Expense)\r\n",
        "print(\"Mode of first column using inbuilt Python function is: \",mode11)\r\n",
        "print(\"Mode of second column using inbuilt Python function is: \",mode12)\r\n",
        "print(\"Mode of first column using my function is: \",*mode21)\r\n",
        "print(\"Mode of second column using my function is: \",*mode22)"
      ],
      "execution_count": 128,
      "outputs": [
        {
          "output_type": "stream",
          "text": [
            "Mode of first column using inbuilt Python function is:  45000\n",
            "Mode of second column using inbuilt Python function is:  25000\n",
            "Mode of first column using my function is:  45000\n",
            "Mode of second column using my function is:  25000\n"
          ],
          "name": "stdout"
        }
      ]
    },
    {
      "cell_type": "markdown",
      "metadata": {
        "id": "HGPGOGDo04O1"
      },
      "source": [
        "Comment if the data for the first two cols is bi-modal, multi-modal or single modal"
      ]
    },
    {
      "cell_type": "code",
      "metadata": {
        "id": "ocSVfB_Zw5Ws"
      },
      "source": [
        "#First column has 1 mode, ie, 45000\r\n",
        "#Second column has 1 mode, ie, 25000\r\n",
        "#There both the columns are single modal"
      ],
      "execution_count": 129,
      "outputs": []
    }
  ]
}