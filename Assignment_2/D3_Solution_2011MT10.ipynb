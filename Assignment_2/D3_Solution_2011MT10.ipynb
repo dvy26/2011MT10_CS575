{
  "nbformat": 4,
  "nbformat_minor": 0,
  "metadata": {
    "colab": {
      "name": "D3_Solution_2011MT10",
      "provenance": [],
      "collapsed_sections": []
    },
    "kernelspec": {
      "name": "python3",
      "display_name": "Python 3"
    }
  },
  "cells": [
    {
      "cell_type": "code",
      "metadata": {
        "id": "SJ0FuGPik63f"
      },
      "source": [
        "# Import package\r\n",
        "import numpy as np\r\n",
        "import pandas as pd\r\n",
        "import matplotlib.pyplot as plt\r\n",
        "import warnings \r\n",
        "from statsmodels.tsa.api import SimpleExpSmoothing\r\n",
        "from sklearn.metrics import mean_squared_error \r\n",
        "from datetime import datetime\r\n",
        "\r\n",
        "warnings.simplefilter('ignore')"
      ],
      "execution_count": 104,
      "outputs": []
    },
    {
      "cell_type": "markdown",
      "metadata": {
        "id": "8wkpep7szSKV"
      },
      "source": [
        "**Single Exponential Smoothing**"
      ]
    },
    {
      "cell_type": "code",
      "metadata": {
        "id": "1T8obIoA9OUJ"
      },
      "source": [
        "# Importing the dataset\r\n",
        "data = pd.read_csv('D3.csv')"
      ],
      "execution_count": 105,
      "outputs": []
    },
    {
      "cell_type": "code",
      "metadata": {
        "id": "iaSYixFYFa7-"
      },
      "source": [
        "#Defining Single Exponential Smoothing function ses\r\n",
        "def ses(arr,alpha):\r\n",
        "    arr1 = [arr[0]]\r\n",
        "    for i in range(1, len(arr)):\r\n",
        "        arr1.append(alpha * arr[i-1] + (1 - alpha) * arr1[i-1])\r\n",
        "    return arr1"
      ],
      "execution_count": 106,
      "outputs": []
    },
    {
      "cell_type": "code",
      "metadata": {
        "id": "WqDKrNkzXdqh"
      },
      "source": [
        "#Defining Mean of Squared Error Function mse\r\n",
        "def mse(arr1,arr2):\r\n",
        "  arr3=[0]\r\n",
        "  for i, j in zip(arr1, arr2):\r\n",
        "    arr3.append(i-j)\r\n",
        "  Sum=0\r\n",
        "  for i in arr3:\r\n",
        "    sqr=i**2\r\n",
        "    Sum+=sqr\r\n",
        "  mse=Sum/(len(arr2)-1)\r\n",
        "  return mse"
      ],
      "execution_count": 107,
      "outputs": []
    },
    {
      "cell_type": "code",
      "metadata": {
        "id": "I-Q-YepamrGH"
      },
      "source": [
        "#Function to make list of demand with interval 'n'\r\n",
        "def dem_n(arr,n):\r\n",
        "  arr1=[arr[0]]\r\n",
        "  for i in range(1,len(arr)):\r\n",
        "    if i%n==0:  \r\n",
        "      arr1.append(arr[i])\r\n",
        "  return arr1"
      ],
      "execution_count": 108,
      "outputs": []
    },
    {
      "cell_type": "code",
      "metadata": {
        "id": "SrsumhCssIOI"
      },
      "source": [
        "#Creating demand list in 'n' intervals\r\n",
        "demand=dem_n(data['Passengers'],1)"
      ],
      "execution_count": 109,
      "outputs": []
    },
    {
      "cell_type": "code",
      "metadata": {
        "id": "GZwPqdpgcbuF"
      },
      "source": [
        "#Forecasting\r\n",
        "alpha1=0.2\r\n",
        "alpha2=0.5\r\n",
        "alpha3=0.8\r\n",
        "\r\n",
        "forecast_d3_ses_1=ses(demand,alpha1)\r\n",
        "forecast_d3_ses_2=ses(demand,alpha2)\r\n",
        "forecast_d3_ses_3=ses(demand,alpha3)"
      ],
      "execution_count": 110,
      "outputs": []
    },
    {
      "cell_type": "code",
      "metadata": {
        "colab": {
          "base_uri": "https://localhost:8080/"
        },
        "id": "Io0w2dQ7dvwH",
        "outputId": "15088307-0d2d-4d32-81a8-946d9eb277a1"
      },
      "source": [
        "#Calculating Mean of Square Errors\r\n",
        "mse_d3_ses_1=mean_squared_error(demand,forecast_d3_ses_1)\r\n",
        "mse_d3_ses_2=mean_squared_error(demand,forecast_d3_ses_2)\r\n",
        "mse_d3_ses_3=mean_squared_error(demand,forecast_d3_ses_3)\r\n",
        "\r\n",
        "print(\"Mean of Square Errors for alpha = 0.2 is: \",mse_d3_ses_1)\r\n",
        "print(\"Mean of Square Errors for alpha = 0.5 is: \",mse_d3_ses_2)\r\n",
        "print(\"Mean of Square Errors for alpha = 0.8 is: \",mse_d3_ses_3)"
      ],
      "execution_count": 111,
      "outputs": [
        {
          "output_type": "stream",
          "text": [
            "Mean of Square Errors for alpha = 0.2 is:  2270.985044565901\n",
            "Mean of Square Errors for alpha = 0.5 is:  1729.8312325136828\n",
            "Mean of Square Errors for alpha = 0.8 is:  1304.1609035809436\n"
          ],
          "name": "stdout"
        }
      ]
    },
    {
      "cell_type": "code",
      "metadata": {
        "colab": {
          "base_uri": "https://localhost:8080/",
          "height": 283
        },
        "id": "j9hwctrYfFko",
        "outputId": "950d3e9b-bd46-4109-c822-9b77743321d1"
      },
      "source": [
        "#Comparing mse and plotting for least mse\r\n",
        "d3_ses_1={'Demand':demand,'Forecast':forecast_d3_ses_1}\r\n",
        "d3_ses_2={'Demand':demand,'Forecast':forecast_d3_ses_2}\r\n",
        "d3_ses_3={'Demand':demand,'Forecast':forecast_d3_ses_3}\r\n",
        "\r\n",
        "df1=pd.DataFrame(d3_ses_1)\r\n",
        "df2=pd.DataFrame(d3_ses_2)\r\n",
        "df3=pd.DataFrame(d3_ses_3)\r\n",
        "\r\n",
        "if mse_d3_ses_1<=mse_d3_ses_2 and mse_d3_ses_1<=mse_d3_ses_3:\r\n",
        "  print('alpha: ',alpha1)\r\n",
        "  df1.plot(style=['-','-'])\r\n",
        "elif mse_d3_ses_2<=mse_d3_ses_1 and mse_d3_ses_2<=mse_d3_ses_3:\r\n",
        "  print('alpha: ',alpha2)\r\n",
        "  df2.plot(style=['-','-'])\r\n",
        "else:\r\n",
        "  print('alpha: ',alpha3)\r\n",
        "  df3.plot(style=['-','-'])"
      ],
      "execution_count": 112,
      "outputs": [
        {
          "output_type": "stream",
          "text": [
            "alpha:  0.8\n"
          ],
          "name": "stdout"
        },
        {
          "output_type": "display_data",
          "data": {
            "image/png": "[encoded data removed]",
            "text/plain": [
              "<Figure size 432x288 with 1 Axes>"
            ]
          },
          "metadata": {
            "tags": [],
            "needs_background": "light"
          }
        }
      ]
    },
    {
      "cell_type": "markdown",
      "metadata": {
        "id": "7RXgUgIgo3vA"
      },
      "source": [
        "**Double Exponential Smoothing**"
      ]
    },
    {
      "cell_type": "code",
      "metadata": {
        "id": "mqw1s40ePOB0"
      },
      "source": [
        "#Defining Double Exponential Smoothing function des\r\n",
        "def des(arr,alpha,beta):\r\n",
        "  a=[arr[0]]\r\n",
        "  l=len(arr)\r\n",
        "  b=[(arr[l-1]-arr[0])/(l-1)]\r\n",
        "  arr1 = [arr[0]]\r\n",
        "  arr1.append(a[0]+b[0])\r\n",
        "  for i in range(1,len(arr)-1):\r\n",
        "      a.append(alpha * arr[i] + (1 - alpha) * (a[i-1]+b[i-1]))\r\n",
        "      b.append(beta * (a[i]-a[i-1]) + (1 - beta) * (b[i-1]))        \r\n",
        "      arr1.append(a[i]+b[i])\r\n",
        "  return arr1"
      ],
      "execution_count": 113,
      "outputs": []
    },
    {
      "cell_type": "code",
      "metadata": {
        "id": "TgR6dYUYux6f"
      },
      "source": [
        "#Creating demand list in 'n' intervals\r\n",
        "demand=dem_n(data['Passengers'],1)"
      ],
      "execution_count": 114,
      "outputs": []
    },
    {
      "cell_type": "code",
      "metadata": {
        "id": "7rPm77U7g1nE"
      },
      "source": [
        "#Forecasting\r\n",
        "alpha1=0.2\r\n",
        "alpha2=0.5\r\n",
        "alpha3=0.8\r\n",
        "\r\n",
        "beta1=0.3\r\n",
        "beta2=0.6\r\n",
        "beta3=0.9\r\n",
        "\r\n",
        "forecast_d3_des_1=des(demand,alpha1,beta1)\r\n",
        "forecast_d3_des_2=des(demand,alpha2,beta2)\r\n",
        "forecast_d3_des_3=des(demand,alpha3,beta3)"
      ],
      "execution_count": 115,
      "outputs": []
    },
    {
      "cell_type": "code",
      "metadata": {
        "colab": {
          "base_uri": "https://localhost:8080/"
        },
        "id": "YPIb0UzVk4RH",
        "outputId": "42a5f12c-1938-45b7-d9ae-fbacebf4796e"
      },
      "source": [
        "#Calculating Mean of Square Errors\r\n",
        "mse_d3_des_1=mean_squared_error(demand,forecast_d3_des_1)\r\n",
        "mse_d3_des_2=mean_squared_error(demand,forecast_d3_des_2)\r\n",
        "mse_d3_des_3=mean_squared_error(demand,forecast_d3_des_3)\r\n",
        "\r\n",
        "print(\"Mean of Square Errors for alpha = 0.2,beta= 0.3 is: \",mse_d3_des_1)\r\n",
        "print(\"Mean of Square Errors for alpha = 0.5,beta= 0.6 is: \",mse_d3_des_2)\r\n",
        "print(\"Mean of Square Errors for alpha = 0.8,beta= 0.9 is: \",mse_d3_des_3)"
      ],
      "execution_count": 116,
      "outputs": [
        {
          "output_type": "stream",
          "text": [
            "Mean of Square Errors for alpha = 0.2,beta= 0.3 is:  3030.8535477527207\n",
            "Mean of Square Errors for alpha = 0.5,beta= 0.6 is:  2544.721808490218\n",
            "Mean of Square Errors for alpha = 0.8,beta= 0.9 is:  1667.7938756614267\n"
          ],
          "name": "stdout"
        }
      ]
    },
    {
      "cell_type": "code",
      "metadata": {
        "colab": {
          "base_uri": "https://localhost:8080/",
          "height": 300
        },
        "id": "qIqgoTnrlyq9",
        "outputId": "5eb91af2-fefe-4104-9b3b-2dee5010459b"
      },
      "source": [
        "#Comparing mse and plotting for least mse\r\n",
        "d3_des_1={'Demand':demand,'Forecast':forecast_d3_des_1}\r\n",
        "d3_des_2={'Demand':demand,'Forecast':forecast_d3_des_2}\r\n",
        "d3_des_3={'Demand':demand,'Forecast':forecast_d3_des_3}\r\n",
        "\r\n",
        "df1=pd.DataFrame(d3_des_1)\r\n",
        "df2=pd.DataFrame(d3_des_2)\r\n",
        "df3=pd.DataFrame(d3_des_3)\r\n",
        "\r\n",
        "if mse_d3_des_1<=mse_d3_des_2 and mse_d3_des_1<=mse_d3_des_3:\r\n",
        "  print('alpha: ',alpha1)\r\n",
        "  print('beta: ',beta1)\r\n",
        "  df1.plot(style=['-','-'])\r\n",
        "elif mse_d3_des_2<=mse_d3_des_1 and mse_d3_des_2<=mse_d3_des_3:\r\n",
        "  print('alpha: ',alpha2)\r\n",
        "  print('beta: ',beta2)\r\n",
        "  df2.plot(style=['-','-'])\r\n",
        "else:\r\n",
        "  print('alpha: ',alpha3)\r\n",
        "  print('beta: ',beta3)\r\n",
        "  df3.plot(style=['-','-'])"
      ],
      "execution_count": 117,
      "outputs": [
        {
          "output_type": "stream",
          "text": [
            "alpha:  0.8\n",
            "beta:  0.9\n"
          ],
          "name": "stdout"
        },
        {
          "output_type": "display_data",
          "data": {
            "image/png": "[encoded data removed]",
            "text/plain": [
              "<Figure size 432x288 with 1 Axes>"
            ]
          },
          "metadata": {
            "tags": [],
            "needs_background": "light"
          }
        }
      ]
    },
    {
      "cell_type": "markdown",
      "metadata": {
        "id": "DGpYPopmv7TH"
      },
      "source": [
        "**Triple Exponential Smoothing**"
      ]
    },
    {
      "cell_type": "code",
      "metadata": {
        "id": "l0ZKJXeHwC0q"
      },
      "source": [
        "#Defining initial trend\r\n",
        "def initial_trend(arr, slen):\r\n",
        "    Sum = 0\r\n",
        "    for i in range(slen):\r\n",
        "        Sum += float(arr[i+slen] - arr[i]) / slen\r\n",
        "    return Sum / slen"
      ],
      "execution_count": 118,
      "outputs": []
    },
    {
      "cell_type": "code",
      "metadata": {
        "id": "lglCjK_Rd8yH"
      },
      "source": [
        "#Defining initial seasonal\r\n",
        "def initial_seasonal(arr, slen):\r\n",
        "    arr1 = {}\r\n",
        "    s_avg = []\r\n",
        "    m = int(len(arr)/slen)\r\n",
        "    for j in range(m):\r\n",
        "        s_avg.append(sum(arr[slen*j:slen*j+slen])/float(slen))\r\n",
        "    for i in range(slen):\r\n",
        "        Sum = 0\r\n",
        "        for j in range(m):\r\n",
        "            Sum += arr[slen*j+i]-s_avg[j]\r\n",
        "        arr1[i] = Sum/m\r\n",
        "    return arr1"
      ],
      "execution_count": 119,
      "outputs": []
    },
    {
      "cell_type": "code",
      "metadata": {
        "id": "8HGtD3M9eGus"
      },
      "source": [
        "#Defining Triple Exponential Smoothing function tes with interval 'n'\r\n",
        "def tes(arr, slen, alpha, beta, gamma, n):\r\n",
        "    arr1 = []\r\n",
        "    seasonals = initial_seasonal(arr, slen)\r\n",
        "    for i in range(len(arr)+n):\r\n",
        "        if i == 0:\r\n",
        "            smooth = arr[0]\r\n",
        "            trend = initial_trend(arr, slen)\r\n",
        "            arr1.append(arr[0])\r\n",
        "            continue\r\n",
        "        if i >= len(arr):\r\n",
        "            m = i - len(arr) + 1\r\n",
        "            arr1.append((smooth + m*trend) + seasonals[i%slen])\r\n",
        "        else:\r\n",
        "            val = arr[i]\r\n",
        "            lsmooth, smooth = smooth, alpha*(val-seasonals[i%slen]) + (1-alpha)*(smooth+trend)\r\n",
        "            trend = beta * (smooth-lsmooth) + (1-beta)*trend\r\n",
        "            seasonals[i%slen] = gamma*(val-smooth) + (1-gamma)*seasonals[i%slen]\r\n",
        "            arr1.append(smooth+trend+seasonals[i%slen])\r\n",
        "    return arr1"
      ],
      "execution_count": 120,
      "outputs": []
    },
    {
      "cell_type": "code",
      "metadata": {
        "id": "3a9Gm5x9iF2a"
      },
      "source": [
        "#Creating demand list in 'n' intervals\r\n",
        "demand=dem_n(data['Passengers'],1)"
      ],
      "execution_count": 121,
      "outputs": []
    },
    {
      "cell_type": "code",
      "metadata": {
        "id": "NCQyHA5FfY19"
      },
      "source": [
        "#Forecasting\r\n",
        "alpha1=0.2\r\n",
        "alpha2=0.5\r\n",
        "alpha3=0.8\r\n",
        "\r\n",
        "beta1=0.3\r\n",
        "beta2=0.6\r\n",
        "beta3=0.9\r\n",
        "\r\n",
        "gamma1=0.4\r\n",
        "gamma2=0.7\r\n",
        "gamma3=0.95\r\n",
        "\r\n",
        "#Considering season of 12 months here\r\n",
        "\r\n",
        "forecast_d3_tes_1=tes(demand,12,alpha1,beta1,gamma1,0)\r\n",
        "forecast_d3_tes_2=tes(demand,12,alpha2,beta2,gamma2,0)\r\n",
        "forecast_d3_tes_3=tes(demand,12,alpha3,beta3,gamma3,0)"
      ],
      "execution_count": 122,
      "outputs": []
    },
    {
      "cell_type": "code",
      "metadata": {
        "colab": {
          "base_uri": "https://localhost:8080/"
        },
        "id": "Md6AMPpzi5wa",
        "outputId": "b0ddcf25-b896-4656-b15d-9221f2fdaaa6"
      },
      "source": [
        "#Calculating mean of sqaured errors\r\n",
        "mse_d3_tes_1=mean_squared_error(demand,forecast_d3_tes_1)\r\n",
        "mse_d3_tes_2=mean_squared_error(demand,forecast_d3_tes_2)\r\n",
        "mse_d3_tes_3=mean_squared_error(demand,forecast_d3_tes_3)\r\n",
        "\r\n",
        "print(\"Mean of Square Errors for alpha = 0.2,beta= 0.3 gamma=0.4 is: \",mse_d3_tes_1)\r\n",
        "print(\"Mean of Square Errors for alpha = 0.5,beta= 0.6 gamma=0.7 is: \",mse_d3_tes_2)\r\n",
        "print(\"Mean of Square Errors for alpha = 0.8,beta= 0.9 gamma=0.95 is: \",mse_d3_tes_3)"
      ],
      "execution_count": 123,
      "outputs": [
        {
          "output_type": "stream",
          "text": [
            "Mean of Square Errors for alpha = 0.2,beta= 0.3 gamma=0.4 is:  118.90281904729369\n",
            "Mean of Square Errors for alpha = 0.5,beta= 0.6 gamma=0.7 is:  1407.183862202787\n",
            "Mean of Square Errors for alpha = 0.8,beta= 0.9 gamma=0.95 is:  471.3980990927143\n"
          ],
          "name": "stdout"
        }
      ]
    },
    {
      "cell_type": "code",
      "metadata": {
        "colab": {
          "base_uri": "https://localhost:8080/",
          "height": 317
        },
        "id": "4xPGF2WvjlOC",
        "outputId": "1767ecec-201f-4e74-86e3-77739c184bf4"
      },
      "source": [
        "#Comparing mse and plotting for least mse\r\n",
        "d3_tes_1={'Demand':demand,'Forecast':forecast_d3_tes_1}\r\n",
        "d3_tes_2={'Demand':demand,'Forecast':forecast_d3_tes_2}\r\n",
        "d3_tes_3={'Demand':demand,'Forecast':forecast_d3_tes_3}\r\n",
        "\r\n",
        "df1=pd.DataFrame(d3_tes_1)\r\n",
        "df2=pd.DataFrame(d3_tes_2)\r\n",
        "df3=pd.DataFrame(d3_tes_3)\r\n",
        "\r\n",
        "if mse_d3_tes_1<=mse_d3_tes_2 and mse_d3_tes_1<=mse_d3_tes_3:\r\n",
        "  print('alpha: ',alpha1)\r\n",
        "  print('beta: ',beta1)\r\n",
        "  print('gamma: ',gamma1)\r\n",
        "  df1.plot(style=['-','-'])\r\n",
        "elif mse_d3_tes_2<=mse_d3_tes_1 and mse_d3_tes_2<=mse_d3_tes_3:\r\n",
        "  print('alpha: ',alpha2)\r\n",
        "  print('beta: ',beta2)\r\n",
        "  print('gamma: ',gamma2)\r\n",
        "  df2.plot(style=['-','-'])\r\n",
        "else:\r\n",
        "  print('alpha: ',alpha3)\r\n",
        "  print('beta: ',beta3)\r\n",
        "  print('gamma: ',gamma3)\r\n",
        "  df3.plot(style=['-','-'])"
      ],
      "execution_count": 124,
      "outputs": [
        {
          "output_type": "stream",
          "text": [
            "alpha:  0.2\n",
            "beta:  0.3\n",
            "gamma:  0.4\n"
          ],
          "name": "stdout"
        },
        {
          "output_type": "display_data",
          "data": {
            "image/png": "[encoded data removed]",
            "text/plain": [
              "<Figure size 432x288 with 1 Axes>"
            ]
          },
          "metadata": {
            "tags": [],
            "needs_background": "light"
          }
        }
      ]
    },
    {
      "cell_type": "markdown",
      "metadata": {
        "id": "nm8U8DvKu549"
      },
      "source": [
        "\r\n",
        "\r\n",
        "---\r\n",
        "\r\n",
        "---\r\n",
        "\r\n",
        "---\r\n",
        "\r\n",
        "\r\n",
        "\r\n",
        "\r\n",
        "\r\n"
      ]
    },
    {
      "cell_type": "markdown",
      "metadata": {
        "id": "mMd20j3_u_4z"
      },
      "source": [
        "**Applying KPSS and ADF test**"
      ]
    },
    {
      "cell_type": "markdown",
      "metadata": {
        "id": "icHMbchgvRp5"
      },
      "source": [
        "1. ADF test"
      ]
    },
    {
      "cell_type": "code",
      "metadata": {
        "colab": {
          "base_uri": "https://localhost:8080/"
        },
        "id": "zxKgHkUQvUHb",
        "outputId": "c4cc2ef0-ada0-4281-b6cc-923e37e2334c"
      },
      "source": [
        "#define function for ADF test\r\n",
        "from statsmodels.tsa.stattools import adfuller\r\n",
        "\r\n",
        "def adf_test(atr):\r\n",
        "    #Perform Dickey-Fuller test:\r\n",
        "    timeseries = data[atr].dropna()\r\n",
        "    print ('Results of Dickey-Fuller Test for ',atr,'\\n')\r\n",
        "    dftest = adfuller(timeseries, autolag='AIC')\r\n",
        "    dfoutput = pd.Series(dftest[0:4], index=['Test Statistic','p-value','#Lags Used','Number of Observations Used'])\r\n",
        "    for key,value in dftest[4].items():\r\n",
        "       dfoutput['Critical Value (%s)'%key] = value\r\n",
        "    print(dfoutput)\r\n",
        "\r\n",
        "#apply adf test on the series\r\n",
        "adf_test('Passengers')"
      ],
      "execution_count": 125,
      "outputs": [
        {
          "output_type": "stream",
          "text": [
            "Results of Dickey-Fuller Test for  Passengers \n",
            "\n",
            "Test Statistic                   0.815369\n",
            "p-value                          0.991880\n",
            "#Lags Used                      13.000000\n",
            "Number of Observations Used    130.000000\n",
            "Critical Value (1%)             -3.481682\n",
            "Critical Value (5%)             -2.884042\n",
            "Critical Value (10%)            -2.578770\n",
            "dtype: float64\n"
          ],
          "name": "stdout"
        }
      ]
    },
    {
      "cell_type": "markdown",
      "metadata": {
        "id": "d1ZvfmZdw6KM"
      },
      "source": [
        "2. KPSS test"
      ]
    },
    {
      "cell_type": "code",
      "metadata": {
        "colab": {
          "base_uri": "https://localhost:8080/"
        },
        "id": "LkI3aYQ_xDxy",
        "outputId": "0368da1c-d3e5-4318-bd65-34bd6e1789ae"
      },
      "source": [
        "#define function for kpss test\r\n",
        "from statsmodels.tsa.stattools import kpss\r\n",
        "#define KPSS\r\n",
        "def kpss_test(atr):\r\n",
        "    timeseries = data[atr].dropna()\r\n",
        "    print ('Results of KPSS Test for ',atr)\r\n",
        "    kpsstest = kpss(timeseries, regression='c')\r\n",
        "    kpss_output = pd.Series(kpsstest[0:3], index=['Test Statistic','p-value','Lags Used'])\r\n",
        "    for key,value in kpsstest[3].items():\r\n",
        "        kpss_output['Critical Value (%s)'%key] = value\r\n",
        "    print (kpss_output)\r\n",
        "kpss_test('Passengers')"
      ],
      "execution_count": 126,
      "outputs": [
        {
          "output_type": "stream",
          "text": [
            "Results of KPSS Test for  Passengers\n",
            "Test Statistic            1.052175\n",
            "p-value                   0.010000\n",
            "Lags Used                14.000000\n",
            "Critical Value (10%)      0.347000\n",
            "Critical Value (5%)       0.463000\n",
            "Critical Value (2.5%)     0.574000\n",
            "Critical Value (1%)       0.739000\n",
            "dtype: float64\n"
          ],
          "name": "stdout"
        }
      ]
    },
    {
      "cell_type": "markdown",
      "metadata": {
        "id": "A9PEydfjxb6E"
      },
      "source": [
        "For ADF test, we can see that the p-value  is 0.991880, which is more than 0.05. Thus, from ADF test, we can say that the dataset is non-stationary.\r\n",
        "\r\n",
        "For KPSS test, Test Statistic is more than Critical Values, thus we reject the null hypothesis. Thus, from KPSS test, we can say that the dataset is non-stationary.\r\n",
        "\r\n",
        "Since, both tests conclude that the series is non-stationary, therefore, the dataset is concluded as Not Stationary."
      ]
    },
    {
      "cell_type": "markdown",
      "metadata": {
        "id": "FKNs5sKqT3-V"
      },
      "source": [
        "\r\n",
        "\r\n",
        "---\r\n",
        "\r\n",
        "---\r\n",
        "\r\n",
        "---\r\n",
        "\r\n",
        "\r\n",
        "\r\n",
        "\r\n",
        "\r\n"
      ]
    },
    {
      "cell_type": "markdown",
      "metadata": {
        "id": "Ccy2-kpb_Rgm"
      },
      "source": [
        "**Prediction for Intervals**"
      ]
    },
    {
      "cell_type": "markdown",
      "metadata": {
        "id": "HVLidffXHwRl"
      },
      "source": [
        "For Single Exponential Smoothening\r\n",
        "\r\n"
      ]
    },
    {
      "cell_type": "markdown",
      "metadata": {
        "id": "XteQudJoBQtj"
      },
      "source": [
        "1. For interval of 1 month"
      ]
    },
    {
      "cell_type": "code",
      "metadata": {
        "id": "HSKuT3KPB36O"
      },
      "source": [
        "#Creating demand list in 'n' intervals\r\n",
        "demand=dem_n(data['Passengers'],1)"
      ],
      "execution_count": 127,
      "outputs": []
    },
    {
      "cell_type": "code",
      "metadata": {
        "id": "64J3dOGcB36A"
      },
      "source": [
        "#Forecasting\r\n",
        "alpha1=0.2\r\n",
        "alpha2=0.5\r\n",
        "alpha3=0.8\r\n",
        "\r\n",
        "forecast_d3_ses_1=ses(demand,alpha1)\r\n",
        "forecast_d3_ses_2=ses(demand,alpha2)\r\n",
        "forecast_d3_ses_3=ses(demand,alpha3)"
      ],
      "execution_count": 128,
      "outputs": []
    },
    {
      "cell_type": "code",
      "metadata": {
        "colab": {
          "base_uri": "https://localhost:8080/"
        },
        "id": "JDKPAu43B36P",
        "outputId": "11e63805-e7ca-4d74-a1cb-16fd48c257ab"
      },
      "source": [
        "#Calculating Mean of Square Errors\r\n",
        "mse_d3_ses_1=mean_squared_error(demand,forecast_d3_ses_1)\r\n",
        "mse_d3_ses_2=mean_squared_error(demand,forecast_d3_ses_2)\r\n",
        "mse_d3_ses_3=mean_squared_error(demand,forecast_d3_ses_3)\r\n",
        "\r\n",
        "print(\"Mean of Square Errors for alpha = 0.2 is: \",mse_d3_ses_1)\r\n",
        "print(\"Mean of Square Errors for alpha = 0.5 is: \",mse_d3_ses_2)\r\n",
        "print(\"Mean of Square Errors for alpha = 0.8 is: \",mse_d3_ses_3)"
      ],
      "execution_count": 129,
      "outputs": [
        {
          "output_type": "stream",
          "text": [
            "Mean of Square Errors for alpha = 0.2 is:  2270.985044565901\n",
            "Mean of Square Errors for alpha = 0.5 is:  1729.8312325136828\n",
            "Mean of Square Errors for alpha = 0.8 is:  1304.1609035809436\n"
          ],
          "name": "stdout"
        }
      ]
    },
    {
      "cell_type": "code",
      "metadata": {
        "colab": {
          "base_uri": "https://localhost:8080/",
          "height": 283
        },
        "id": "krEv7rW9B36R",
        "outputId": "630c3d36-cb29-4bf2-af8b-73d507c19f42"
      },
      "source": [
        "d3_ses_1={'Demand':demand,'Forecast':forecast_d3_ses_1}\r\n",
        "d3_ses_2={'Demand':demand,'Forecast':forecast_d3_ses_2}\r\n",
        "d3_ses_3={'Demand':demand,'Forecast':forecast_d3_ses_3}\r\n",
        "\r\n",
        "df1=pd.DataFrame(d3_ses_1)\r\n",
        "df2=pd.DataFrame(d3_ses_2)\r\n",
        "df3=pd.DataFrame(d3_ses_3)\r\n",
        "\r\n",
        "if mse_d3_ses_1<=mse_d3_ses_2 and mse_d3_ses_1<=mse_d3_ses_3:\r\n",
        "  print('alpha: ',alpha1)\r\n",
        "  df1.plot(style=['-','-'])\r\n",
        "elif mse_d3_ses_2<=mse_d3_ses_1 and mse_d3_ses_2<=mse_d3_ses_3:\r\n",
        "  print('alpha: ',alpha2)\r\n",
        "  df2.plot(style=['-','-'])\r\n",
        "else:\r\n",
        "  print('alpha: ',alpha3)\r\n",
        "  df3.plot(style=['-','-'])"
      ],
      "execution_count": 130,
      "outputs": [
        {
          "output_type": "stream",
          "text": [
            "alpha:  0.8\n"
          ],
          "name": "stdout"
        },
        {
          "output_type": "display_data",
          "data": {
            "image/png": "[encoded data removed]",
            "text/plain": [
              "<Figure size 432x288 with 1 Axes>"
            ]
          },
          "metadata": {
            "tags": [],
            "needs_background": "light"
          }
        }
      ]
    },
    {
      "cell_type": "markdown",
      "metadata": {
        "id": "FqPAUFLOB-bR"
      },
      "source": [
        "2. For interval of 2 month"
      ]
    },
    {
      "cell_type": "code",
      "metadata": {
        "id": "kBA96HvhCChS"
      },
      "source": [
        "#Creating demand list in 'n' intervals\r\n",
        "demand=dem_n(data['Passengers'],2)"
      ],
      "execution_count": 131,
      "outputs": []
    },
    {
      "cell_type": "code",
      "metadata": {
        "id": "KU5d6k2tCChD"
      },
      "source": [
        "#Forecasting\r\n",
        "alpha1=0.2\r\n",
        "alpha2=0.5\r\n",
        "alpha3=0.8\r\n",
        "\r\n",
        "forecast_d3_ses_1=ses(demand,alpha1)\r\n",
        "forecast_d3_ses_2=ses(demand,alpha2)\r\n",
        "forecast_d3_ses_3=ses(demand,alpha3)"
      ],
      "execution_count": 132,
      "outputs": []
    },
    {
      "cell_type": "code",
      "metadata": {
        "colab": {
          "base_uri": "https://localhost:8080/"
        },
        "id": "9hYrGCUaCChT",
        "outputId": "86c97e8b-f49a-4b49-de60-3701684f29a3"
      },
      "source": [
        "#Calculating Mean of Square Errors\r\n",
        "mse_d3_ses_1=mean_squared_error(demand,forecast_d3_ses_1)\r\n",
        "mse_d3_ses_2=mean_squared_error(demand,forecast_d3_ses_2)\r\n",
        "mse_d3_ses_3=mean_squared_error(demand,forecast_d3_ses_3)\r\n",
        "\r\n",
        "print(\"Mean of Square Errors for alpha = 0.2 is: \",mse_d3_ses_1)\r\n",
        "print(\"Mean of Square Errors for alpha = 0.5 is: \",mse_d3_ses_2)\r\n",
        "print(\"Mean of Square Errors for alpha = 0.8 is: \",mse_d3_ses_3)"
      ],
      "execution_count": 133,
      "outputs": [
        {
          "output_type": "stream",
          "text": [
            "Mean of Square Errors for alpha = 0.2 is:  3030.3488762454294\n",
            "Mean of Square Errors for alpha = 0.5 is:  2978.256495465666\n",
            "Mean of Square Errors for alpha = 0.8 is:  3168.2476461320452\n"
          ],
          "name": "stdout"
        }
      ]
    },
    {
      "cell_type": "code",
      "metadata": {
        "colab": {
          "base_uri": "https://localhost:8080/",
          "height": 283
        },
        "id": "FNf19GSDCChU",
        "outputId": "0545c089-754d-46f6-bf8e-15b42c0b0be6"
      },
      "source": [
        "d3_ses_1={'Demand':demand,'Forecast':forecast_d3_ses_1}\r\n",
        "d3_ses_2={'Demand':demand,'Forecast':forecast_d3_ses_2}\r\n",
        "d3_ses_3={'Demand':demand,'Forecast':forecast_d3_ses_3}\r\n",
        "\r\n",
        "df1=pd.DataFrame(d3_ses_1)\r\n",
        "df2=pd.DataFrame(d3_ses_2)\r\n",
        "df3=pd.DataFrame(d3_ses_3)\r\n",
        "\r\n",
        "if mse_d3_ses_1<=mse_d3_ses_2 and mse_d3_ses_1<=mse_d3_ses_3:\r\n",
        "  print('alpha: ',alpha1)\r\n",
        "  df1.plot(style=['-','-'])\r\n",
        "elif mse_d3_ses_2<=mse_d3_ses_1 and mse_d3_ses_2<=mse_d3_ses_3:\r\n",
        "  print('alpha: ',alpha2)\r\n",
        "  df2.plot(style=['-','-'])\r\n",
        "else:\r\n",
        "  print('alpha: ',alpha3)\r\n",
        "  df3.plot(style=['-','-'])"
      ],
      "execution_count": 134,
      "outputs": [
        {
          "output_type": "stream",
          "text": [
            "alpha:  0.5\n"
          ],
          "name": "stdout"
        },
        {
          "output_type": "display_data",
          "data": {
            "image/png": "[encoded data removed]",
            "text/plain": [
              "<Figure size 432x288 with 1 Axes>"
            ]
          },
          "metadata": {
            "tags": [],
            "needs_background": "light"
          }
        }
      ]
    },
    {
      "cell_type": "markdown",
      "metadata": {
        "id": "KXsaXPivCgbQ"
      },
      "source": [
        "3. For interval of 4 month"
      ]
    },
    {
      "cell_type": "code",
      "metadata": {
        "id": "hzFSxYD_CE1Q"
      },
      "source": [
        "#Creating demand list in 'n' intervals\r\n",
        "demand=dem_n(data['Passengers'],4)"
      ],
      "execution_count": 135,
      "outputs": []
    },
    {
      "cell_type": "code",
      "metadata": {
        "id": "gamfWuk_CE1Q"
      },
      "source": [
        "#Forecasting\r\n",
        "alpha1=0.2\r\n",
        "alpha2=0.5\r\n",
        "alpha3=0.8\r\n",
        "\r\n",
        "forecast_d3_ses_1=ses(demand,alpha1)\r\n",
        "forecast_d3_ses_2=ses(demand,alpha2)\r\n",
        "forecast_d3_ses_3=ses(demand,alpha3)"
      ],
      "execution_count": 136,
      "outputs": []
    },
    {
      "cell_type": "code",
      "metadata": {
        "colab": {
          "base_uri": "https://localhost:8080/"
        },
        "id": "BTtg7nxDCE1R",
        "outputId": "b9e254b5-1d0f-46dd-f562-18ff321730f4"
      },
      "source": [
        "#Calculating Mean of Square Errors\r\n",
        "mse_d3_ses_1=mean_squared_error(demand,forecast_d3_ses_1)\r\n",
        "mse_d3_ses_2=mean_squared_error(demand,forecast_d3_ses_2)\r\n",
        "mse_d3_ses_3=mean_squared_error(demand,forecast_d3_ses_3)\r\n",
        "\r\n",
        "print(\"Mean of Square Errors for alpha = 0.2 is: \",mse_d3_ses_1)\r\n",
        "print(\"Mean of Square Errors for alpha = 0.5 is: \",mse_d3_ses_2)\r\n",
        "print(\"Mean of Square Errors for alpha = 0.8 is: \",mse_d3_ses_3)"
      ],
      "execution_count": 137,
      "outputs": [
        {
          "output_type": "stream",
          "text": [
            "Mean of Square Errors for alpha = 0.2 is:  2728.5873951381686\n",
            "Mean of Square Errors for alpha = 0.5 is:  1077.3844096354696\n",
            "Mean of Square Errors for alpha = 0.8 is:  1006.344326091061\n"
          ],
          "name": "stdout"
        }
      ]
    },
    {
      "cell_type": "code",
      "metadata": {
        "colab": {
          "base_uri": "https://localhost:8080/",
          "height": 283
        },
        "id": "dHjFJwcdCE1S",
        "outputId": "dd4b3617-ff3d-43fd-9e86-d885dc3e8af0"
      },
      "source": [
        "d3_ses_1={'Demand':demand,'Forecast':forecast_d3_ses_1}\r\n",
        "d3_ses_2={'Demand':demand,'Forecast':forecast_d3_ses_2}\r\n",
        "d3_ses_3={'Demand':demand,'Forecast':forecast_d3_ses_3}\r\n",
        "\r\n",
        "df1=pd.DataFrame(d3_ses_1)\r\n",
        "df2=pd.DataFrame(d3_ses_2)\r\n",
        "df3=pd.DataFrame(d3_ses_3)\r\n",
        "\r\n",
        "if mse_d3_ses_1<=mse_d3_ses_2 and mse_d3_ses_1<=mse_d3_ses_3:\r\n",
        "  print('alpha: ',alpha1)\r\n",
        "  df1.plot(style=['-','-'])\r\n",
        "elif mse_d3_ses_2<=mse_d3_ses_1 and mse_d3_ses_2<=mse_d3_ses_3:\r\n",
        "  print('alpha: ',alpha2)\r\n",
        "  df2.plot(style=['-','-'])\r\n",
        "else:\r\n",
        "  print('alpha: ',alpha3)\r\n",
        "  df3.plot(style=['-','-'])"
      ],
      "execution_count": 138,
      "outputs": [
        {
          "output_type": "stream",
          "text": [
            "alpha:  0.8\n"
          ],
          "name": "stdout"
        },
        {
          "output_type": "display_data",
          "data": {
            "image/png": "[encoded data removed]",
            "text/plain": [
              "<Figure size 432x288 with 1 Axes>"
            ]
          },
          "metadata": {
            "tags": [],
            "needs_background": "light"
          }
        }
      ]
    },
    {
      "cell_type": "markdown",
      "metadata": {
        "id": "ZZ7cbVsYCkY6"
      },
      "source": [
        "4. For interval of 8 month"
      ]
    },
    {
      "cell_type": "code",
      "metadata": {
        "id": "ftQZ6JJUCFfS"
      },
      "source": [
        "#Creating demand list in 'n' intervals\r\n",
        "demand=dem_n(data['Passengers'],8)"
      ],
      "execution_count": 139,
      "outputs": []
    },
    {
      "cell_type": "code",
      "metadata": {
        "id": "VZlp7r8UCFfR"
      },
      "source": [
        "#Forecasting\r\n",
        "alpha1=0.2\r\n",
        "alpha2=0.5\r\n",
        "alpha3=0.8\r\n",
        "\r\n",
        "forecast_d3_ses_1=ses(demand,alpha1)\r\n",
        "forecast_d3_ses_2=ses(demand,alpha2)\r\n",
        "forecast_d3_ses_3=ses(demand,alpha3)"
      ],
      "execution_count": 140,
      "outputs": []
    },
    {
      "cell_type": "code",
      "metadata": {
        "colab": {
          "base_uri": "https://localhost:8080/"
        },
        "id": "c4Yp7F0zCFfS",
        "outputId": "a46d46fa-4b9e-4872-8ff6-0841ebb096b5"
      },
      "source": [
        "#Calculating Mean of Square Errors\r\n",
        "mse_d3_ses_1=mean_squared_error(demand,forecast_d3_ses_1)\r\n",
        "mse_d3_ses_2=mean_squared_error(demand,forecast_d3_ses_2)\r\n",
        "mse_d3_ses_3=mean_squared_error(demand,forecast_d3_ses_3)\r\n",
        "\r\n",
        "print(\"Mean of Square Errors for alpha = 0.2 is: \",mse_d3_ses_1)\r\n",
        "print(\"Mean of Square Errors for alpha = 0.5 is: \",mse_d3_ses_2)\r\n",
        "print(\"Mean of Square Errors for alpha = 0.8 is: \",mse_d3_ses_3)"
      ],
      "execution_count": 141,
      "outputs": [
        {
          "output_type": "stream",
          "text": [
            "Mean of Square Errors for alpha = 0.2 is:  6936.876823000415\n",
            "Mean of Square Errors for alpha = 0.5 is:  2311.867801730676\n",
            "Mean of Square Errors for alpha = 0.8 is:  1688.3774810769578\n"
          ],
          "name": "stdout"
        }
      ]
    },
    {
      "cell_type": "code",
      "metadata": {
        "colab": {
          "base_uri": "https://localhost:8080/",
          "height": 283
        },
        "id": "JfY0EnM9CFfT",
        "outputId": "f22c503f-9d4e-4de2-8c73-59fef31a5f7a"
      },
      "source": [
        "d3_ses_1={'Demand':demand,'Forecast':forecast_d3_ses_1}\r\n",
        "d3_ses_2={'Demand':demand,'Forecast':forecast_d3_ses_2}\r\n",
        "d3_ses_3={'Demand':demand,'Forecast':forecast_d3_ses_3}\r\n",
        "\r\n",
        "df1=pd.DataFrame(d3_ses_1)\r\n",
        "df2=pd.DataFrame(d3_ses_2)\r\n",
        "df3=pd.DataFrame(d3_ses_3)\r\n",
        "\r\n",
        "if mse_d3_ses_1<=mse_d3_ses_2 and mse_d3_ses_1<=mse_d3_ses_3:\r\n",
        "  print('alpha: ',alpha1)\r\n",
        "  df1.plot(style=['-','-'])\r\n",
        "elif mse_d3_ses_2<=mse_d3_ses_1 and mse_d3_ses_2<=mse_d3_ses_3:\r\n",
        "  print('alpha: ',alpha2)\r\n",
        "  df2.plot(style=['-','-'])\r\n",
        "else:\r\n",
        "  print('alpha: ',alpha3)\r\n",
        "  df3.plot(style=['-','-'])"
      ],
      "execution_count": 142,
      "outputs": [
        {
          "output_type": "stream",
          "text": [
            "alpha:  0.8\n"
          ],
          "name": "stdout"
        },
        {
          "output_type": "display_data",
          "data": {
            "image/png": "[encoded data removed]",
            "text/plain": [
              "<Figure size 432x288 with 1 Axes>"
            ]
          },
          "metadata": {
            "tags": [],
            "needs_background": "light"
          }
        }
      ]
    },
    {
      "cell_type": "markdown",
      "metadata": {
        "id": "8VOL31X2GU0J"
      },
      "source": [
        "5. For interval of 12 month"
      ]
    },
    {
      "cell_type": "code",
      "metadata": {
        "id": "JH5ZP_EkCJET"
      },
      "source": [
        "#Creating demand list in 'n' intervals\r\n",
        "demand=dem_n(data['Passengers'],12)"
      ],
      "execution_count": 143,
      "outputs": []
    },
    {
      "cell_type": "code",
      "metadata": {
        "id": "P6_1uHPHCJES"
      },
      "source": [
        "#Forecasting\r\n",
        "alpha1=0.2\r\n",
        "alpha2=0.5\r\n",
        "alpha3=0.8\r\n",
        "\r\n",
        "forecast_d3_ses_1=ses(demand,alpha1)\r\n",
        "forecast_d3_ses_2=ses(demand,alpha2)\r\n",
        "forecast_d3_ses_3=ses(demand,alpha3)"
      ],
      "execution_count": 144,
      "outputs": []
    },
    {
      "cell_type": "code",
      "metadata": {
        "colab": {
          "base_uri": "https://localhost:8080/"
        },
        "id": "e0Fut37jCJEU",
        "outputId": "ac0063cc-27ad-403e-80dd-623113a28737"
      },
      "source": [
        "#Calculating Mean of Square Errors\r\n",
        "mse_d3_ses_1=mean_squared_error(demand,forecast_d3_ses_1)\r\n",
        "mse_d3_ses_2=mean_squared_error(demand,forecast_d3_ses_2)\r\n",
        "mse_d3_ses_3=mean_squared_error(demand,forecast_d3_ses_3)\r\n",
        "\r\n",
        "print(\"Mean of Square Errors for alpha = 0.2 is: \",mse_d3_ses_1)\r\n",
        "print(\"Mean of Square Errors for alpha = 0.5 is: \",mse_d3_ses_2)\r\n",
        "print(\"Mean of Square Errors for alpha = 0.8 is: \",mse_d3_ses_3)"
      ],
      "execution_count": 145,
      "outputs": [
        {
          "output_type": "stream",
          "text": [
            "Mean of Square Errors for alpha = 0.2 is:  8121.836305596505\n",
            "Mean of Square Errors for alpha = 0.5 is:  2500.3690481980643\n",
            "Mean of Square Errors for alpha = 0.8 is:  1228.0100945672884\n"
          ],
          "name": "stdout"
        }
      ]
    },
    {
      "cell_type": "code",
      "metadata": {
        "colab": {
          "base_uri": "https://localhost:8080/",
          "height": 283
        },
        "id": "-OenBvzDCJEU",
        "outputId": "f7dda339-0e33-4080-d439-3269db7b1ec8"
      },
      "source": [
        "d3_ses_1={'Demand':demand,'Forecast':forecast_d3_ses_1}\r\n",
        "d3_ses_2={'Demand':demand,'Forecast':forecast_d3_ses_2}\r\n",
        "d3_ses_3={'Demand':demand,'Forecast':forecast_d3_ses_3}\r\n",
        "\r\n",
        "df1=pd.DataFrame(d3_ses_1)\r\n",
        "df2=pd.DataFrame(d3_ses_2)\r\n",
        "df3=pd.DataFrame(d3_ses_3)\r\n",
        "\r\n",
        "if mse_d3_ses_1<=mse_d3_ses_2 and mse_d3_ses_1<=mse_d3_ses_3:\r\n",
        "  print('alpha: ',alpha1)\r\n",
        "  df1.plot(style=['-','-'])\r\n",
        "elif mse_d3_ses_2<=mse_d3_ses_1 and mse_d3_ses_2<=mse_d3_ses_3:\r\n",
        "  print('alpha: ',alpha2)\r\n",
        "  df2.plot(style=['-','-'])\r\n",
        "else:\r\n",
        "  print('alpha: ',alpha3)\r\n",
        "  df3.plot(style=['-','-'])"
      ],
      "execution_count": 146,
      "outputs": [
        {
          "output_type": "stream",
          "text": [
            "alpha:  0.8\n"
          ],
          "name": "stdout"
        },
        {
          "output_type": "display_data",
          "data": {
            "image/png": "[encoded data removed]",
            "text/plain": [
              "<Figure size 432x288 with 1 Axes>"
            ]
          },
          "metadata": {
            "tags": [],
            "needs_background": "light"
          }
        }
      ]
    },
    {
      "cell_type": "markdown",
      "metadata": {
        "id": "GjSER8KLGaa4"
      },
      "source": [
        "6. For interval of 24 month"
      ]
    },
    {
      "cell_type": "code",
      "metadata": {
        "id": "zdWUtrKvCJ3M"
      },
      "source": [
        "#Creating demand list in 'n' intervals\r\n",
        "demand=dem_n(data['Passengers'],24)"
      ],
      "execution_count": 147,
      "outputs": []
    },
    {
      "cell_type": "code",
      "metadata": {
        "id": "Mbbp39j2CJ3L"
      },
      "source": [
        "#Forecasting\r\n",
        "alpha1=0.2\r\n",
        "alpha2=0.5\r\n",
        "alpha3=0.8\r\n",
        "\r\n",
        "forecast_d3_ses_1=ses(demand,alpha1)\r\n",
        "forecast_d3_ses_2=ses(demand,alpha2)\r\n",
        "forecast_d3_ses_3=ses(demand,alpha3)"
      ],
      "execution_count": 148,
      "outputs": []
    },
    {
      "cell_type": "code",
      "metadata": {
        "colab": {
          "base_uri": "https://localhost:8080/"
        },
        "id": "1HcUICWZCJ3N",
        "outputId": "25e49b1a-00a7-4309-c6f8-5deb2113bef4"
      },
      "source": [
        "#Calculating Mean of Square Errors\r\n",
        "mse_d3_ses_1=mean_squared_error(demand,forecast_d3_ses_1)\r\n",
        "mse_d3_ses_2=mean_squared_error(demand,forecast_d3_ses_2)\r\n",
        "mse_d3_ses_3=mean_squared_error(demand,forecast_d3_ses_3)\r\n",
        "\r\n",
        "print(\"Mean of Square Errors for alpha = 0.2 is: \",mse_d3_ses_1)\r\n",
        "print(\"Mean of Square Errors for alpha = 0.5 is: \",mse_d3_ses_2)\r\n",
        "print(\"Mean of Square Errors for alpha = 0.8 is: \",mse_d3_ses_3)"
      ],
      "execution_count": 149,
      "outputs": [
        {
          "output_type": "stream",
          "text": [
            "Mean of Square Errors for alpha = 0.2 is:  12309.989044906659\n",
            "Mean of Square Errors for alpha = 0.5 is:  5839.274088541667\n",
            "Mean of Square Errors for alpha = 0.8 is:  3114.6575761066665\n"
          ],
          "name": "stdout"
        }
      ]
    },
    {
      "cell_type": "code",
      "metadata": {
        "colab": {
          "base_uri": "https://localhost:8080/",
          "height": 283
        },
        "id": "9yG0cKIZCJ3N",
        "outputId": "8b91c524-9d97-48b2-9962-180afc4a3356"
      },
      "source": [
        "d3_ses_1={'Demand':demand,'Forecast':forecast_d3_ses_1}\r\n",
        "d3_ses_2={'Demand':demand,'Forecast':forecast_d3_ses_2}\r\n",
        "d3_ses_3={'Demand':demand,'Forecast':forecast_d3_ses_3}\r\n",
        "\r\n",
        "df1=pd.DataFrame(d3_ses_1)\r\n",
        "df2=pd.DataFrame(d3_ses_2)\r\n",
        "df3=pd.DataFrame(d3_ses_3)\r\n",
        "\r\n",
        "if mse_d3_ses_1<=mse_d3_ses_2 and mse_d3_ses_1<=mse_d3_ses_3:\r\n",
        "  print('alpha: ',alpha1)\r\n",
        "  df1.plot(style=['-','-'])\r\n",
        "elif mse_d3_ses_2<=mse_d3_ses_1 and mse_d3_ses_2<=mse_d3_ses_3:\r\n",
        "  print('alpha: ',alpha2)\r\n",
        "  df2.plot(style=['-','-'])\r\n",
        "else:\r\n",
        "  print('alpha: ',alpha3)\r\n",
        "  df3.plot(style=['-','-'])"
      ],
      "execution_count": 150,
      "outputs": [
        {
          "output_type": "stream",
          "text": [
            "alpha:  0.8\n"
          ],
          "name": "stdout"
        },
        {
          "output_type": "display_data",
          "data": {
            "image/png": "[encoded data removed]",
            "text/plain": [
              "<Figure size 432x288 with 1 Axes>"
            ]
          },
          "metadata": {
            "tags": [],
            "needs_background": "light"
          }
        }
      ]
    },
    {
      "cell_type": "markdown",
      "metadata": {
        "id": "oLPcVTsc5SM4"
      },
      "source": [
        "\r\n",
        "\r\n",
        "---\r\n",
        "\r\n"
      ]
    },
    {
      "cell_type": "markdown",
      "metadata": {
        "id": "Nn1W7udY5URT"
      },
      "source": [
        "Tabulating Intervals and least MSE"
      ]
    },
    {
      "cell_type": "code",
      "metadata": {
        "colab": {
          "base_uri": "https://localhost:8080/"
        },
        "id": "jma7mRyR5aqi",
        "outputId": "eac71034-4756-406b-ec88-e7294a957e0c"
      },
      "source": [
        "from tabulate import tabulate\r\n",
        "print(tabulate([['1 month', 1304.1609035809436], ['2 month', 2978.256495465666],['4 month', 1006.344326091061],['8 month', 1688.3774810769578],['12 month', 1228.0100945672884],['24 month', 3114.6575761066665]], headers=['Intervals', 'Least MSE'], tablefmt='grid'))"
      ],
      "execution_count": 151,
      "outputs": [
        {
          "output_type": "stream",
          "text": [
            "+-------------+-------------+\n",
            "| Intervals   |   Least MSE |\n",
            "+=============+=============+\n",
            "| 1 month     |     1304.16 |\n",
            "+-------------+-------------+\n",
            "| 2 month     |     2978.26 |\n",
            "+-------------+-------------+\n",
            "| 4 month     |     1006.34 |\n",
            "+-------------+-------------+\n",
            "| 8 month     |     1688.38 |\n",
            "+-------------+-------------+\n",
            "| 12 month    |     1228.01 |\n",
            "+-------------+-------------+\n",
            "| 24 month    |     3114.66 |\n",
            "+-------------+-------------+\n"
          ],
          "name": "stdout"
        }
      ]
    },
    {
      "cell_type": "markdown",
      "metadata": {
        "id": "EAcfQ9UV7MBE"
      },
      "source": [
        "Plotting MSE for Constructed Table"
      ]
    },
    {
      "cell_type": "code",
      "metadata": {
        "colab": {
          "base_uri": "https://localhost:8080/",
          "height": 309
        },
        "id": "gM-Zclot7SEv",
        "outputId": "ab1ed604-f27e-461f-e704-3751e01094d4"
      },
      "source": [
        "import matplotlib.pyplot as plt\r\n",
        "plt.scatter(['1 month','2 month','4 month','8 month','12 month','24 month'], [1304.16 , 2978.26 ,1006.34 ,1688.38 ,1228.01 ,3114.66 ],c='r')\r\n",
        "plt.title('Least MSE for different intervals for Single Exponential Smoothening Function',pad=20)\r\n",
        "plt.xlabel('Intervals')\r\n",
        "plt.ylabel('Least MSE of predicted for each interval')\r\n",
        "plt.show()"
      ],
      "execution_count": 152,
      "outputs": [
        {
          "output_type": "display_data",
          "data": {
            "image/png": "[encoded data removed]",
            "text/plain": [
              "<Figure size 432x288 with 1 Axes>"
            ]
          },
          "metadata": {
            "tags": [],
            "needs_background": "light"
          }
        }
      ]
    },
    {
      "cell_type": "markdown",
      "metadata": {
        "id": "KNdpChjsTr-s"
      },
      "source": [
        "\r\n",
        "\r\n",
        "---\r\n",
        "\r\n",
        "\r\n",
        "\r\n",
        "\r\n"
      ]
    },
    {
      "cell_type": "markdown",
      "metadata": {
        "id": "1YmWmNc8TRqA"
      },
      "source": [
        "For Double Exponential Smoothening\r\n"
      ]
    },
    {
      "cell_type": "markdown",
      "metadata": {
        "id": "RyqBqwLRx_qV"
      },
      "source": [
        "1. For interval of 1 month"
      ]
    },
    {
      "cell_type": "code",
      "metadata": {
        "id": "09PDMYoiTjAD"
      },
      "source": [
        "#Creating demand list in 'n' intervals\r\n",
        "demand=dem_n(data['Passengers'],1)"
      ],
      "execution_count": 153,
      "outputs": []
    },
    {
      "cell_type": "code",
      "metadata": {
        "id": "qvBperYdTjAC"
      },
      "source": [
        "#Forecasting\r\n",
        "alpha1=0.2\r\n",
        "alpha2=0.5\r\n",
        "alpha3=0.8\r\n",
        "\r\n",
        "beta1=0.3\r\n",
        "beta2=0.6\r\n",
        "beta3=0.9\r\n",
        "\r\n",
        "forecast_d3_des_1=des(demand,alpha1,beta1)\r\n",
        "forecast_d3_des_2=des(demand,alpha2,beta2)\r\n",
        "forecast_d3_des_3=des(demand,alpha3,beta3)"
      ],
      "execution_count": 154,
      "outputs": []
    },
    {
      "cell_type": "code",
      "metadata": {
        "colab": {
          "base_uri": "https://localhost:8080/"
        },
        "id": "AdBzspTTTjAE",
        "outputId": "7b779a7f-8538-4b64-cf86-ea0faf1ef641"
      },
      "source": [
        "#Calculating Mean of Square Errors\r\n",
        "mse_d3_des_1=mean_squared_error(demand,forecast_d3_des_1)\r\n",
        "mse_d3_des_2=mean_squared_error(demand,forecast_d3_des_2)\r\n",
        "mse_d3_des_3=mean_squared_error(demand,forecast_d3_des_3)\r\n",
        "\r\n",
        "print(\"Mean of Square Errors for alpha = 0.2,beta= 0.3 is: \",mse_d3_des_1)\r\n",
        "print(\"Mean of Square Errors for alpha = 0.5,beta= 0.6 is: \",mse_d3_des_2)\r\n",
        "print(\"Mean of Square Errors for alpha = 0.8,beta= 0.9 is: \",mse_d3_des_3)"
      ],
      "execution_count": 155,
      "outputs": [
        {
          "output_type": "stream",
          "text": [
            "Mean of Square Errors for alpha = 0.2,beta= 0.3 is:  3030.8535477527207\n",
            "Mean of Square Errors for alpha = 0.5,beta= 0.6 is:  2544.721808490218\n",
            "Mean of Square Errors for alpha = 0.8,beta= 0.9 is:  1667.7938756614267\n"
          ],
          "name": "stdout"
        }
      ]
    },
    {
      "cell_type": "code",
      "metadata": {
        "colab": {
          "base_uri": "https://localhost:8080/",
          "height": 300
        },
        "id": "utM-g_9XTjAG",
        "outputId": "45ad670f-0846-4adc-cb40-83c25a7fd474"
      },
      "source": [
        "d3_des_1={'Demand':demand,'Forecast':forecast_d3_des_1}\r\n",
        "d3_des_2={'Demand':demand,'Forecast':forecast_d3_des_2}\r\n",
        "d3_des_3={'Demand':demand,'Forecast':forecast_d3_des_3}\r\n",
        "\r\n",
        "df1=pd.DataFrame(d3_des_1)\r\n",
        "df2=pd.DataFrame(d3_des_2)\r\n",
        "df3=pd.DataFrame(d3_des_3)\r\n",
        "\r\n",
        "if mse_d3_des_1<=mse_d3_des_2 and mse_d3_des_1<=mse_d3_des_3:\r\n",
        "  print('alpha: ',alpha1)\r\n",
        "  print('beta: ',beta1)\r\n",
        "  df1.plot(style=['-','-'])\r\n",
        "elif mse_d3_des_2<=mse_d3_des_1 and mse_d3_des_2<=mse_d3_des_3:\r\n",
        "  print('alpha: ',alpha2)\r\n",
        "  print('beta: ',beta2)\r\n",
        "  df2.plot(style=['-','-'])\r\n",
        "else:\r\n",
        "  print('alpha: ',alpha3)\r\n",
        "  print('beta: ',beta3)\r\n",
        "  df3.plot(style=['-','-'])"
      ],
      "execution_count": 156,
      "outputs": [
        {
          "output_type": "stream",
          "text": [
            "alpha:  0.8\n",
            "beta:  0.9\n"
          ],
          "name": "stdout"
        },
        {
          "output_type": "display_data",
          "data": {
            "image/png": "[encoded data removed]",
            "text/plain": [
              "<Figure size 432x288 with 1 Axes>"
            ]
          },
          "metadata": {
            "tags": [],
            "needs_background": "light"
          }
        }
      ]
    },
    {
      "cell_type": "markdown",
      "metadata": {
        "id": "RIn32M51yDs2"
      },
      "source": [
        "2. For interval of 2 month"
      ]
    },
    {
      "cell_type": "code",
      "metadata": {
        "id": "mfCSXxoyTlBC"
      },
      "source": [
        "#Creating demand list in 'n' intervals\r\n",
        "demand=dem_n(data['Passengers'],2)"
      ],
      "execution_count": 157,
      "outputs": []
    },
    {
      "cell_type": "code",
      "metadata": {
        "id": "OuNzUfbGTlBC"
      },
      "source": [
        "#Forecasting\r\n",
        "alpha1=0.2\r\n",
        "alpha2=0.5\r\n",
        "alpha3=0.8\r\n",
        "\r\n",
        "beta1=0.3\r\n",
        "beta2=0.6\r\n",
        "beta3=0.9\r\n",
        "\r\n",
        "forecast_d3_des_1=des(demand,alpha1,beta1)\r\n",
        "forecast_d3_des_2=des(demand,alpha2,beta2)\r\n",
        "forecast_d3_des_3=des(demand,alpha3,beta3)"
      ],
      "execution_count": 158,
      "outputs": []
    },
    {
      "cell_type": "code",
      "metadata": {
        "colab": {
          "base_uri": "https://localhost:8080/"
        },
        "id": "_eTa4Jk-TlBD",
        "outputId": "51180b31-90b2-41ad-b535-28db311e78c4"
      },
      "source": [
        "#Calculating Mean of Square Errors\r\n",
        "mse_d3_des_1=mean_squared_error(demand,forecast_d3_des_1)\r\n",
        "mse_d3_des_2=mean_squared_error(demand,forecast_d3_des_2)\r\n",
        "mse_d3_des_3=mean_squared_error(demand,forecast_d3_des_3)\r\n",
        "\r\n",
        "print(\"Mean of Square Errors for alpha = 0.2,beta= 0.3 is: \",mse_d3_des_1)\r\n",
        "print(\"Mean of Square Errors for alpha = 0.5,beta= 0.6 is: \",mse_d3_des_2)\r\n",
        "print(\"Mean of Square Errors for alpha = 0.8,beta= 0.9 is: \",mse_d3_des_3)"
      ],
      "execution_count": 159,
      "outputs": [
        {
          "output_type": "stream",
          "text": [
            "Mean of Square Errors for alpha = 0.2,beta= 0.3 is:  2707.9585065196134\n",
            "Mean of Square Errors for alpha = 0.5,beta= 0.6 is:  4761.5768823241515\n",
            "Mean of Square Errors for alpha = 0.8,beta= 0.9 is:  5821.721575369148\n"
          ],
          "name": "stdout"
        }
      ]
    },
    {
      "cell_type": "code",
      "metadata": {
        "colab": {
          "base_uri": "https://localhost:8080/",
          "height": 300
        },
        "id": "xUDQURymTlBE",
        "outputId": "4e1ade22-caef-48d2-c786-9aa8eb8b5bbf"
      },
      "source": [
        "d3_des_1={'Demand':demand,'Forecast':forecast_d3_des_1}\r\n",
        "d3_des_2={'Demand':demand,'Forecast':forecast_d3_des_2}\r\n",
        "d3_des_3={'Demand':demand,'Forecast':forecast_d3_des_3}\r\n",
        "\r\n",
        "df1=pd.DataFrame(d3_des_1)\r\n",
        "df2=pd.DataFrame(d3_des_2)\r\n",
        "df3=pd.DataFrame(d3_des_3)\r\n",
        "\r\n",
        "if mse_d3_des_1<=mse_d3_des_2 and mse_d3_des_1<=mse_d3_des_3:\r\n",
        "  print('alpha: ',alpha1)\r\n",
        "  print('beta: ',beta1)\r\n",
        "  df1.plot(style=['-','-'])\r\n",
        "elif mse_d3_des_2<=mse_d3_des_1 and mse_d3_des_2<=mse_d3_des_3:\r\n",
        "  print('alpha: ',alpha2)\r\n",
        "  print('beta: ',beta2)\r\n",
        "  df2.plot(style=['-','-'])\r\n",
        "else:\r\n",
        "  print('alpha: ',alpha3)\r\n",
        "  print('beta: ',beta3)\r\n",
        "  df3.plot(style=['-','-'])"
      ],
      "execution_count": 160,
      "outputs": [
        {
          "output_type": "stream",
          "text": [
            "alpha:  0.2\n",
            "beta:  0.3\n"
          ],
          "name": "stdout"
        },
        {
          "output_type": "display_data",
          "data": {
            "image/png": "[encoded data removed]",
            "text/plain": [
              "<Figure size 432x288 with 1 Axes>"
            ]
          },
          "metadata": {
            "tags": [],
            "needs_background": "light"
          }
        }
      ]
    },
    {
      "cell_type": "markdown",
      "metadata": {
        "id": "z2SEduW_yG83"
      },
      "source": [
        "3. For interval of 4 month"
      ]
    },
    {
      "cell_type": "code",
      "metadata": {
        "id": "Fs21hBeMTlVf"
      },
      "source": [
        "#Creating demand list in 'n' intervals\r\n",
        "demand=dem_n(data['Passengers'],4)"
      ],
      "execution_count": 161,
      "outputs": []
    },
    {
      "cell_type": "code",
      "metadata": {
        "id": "i4JPOYg6TlVe"
      },
      "source": [
        "4#Forecasting\r\n",
        "alpha1=0.2\r\n",
        "alpha2=0.5\r\n",
        "alpha3=0.8\r\n",
        "\r\n",
        "beta1=0.3\r\n",
        "beta2=0.6\r\n",
        "beta3=0.9\r\n",
        "\r\n",
        "forecast_d3_des_1=des(demand,alpha1,beta1)\r\n",
        "forecast_d3_des_2=des(demand,alpha2,beta2)\r\n",
        "forecast_d3_des_3=des(demand,alpha3,beta3)"
      ],
      "execution_count": 162,
      "outputs": []
    },
    {
      "cell_type": "code",
      "metadata": {
        "colab": {
          "base_uri": "https://localhost:8080/"
        },
        "id": "cmDFDbzeTlVf",
        "outputId": "d1622897-b68e-4392-af80-826e7509cd16"
      },
      "source": [
        "#Calculating Mean of Square Errors\r\n",
        "mse_d3_des_1=mean_squared_error(demand,forecast_d3_des_1)\r\n",
        "mse_d3_des_2=mean_squared_error(demand,forecast_d3_des_2)\r\n",
        "mse_d3_des_3=mean_squared_error(demand,forecast_d3_des_3)\r\n",
        "\r\n",
        "print(\"Mean of Square Errors for alpha = 0.2,beta= 0.3 is: \",mse_d3_des_1)\r\n",
        "print(\"Mean of Square Errors for alpha = 0.5,beta= 0.6 is: \",mse_d3_des_2)\r\n",
        "print(\"Mean of Square Errors for alpha = 0.8,beta= 0.9 is: \",mse_d3_des_3)"
      ],
      "execution_count": 163,
      "outputs": [
        {
          "output_type": "stream",
          "text": [
            "Mean of Square Errors for alpha = 0.2,beta= 0.3 is:  585.1326589888236\n",
            "Mean of Square Errors for alpha = 0.5,beta= 0.6 is:  810.1580285627945\n",
            "Mean of Square Errors for alpha = 0.8,beta= 0.9 is:  1724.2404585190918\n"
          ],
          "name": "stdout"
        }
      ]
    },
    {
      "cell_type": "code",
      "metadata": {
        "colab": {
          "base_uri": "https://localhost:8080/",
          "height": 300
        },
        "id": "NQLdhwJFTlVf",
        "outputId": "36b83203-874b-43fb-e18c-281ebac56a40"
      },
      "source": [
        "d3_des_1={'Demand':demand,'Forecast':forecast_d3_des_1}\r\n",
        "d3_des_2={'Demand':demand,'Forecast':forecast_d3_des_2}\r\n",
        "d3_des_3={'Demand':demand,'Forecast':forecast_d3_des_3}\r\n",
        "\r\n",
        "df1=pd.DataFrame(d3_des_1)\r\n",
        "df2=pd.DataFrame(d3_des_2)\r\n",
        "df3=pd.DataFrame(d3_des_3)\r\n",
        "\r\n",
        "if mse_d3_des_1<=mse_d3_des_2 and mse_d3_des_1<=mse_d3_des_3:\r\n",
        "  print('alpha: ',alpha1)\r\n",
        "  print('beta: ',beta1)\r\n",
        "  df1.plot(style=['-','-'])\r\n",
        "elif mse_d3_des_2<=mse_d3_des_1 and mse_d3_des_2<=mse_d3_des_3:\r\n",
        "  print('alpha: ',alpha2)\r\n",
        "  print('beta: ',beta2)\r\n",
        "  df2.plot(style=['-','-'])\r\n",
        "else:\r\n",
        "  print('alpha: ',alpha3)\r\n",
        "  print('beta: ',beta3)\r\n",
        "  df3.plot(style=['-','-'])"
      ],
      "execution_count": 164,
      "outputs": [
        {
          "output_type": "stream",
          "text": [
            "alpha:  0.2\n",
            "beta:  0.3\n"
          ],
          "name": "stdout"
        },
        {
          "output_type": "display_data",
          "data": {
            "image/png": "[encoded data removed]",
            "text/plain": [
              "<Figure size 432x288 with 1 Axes>"
            ]
          },
          "metadata": {
            "tags": [],
            "needs_background": "light"
          }
        }
      ]
    },
    {
      "cell_type": "markdown",
      "metadata": {
        "id": "knWGxZxWycej"
      },
      "source": [
        "4. For interval of 8 month"
      ]
    },
    {
      "cell_type": "code",
      "metadata": {
        "id": "-pcl5Gn_TlqH"
      },
      "source": [
        "#Creating demand list in 'n' intervals\r\n",
        "demand=dem_n(data['Passengers'],8)"
      ],
      "execution_count": 165,
      "outputs": []
    },
    {
      "cell_type": "code",
      "metadata": {
        "id": "A93n3QxUTlqH"
      },
      "source": [
        "#Forecasting\r\n",
        "alpha1=0.2\r\n",
        "alpha2=0.5\r\n",
        "alpha3=0.8\r\n",
        "\r\n",
        "beta1=0.3\r\n",
        "beta2=0.6\r\n",
        "beta3=0.9\r\n",
        "\r\n",
        "forecast_d3_des_1=des(demand,alpha1,beta1)\r\n",
        "forecast_d3_des_2=des(demand,alpha2,beta2)\r\n",
        "forecast_d3_des_3=des(demand,alpha3,beta3)"
      ],
      "execution_count": 166,
      "outputs": []
    },
    {
      "cell_type": "code",
      "metadata": {
        "colab": {
          "base_uri": "https://localhost:8080/"
        },
        "id": "pVmrnLm9TlqJ",
        "outputId": "c2a538ac-45a3-44aa-a95b-cb132812edbe"
      },
      "source": [
        "#Calculating Mean of Square Errors\r\n",
        "mse_d3_des_1=mean_squared_error(demand,forecast_d3_des_1)\r\n",
        "mse_d3_des_2=mean_squared_error(demand,forecast_d3_des_2)\r\n",
        "mse_d3_des_3=mean_squared_error(demand,forecast_d3_des_3)\r\n",
        "\r\n",
        "print(\"Mean of Square Errors for alpha = 0.2,beta= 0.3 is: \",mse_d3_des_1)\r\n",
        "print(\"Mean of Square Errors for alpha = 0.5,beta= 0.6 is: \",mse_d3_des_2)\r\n",
        "print(\"Mean of Square Errors for alpha = 0.8,beta= 0.9 is: \",mse_d3_des_3)"
      ],
      "execution_count": 167,
      "outputs": [
        {
          "output_type": "stream",
          "text": [
            "Mean of Square Errors for alpha = 0.2,beta= 0.3 is:  816.1088770802985\n",
            "Mean of Square Errors for alpha = 0.5,beta= 0.6 is:  1078.1467507679472\n",
            "Mean of Square Errors for alpha = 0.8,beta= 0.9 is:  2196.0250055447946\n"
          ],
          "name": "stdout"
        }
      ]
    },
    {
      "cell_type": "code",
      "metadata": {
        "colab": {
          "base_uri": "https://localhost:8080/",
          "height": 300
        },
        "id": "5HwuvtkwTlqJ",
        "outputId": "44f1d1ce-23b6-4d48-bcdd-9879d94fcaaa"
      },
      "source": [
        "d3_des_1={'Demand':demand,'Forecast':forecast_d3_des_1}\r\n",
        "d3_des_2={'Demand':demand,'Forecast':forecast_d3_des_2}\r\n",
        "d3_des_3={'Demand':demand,'Forecast':forecast_d3_des_3}\r\n",
        "\r\n",
        "df1=pd.DataFrame(d3_des_1)\r\n",
        "df2=pd.DataFrame(d3_des_2)\r\n",
        "df3=pd.DataFrame(d3_des_3)\r\n",
        "\r\n",
        "if mse_d3_des_1<=mse_d3_des_2 and mse_d3_des_1<=mse_d3_des_3:\r\n",
        "  print('alpha: ',alpha1)\r\n",
        "  print('beta: ',beta1)\r\n",
        "  df1.plot(style=['-','-'])\r\n",
        "elif mse_d3_des_2<=mse_d3_des_1 and mse_d3_des_2<=mse_d3_des_3:\r\n",
        "  print('alpha: ',alpha2)\r\n",
        "  print('beta: ',beta2)\r\n",
        "  df2.plot(style=['-','-'])\r\n",
        "else:\r\n",
        "  print('alpha: ',alpha3)\r\n",
        "  print('beta: ',beta3)\r\n",
        "  df3.plot(style=['-','-'])"
      ],
      "execution_count": 168,
      "outputs": [
        {
          "output_type": "stream",
          "text": [
            "alpha:  0.2\n",
            "beta:  0.3\n"
          ],
          "name": "stdout"
        },
        {
          "output_type": "display_data",
          "data": {
            "image/png": "[encoded data removed]",
            "text/plain": [
              "<Figure size 432x288 with 1 Axes>"
            ]
          },
          "metadata": {
            "tags": [],
            "needs_background": "light"
          }
        }
      ]
    },
    {
      "cell_type": "markdown",
      "metadata": {
        "id": "ilUm9N2kyfcr"
      },
      "source": [
        "5. For interval of 12 month"
      ]
    },
    {
      "cell_type": "code",
      "metadata": {
        "id": "zQerfkp3Tl9o"
      },
      "source": [
        "#Creating demand list in 'n' intervals\r\n",
        "demand=dem_n(data['Passengers'],12)"
      ],
      "execution_count": 169,
      "outputs": []
    },
    {
      "cell_type": "code",
      "metadata": {
        "id": "IZY41AEkTl9n"
      },
      "source": [
        "#Forecasting\r\n",
        "alpha1=0.2\r\n",
        "alpha2=0.5\r\n",
        "alpha3=0.8\r\n",
        "\r\n",
        "beta1=0.3\r\n",
        "beta2=0.6\r\n",
        "beta3=0.9\r\n",
        "\r\n",
        "forecast_d3_des_1=des(demand,alpha1,beta1)\r\n",
        "forecast_d3_des_2=des(demand,alpha2,beta2)\r\n",
        "forecast_d3_des_3=des(demand,alpha3,beta3)"
      ],
      "execution_count": 170,
      "outputs": []
    },
    {
      "cell_type": "code",
      "metadata": {
        "colab": {
          "base_uri": "https://localhost:8080/"
        },
        "id": "PtsTaBPeTl9o",
        "outputId": "25c6b28f-89d6-4782-cff6-791061f91bc6"
      },
      "source": [
        "#Calculating Mean of Square Errors\r\n",
        "mse_d3_des_1=mean_squared_error(demand,forecast_d3_des_1)\r\n",
        "mse_d3_des_2=mean_squared_error(demand,forecast_d3_des_2)\r\n",
        "mse_d3_des_3=mean_squared_error(demand,forecast_d3_des_3)\r\n",
        "\r\n",
        "print(\"Mean of Square Errors for alpha = 0.2,beta= 0.3 is: \",mse_d3_des_1)\r\n",
        "print(\"Mean of Square Errors for alpha = 0.5,beta= 0.6 is: \",mse_d3_des_2)\r\n",
        "print(\"Mean of Square Errors for alpha = 0.8,beta= 0.9 is: \",mse_d3_des_3)"
      ],
      "execution_count": 171,
      "outputs": [
        {
          "output_type": "stream",
          "text": [
            "Mean of Square Errors for alpha = 0.2,beta= 0.3 is:  345.17359044752607\n",
            "Mean of Square Errors for alpha = 0.5,beta= 0.6 is:  202.5468582281123\n",
            "Mean of Square Errors for alpha = 0.8,beta= 0.9 is:  294.63348233446555\n"
          ],
          "name": "stdout"
        }
      ]
    },
    {
      "cell_type": "code",
      "metadata": {
        "colab": {
          "base_uri": "https://localhost:8080/",
          "height": 300
        },
        "id": "4xSoJlnQTl9o",
        "outputId": "3cc2fc12-4984-4599-8aaa-08fc5949282a"
      },
      "source": [
        "d3_des_1={'Demand':demand,'Forecast':forecast_d3_des_1}\r\n",
        "d3_des_2={'Demand':demand,'Forecast':forecast_d3_des_2}\r\n",
        "d3_des_3={'Demand':demand,'Forecast':forecast_d3_des_3}\r\n",
        "\r\n",
        "df1=pd.DataFrame(d3_des_1)\r\n",
        "df2=pd.DataFrame(d3_des_2)\r\n",
        "df3=pd.DataFrame(d3_des_3)\r\n",
        "\r\n",
        "if mse_d3_des_1<=mse_d3_des_2 and mse_d3_des_1<=mse_d3_des_3:\r\n",
        "  print('alpha: ',alpha1)\r\n",
        "  print('beta: ',beta1)\r\n",
        "  df1.plot(style=['-','-'])\r\n",
        "elif mse_d3_des_2<=mse_d3_des_1 and mse_d3_des_2<=mse_d3_des_3:\r\n",
        "  print('alpha: ',alpha2)\r\n",
        "  print('beta: ',beta2)\r\n",
        "  df2.plot(style=['-','-'])\r\n",
        "else:\r\n",
        "  print('alpha: ',alpha3)\r\n",
        "  print('beta: ',beta3)\r\n",
        "  df3.plot(style=['-','-'])"
      ],
      "execution_count": 172,
      "outputs": [
        {
          "output_type": "stream",
          "text": [
            "alpha:  0.5\n",
            "beta:  0.6\n"
          ],
          "name": "stdout"
        },
        {
          "output_type": "display_data",
          "data": {
            "image/png": "[encoded data removed]",
            "text/plain": [
              "<Figure size 432x288 with 1 Axes>"
            ]
          },
          "metadata": {
            "tags": [],
            "needs_background": "light"
          }
        }
      ]
    },
    {
      "cell_type": "markdown",
      "metadata": {
        "id": "_1sObFQpyie_"
      },
      "source": [
        "6. For interval of 24 month"
      ]
    },
    {
      "cell_type": "code",
      "metadata": {
        "id": "o_sMLgZwTmRI"
      },
      "source": [
        "#Creating demand list in 'n' intervals\r\n",
        "demand=dem_n(data['Passengers'],24)"
      ],
      "execution_count": 173,
      "outputs": []
    },
    {
      "cell_type": "code",
      "metadata": {
        "id": "jHzljdJ5TmRH"
      },
      "source": [
        "#Forecasting\r\n",
        "alpha1=0.2\r\n",
        "alpha2=0.5\r\n",
        "alpha3=0.8\r\n",
        "\r\n",
        "beta1=0.3\r\n",
        "beta2=0.6\r\n",
        "beta3=0.9\r\n",
        "\r\n",
        "forecast_d3_des_1=des(demand,alpha1,beta1)\r\n",
        "forecast_d3_des_2=des(demand,alpha2,beta2)\r\n",
        "forecast_d3_des_3=des(demand,alpha3,beta3)"
      ],
      "execution_count": 174,
      "outputs": []
    },
    {
      "cell_type": "code",
      "metadata": {
        "colab": {
          "base_uri": "https://localhost:8080/"
        },
        "id": "iQLAuP2gTmRI",
        "outputId": "5afd92e1-1f8a-43be-d4a9-ae2b22366ef5"
      },
      "source": [
        "#Calculating Mean of Square Errors\r\n",
        "mse_d3_des_1=mean_squared_error(demand,forecast_d3_des_1)\r\n",
        "mse_d3_des_2=mean_squared_error(demand,forecast_d3_des_2)\r\n",
        "mse_d3_des_3=mean_squared_error(demand,forecast_d3_des_3)\r\n",
        "\r\n",
        "print(\"Mean of Square Errors for alpha = 0.2,beta= 0.3 is: \",mse_d3_des_1)\r\n",
        "print(\"Mean of Square Errors for alpha = 0.5,beta= 0.6 is: \",mse_d3_des_2)\r\n",
        "print(\"Mean of Square Errors for alpha = 0.8,beta= 0.9 is: \",mse_d3_des_3)"
      ],
      "execution_count": 175,
      "outputs": [
        {
          "output_type": "stream",
          "text": [
            "Mean of Square Errors for alpha = 0.2,beta= 0.3 is:  151.67853468685516\n",
            "Mean of Square Errors for alpha = 0.5,beta= 0.6 is:  195.39356022293302\n",
            "Mean of Square Errors for alpha = 0.8,beta= 0.9 is:  223.54376688653625\n"
          ],
          "name": "stdout"
        }
      ]
    },
    {
      "cell_type": "code",
      "metadata": {
        "colab": {
          "base_uri": "https://localhost:8080/",
          "height": 300
        },
        "id": "X_jmBAZwTmRJ",
        "outputId": "9f70d260-4c68-4678-cf6f-8272157290e2"
      },
      "source": [
        "d3_des_1={'Demand':demand,'Forecast':forecast_d3_des_1}\r\n",
        "d3_des_2={'Demand':demand,'Forecast':forecast_d3_des_2}\r\n",
        "d3_des_3={'Demand':demand,'Forecast':forecast_d3_des_3}\r\n",
        "\r\n",
        "df1=pd.DataFrame(d3_des_1)\r\n",
        "df2=pd.DataFrame(d3_des_2)\r\n",
        "df3=pd.DataFrame(d3_des_3)\r\n",
        "\r\n",
        "if mse_d3_des_1<=mse_d3_des_2 and mse_d3_des_1<=mse_d3_des_3:\r\n",
        "  print('alpha: ',alpha1)\r\n",
        "  print('beta: ',beta1)\r\n",
        "  df1.plot()\r\n",
        "elif mse_d3_des_2<=mse_d3_des_1 and mse_d3_des_2<=mse_d3_des_3:\r\n",
        "  print('alpha: ',alpha2)\r\n",
        "  print('beta: ',beta2)\r\n",
        "  df2.plot(style=['-','-'])\r\n",
        "else:\r\n",
        "  print('alpha: ',alpha3)\r\n",
        "  print('beta: ',beta3)\r\n",
        "  df3.plot(style=['-','-'])"
      ],
      "execution_count": 176,
      "outputs": [
        {
          "output_type": "stream",
          "text": [
            "alpha:  0.2\n",
            "beta:  0.3\n"
          ],
          "name": "stdout"
        },
        {
          "output_type": "display_data",
          "data": {
            "image/png": "[encoded data removed]",
            "text/plain": [
              "<Figure size 432x288 with 1 Axes>"
            ]
          },
          "metadata": {
            "tags": [],
            "needs_background": "light"
          }
        }
      ]
    },
    {
      "cell_type": "markdown",
      "metadata": {
        "id": "wtoddjk9DnLN"
      },
      "source": [
        "\r\n",
        "\r\n",
        "---\r\n",
        "\r\n"
      ]
    },
    {
      "cell_type": "markdown",
      "metadata": {
        "id": "6D6Yzn0mEV8g"
      },
      "source": [
        "Tabulating Intervals and least MSE"
      ]
    },
    {
      "cell_type": "code",
      "metadata": {
        "colab": {
          "base_uri": "https://localhost:8080/"
        },
        "id": "HyruDq68_En6",
        "outputId": "0e04c852-a5a5-4e2b-9b73-42a9c5f0cfeb"
      },
      "source": [
        "from tabulate import tabulate\r\n",
        "print(tabulate([['1 month',  1667.7938756614267], ['2 month',  2707.9585065196134],['4 month',  585.1326589888236],['8 month', 816.1088770802985],['12 month', 202.5468582281123],['24 month', 151.67853468685516]], headers=['Intervals', 'Least MSE'], tablefmt='grid'))"
      ],
      "execution_count": 177,
      "outputs": [
        {
          "output_type": "stream",
          "text": [
            "+-------------+-------------+\n",
            "| Intervals   |   Least MSE |\n",
            "+=============+=============+\n",
            "| 1 month     |    1667.79  |\n",
            "+-------------+-------------+\n",
            "| 2 month     |    2707.96  |\n",
            "+-------------+-------------+\n",
            "| 4 month     |     585.133 |\n",
            "+-------------+-------------+\n",
            "| 8 month     |     816.109 |\n",
            "+-------------+-------------+\n",
            "| 12 month    |     202.547 |\n",
            "+-------------+-------------+\n",
            "| 24 month    |     151.679 |\n",
            "+-------------+-------------+\n"
          ],
          "name": "stdout"
        }
      ]
    },
    {
      "cell_type": "markdown",
      "metadata": {
        "id": "kAfqx-beEV8z"
      },
      "source": [
        "Plotting MSE for Constructed Table"
      ]
    },
    {
      "cell_type": "code",
      "metadata": {
        "colab": {
          "base_uri": "https://localhost:8080/",
          "height": 309
        },
        "id": "LKBh4OBE_En7",
        "outputId": "43f91e6d-cbd6-471e-85c1-c040ed09edb1"
      },
      "source": [
        "import matplotlib.pyplot as plt\r\n",
        "plt.scatter(['1 month','2 month','4 month','8 month','12 month','24 month'], [1667.79 ,2707.96   ,585.133  ,816.109   , 202.547  ,151.679 ],c='r')\r\n",
        "plt.title('Least MSE for different intervals for Double Exponential Smoothening Function',pad=20)\r\n",
        "plt.xlabel('Intervals')\r\n",
        "plt.ylabel('Least MSE of predicted for each interval')\r\n",
        "plt.show()"
      ],
      "execution_count": 178,
      "outputs": [
        {
          "output_type": "display_data",
          "data": {
            "image/png": "[encoded data removed]",
            "text/plain": [
              "<Figure size 432x288 with 1 Axes>"
            ]
          },
          "metadata": {
            "tags": [],
            "needs_background": "light"
          }
        }
      ]
    },
    {
      "cell_type": "markdown",
      "metadata": {
        "id": "ks647T13orj4"
      },
      "source": [
        "\r\n",
        "\r\n",
        "---\r\n",
        "\r\n"
      ]
    },
    {
      "cell_type": "markdown",
      "metadata": {
        "id": "rZ2K8v-UouRe"
      },
      "source": [
        "For Triple Exponential Smoothening"
      ]
    },
    {
      "cell_type": "markdown",
      "metadata": {
        "id": "uknUu9OPo5Qd"
      },
      "source": [
        "1. For interval of 1 month"
      ]
    },
    {
      "cell_type": "code",
      "metadata": {
        "id": "s-OkgTgBo3g8"
      },
      "source": [
        "#Creating demand list in 'n' intervals\r\n",
        "demand=dem_n(data['Passengers'],1)"
      ],
      "execution_count": 179,
      "outputs": []
    },
    {
      "cell_type": "code",
      "metadata": {
        "id": "15pfcIoGo3g9"
      },
      "source": [
        "#Forecasting\r\n",
        "alpha1=0.2\r\n",
        "alpha2=0.5\r\n",
        "alpha3=0.8\r\n",
        "\r\n",
        "beta1=0.3\r\n",
        "beta2=0.6\r\n",
        "beta3=0.9\r\n",
        "\r\n",
        "gamma1=0.4\r\n",
        "gamma2=0.7\r\n",
        "gamma3=0.95\r\n",
        "\r\n",
        "#Considering season of 12 months here\r\n",
        "\r\n",
        "forecast_d3_tes_1=tes(demand,12,alpha1,beta1,gamma1,0)\r\n",
        "forecast_d3_tes_2=tes(demand,12,alpha2,beta2,gamma2,0)\r\n",
        "forecast_d3_tes_3=tes(demand,12,alpha3,beta3,gamma3,0)"
      ],
      "execution_count": 180,
      "outputs": []
    },
    {
      "cell_type": "code",
      "metadata": {
        "colab": {
          "base_uri": "https://localhost:8080/"
        },
        "id": "J00Wdvqdo3g-",
        "outputId": "cd6a4001-16a6-4018-e805-b5f4e89cc0ed"
      },
      "source": [
        "mse_d3_tes_1=mean_squared_error(demand,forecast_d3_tes_1)\r\n",
        "mse_d3_tes_2=mean_squared_error(demand,forecast_d3_tes_2)\r\n",
        "mse_d3_tes_3=mean_squared_error(demand,forecast_d3_tes_3)\r\n",
        "\r\n",
        "print(\"Mean of Square Errors for alpha = 0.2,beta= 0.3 gamma=0.4 is: \",mse_d3_tes_1)\r\n",
        "print(\"Mean of Square Errors for alpha = 0.5,beta= 0.6 gamma=0.7 is: \",mse_d3_tes_2)\r\n",
        "print(\"Mean of Square Errors for alpha = 0.8,beta= 0.9 gamma=0.95 is: \",mse_d3_tes_3)"
      ],
      "execution_count": 181,
      "outputs": [
        {
          "output_type": "stream",
          "text": [
            "Mean of Square Errors for alpha = 0.2,beta= 0.3 gamma=0.4 is:  118.90281904729369\n",
            "Mean of Square Errors for alpha = 0.5,beta= 0.6 gamma=0.7 is:  1407.183862202787\n",
            "Mean of Square Errors for alpha = 0.8,beta= 0.9 gamma=0.95 is:  471.3980990927143\n"
          ],
          "name": "stdout"
        }
      ]
    },
    {
      "cell_type": "code",
      "metadata": {
        "colab": {
          "base_uri": "https://localhost:8080/",
          "height": 317
        },
        "id": "eV1Cs1gyo3g_",
        "outputId": "652a1836-faa8-4e5d-c027-b16094fac3d9"
      },
      "source": [
        "d3_tes_1={'Demand':demand,'Forecast':forecast_d3_tes_1}\r\n",
        "d3_tes_2={'Demand':demand,'Forecast':forecast_d3_tes_2}\r\n",
        "d3_tes_3={'Demand':demand,'Forecast':forecast_d3_tes_3}\r\n",
        "\r\n",
        "df1=pd.DataFrame(d3_tes_1)\r\n",
        "df2=pd.DataFrame(d3_tes_2)\r\n",
        "df3=pd.DataFrame(d3_tes_3)\r\n",
        "\r\n",
        "if mse_d3_tes_1<=mse_d3_tes_2 and mse_d3_tes_1<=mse_d3_tes_3:\r\n",
        "  print('alpha: ',alpha1)\r\n",
        "  print('beta: ',beta1)\r\n",
        "  print('gamma: ',gamma1)\r\n",
        "  df1.plot(style=['-','-'])\r\n",
        "elif mse_d3_tes_2<=mse_d3_tes_1 and mse_d3_tes_2<=mse_d3_tes_3:\r\n",
        "  print('alpha: ',alpha2)\r\n",
        "  print('beta: ',beta2)\r\n",
        "  print('gamma: ',gamma2)\r\n",
        "  df2.plot(style=['-','-'])\r\n",
        "else:\r\n",
        "  print('alpha: ',alpha3)\r\n",
        "  print('beta: ',beta3)\r\n",
        "  print('gamma: ',gamma3)\r\n",
        "  df3.plot(style=['-','-'])"
      ],
      "execution_count": 182,
      "outputs": [
        {
          "output_type": "stream",
          "text": [
            "alpha:  0.2\n",
            "beta:  0.3\n",
            "gamma:  0.4\n"
          ],
          "name": "stdout"
        },
        {
          "output_type": "display_data",
          "data": {
            "image/png": "[encoded data removed]",
            "text/plain": [
              "<Figure size 432x288 with 1 Axes>"
            ]
          },
          "metadata": {
            "tags": [],
            "needs_background": "light"
          }
        }
      ]
    },
    {
      "cell_type": "markdown",
      "metadata": {
        "id": "lBSjDpG7Gfyf"
      },
      "source": [
        "For the intervals 2 months, 4 months, 8 months, 12 months, 24 months and 48 months, the triple exponential smoothening defined by me is not giving output since I have taken the season length to be 12 months. Thus while applying the triple exponential smoothening, the index is going out of bound."
      ]
    },
    {
      "cell_type": "markdown",
      "metadata": {
        "id": "jtERmHBNCDtX"
      },
      "source": [
        "\r\n",
        "---\r\n",
        "\r\n"
      ]
    },
    {
      "cell_type": "markdown",
      "metadata": {
        "id": "cwOjuCUbCOTJ"
      },
      "source": [
        "Tabulating Intervals and least MSE"
      ]
    },
    {
      "cell_type": "code",
      "metadata": {
        "colab": {
          "base_uri": "https://localhost:8080/"
        },
        "id": "a3riU3AFCEsR",
        "outputId": "ce1469e4-3ec4-48ea-a946-31797bc26f8d"
      },
      "source": [
        "from tabulate import tabulate\r\n",
        "print(tabulate([['1 month', 118.90281904729369]], headers=['Intervals', 'Least MSE'], tablefmt='grid'))"
      ],
      "execution_count": 183,
      "outputs": [
        {
          "output_type": "stream",
          "text": [
            "+-------------+-------------+\n",
            "| Intervals   |   Least MSE |\n",
            "+=============+=============+\n",
            "| 1 month     |     118.903 |\n",
            "+-------------+-------------+\n"
          ],
          "name": "stdout"
        }
      ]
    },
    {
      "cell_type": "markdown",
      "metadata": {
        "id": "7NkcmzGaCOTK"
      },
      "source": [
        "Plotting MSE for Constructed Table"
      ]
    },
    {
      "cell_type": "code",
      "metadata": {
        "colab": {
          "base_uri": "https://localhost:8080/",
          "height": 309
        },
        "id": "2nHv75IBCEsU",
        "outputId": "5d3003f3-e595-4854-922f-215ee8d22633"
      },
      "source": [
        "import matplotlib.pyplot as plt\r\n",
        "plt.scatter(['1 month'], [118.90281904729369],c='r')\r\n",
        "plt.title('Least MSE for different intervals for Triple Exponential Smoothening Function',pad=20)\r\n",
        "plt.xlabel('Intervals')\r\n",
        "plt.ylabel('Least MSE of predicted for each interval')\r\n",
        "plt.show()"
      ],
      "execution_count": 184,
      "outputs": [
        {
          "output_type": "display_data",
          "data": {
            "image/png": "[encoded data removed]",
            "text/plain": [
              "<Figure size 432x288 with 1 Axes>"
            ]
          },
          "metadata": {
            "tags": [],
            "needs_background": "light"
          }
        }
      ]
    },
    {
      "cell_type": "markdown",
      "metadata": {
        "id": "yyEN4kGXY4Me"
      },
      "source": [
        "\r\n",
        "\r\n",
        "---\r\n",
        "\r\n",
        "\r\n",
        "---\r\n",
        "\r\n",
        "---\r\n",
        "\r\n",
        "\r\n",
        "\r\n"
      ]
    },
    {
      "cell_type": "markdown",
      "metadata": {
        "id": "Su6MJS_3uv2M"
      },
      "source": [
        "Converting to proper date and time format"
      ]
    },
    {
      "cell_type": "code",
      "metadata": {
        "id": "SnQFBkQgu24G"
      },
      "source": [
        "data['Month']= pd.to_datetime(data['Month'])\r\n",
        "data"
      ],
      "execution_count": null,
      "outputs": []
    },
    {
      "cell_type": "markdown",
      "metadata": {
        "id": "T3CjuMoNY_cG"
      },
      "source": [
        "\r\n",
        "\r\n",
        "---\r\n",
        "\r\n"
      ]
    },
    {
      "cell_type": "markdown",
      "metadata": {
        "id": "WxDdBXNCX4zE"
      },
      "source": [
        "Calculating Seasonality Index"
      ]
    },
    {
      "cell_type": "code",
      "metadata": {
        "id": "9W-MFbtpX5jx"
      },
      "source": [
        "def s_index(arr,s_len):\r\n",
        "  s_index = {}\r\n",
        "  s_sum = []\r\n",
        "  n_season = (len(arr)//s_len)\r\n",
        "  # Calculating total Passenger in each season of 12 months\r\n",
        "  for j in range(n_season):\r\n",
        "    s_sum.append(sum(arr[s_len*j:s_len*j+s_len]))\r\n",
        "    #Calculating seasonality index corresponding to each month\r\n",
        "  for i in range(s_len):\r\n",
        "    sum_over_avg = 0.0\r\n",
        "    for j in range(n_season):\r\n",
        "      sum_over_avg += (arr[s_len*j+i])/s_sum[j]\r\n",
        "    s_index[i] = sum_over_avg/n_season\r\n",
        "  return s_index\r\n"
      ],
      "execution_count": 200,
      "outputs": []
    },
    {
      "cell_type": "code",
      "metadata": {
        "colab": {
          "base_uri": "https://localhost:8080/"
        },
        "id": "LNqKHd91ZNqo",
        "outputId": "574c4018-6f99-4847-dd4b-e88f4935e682"
      },
      "source": [
        "s_indexes=s_index(data.iloc[:,1],s_len=12)\r\n",
        "print(\"Seasonality Index for each month are:\\n\")\r\n",
        "s_indexes"
      ],
      "execution_count": 211,
      "outputs": [
        {
          "output_type": "stream",
          "text": [
            "Seasonality Index for each month are:\n",
            "\n"
          ],
          "name": "stdout"
        },
        {
          "output_type": "execute_result",
          "data": {
            "text/plain": [
              "{0: 0.07176116094655523,\n",
              " 1: 0.07098923031905428,\n",
              " 2: 0.0816665037416323,\n",
              " 3: 0.07991386093095403,\n",
              " 4: 0.08051922848687808,\n",
              " 5: 0.09188501337994531,\n",
              " 6: 0.1030300255071956,\n",
              " 7: 0.1030912872888175,\n",
              " 8: 0.09006508649349365,\n",
              " 9: 0.07922942021208379,\n",
              " 10: 0.069332075926494,\n",
              " 11: 0.07851710676689629}"
            ]
          },
          "metadata": {
            "tags": []
          },
          "execution_count": 211
        }
      ]
    },
    {
      "cell_type": "markdown",
      "metadata": {
        "id": "VCf73hu3DdFq"
      },
      "source": [
        "\r\n",
        "\r\n",
        "---\r\n",
        "\r\n",
        "---\r\n",
        "\r\n",
        "---\r\n",
        "\r\n",
        "\r\n",
        "\r\n",
        "\r\n",
        "\r\n"
      ]
    },
    {
      "cell_type": "markdown",
      "metadata": {
        "id": "jCGXoKuEafCi"
      },
      "source": [
        "Predicting the futuristic 24 months"
      ]
    },
    {
      "cell_type": "code",
      "metadata": {
        "id": "6eKkTdxNawuO"
      },
      "source": [
        "# Importing the dataset\r\n",
        "data_for_prediction = pd.read_csv('D3.csv')"
      ],
      "execution_count": 213,
      "outputs": []
    },
    {
      "cell_type": "markdown",
      "metadata": {
        "id": "4v9KMqKO-Ihb"
      },
      "source": [
        "Since MSE is minimum for aplha=0.2, beta=0.3, gamma=0.4, and Triple Exponential Smoothening gives the best result therefore we predict the futuristic 24 months for these parameters and using Triple Exponential Smoothening"
      ]
    },
    {
      "cell_type": "code",
      "metadata": {
        "colab": {
          "base_uri": "https://localhost:8080/",
          "height": 265
        },
        "id": "Rh4b0Q_Bawud",
        "outputId": "25b45b9e-c61c-4b58-9c56-e75f0b5ded26"
      },
      "source": [
        "forecast_24_month=tes(data_for_prediction.Passengers,12,alpha1,beta1,gamma1,24)\r\n",
        "plt.plot(data_for_prediction.Passengers)\r\n",
        "plt.plot(forecast_24_month)\r\n",
        "plt.legend([\"passengers\", \"forecast\"])\r\n",
        "plt.show()"
      ],
      "execution_count": 214,
      "outputs": [
        {
          "output_type": "display_data",
          "data": {
            "image/png": "[encoded data removed]",
            "text/plain": [
              "<Figure size 432x288 with 1 Axes>"
            ]
          },
          "metadata": {
            "tags": [],
            "needs_background": "light"
          }
        }
      ]
    },
    {
      "cell_type": "markdown",
      "metadata": {
        "id": "yo_uRzdyadEO"
      },
      "source": [
        "\r\n",
        "\r\n",
        "---\r\n",
        "\r\n",
        "---\r\n",
        "\r\n",
        "---\r\n",
        "\r\n",
        "\r\n",
        "\r\n",
        "\r\n",
        "\r\n"
      ]
    },
    {
      "cell_type": "markdown",
      "metadata": {
        "id": "8nS0jLqFDehK"
      },
      "source": [
        "**Forecasting with inbuilt function**"
      ]
    },
    {
      "cell_type": "code",
      "metadata": {
        "id": "n1eLgi88QGpZ"
      },
      "source": [
        "data_for_inbuilt=pd.read_csv('D3.csv')"
      ],
      "execution_count": 185,
      "outputs": []
    },
    {
      "cell_type": "markdown",
      "metadata": {
        "id": "udG6Hk7BTXmX"
      },
      "source": [
        "Forecast for Single Exponential Smoothening"
      ]
    },
    {
      "cell_type": "code",
      "metadata": {
        "colab": {
          "base_uri": "https://localhost:8080/",
          "height": 415
        },
        "id": "s9oS8VHCgAMq",
        "outputId": "83187225-e257-454d-c2b3-e5f594bc5ced"
      },
      "source": [
        "from statsmodels.tsa.holtwinters import SimpleExpSmoothing\r\n",
        "\r\n",
        "data_for_inbuilt['SES']=SimpleExpSmoothing(data_for_inbuilt['Passengers']).fit(smoothing_level=0.8,optimized=False).fittedvalues.shift(0)\r\n",
        "data_for_inbuilt"
      ],
      "execution_count": 186,
      "outputs": [
        {
          "output_type": "execute_result",
          "data": {
            "text/html": [
              "<div>\n",
              "<style scoped>\n",
              "    .dataframe tbody tr th:only-of-type {\n",
              "        vertical-align: middle;\n",
              "    }\n",
              "\n",
              "    .dataframe tbody tr th {\n",
              "        vertical-align: top;\n",
              "    }\n",
              "\n",
              "    .dataframe thead th {\n",
              "        text-align: right;\n",
              "    }\n",
              "</style>\n",
              "<table border=\"1\" class=\"dataframe\">\n",
              "  <thead>\n",
              "    <tr style=\"text-align: right;\">\n",
              "      <th></th>\n",
              "      <th>Month</th>\n",
              "      <th>Passengers</th>\n",
              "      <th>SES</th>\n",
              "    </tr>\n",
              "  </thead>\n",
              "  <tbody>\n",
              "    <tr>\n",
              "      <th>0</th>\n",
              "      <td>1949-01</td>\n",
              "      <td>112</td>\n",
              "      <td>112.000000</td>\n",
              "    </tr>\n",
              "    <tr>\n",
              "      <th>1</th>\n",
              "      <td>1949-02</td>\n",
              "      <td>118</td>\n",
              "      <td>112.000000</td>\n",
              "    </tr>\n",
              "    <tr>\n",
              "      <th>2</th>\n",
              "      <td>1949-03</td>\n",
              "      <td>132</td>\n",
              "      <td>116.800000</td>\n",
              "    </tr>\n",
              "    <tr>\n",
              "      <th>3</th>\n",
              "      <td>1949-04</td>\n",
              "      <td>129</td>\n",
              "      <td>128.960000</td>\n",
              "    </tr>\n",
              "    <tr>\n",
              "      <th>4</th>\n",
              "      <td>1949-05</td>\n",
              "      <td>121</td>\n",
              "      <td>128.992000</td>\n",
              "    </tr>\n",
              "    <tr>\n",
              "      <th>...</th>\n",
              "      <td>...</td>\n",
              "      <td>...</td>\n",
              "      <td>...</td>\n",
              "    </tr>\n",
              "    <tr>\n",
              "      <th>139</th>\n",
              "      <td>1960-08</td>\n",
              "      <td>606</td>\n",
              "      <td>601.917271</td>\n",
              "    </tr>\n",
              "    <tr>\n",
              "      <th>140</th>\n",
              "      <td>1960-09</td>\n",
              "      <td>508</td>\n",
              "      <td>605.183454</td>\n",
              "    </tr>\n",
              "    <tr>\n",
              "      <th>141</th>\n",
              "      <td>1960-10</td>\n",
              "      <td>461</td>\n",
              "      <td>527.436691</td>\n",
              "    </tr>\n",
              "    <tr>\n",
              "      <th>142</th>\n",
              "      <td>1960-11</td>\n",
              "      <td>390</td>\n",
              "      <td>474.287338</td>\n",
              "    </tr>\n",
              "    <tr>\n",
              "      <th>143</th>\n",
              "      <td>1960-12</td>\n",
              "      <td>432</td>\n",
              "      <td>406.857468</td>\n",
              "    </tr>\n",
              "  </tbody>\n",
              "</table>\n",
              "<p>144 rows × 3 columns</p>\n",
              "</div>"
            ],
            "text/plain": [
              "       Month  Passengers         SES\n",
              "0    1949-01         112  112.000000\n",
              "1    1949-02         118  112.000000\n",
              "2    1949-03         132  116.800000\n",
              "3    1949-04         129  128.960000\n",
              "4    1949-05         121  128.992000\n",
              "..       ...         ...         ...\n",
              "139  1960-08         606  601.917271\n",
              "140  1960-09         508  605.183454\n",
              "141  1960-10         461  527.436691\n",
              "142  1960-11         390  474.287338\n",
              "143  1960-12         432  406.857468\n",
              "\n",
              "[144 rows x 3 columns]"
            ]
          },
          "metadata": {
            "tags": []
          },
          "execution_count": 186
        }
      ]
    },
    {
      "cell_type": "markdown",
      "metadata": {
        "id": "8UbCESE10SId"
      },
      "source": [
        "Comparing between my implementation and inbuilt function output"
      ]
    },
    {
      "cell_type": "code",
      "metadata": {
        "id": "KjusDzTN0ZXG"
      },
      "source": [
        "#Creating demand list in 'n' intervals\r\n",
        "demand=dem_n(data['Passengers'],1)"
      ],
      "execution_count": 187,
      "outputs": []
    },
    {
      "cell_type": "code",
      "metadata": {
        "id": "Yr2uIvOS0ZXG"
      },
      "source": [
        "#Forecasting\r\n",
        "alpha=0.8\r\n",
        "forecast_d3_ses=ses(demand,alpha)"
      ],
      "execution_count": 188,
      "outputs": []
    },
    {
      "cell_type": "code",
      "metadata": {
        "id": "Q5FAFpwCzyVa"
      },
      "source": [
        "my_mse=mean_squared_error(demand,forecast_d3_ses)\r\n",
        "inbuilt_mse=mean_squared_error(data_for_inbuilt['Passengers'],data_for_inbuilt.SES)"
      ],
      "execution_count": 189,
      "outputs": []
    },
    {
      "cell_type": "code",
      "metadata": {
        "colab": {
          "base_uri": "https://localhost:8080/"
        },
        "id": "2RXGJGRB1IOX",
        "outputId": "f3241f8a-e4cb-4ac9-ab7f-3006ac95b1fc"
      },
      "source": [
        "#Calculating error between my implementation and inbuilt function\r\n",
        "error=(inbuilt_mse-my_mse)/inbuilt_mse*100\r\n",
        "print(\"Precentage error between my implementation and inbuilt function output is: \",error,\"%\")"
      ],
      "execution_count": 190,
      "outputs": [
        {
          "output_type": "stream",
          "text": [
            "Precentage error between my implementation and inbuilt function output is:  0.0 %\n"
          ],
          "name": "stdout"
        }
      ]
    },
    {
      "cell_type": "markdown",
      "metadata": {
        "id": "ml4txWHQTgGy"
      },
      "source": [
        "Forecast for Double Exponential Smoothening"
      ]
    },
    {
      "cell_type": "code",
      "metadata": {
        "colab": {
          "base_uri": "https://localhost:8080/",
          "height": 415
        },
        "id": "5TLQK8A48O8y",
        "outputId": "bb0f2b81-6cc8-42d4-d360-bb0ae8e82dd0"
      },
      "source": [
        "from statsmodels.tsa.holtwinters import Holt\r\n",
        "\r\n",
        "data_for_inbuilt['DES'] = Holt(data_for_inbuilt['Passengers']).fit(smoothing_level=0.2, smoothing_slope=0.3).fittedvalues.shift(0)\r\n",
        "\r\n",
        "data_for_inbuilt"
      ],
      "execution_count": 191,
      "outputs": [
        {
          "output_type": "execute_result",
          "data": {
            "text/html": [
              "<div>\n",
              "<style scoped>\n",
              "    .dataframe tbody tr th:only-of-type {\n",
              "        vertical-align: middle;\n",
              "    }\n",
              "\n",
              "    .dataframe tbody tr th {\n",
              "        vertical-align: top;\n",
              "    }\n",
              "\n",
              "    .dataframe thead th {\n",
              "        text-align: right;\n",
              "    }\n",
              "</style>\n",
              "<table border=\"1\" class=\"dataframe\">\n",
              "  <thead>\n",
              "    <tr style=\"text-align: right;\">\n",
              "      <th></th>\n",
              "      <th>Month</th>\n",
              "      <th>Passengers</th>\n",
              "      <th>SES</th>\n",
              "      <th>DES</th>\n",
              "    </tr>\n",
              "  </thead>\n",
              "  <tbody>\n",
              "    <tr>\n",
              "      <th>0</th>\n",
              "      <td>1949-01</td>\n",
              "      <td>112</td>\n",
              "      <td>112.000000</td>\n",
              "      <td>118.000000</td>\n",
              "    </tr>\n",
              "    <tr>\n",
              "      <th>1</th>\n",
              "      <td>1949-02</td>\n",
              "      <td>118</td>\n",
              "      <td>112.000000</td>\n",
              "      <td>122.440000</td>\n",
              "    </tr>\n",
              "    <tr>\n",
              "      <th>2</th>\n",
              "      <td>1949-03</td>\n",
              "      <td>132</td>\n",
              "      <td>116.800000</td>\n",
              "      <td>126.925600</td>\n",
              "    </tr>\n",
              "    <tr>\n",
              "      <th>3</th>\n",
              "      <td>1949-04</td>\n",
              "      <td>129</td>\n",
              "      <td>128.960000</td>\n",
              "      <td>133.618544</td>\n",
              "    </tr>\n",
              "    <tr>\n",
              "      <th>4</th>\n",
              "      <td>1949-05</td>\n",
              "      <td>121</td>\n",
              "      <td>128.992000</td>\n",
              "      <td>138.095787</td>\n",
              "    </tr>\n",
              "    <tr>\n",
              "      <th>...</th>\n",
              "      <td>...</td>\n",
              "      <td>...</td>\n",
              "      <td>...</td>\n",
              "      <td>...</td>\n",
              "    </tr>\n",
              "    <tr>\n",
              "      <th>139</th>\n",
              "      <td>1960-08</td>\n",
              "      <td>606</td>\n",
              "      <td>601.917271</td>\n",
              "      <td>506.298185</td>\n",
              "    </tr>\n",
              "    <tr>\n",
              "      <th>140</th>\n",
              "      <td>1960-09</td>\n",
              "      <td>508</td>\n",
              "      <td>605.183454</td>\n",
              "      <td>546.419387</td>\n",
              "    </tr>\n",
              "    <tr>\n",
              "      <th>141</th>\n",
              "      <td>1960-10</td>\n",
              "      <td>461</td>\n",
              "      <td>527.436691</td>\n",
              "      <td>556.611186</td>\n",
              "    </tr>\n",
              "    <tr>\n",
              "      <th>142</th>\n",
              "      <td>1960-11</td>\n",
              "      <td>390</td>\n",
              "      <td>474.287338</td>\n",
              "      <td>549.627954</td>\n",
              "    </tr>\n",
              "    <tr>\n",
              "      <th>143</th>\n",
              "      <td>1960-12</td>\n",
              "      <td>432</td>\n",
              "      <td>406.857468</td>\n",
              "      <td>520.263691</td>\n",
              "    </tr>\n",
              "  </tbody>\n",
              "</table>\n",
              "<p>144 rows × 4 columns</p>\n",
              "</div>"
            ],
            "text/plain": [
              "       Month  Passengers         SES         DES\n",
              "0    1949-01         112  112.000000  118.000000\n",
              "1    1949-02         118  112.000000  122.440000\n",
              "2    1949-03         132  116.800000  126.925600\n",
              "3    1949-04         129  128.960000  133.618544\n",
              "4    1949-05         121  128.992000  138.095787\n",
              "..       ...         ...         ...         ...\n",
              "139  1960-08         606  601.917271  506.298185\n",
              "140  1960-09         508  605.183454  546.419387\n",
              "141  1960-10         461  527.436691  556.611186\n",
              "142  1960-11         390  474.287338  549.627954\n",
              "143  1960-12         432  406.857468  520.263691\n",
              "\n",
              "[144 rows x 4 columns]"
            ]
          },
          "metadata": {
            "tags": []
          },
          "execution_count": 191
        }
      ]
    },
    {
      "cell_type": "markdown",
      "metadata": {
        "id": "W7rRQZ461rKU"
      },
      "source": [
        "Comparing between my implementation and inbuilt function output"
      ]
    },
    {
      "cell_type": "code",
      "metadata": {
        "id": "Fdn5SQSH1mk7"
      },
      "source": [
        "#Forecasting\r\n",
        "alpha=0.2\r\n",
        "beta=0.3\r\n",
        "forecast_d3_des=des(demand,alpha,beta)"
      ],
      "execution_count": 192,
      "outputs": []
    },
    {
      "cell_type": "code",
      "metadata": {
        "id": "KE-Ey0Sz1mlB"
      },
      "source": [
        "my_mse=mean_squared_error(demand,forecast_d3_des)\r\n",
        "inbuilt_mse=mean_squared_error(data_for_inbuilt['Passengers'],data_for_inbuilt.DES)"
      ],
      "execution_count": 193,
      "outputs": []
    },
    {
      "cell_type": "code",
      "metadata": {
        "colab": {
          "base_uri": "https://localhost:8080/"
        },
        "id": "3aDdNbRv1mlB",
        "outputId": "45177b86-6e4a-4924-af55-40b36e61f885"
      },
      "source": [
        "#Calculating error between my implementation and inbuilt function\r\n",
        "error=(inbuilt_mse-my_mse)/inbuilt_mse*100\r\n",
        "print(\"Precentage error between my implementation and inbuilt function output is: \",error,\"%\")"
      ],
      "execution_count": 194,
      "outputs": [
        {
          "output_type": "stream",
          "text": [
            "Precentage error between my implementation and inbuilt function output is:  0.18433957671177148 %\n"
          ],
          "name": "stdout"
        }
      ]
    },
    {
      "cell_type": "markdown",
      "metadata": {
        "id": "zkFFAFErTiT7"
      },
      "source": [
        "Forecast for Triple Exponential Smoothening"
      ]
    },
    {
      "cell_type": "code",
      "metadata": {
        "colab": {
          "base_uri": "https://localhost:8080/",
          "height": 415
        },
        "id": "b-D_yAok9dC9",
        "outputId": "4b464967-a4f6-4e79-e63a-068731746f37"
      },
      "source": [
        "from statsmodels.tsa.holtwinters import ExponentialSmoothing\r\n",
        "\r\n",
        "data_for_inbuilt['TES'] = ExponentialSmoothing(data_for_inbuilt['Passengers']).fit(smoothing_level=0.5, smoothing_slope=0.6,smoothing_seasonal=0.7).fittedvalues.shift(0)\r\n",
        "data_for_inbuilt\r\n"
      ],
      "execution_count": 195,
      "outputs": [
        {
          "output_type": "execute_result",
          "data": {
            "text/html": [
              "<div>\n",
              "<style scoped>\n",
              "    .dataframe tbody tr th:only-of-type {\n",
              "        vertical-align: middle;\n",
              "    }\n",
              "\n",
              "    .dataframe tbody tr th {\n",
              "        vertical-align: top;\n",
              "    }\n",
              "\n",
              "    .dataframe thead th {\n",
              "        text-align: right;\n",
              "    }\n",
              "</style>\n",
              "<table border=\"1\" class=\"dataframe\">\n",
              "  <thead>\n",
              "    <tr style=\"text-align: right;\">\n",
              "      <th></th>\n",
              "      <th>Month</th>\n",
              "      <th>Passengers</th>\n",
              "      <th>SES</th>\n",
              "      <th>DES</th>\n",
              "      <th>TES</th>\n",
              "    </tr>\n",
              "  </thead>\n",
              "  <tbody>\n",
              "    <tr>\n",
              "      <th>0</th>\n",
              "      <td>1949-01</td>\n",
              "      <td>112</td>\n",
              "      <td>112.000000</td>\n",
              "      <td>118.000000</td>\n",
              "      <td>118.179040</td>\n",
              "    </tr>\n",
              "    <tr>\n",
              "      <th>1</th>\n",
              "      <td>1949-02</td>\n",
              "      <td>118</td>\n",
              "      <td>112.000000</td>\n",
              "      <td>122.440000</td>\n",
              "      <td>115.089520</td>\n",
              "    </tr>\n",
              "    <tr>\n",
              "      <th>2</th>\n",
              "      <td>1949-03</td>\n",
              "      <td>132</td>\n",
              "      <td>116.800000</td>\n",
              "      <td>126.925600</td>\n",
              "      <td>116.544760</td>\n",
              "    </tr>\n",
              "    <tr>\n",
              "      <th>3</th>\n",
              "      <td>1949-04</td>\n",
              "      <td>129</td>\n",
              "      <td>128.960000</td>\n",
              "      <td>133.618544</td>\n",
              "      <td>124.272380</td>\n",
              "    </tr>\n",
              "    <tr>\n",
              "      <th>4</th>\n",
              "      <td>1949-05</td>\n",
              "      <td>121</td>\n",
              "      <td>128.992000</td>\n",
              "      <td>138.095787</td>\n",
              "      <td>126.636190</td>\n",
              "    </tr>\n",
              "    <tr>\n",
              "      <th>...</th>\n",
              "      <td>...</td>\n",
              "      <td>...</td>\n",
              "      <td>...</td>\n",
              "      <td>...</td>\n",
              "      <td>...</td>\n",
              "    </tr>\n",
              "    <tr>\n",
              "      <th>139</th>\n",
              "      <td>1960-08</td>\n",
              "      <td>606</td>\n",
              "      <td>601.917271</td>\n",
              "      <td>506.298185</td>\n",
              "      <td>558.192821</td>\n",
              "    </tr>\n",
              "    <tr>\n",
              "      <th>140</th>\n",
              "      <td>1960-09</td>\n",
              "      <td>508</td>\n",
              "      <td>605.183454</td>\n",
              "      <td>546.419387</td>\n",
              "      <td>582.096411</td>\n",
              "    </tr>\n",
              "    <tr>\n",
              "      <th>141</th>\n",
              "      <td>1960-10</td>\n",
              "      <td>461</td>\n",
              "      <td>527.436691</td>\n",
              "      <td>556.611186</td>\n",
              "      <td>545.048205</td>\n",
              "    </tr>\n",
              "    <tr>\n",
              "      <th>142</th>\n",
              "      <td>1960-11</td>\n",
              "      <td>390</td>\n",
              "      <td>474.287338</td>\n",
              "      <td>549.627954</td>\n",
              "      <td>503.024103</td>\n",
              "    </tr>\n",
              "    <tr>\n",
              "      <th>143</th>\n",
              "      <td>1960-12</td>\n",
              "      <td>432</td>\n",
              "      <td>406.857468</td>\n",
              "      <td>520.263691</td>\n",
              "      <td>446.512051</td>\n",
              "    </tr>\n",
              "  </tbody>\n",
              "</table>\n",
              "<p>144 rows × 5 columns</p>\n",
              "</div>"
            ],
            "text/plain": [
              "       Month  Passengers         SES         DES         TES\n",
              "0    1949-01         112  112.000000  118.000000  118.179040\n",
              "1    1949-02         118  112.000000  122.440000  115.089520\n",
              "2    1949-03         132  116.800000  126.925600  116.544760\n",
              "3    1949-04         129  128.960000  133.618544  124.272380\n",
              "4    1949-05         121  128.992000  138.095787  126.636190\n",
              "..       ...         ...         ...         ...         ...\n",
              "139  1960-08         606  601.917271  506.298185  558.192821\n",
              "140  1960-09         508  605.183454  546.419387  582.096411\n",
              "141  1960-10         461  527.436691  556.611186  545.048205\n",
              "142  1960-11         390  474.287338  549.627954  503.024103\n",
              "143  1960-12         432  406.857468  520.263691  446.512051\n",
              "\n",
              "[144 rows x 5 columns]"
            ]
          },
          "metadata": {
            "tags": []
          },
          "execution_count": 195
        }
      ]
    },
    {
      "cell_type": "markdown",
      "metadata": {
        "id": "RzknTCIt2FRc"
      },
      "source": [
        "Comparing between my implementation and inbuilt function output"
      ]
    },
    {
      "cell_type": "code",
      "metadata": {
        "id": "eLnV3n9f2FRc"
      },
      "source": [
        "#Forecasting\r\n",
        "alpha=0.5\r\n",
        "beta=0.6\r\n",
        "gamma=0.7\r\n",
        "forecast_d3_tes=tes(demand,12,alpha,beta,gamma,0)"
      ],
      "execution_count": 196,
      "outputs": []
    },
    {
      "cell_type": "code",
      "metadata": {
        "id": "krG2sRXM2FRc"
      },
      "source": [
        "my_mse=mean_squared_error(demand,forecast_d3_tes)\r\n",
        "inbuilt_mse=mean_squared_error(data_for_inbuilt['Passengers'],data_for_inbuilt.TES)"
      ],
      "execution_count": 197,
      "outputs": []
    },
    {
      "cell_type": "code",
      "metadata": {
        "colab": {
          "base_uri": "https://localhost:8080/"
        },
        "id": "TSqPmByb2FRc",
        "outputId": "2cc6e91f-4753-4571-902f-f59df0aa7723"
      },
      "source": [
        "#Calculating error between my implementation and inbuilt function\r\n",
        "error=(inbuilt_mse-my_mse)/inbuilt_mse*100\r\n",
        "print(\"Precentage error between my implementation and inbuilt function output is: \",error,\"%\")"
      ],
      "execution_count": 198,
      "outputs": [
        {
          "output_type": "stream",
          "text": [
            "Precentage error between my implementation and inbuilt function output is:  18.635327511084355 %\n"
          ],
          "name": "stdout"
        }
      ]
    }
  ]
}