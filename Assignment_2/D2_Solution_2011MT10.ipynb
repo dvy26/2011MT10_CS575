{
  "nbformat": 4,
  "nbformat_minor": 0,
  "metadata": {
    "colab": {
      "name": "D2_Solution_2011MT10",
      "provenance": [],
      "collapsed_sections": []
    },
    "kernelspec": {
      "name": "python3",
      "display_name": "Python 3"
    }
  },
  "cells": [
    {
      "cell_type": "code",
      "metadata": {
        "id": "SJ0FuGPik63f"
      },
      "source": [
        "# Import package\r\n",
        "import numpy as np\r\n",
        "import pandas as pd\r\n",
        "import matplotlib.pyplot as plt\r\n",
        "import warnings \r\n",
        "from statsmodels.tsa.api import SimpleExpSmoothing\r\n",
        "from sklearn.metrics import mean_squared_error \r\n",
        "from datetime import datetime\r\n",
        "\r\n",
        "warnings.simplefilter('ignore')"
      ],
      "execution_count": 26,
      "outputs": []
    },
    {
      "cell_type": "markdown",
      "metadata": {
        "id": "8wkpep7szSKV"
      },
      "source": [
        "**Single Exponential Smoothing**"
      ]
    },
    {
      "cell_type": "code",
      "metadata": {
        "id": "1T8obIoA9OUJ"
      },
      "source": [
        "# Importing the dataset\r\n",
        "data = pd.read_csv('D2.csv')"
      ],
      "execution_count": 27,
      "outputs": []
    },
    {
      "cell_type": "code",
      "metadata": {
        "id": "iaSYixFYFa7-"
      },
      "source": [
        "#Defining Single Exponential Smoothing function ses\r\n",
        "def ses(arr,alpha):\r\n",
        "    arr1 = [arr[0]]\r\n",
        "    for i in range(1, len(arr)):\r\n",
        "        arr1.append(alpha * arr[i-1] + (1 - alpha) * arr1[i-1])\r\n",
        "    return arr1"
      ],
      "execution_count": 28,
      "outputs": []
    },
    {
      "cell_type": "code",
      "metadata": {
        "id": "WqDKrNkzXdqh"
      },
      "source": [
        "#Defining Mean of Squared Error Function mse\r\n",
        "def mse(arr1,arr2):\r\n",
        "  arr3=[0]\r\n",
        "  for i, j in zip(arr1, arr2):\r\n",
        "    arr3.append(i-j)\r\n",
        "  Sum=0\r\n",
        "  for i in arr3:\r\n",
        "    sqr=i**2\r\n",
        "    Sum+=sqr\r\n",
        "  mse=Sum/(len(arr2)-1)\r\n",
        "  return mse"
      ],
      "execution_count": 29,
      "outputs": []
    },
    {
      "cell_type": "code",
      "metadata": {
        "id": "I-Q-YepamrGH"
      },
      "source": [
        "#Function to make list of demand with interval 'n'\r\n",
        "def dem_n(arr,n):\r\n",
        "  arr1=[arr[0]]\r\n",
        "  for i in range(1,len(arr)):\r\n",
        "    if i%n==0:  \r\n",
        "      arr1.append(arr[i])\r\n",
        "  return arr1"
      ],
      "execution_count": 30,
      "outputs": []
    },
    {
      "cell_type": "code",
      "metadata": {
        "id": "SrsumhCssIOI"
      },
      "source": [
        "#Creating demand list in 'n' intervals\r\n",
        "demand=dem_n(data['Sales of shampoo over a three year period'],1)"
      ],
      "execution_count": 31,
      "outputs": []
    },
    {
      "cell_type": "code",
      "metadata": {
        "id": "GZwPqdpgcbuF"
      },
      "source": [
        "#Forecasting\r\n",
        "alpha1=0.2\r\n",
        "alpha2=0.5\r\n",
        "alpha3=0.8\r\n",
        "\r\n",
        "forecast_d2_ses_1=ses(demand,alpha1)\r\n",
        "forecast_d2_ses_2=ses(demand,alpha2)\r\n",
        "forecast_d2_ses_3=ses(demand,alpha3)"
      ],
      "execution_count": 32,
      "outputs": []
    },
    {
      "cell_type": "code",
      "metadata": {
        "colab": {
          "base_uri": "https://localhost:8080/"
        },
        "id": "Io0w2dQ7dvwH",
        "outputId": "c84a3932-c5c2-41b7-9550-b71b9dd0e57e"
      },
      "source": [
        "#Calculating Mean of Square Errors\r\n",
        "mse_d2_ses_1=mean_squared_error(demand,forecast_d2_ses_1)\r\n",
        "mse_d2_ses_2=mean_squared_error(demand,forecast_d2_ses_2)\r\n",
        "mse_d2_ses_3=mean_squared_error(demand,forecast_d2_ses_3)\r\n",
        "\r\n",
        "print(\"Mean of Square Errors for alpha = 0.2 is: \",mse_d2_ses_1)\r\n",
        "print(\"Mean of Square Errors for alpha = 0.5 is: \",mse_d2_ses_2)\r\n",
        "print(\"Mean of Square Errors for alpha = 0.8 is: \",mse_d2_ses_3)"
      ],
      "execution_count": 33,
      "outputs": [
        {
          "output_type": "stream",
          "text": [
            "Mean of Square Errors for alpha = 0.2 is:  8698.861149558394\n",
            "Mean of Square Errors for alpha = 0.5 is:  7001.245732106936\n",
            "Mean of Square Errors for alpha = 0.8 is:  8880.660902334475\n"
          ],
          "name": "stdout"
        }
      ]
    },
    {
      "cell_type": "code",
      "metadata": {
        "colab": {
          "base_uri": "https://localhost:8080/",
          "height": 283
        },
        "id": "j9hwctrYfFko",
        "outputId": "a35ff656-96b5-4255-f258-fe854a7f8579"
      },
      "source": [
        "#Comparing mse and plotting for least mse\r\n",
        "d2_ses_1={'Demand':demand,'Forecast':forecast_d2_ses_1}\r\n",
        "d2_ses_2={'Demand':demand,'Forecast':forecast_d2_ses_2}\r\n",
        "d2_ses_3={'Demand':demand,'Forecast':forecast_d2_ses_3}\r\n",
        "\r\n",
        "df1=pd.DataFrame(d2_ses_1)\r\n",
        "df2=pd.DataFrame(d2_ses_2)\r\n",
        "df3=pd.DataFrame(d2_ses_3)\r\n",
        "\r\n",
        "if mse_d2_ses_1<=mse_d2_ses_2 and mse_d2_ses_1<=mse_d2_ses_3:\r\n",
        "  print('alpha: ',alpha1)\r\n",
        "  df1.plot(style=['-','-'])\r\n",
        "elif mse_d2_ses_2<=mse_d2_ses_1 and mse_d2_ses_2<=mse_d2_ses_3:\r\n",
        "  print('alpha: ',alpha2)\r\n",
        "  df2.plot(style=['-','-'])\r\n",
        "else:\r\n",
        "  print('alpha: ',alpha3)\r\n",
        "  df3.plot(style=['-','-'])"
      ],
      "execution_count": 34,
      "outputs": [
        {
          "output_type": "stream",
          "text": [
            "alpha:  0.5\n"
          ],
          "name": "stdout"
        },
        {
          "output_type": "display_data",
          "data": {
            "image/png": "[encoded data removed]",
            "text/plain": [
              "<Figure size 432x288 with 1 Axes>"
            ]
          },
          "metadata": {
            "tags": [],
            "needs_background": "light"
          }
        }
      ]
    },
    {
      "cell_type": "markdown",
      "metadata": {
        "id": "7RXgUgIgo3vA"
      },
      "source": [
        "**Double Exponential Smoothing**"
      ]
    },
    {
      "cell_type": "code",
      "metadata": {
        "id": "mqw1s40ePOB0"
      },
      "source": [
        "#Defining Double Exponential Smoothing function des\r\n",
        "def des(arr,alpha,beta):\r\n",
        "  a=[arr[0]]\r\n",
        "  l=len(arr)\r\n",
        "  b=[(arr[l-1]-arr[0])/(l-1)]\r\n",
        "  arr1 = [arr[0]]\r\n",
        "  arr1.append(a[0]+b[0])\r\n",
        "  for i in range(1,len(arr)-1):\r\n",
        "      a.append(alpha * arr[i] + (1 - alpha) * (a[i-1]+b[i-1]))\r\n",
        "      b.append(beta * (a[i]-a[i-1]) + (1 - beta) * (b[i-1]))        \r\n",
        "      arr1.append(a[i]+b[i])\r\n",
        "  return arr1"
      ],
      "execution_count": 35,
      "outputs": []
    },
    {
      "cell_type": "code",
      "metadata": {
        "id": "TgR6dYUYux6f"
      },
      "source": [
        "#Creating demand list in 'n' intervals\r\n",
        "demand=dem_n(data['Sales of shampoo over a three year period'],1)"
      ],
      "execution_count": 36,
      "outputs": []
    },
    {
      "cell_type": "code",
      "metadata": {
        "id": "7rPm77U7g1nE"
      },
      "source": [
        "#Forecasting\r\n",
        "alpha1=0.2\r\n",
        "alpha2=0.5\r\n",
        "alpha3=0.8\r\n",
        "\r\n",
        "beta1=0.3\r\n",
        "beta2=0.6\r\n",
        "beta3=0.9\r\n",
        "\r\n",
        "forecast_d2_des_1=des(demand,alpha1,beta1)\r\n",
        "forecast_d2_des_2=des(demand,alpha2,beta2)\r\n",
        "forecast_d2_des_3=des(demand,alpha3,beta3)"
      ],
      "execution_count": 37,
      "outputs": []
    },
    {
      "cell_type": "code",
      "metadata": {
        "colab": {
          "base_uri": "https://localhost:8080/"
        },
        "id": "YPIb0UzVk4RH",
        "outputId": "8b827dbd-1935-490e-ff3d-9b53d0b7480d"
      },
      "source": [
        "#Calculating Mean of Square Errors\r\n",
        "mse_d2_des_1=mean_squared_error(demand,forecast_d2_des_1)\r\n",
        "mse_d2_des_2=mean_squared_error(demand,forecast_d2_des_2)\r\n",
        "mse_d2_des_3=mean_squared_error(demand,forecast_d2_des_3)\r\n",
        "\r\n",
        "print(\"Mean of Square Errors for alpha = 0.2,beta= 0.3 is: \",mse_d2_des_1)\r\n",
        "print(\"Mean of Square Errors for alpha = 0.5,beta= 0.6 is: \",mse_d2_des_2)\r\n",
        "print(\"Mean of Square Errors for alpha = 0.8,beta= 0.9 is: \",mse_d2_des_3)"
      ],
      "execution_count": 38,
      "outputs": [
        {
          "output_type": "stream",
          "text": [
            "Mean of Square Errors for alpha = 0.2,beta= 0.3 is:  5654.4471403397865\n",
            "Mean of Square Errors for alpha = 0.5,beta= 0.6 is:  8150.740235092144\n",
            "Mean of Square Errors for alpha = 0.8,beta= 0.9 is:  17610.337587153404\n"
          ],
          "name": "stdout"
        }
      ]
    },
    {
      "cell_type": "code",
      "metadata": {
        "colab": {
          "base_uri": "https://localhost:8080/",
          "height": 301
        },
        "id": "qIqgoTnrlyq9",
        "outputId": "1fd132c3-a468-44e6-c080-a31301c8c410"
      },
      "source": [
        "#Comparing mse and plotting for least mse\r\n",
        "d2_des_1={'Demand':demand,'Forecast':forecast_d2_des_1}\r\n",
        "d2_des_2={'Demand':demand,'Forecast':forecast_d2_des_2}\r\n",
        "d2_des_3={'Demand':demand,'Forecast':forecast_d2_des_3}\r\n",
        "\r\n",
        "df1=pd.DataFrame(d2_des_1)\r\n",
        "df2=pd.DataFrame(d2_des_2)\r\n",
        "df3=pd.DataFrame(d2_des_3)\r\n",
        "\r\n",
        "if mse_d2_des_1<=mse_d2_des_2 and mse_d2_des_1<=mse_d2_des_3:\r\n",
        "  print('alpha: ',alpha1)\r\n",
        "  print('beta: ',beta1)\r\n",
        "  df1.plot(style=['-','-'])\r\n",
        "elif mse_d2_des_2<=mse_d2_des_1 and mse_d2_des_2<=mse_d2_des_3:\r\n",
        "  print('alpha: ',alpha2)\r\n",
        "  print('beta: ',beta2)\r\n",
        "  df2.plot(style=['-','-'])\r\n",
        "else:\r\n",
        "  print('alpha: ',alpha3)\r\n",
        "  print('beta: ',beta3)\r\n",
        "  df3.plot(style=['-','-'])"
      ],
      "execution_count": 39,
      "outputs": [
        {
          "output_type": "stream",
          "text": [
            "alpha:  0.2\n",
            "beta:  0.3\n"
          ],
          "name": "stdout"
        },
        {
          "output_type": "display_data",
          "data": {
            "image/png": "[encoded data removed]",
            "text/plain": [
              "<Figure size 432x288 with 1 Axes>"
            ]
          },
          "metadata": {
            "tags": [],
            "needs_background": "light"
          }
        }
      ]
    },
    {
      "cell_type": "markdown",
      "metadata": {
        "id": "DGpYPopmv7TH"
      },
      "source": [
        "**Triple Exponential Smoothing**"
      ]
    },
    {
      "cell_type": "code",
      "metadata": {
        "id": "l0ZKJXeHwC0q"
      },
      "source": [
        "#Defining initial trend\r\n",
        "def initial_trend(arr, slen):\r\n",
        "    Sum = 0\r\n",
        "    for i in range(slen):\r\n",
        "        Sum += float(arr[i+slen] - arr[i]) / slen\r\n",
        "    return Sum / slen"
      ],
      "execution_count": 40,
      "outputs": []
    },
    {
      "cell_type": "code",
      "metadata": {
        "id": "lglCjK_Rd8yH"
      },
      "source": [
        "#Defining initial seasonal\r\n",
        "def initial_seasonal(arr, slen):\r\n",
        "    arr1 = {}\r\n",
        "    s_avg = []\r\n",
        "    m = int(len(arr)/slen)\r\n",
        "    for j in range(m):\r\n",
        "        s_avg.append(sum(arr[slen*j:slen*j+slen])/float(slen))\r\n",
        "    for i in range(slen):\r\n",
        "        Sum = 0\r\n",
        "        for j in range(m):\r\n",
        "            Sum += arr[slen*j+i]-s_avg[j]\r\n",
        "        arr1[i] = Sum/m\r\n",
        "    return arr1"
      ],
      "execution_count": 41,
      "outputs": []
    },
    {
      "cell_type": "code",
      "metadata": {
        "id": "8HGtD3M9eGus"
      },
      "source": [
        "#Defining Triple Exponential Smoothing function tes with interval 'n'\r\n",
        "def tes(arr, slen, alpha, beta, gamma, n):\r\n",
        "    arr1 = []\r\n",
        "    seasonals = initial_seasonal(arr, slen)\r\n",
        "    for i in range(len(arr)+n):\r\n",
        "        if i == 0:\r\n",
        "            smooth = arr[0]\r\n",
        "            trend = initial_trend(arr, slen)\r\n",
        "            arr1.append(arr[0])\r\n",
        "            continue\r\n",
        "        if i >= len(arr):\r\n",
        "            m = i - len(arr) + 1\r\n",
        "            arr1.append((smooth + m*trend) + seasonals[i%slen])\r\n",
        "        else:\r\n",
        "            val = arr[i]\r\n",
        "            lsmooth, smooth = smooth, alpha*(val-seasonals[i%slen]) + (1-alpha)*(smooth+trend)\r\n",
        "            trend = beta * (smooth-lsmooth) + (1-beta)*trend\r\n",
        "            seasonals[i%slen] = gamma*(val-smooth) + (1-gamma)*seasonals[i%slen]\r\n",
        "            arr1.append(smooth+trend+seasonals[i%slen])\r\n",
        "    return arr1"
      ],
      "execution_count": 42,
      "outputs": []
    },
    {
      "cell_type": "code",
      "metadata": {
        "id": "3a9Gm5x9iF2a"
      },
      "source": [
        "#Creating demand list in 'n' intervals\r\n",
        "demand=dem_n(data['Sales of shampoo over a three year period'],1)"
      ],
      "execution_count": 43,
      "outputs": []
    },
    {
      "cell_type": "code",
      "metadata": {
        "id": "NCQyHA5FfY19"
      },
      "source": [
        "#Forecasting\r\n",
        "alpha1=0.2\r\n",
        "alpha2=0.5\r\n",
        "alpha3=0.8\r\n",
        "\r\n",
        "beta1=0.3\r\n",
        "beta2=0.6\r\n",
        "beta3=0.9\r\n",
        "\r\n",
        "gamma1=0.4\r\n",
        "gamma2=0.7\r\n",
        "gamma3=0.95\r\n",
        "\r\n",
        "#Considering season of 12 months here\r\n",
        "\r\n",
        "forecast_d2_tes_1=tes(demand,12,alpha1,beta1,gamma1,0)\r\n",
        "forecast_d2_tes_2=tes(demand,12,alpha2,beta2,gamma2,0)\r\n",
        "forecast_d2_tes_3=tes(demand,12,alpha3,beta3,gamma3,0)"
      ],
      "execution_count": 44,
      "outputs": []
    },
    {
      "cell_type": "code",
      "metadata": {
        "colab": {
          "base_uri": "https://localhost:8080/"
        },
        "id": "Md6AMPpzi5wa",
        "outputId": "562db91f-7d7f-48f8-9458-5ea2d6561ccd"
      },
      "source": [
        "#Calculating mean of sqaured errors\r\n",
        "mse_d2_tes_1=mean_squared_error(demand,forecast_d2_tes_1)\r\n",
        "mse_d2_tes_2=mean_squared_error(demand,forecast_d2_tes_2)\r\n",
        "mse_d2_tes_3=mean_squared_error(demand,forecast_d2_tes_3)\r\n",
        "\r\n",
        "print(\"Mean of Square Errors for alpha = 0.2,beta= 0.3 gamma=0.4 is: \",mse_d2_tes_1)\r\n",
        "print(\"Mean of Square Errors for alpha = 0.5,beta= 0.6 gamma=0.7 is: \",mse_d2_tes_2)\r\n",
        "print(\"Mean of Square Errors for alpha = 0.8,beta= 0.9 gamma=0.95 is: \",mse_d2_tes_3)"
      ],
      "execution_count": 45,
      "outputs": [
        {
          "output_type": "stream",
          "text": [
            "Mean of Square Errors for alpha = 0.2,beta= 0.3 gamma=0.4 is:  1705.5940793672862\n",
            "Mean of Square Errors for alpha = 0.5,beta= 0.6 gamma=0.7 is:  527.7554251944694\n",
            "Mean of Square Errors for alpha = 0.8,beta= 0.9 gamma=0.95 is:  3940.441345408781\n"
          ],
          "name": "stdout"
        }
      ]
    },
    {
      "cell_type": "code",
      "metadata": {
        "colab": {
          "base_uri": "https://localhost:8080/",
          "height": 318
        },
        "id": "4xPGF2WvjlOC",
        "outputId": "02ac00d3-154a-49d5-bf65-0d1461b57ddc"
      },
      "source": [
        "#Comparing mse and plotting for least mse\r\n",
        "d2_tes_1={'Demand':demand,'Forecast':forecast_d2_tes_1}\r\n",
        "d2_tes_2={'Demand':demand,'Forecast':forecast_d2_tes_2}\r\n",
        "d2_tes_3={'Demand':demand,'Forecast':forecast_d2_tes_3}\r\n",
        "\r\n",
        "df1=pd.DataFrame(d2_tes_1)\r\n",
        "df2=pd.DataFrame(d2_tes_2)\r\n",
        "df3=pd.DataFrame(d2_tes_3)\r\n",
        "\r\n",
        "if mse_d2_tes_1<=mse_d2_tes_2 and mse_d2_tes_1<=mse_d2_tes_3:\r\n",
        "  print('alpha: ',alpha1)\r\n",
        "  print('beta: ',beta1)\r\n",
        "  print('gamma: ',gamma1)\r\n",
        "  df1.plot(style=['-','-'])\r\n",
        "elif mse_d2_tes_2<=mse_d2_tes_1 and mse_d2_tes_2<=mse_d2_tes_3:\r\n",
        "  print('alpha: ',alpha2)\r\n",
        "  print('beta: ',beta2)\r\n",
        "  print('gamma: ',gamma2)\r\n",
        "  df2.plot(style=['-','-'])\r\n",
        "else:\r\n",
        "  print('alpha: ',alpha3)\r\n",
        "  print('beta: ',beta3)\r\n",
        "  print('gamma: ',gamma3)\r\n",
        "  df3.plot(style=['-','-'])"
      ],
      "execution_count": 46,
      "outputs": [
        {
          "output_type": "stream",
          "text": [
            "alpha:  0.5\n",
            "beta:  0.6\n",
            "gamma:  0.7\n"
          ],
          "name": "stdout"
        },
        {
          "output_type": "display_data",
          "data": {
            "image/png": "[encoded data removed]",
            "text/plain": [
              "<Figure size 432x288 with 1 Axes>"
            ]
          },
          "metadata": {
            "tags": [],
            "needs_background": "light"
          }
        }
      ]
    },
    {
      "cell_type": "markdown",
      "metadata": {
        "id": "nm8U8DvKu549"
      },
      "source": [
        "\r\n",
        "\r\n",
        "---\r\n",
        "\r\n",
        "---\r\n",
        "\r\n",
        "---\r\n",
        "\r\n",
        "\r\n",
        "\r\n",
        "\r\n",
        "\r\n"
      ]
    },
    {
      "cell_type": "markdown",
      "metadata": {
        "id": "mMd20j3_u_4z"
      },
      "source": [
        "**Applying KPSS and ADF test**"
      ]
    },
    {
      "cell_type": "markdown",
      "metadata": {
        "id": "icHMbchgvRp5"
      },
      "source": [
        "1. ADF test"
      ]
    },
    {
      "cell_type": "code",
      "metadata": {
        "colab": {
          "base_uri": "https://localhost:8080/"
        },
        "id": "zxKgHkUQvUHb",
        "outputId": "d3e00dcb-c967-402d-fdb7-069713823f37"
      },
      "source": [
        "#define function for ADF test\r\n",
        "from statsmodels.tsa.stattools import adfuller\r\n",
        "\r\n",
        "def adf_test(atr):\r\n",
        "    #Perform Dickey-Fuller test:\r\n",
        "    timeseries = data[atr].dropna()\r\n",
        "    print ('Results of Dickey-Fuller Test for ',atr,'\\n')\r\n",
        "    dftest = adfuller(timeseries, autolag='AIC')\r\n",
        "    dfoutput = pd.Series(dftest[0:4], index=['Test Statistic','p-value','#Lags Used','Number of Observations Used'])\r\n",
        "    for key,value in dftest[4].items():\r\n",
        "       dfoutput['Critical Value (%s)'%key] = value\r\n",
        "    print(dfoutput)\r\n",
        "\r\n",
        "#apply adf test on the series\r\n",
        "adf_test('Sales of shampoo over a three year period')"
      ],
      "execution_count": 49,
      "outputs": [
        {
          "output_type": "stream",
          "text": [
            "Results of Dickey-Fuller Test for  Sales of shampoo over a three year period \n",
            "\n",
            "Test Statistic                  3.060142\n",
            "p-value                         1.000000\n",
            "#Lags Used                     10.000000\n",
            "Number of Observations Used    25.000000\n",
            "Critical Value (1%)            -3.723863\n",
            "Critical Value (5%)            -2.986489\n",
            "Critical Value (10%)           -2.632800\n",
            "dtype: float64\n"
          ],
          "name": "stdout"
        }
      ]
    },
    {
      "cell_type": "markdown",
      "metadata": {
        "id": "d1ZvfmZdw6KM"
      },
      "source": [
        "2. KPSS test"
      ]
    },
    {
      "cell_type": "code",
      "metadata": {
        "colab": {
          "base_uri": "https://localhost:8080/"
        },
        "id": "LkI3aYQ_xDxy",
        "outputId": "c59f8af5-d4b3-4685-c368-e31e5ff1d39a"
      },
      "source": [
        "#define function for kpss test\r\n",
        "from statsmodels.tsa.stattools import kpss\r\n",
        "#define KPSS\r\n",
        "def kpss_test(atr):\r\n",
        "    timeseries = data[atr].dropna()\r\n",
        "    print ('Results of KPSS Test for ',atr)\r\n",
        "    kpsstest = kpss(timeseries, regression='c')\r\n",
        "    kpss_output = pd.Series(kpsstest[0:3], index=['Test Statistic','p-value','Lags Used'])\r\n",
        "    for key,value in kpsstest[3].items():\r\n",
        "        kpss_output['Critical Value (%s)'%key] = value\r\n",
        "    print (kpss_output)\r\n",
        "kpss_test('Sales of shampoo over a three year period')"
      ],
      "execution_count": 51,
      "outputs": [
        {
          "output_type": "stream",
          "text": [
            "Results of KPSS Test for  Sales of shampoo over a three year period\n",
            "Test Statistic            0.439388\n",
            "p-value                   0.060178\n",
            "Lags Used                10.000000\n",
            "Critical Value (10%)      0.347000\n",
            "Critical Value (5%)       0.463000\n",
            "Critical Value (2.5%)     0.574000\n",
            "Critical Value (1%)       0.739000\n",
            "dtype: float64\n"
          ],
          "name": "stdout"
        }
      ]
    },
    {
      "cell_type": "markdown",
      "metadata": {
        "id": "A9PEydfjxb6E"
      },
      "source": [
        "For ADF test, we can see that the p-value  is 1.000000, which is more than 0.05. Thus, from ADF test, we can say that the dataset is non-stationary.\r\n",
        "\r\n",
        "For KPSS test, Test Statistic is less than most Critical Values, thus we fail to reject the null hypothesis. Thus, from KPSS test, we can say that the dataset is stationary.\r\n",
        "\r\n",
        "Since, ADF test gives non-stationary and KPSS test gives stationary, therefore, the dataset is concluded as Trend Stationary."
      ]
    },
    {
      "cell_type": "markdown",
      "metadata": {
        "id": "FKNs5sKqT3-V"
      },
      "source": [
        "\r\n",
        "\r\n",
        "---\r\n",
        "\r\n",
        "---\r\n",
        "\r\n",
        "---\r\n",
        "\r\n",
        "\r\n",
        "\r\n",
        "\r\n",
        "\r\n"
      ]
    },
    {
      "cell_type": "markdown",
      "metadata": {
        "id": "Ccy2-kpb_Rgm"
      },
      "source": [
        "**Prediction for Intervals**"
      ]
    },
    {
      "cell_type": "markdown",
      "metadata": {
        "id": "HVLidffXHwRl"
      },
      "source": [
        "For Single Exponential Smoothening\r\n",
        "\r\n"
      ]
    },
    {
      "cell_type": "markdown",
      "metadata": {
        "id": "XteQudJoBQtj"
      },
      "source": [
        "1. For interval of 1 month"
      ]
    },
    {
      "cell_type": "code",
      "metadata": {
        "id": "HSKuT3KPB36O"
      },
      "source": [
        "#Creating demand list in 'n' intervals\r\n",
        "demand=dem_n(data['Sales of shampoo over a three year period'],1)"
      ],
      "execution_count": 52,
      "outputs": []
    },
    {
      "cell_type": "code",
      "metadata": {
        "id": "64J3dOGcB36A"
      },
      "source": [
        "#Forecasting\r\n",
        "alpha1=0.2\r\n",
        "alpha2=0.5\r\n",
        "alpha3=0.8\r\n",
        "\r\n",
        "forecast_d2_ses_1=ses(demand,alpha1)\r\n",
        "forecast_d2_ses_2=ses(demand,alpha2)\r\n",
        "forecast_d2_ses_3=ses(demand,alpha3)"
      ],
      "execution_count": 53,
      "outputs": []
    },
    {
      "cell_type": "code",
      "metadata": {
        "colab": {
          "base_uri": "https://localhost:8080/"
        },
        "id": "JDKPAu43B36P",
        "outputId": "abb734d6-ee9f-4ef7-f47b-457383775975"
      },
      "source": [
        "#Calculating Mean of Square Errors\r\n",
        "mse_d2_ses_1=mean_squared_error(demand,forecast_d2_ses_1)\r\n",
        "mse_d2_ses_2=mean_squared_error(demand,forecast_d2_ses_2)\r\n",
        "mse_d2_ses_3=mean_squared_error(demand,forecast_d2_ses_3)\r\n",
        "\r\n",
        "print(\"Mean of Square Errors for alpha = 0.2 is: \",mse_d2_ses_1)\r\n",
        "print(\"Mean of Square Errors for alpha = 0.5 is: \",mse_d2_ses_2)\r\n",
        "print(\"Mean of Square Errors for alpha = 0.8 is: \",mse_d2_ses_3)"
      ],
      "execution_count": 54,
      "outputs": [
        {
          "output_type": "stream",
          "text": [
            "Mean of Square Errors for alpha = 0.2 is:  8698.861149558394\n",
            "Mean of Square Errors for alpha = 0.5 is:  7001.245732106936\n",
            "Mean of Square Errors for alpha = 0.8 is:  8880.660902334475\n"
          ],
          "name": "stdout"
        }
      ]
    },
    {
      "cell_type": "code",
      "metadata": {
        "colab": {
          "base_uri": "https://localhost:8080/",
          "height": 283
        },
        "id": "krEv7rW9B36R",
        "outputId": "da60c565-9070-4ed9-fc21-ff1bd64729b6"
      },
      "source": [
        "d2_ses_1={'Demand':demand,'Forecast':forecast_d2_ses_1}\r\n",
        "d2_ses_2={'Demand':demand,'Forecast':forecast_d2_ses_2}\r\n",
        "d2_ses_3={'Demand':demand,'Forecast':forecast_d2_ses_3}\r\n",
        "\r\n",
        "df1=pd.DataFrame(d2_ses_1)\r\n",
        "df2=pd.DataFrame(d2_ses_2)\r\n",
        "df3=pd.DataFrame(d2_ses_3)\r\n",
        "\r\n",
        "if mse_d2_ses_1<=mse_d2_ses_2 and mse_d2_ses_1<=mse_d2_ses_3:\r\n",
        "  print('alpha: ',alpha1)\r\n",
        "  df1.plot(style=['-','-'])\r\n",
        "elif mse_d2_ses_2<=mse_d2_ses_1 and mse_d2_ses_2<=mse_d2_ses_3:\r\n",
        "  print('alpha: ',alpha2)\r\n",
        "  df2.plot(style=['-','-'])\r\n",
        "else:\r\n",
        "  print('alpha: ',alpha3)\r\n",
        "  df3.plot(style=['-','-'])"
      ],
      "execution_count": 55,
      "outputs": [
        {
          "output_type": "stream",
          "text": [
            "alpha:  0.5\n"
          ],
          "name": "stdout"
        },
        {
          "output_type": "display_data",
          "data": {
            "image/png": "[encoded data removed]",
            "text/plain": [
              "<Figure size 432x288 with 1 Axes>"
            ]
          },
          "metadata": {
            "tags": [],
            "needs_background": "light"
          }
        }
      ]
    },
    {
      "cell_type": "markdown",
      "metadata": {
        "id": "FqPAUFLOB-bR"
      },
      "source": [
        "2. For interval of 2 month"
      ]
    },
    {
      "cell_type": "code",
      "metadata": {
        "id": "kBA96HvhCChS"
      },
      "source": [
        "#Creating demand list in 'n' intervals\r\n",
        "demand=dem_n(data['Sales of shampoo over a three year period'],2)"
      ],
      "execution_count": 56,
      "outputs": []
    },
    {
      "cell_type": "code",
      "metadata": {
        "id": "KU5d6k2tCChD"
      },
      "source": [
        "#Forecasting\r\n",
        "alpha1=0.2\r\n",
        "alpha2=0.5\r\n",
        "alpha3=0.8\r\n",
        "\r\n",
        "forecast_d2_ses_1=ses(demand,alpha1)\r\n",
        "forecast_d2_ses_2=ses(demand,alpha2)\r\n",
        "forecast_d2_ses_3=ses(demand,alpha3)"
      ],
      "execution_count": 57,
      "outputs": []
    },
    {
      "cell_type": "code",
      "metadata": {
        "colab": {
          "base_uri": "https://localhost:8080/"
        },
        "id": "9hYrGCUaCChT",
        "outputId": "7d6b245b-6cb2-4ae6-e1ff-273c7349c498"
      },
      "source": [
        "#Calculating Mean of Square Errors\r\n",
        "mse_d2_ses_1=mean_squared_error(demand,forecast_d2_ses_1)\r\n",
        "mse_d2_ses_2=mean_squared_error(demand,forecast_d2_ses_2)\r\n",
        "mse_d2_ses_3=mean_squared_error(demand,forecast_d2_ses_3)\r\n",
        "\r\n",
        "print(\"Mean of Square Errors for alpha = 0.2 is: \",mse_d2_ses_1)\r\n",
        "print(\"Mean of Square Errors for alpha = 0.5 is: \",mse_d2_ses_2)\r\n",
        "print(\"Mean of Square Errors for alpha = 0.8 is: \",mse_d2_ses_3)"
      ],
      "execution_count": 58,
      "outputs": [
        {
          "output_type": "stream",
          "text": [
            "Mean of Square Errors for alpha = 0.2 is:  15278.186518185532\n",
            "Mean of Square Errors for alpha = 0.5 is:  8468.1638298225\n",
            "Mean of Square Errors for alpha = 0.8 is:  6880.77763710381\n"
          ],
          "name": "stdout"
        }
      ]
    },
    {
      "cell_type": "code",
      "metadata": {
        "colab": {
          "base_uri": "https://localhost:8080/",
          "height": 285
        },
        "id": "FNf19GSDCChU",
        "outputId": "b6730197-a2f4-43d7-9d26-b4ef557bd751"
      },
      "source": [
        "d2_ses_1={'Demand':demand,'Forecast':forecast_d2_ses_1}\r\n",
        "d2_ses_2={'Demand':demand,'Forecast':forecast_d2_ses_2}\r\n",
        "d2_ses_3={'Demand':demand,'Forecast':forecast_d2_ses_3}\r\n",
        "\r\n",
        "df1=pd.DataFrame(d2_ses_1)\r\n",
        "df2=pd.DataFrame(d2_ses_2)\r\n",
        "df3=pd.DataFrame(d2_ses_3)\r\n",
        "\r\n",
        "if mse_d2_ses_1<=mse_d2_ses_2 and mse_d2_ses_1<=mse_d2_ses_3:\r\n",
        "  print('alpha: ',alpha1)\r\n",
        "  df1.plot(style=['-','-'])\r\n",
        "elif mse_d2_ses_2<=mse_d2_ses_1 and mse_d2_ses_2<=mse_d2_ses_3:\r\n",
        "  print('alpha: ',alpha2)\r\n",
        "  df2.plot(style=['-','-'])\r\n",
        "else:\r\n",
        "  print('alpha: ',alpha3)\r\n",
        "  df3.plot(style=['-','-'])"
      ],
      "execution_count": 59,
      "outputs": [
        {
          "output_type": "stream",
          "text": [
            "alpha:  0.8\n"
          ],
          "name": "stdout"
        },
        {
          "output_type": "display_data",
          "data": {
            "image/png": "[encoded data removed]",
            "text/plain": [
              "<Figure size 432x288 with 1 Axes>"
            ]
          },
          "metadata": {
            "tags": [],
            "needs_background": "light"
          }
        }
      ]
    },
    {
      "cell_type": "markdown",
      "metadata": {
        "id": "KXsaXPivCgbQ"
      },
      "source": [
        "3. For interval of 4 month"
      ]
    },
    {
      "cell_type": "code",
      "metadata": {
        "id": "hzFSxYD_CE1Q"
      },
      "source": [
        "#Creating demand list in 'n' intervals\r\n",
        "demand=dem_n(data['Sales of shampoo over a three year period'],4)"
      ],
      "execution_count": 60,
      "outputs": []
    },
    {
      "cell_type": "code",
      "metadata": {
        "id": "gamfWuk_CE1Q"
      },
      "source": [
        "#Forecasting\r\n",
        "alpha1=0.2\r\n",
        "alpha2=0.5\r\n",
        "alpha3=0.8\r\n",
        "\r\n",
        "forecast_d2_ses_1=ses(demand,alpha1)\r\n",
        "forecast_d2_ses_2=ses(demand,alpha2)\r\n",
        "forecast_d2_ses_3=ses(demand,alpha3)"
      ],
      "execution_count": 61,
      "outputs": []
    },
    {
      "cell_type": "code",
      "metadata": {
        "colab": {
          "base_uri": "https://localhost:8080/"
        },
        "id": "BTtg7nxDCE1R",
        "outputId": "b88e3430-2feb-4092-8b93-0d3175b4d6b7"
      },
      "source": [
        "#Calculating Mean of Square Errors\r\n",
        "mse_d2_ses_1=mean_squared_error(demand,forecast_d2_ses_1)\r\n",
        "mse_d2_ses_2=mean_squared_error(demand,forecast_d2_ses_2)\r\n",
        "mse_d2_ses_3=mean_squared_error(demand,forecast_d2_ses_3)\r\n",
        "\r\n",
        "print(\"Mean of Square Errors for alpha = 0.2 is: \",mse_d2_ses_1)\r\n",
        "print(\"Mean of Square Errors for alpha = 0.5 is: \",mse_d2_ses_2)\r\n",
        "print(\"Mean of Square Errors for alpha = 0.8 is: \",mse_d2_ses_3)"
      ],
      "execution_count": 62,
      "outputs": [
        {
          "output_type": "stream",
          "text": [
            "Mean of Square Errors for alpha = 0.2 is:  23112.27919948978\n",
            "Mean of Square Errors for alpha = 0.5 is:  16821.34433681912\n",
            "Mean of Square Errors for alpha = 0.8 is:  12774.84192750033\n"
          ],
          "name": "stdout"
        }
      ]
    },
    {
      "cell_type": "code",
      "metadata": {
        "colab": {
          "base_uri": "https://localhost:8080/",
          "height": 285
        },
        "id": "dHjFJwcdCE1S",
        "outputId": "9880fb89-3e67-45a1-9270-35a6090e8c34"
      },
      "source": [
        "d2_ses_1={'Demand':demand,'Forecast':forecast_d2_ses_1}\r\n",
        "d2_ses_2={'Demand':demand,'Forecast':forecast_d2_ses_2}\r\n",
        "d2_ses_3={'Demand':demand,'Forecast':forecast_d2_ses_3}\r\n",
        "\r\n",
        "df1=pd.DataFrame(d2_ses_1)\r\n",
        "df2=pd.DataFrame(d2_ses_2)\r\n",
        "df3=pd.DataFrame(d2_ses_3)\r\n",
        "\r\n",
        "if mse_d2_ses_1<=mse_d2_ses_2 and mse_d2_ses_1<=mse_d2_ses_3:\r\n",
        "  print('alpha: ',alpha1)\r\n",
        "  df1.plot(style=['-','-'])\r\n",
        "elif mse_d2_ses_2<=mse_d2_ses_1 and mse_d2_ses_2<=mse_d2_ses_3:\r\n",
        "  print('alpha: ',alpha2)\r\n",
        "  df2.plot(style=['-','-'])\r\n",
        "else:\r\n",
        "  print('alpha: ',alpha3)\r\n",
        "  df3.plot(style=['-','-'])"
      ],
      "execution_count": 63,
      "outputs": [
        {
          "output_type": "stream",
          "text": [
            "alpha:  0.8\n"
          ],
          "name": "stdout"
        },
        {
          "output_type": "display_data",
          "data": {
            "image/png": "[encoded data removed]",
            "text/plain": [
              "<Figure size 432x288 with 1 Axes>"
            ]
          },
          "metadata": {
            "tags": [],
            "needs_background": "light"
          }
        }
      ]
    },
    {
      "cell_type": "markdown",
      "metadata": {
        "id": "ZZ7cbVsYCkY6"
      },
      "source": [
        "4. For interval of 8 month"
      ]
    },
    {
      "cell_type": "code",
      "metadata": {
        "id": "ftQZ6JJUCFfS"
      },
      "source": [
        "#Creating demand list in 'n' intervals\r\n",
        "demand=dem_n(data['Sales of shampoo over a three year period'],8)"
      ],
      "execution_count": 64,
      "outputs": []
    },
    {
      "cell_type": "code",
      "metadata": {
        "id": "VZlp7r8UCFfR"
      },
      "source": [
        "#Forecasting\r\n",
        "alpha1=0.2\r\n",
        "alpha2=0.5\r\n",
        "alpha3=0.8\r\n",
        "\r\n",
        "forecast_d2_ses_1=ses(demand,alpha1)\r\n",
        "forecast_d2_ses_2=ses(demand,alpha2)\r\n",
        "forecast_d2_ses_3=ses(demand,alpha3)"
      ],
      "execution_count": 65,
      "outputs": []
    },
    {
      "cell_type": "code",
      "metadata": {
        "colab": {
          "base_uri": "https://localhost:8080/"
        },
        "id": "c4Yp7F0zCFfS",
        "outputId": "c85bb737-2c6c-4ba6-849e-f2075f8b4d65"
      },
      "source": [
        "#Calculating Mean of Square Errors\r\n",
        "mse_d2_ses_1=mean_squared_error(demand,forecast_d2_ses_1)\r\n",
        "mse_d2_ses_2=mean_squared_error(demand,forecast_d2_ses_2)\r\n",
        "mse_d2_ses_3=mean_squared_error(demand,forecast_d2_ses_3)\r\n",
        "\r\n",
        "print(\"Mean of Square Errors for alpha = 0.2 is: \",mse_d2_ses_1)\r\n",
        "print(\"Mean of Square Errors for alpha = 0.5 is: \",mse_d2_ses_2)\r\n",
        "print(\"Mean of Square Errors for alpha = 0.8 is: \",mse_d2_ses_3)"
      ],
      "execution_count": 66,
      "outputs": [
        {
          "output_type": "stream",
          "text": [
            "Mean of Square Errors for alpha = 0.2 is:  39516.327625472\n",
            "Mean of Square Errors for alpha = 0.5 is:  37825.80649999999\n",
            "Mean of Square Errors for alpha = 0.8 is:  32908.912848511995\n"
          ],
          "name": "stdout"
        }
      ]
    },
    {
      "cell_type": "code",
      "metadata": {
        "colab": {
          "base_uri": "https://localhost:8080/",
          "height": 285
        },
        "id": "JfY0EnM9CFfT",
        "outputId": "47b8324f-437c-4467-ffe8-70f11fcbc7fb"
      },
      "source": [
        "d2_ses_1={'Demand':demand,'Forecast':forecast_d2_ses_1}\r\n",
        "d2_ses_2={'Demand':demand,'Forecast':forecast_d2_ses_2}\r\n",
        "d2_ses_3={'Demand':demand,'Forecast':forecast_d2_ses_3}\r\n",
        "\r\n",
        "df1=pd.DataFrame(d2_ses_1)\r\n",
        "df2=pd.DataFrame(d2_ses_2)\r\n",
        "df3=pd.DataFrame(d2_ses_3)\r\n",
        "\r\n",
        "if mse_d2_ses_1<=mse_d2_ses_2 and mse_d2_ses_1<=mse_d2_ses_3:\r\n",
        "  print('alpha: ',alpha1)\r\n",
        "  df1.plot(style=['-','-'])\r\n",
        "elif mse_d2_ses_2<=mse_d2_ses_1 and mse_d2_ses_2<=mse_d2_ses_3:\r\n",
        "  print('alpha: ',alpha2)\r\n",
        "  df2.plot(style=['-','-'])\r\n",
        "else:\r\n",
        "  print('alpha: ',alpha3)\r\n",
        "  df3.plot(style=['-','-'])"
      ],
      "execution_count": 67,
      "outputs": [
        {
          "output_type": "stream",
          "text": [
            "alpha:  0.8\n"
          ],
          "name": "stdout"
        },
        {
          "output_type": "display_data",
          "data": {
            "image/png": "[encoded data removed]",
            "text/plain": [
              "<Figure size 432x288 with 1 Axes>"
            ]
          },
          "metadata": {
            "tags": [],
            "needs_background": "light"
          }
        }
      ]
    },
    {
      "cell_type": "markdown",
      "metadata": {
        "id": "8VOL31X2GU0J"
      },
      "source": [
        "5. For interval of 12 month"
      ]
    },
    {
      "cell_type": "code",
      "metadata": {
        "id": "JH5ZP_EkCJET"
      },
      "source": [
        "#Creating demand list in 'n' intervals\r\n",
        "demand=dem_n(data['Sales of shampoo over a three year period'],12)"
      ],
      "execution_count": 68,
      "outputs": []
    },
    {
      "cell_type": "code",
      "metadata": {
        "id": "P6_1uHPHCJES"
      },
      "source": [
        "#Forecasting\r\n",
        "alpha1=0.2\r\n",
        "alpha2=0.5\r\n",
        "alpha3=0.8\r\n",
        "\r\n",
        "forecast_d2_ses_1=ses(demand,alpha1)\r\n",
        "forecast_d2_ses_2=ses(demand,alpha2)\r\n",
        "forecast_d2_ses_3=ses(demand,alpha3)"
      ],
      "execution_count": 69,
      "outputs": []
    },
    {
      "cell_type": "code",
      "metadata": {
        "colab": {
          "base_uri": "https://localhost:8080/"
        },
        "id": "e0Fut37jCJEU",
        "outputId": "0a45d806-3cfc-4aef-a04c-291e1385633e"
      },
      "source": [
        "#Calculating Mean of Square Errors\r\n",
        "mse_d2_ses_1=mean_squared_error(demand,forecast_d2_ses_1)\r\n",
        "mse_d2_ses_2=mean_squared_error(demand,forecast_d2_ses_2)\r\n",
        "mse_d2_ses_3=mean_squared_error(demand,forecast_d2_ses_3)\r\n",
        "\r\n",
        "print(\"Mean of Square Errors for alpha = 0.2 is: \",mse_d2_ses_1)\r\n",
        "print(\"Mean of Square Errors for alpha = 0.5 is: \",mse_d2_ses_2)\r\n",
        "print(\"Mean of Square Errors for alpha = 0.8 is: \",mse_d2_ses_3)"
      ],
      "execution_count": 70,
      "outputs": [
        {
          "output_type": "stream",
          "text": [
            "Mean of Square Errors for alpha = 0.2 is:  4297.310533333331\n",
            "Mean of Square Errors for alpha = 0.5 is:  5714.030833333331\n",
            "Mean of Square Errors for alpha = 0.8 is:  7439.204533333331\n"
          ],
          "name": "stdout"
        }
      ]
    },
    {
      "cell_type": "code",
      "metadata": {
        "colab": {
          "base_uri": "https://localhost:8080/",
          "height": 283
        },
        "id": "-OenBvzDCJEU",
        "outputId": "33c45493-5bf0-4bd2-ff27-702b63744c91"
      },
      "source": [
        "d2_ses_1={'Demand':demand,'Forecast':forecast_d2_ses_1}\r\n",
        "d2_ses_2={'Demand':demand,'Forecast':forecast_d2_ses_2}\r\n",
        "d2_ses_3={'Demand':demand,'Forecast':forecast_d2_ses_3}\r\n",
        "\r\n",
        "df1=pd.DataFrame(d2_ses_1)\r\n",
        "df2=pd.DataFrame(d2_ses_2)\r\n",
        "df3=pd.DataFrame(d2_ses_3)\r\n",
        "\r\n",
        "if mse_d2_ses_1<=mse_d2_ses_2 and mse_d2_ses_1<=mse_d2_ses_3:\r\n",
        "  print('alpha: ',alpha1)\r\n",
        "  df1.plot(style=['-','-'])\r\n",
        "elif mse_d2_ses_2<=mse_d2_ses_1 and mse_d2_ses_2<=mse_d2_ses_3:\r\n",
        "  print('alpha: ',alpha2)\r\n",
        "  df2.plot(style=['-','-'])\r\n",
        "else:\r\n",
        "  print('alpha: ',alpha3)\r\n",
        "  df3.plot(style=['-','-'])"
      ],
      "execution_count": 71,
      "outputs": [
        {
          "output_type": "stream",
          "text": [
            "alpha:  0.2\n"
          ],
          "name": "stdout"
        },
        {
          "output_type": "display_data",
          "data": {
            "image/png": "[encoded data removed]",
            "text/plain": [
              "<Figure size 432x288 with 1 Axes>"
            ]
          },
          "metadata": {
            "tags": [],
            "needs_background": "light"
          }
        }
      ]
    },
    {
      "cell_type": "markdown",
      "metadata": {
        "id": "GjSER8KLGaa4"
      },
      "source": [
        "6. For interval of 24 month"
      ]
    },
    {
      "cell_type": "code",
      "metadata": {
        "id": "zdWUtrKvCJ3M"
      },
      "source": [
        "#Creating demand list in 'n' intervals\r\n",
        "demand=dem_n(data['Sales of shampoo over a three year period'],24)"
      ],
      "execution_count": 72,
      "outputs": []
    },
    {
      "cell_type": "code",
      "metadata": {
        "id": "Mbbp39j2CJ3L"
      },
      "source": [
        "#Forecasting\r\n",
        "alpha1=0.2\r\n",
        "alpha2=0.5\r\n",
        "alpha3=0.8\r\n",
        "\r\n",
        "forecast_d2_ses_1=ses(demand,alpha1)\r\n",
        "forecast_d2_ses_2=ses(demand,alpha2)\r\n",
        "forecast_d2_ses_3=ses(demand,alpha3)"
      ],
      "execution_count": 73,
      "outputs": []
    },
    {
      "cell_type": "code",
      "metadata": {
        "colab": {
          "base_uri": "https://localhost:8080/"
        },
        "id": "1HcUICWZCJ3N",
        "outputId": "e74535de-35ee-4b82-a1e3-10729f659e2e"
      },
      "source": [
        "#Calculating Mean of Square Errors\r\n",
        "mse_d2_ses_1=mean_squared_error(demand,forecast_d2_ses_1)\r\n",
        "mse_d2_ses_2=mean_squared_error(demand,forecast_d2_ses_2)\r\n",
        "mse_d2_ses_3=mean_squared_error(demand,forecast_d2_ses_3)\r\n",
        "\r\n",
        "print(\"Mean of Square Errors for alpha = 0.2 is: \",mse_d2_ses_1)\r\n",
        "print(\"Mean of Square Errors for alpha = 0.5 is: \",mse_d2_ses_2)\r\n",
        "print(\"Mean of Square Errors for alpha = 0.8 is: \",mse_d2_ses_3)"
      ],
      "execution_count": 74,
      "outputs": [
        {
          "output_type": "stream",
          "text": [
            "Mean of Square Errors for alpha = 0.2 is:  2715.8449999999993\n",
            "Mean of Square Errors for alpha = 0.5 is:  2715.8449999999993\n",
            "Mean of Square Errors for alpha = 0.8 is:  2715.8449999999993\n"
          ],
          "name": "stdout"
        }
      ]
    },
    {
      "cell_type": "code",
      "metadata": {
        "colab": {
          "base_uri": "https://localhost:8080/",
          "height": 283
        },
        "id": "9yG0cKIZCJ3N",
        "outputId": "eab81dfc-1ef3-4a3e-8576-363d6908c4cb"
      },
      "source": [
        "d2_ses_1={'Demand':demand,'Forecast':forecast_d2_ses_1}\r\n",
        "d2_ses_2={'Demand':demand,'Forecast':forecast_d2_ses_2}\r\n",
        "d2_ses_3={'Demand':demand,'Forecast':forecast_d2_ses_3}\r\n",
        "\r\n",
        "df1=pd.DataFrame(d2_ses_1)\r\n",
        "df2=pd.DataFrame(d2_ses_2)\r\n",
        "df3=pd.DataFrame(d2_ses_3)\r\n",
        "\r\n",
        "if mse_d2_ses_1<=mse_d2_ses_2 and mse_d2_ses_1<=mse_d2_ses_3:\r\n",
        "  print('alpha: ',alpha1)\r\n",
        "  df1.plot(style=['-','-'])\r\n",
        "elif mse_d2_ses_2<=mse_d2_ses_1 and mse_d2_ses_2<=mse_d2_ses_3:\r\n",
        "  print('alpha: ',alpha2)\r\n",
        "  df2.plot(style=['-','-'])\r\n",
        "else:\r\n",
        "  print('alpha: ',alpha3)\r\n",
        "  df3.plot(style=['-','-'])"
      ],
      "execution_count": 75,
      "outputs": [
        {
          "output_type": "stream",
          "text": [
            "alpha:  0.2\n"
          ],
          "name": "stdout"
        },
        {
          "output_type": "display_data",
          "data": {
            "image/png": "[encoded data removed]",
            "text/plain": [
              "<Figure size 432x288 with 1 Axes>"
            ]
          },
          "metadata": {
            "tags": [],
            "needs_background": "light"
          }
        }
      ]
    },
    {
      "cell_type": "markdown",
      "metadata": {
        "id": "oLPcVTsc5SM4"
      },
      "source": [
        "\r\n",
        "\r\n",
        "---\r\n",
        "\r\n"
      ]
    },
    {
      "cell_type": "markdown",
      "metadata": {
        "id": "Nn1W7udY5URT"
      },
      "source": [
        "Tabulating Intervals and least MSE"
      ]
    },
    {
      "cell_type": "code",
      "metadata": {
        "colab": {
          "base_uri": "https://localhost:8080/"
        },
        "id": "jma7mRyR5aqi",
        "outputId": "519b11b8-00f5-4dc7-b98e-278218425278"
      },
      "source": [
        "from tabulate import tabulate\r\n",
        "print(tabulate([['1 month', 7001.245732106936], ['2 month', 6880.77763710381],['4 month', 12774.84192750033],['8 month', 32908.912848511995],['12 month', 4297.310533333331],['24 month', 2715.8449999999993]], headers=['Intervals', 'Least MSE'], tablefmt='grid'))"
      ],
      "execution_count": 143,
      "outputs": [
        {
          "output_type": "stream",
          "text": [
            "+-------------+-------------+\n",
            "| Intervals   |   Least MSE |\n",
            "+=============+=============+\n",
            "| 1 month     |     7001.25 |\n",
            "+-------------+-------------+\n",
            "| 2 month     |     6880.78 |\n",
            "+-------------+-------------+\n",
            "| 4 month     |    12774.8  |\n",
            "+-------------+-------------+\n",
            "| 8 month     |    32908.9  |\n",
            "+-------------+-------------+\n",
            "| 12 month    |     4297.31 |\n",
            "+-------------+-------------+\n",
            "| 24 month    |     2715.84 |\n",
            "+-------------+-------------+\n"
          ],
          "name": "stdout"
        }
      ]
    },
    {
      "cell_type": "markdown",
      "metadata": {
        "id": "EAcfQ9UV7MBE"
      },
      "source": [
        "Plotting MSE for Constructed Table"
      ]
    },
    {
      "cell_type": "code",
      "metadata": {
        "colab": {
          "base_uri": "https://localhost:8080/",
          "height": 309
        },
        "id": "gM-Zclot7SEv",
        "outputId": "62dd194a-e783-425d-ddea-62c7fd870535"
      },
      "source": [
        "import matplotlib.pyplot as plt\r\n",
        "plt.scatter(['1 month','2 month','4 month','8 month','12 month','24 month'], [7001.25, 6880.78,12774.8,32908.9,4297.31,2715.84],c='r')\r\n",
        "plt.title('Least MSE for different intervals for Single Exponential Smoothening Function',pad=20)\r\n",
        "plt.xlabel('Intervals')\r\n",
        "plt.ylabel('Least MSE of predicted for each interval')\r\n",
        "plt.show()"
      ],
      "execution_count": 145,
      "outputs": [
        {
          "output_type": "display_data",
          "data": {
            "image/png": "[encoded data removed]",
            "text/plain": [
              "<Figure size 432x288 with 1 Axes>"
            ]
          },
          "metadata": {
            "tags": [],
            "needs_background": "light"
          }
        }
      ]
    },
    {
      "cell_type": "markdown",
      "metadata": {
        "id": "KNdpChjsTr-s"
      },
      "source": [
        "\r\n",
        "\r\n",
        "---\r\n",
        "\r\n",
        "\r\n",
        "\r\n",
        "\r\n"
      ]
    },
    {
      "cell_type": "markdown",
      "metadata": {
        "id": "1YmWmNc8TRqA"
      },
      "source": [
        "For Double Exponential Smoothening\r\n"
      ]
    },
    {
      "cell_type": "markdown",
      "metadata": {
        "id": "RyqBqwLRx_qV"
      },
      "source": [
        "1. For interval of 1 month"
      ]
    },
    {
      "cell_type": "code",
      "metadata": {
        "id": "09PDMYoiTjAD"
      },
      "source": [
        "#Creating demand list in 'n' intervals\r\n",
        "demand=dem_n(data['Sales of shampoo over a three year period'],1)"
      ],
      "execution_count": 82,
      "outputs": []
    },
    {
      "cell_type": "code",
      "metadata": {
        "id": "qvBperYdTjAC"
      },
      "source": [
        "#Forecasting\r\n",
        "alpha1=0.2\r\n",
        "alpha2=0.5\r\n",
        "alpha3=0.8\r\n",
        "\r\n",
        "beta1=0.3\r\n",
        "beta2=0.6\r\n",
        "beta3=0.9\r\n",
        "\r\n",
        "forecast_d2_des_1=des(demand,alpha1,beta1)\r\n",
        "forecast_d2_des_2=des(demand,alpha2,beta2)\r\n",
        "forecast_d2_des_3=des(demand,alpha3,beta3)"
      ],
      "execution_count": 83,
      "outputs": []
    },
    {
      "cell_type": "code",
      "metadata": {
        "colab": {
          "base_uri": "https://localhost:8080/"
        },
        "id": "AdBzspTTTjAE",
        "outputId": "f58cede4-0d1c-43cc-e1e0-d1d2879cad0f"
      },
      "source": [
        "#Calculating Mean of Square Errors\r\n",
        "mse_d2_des_1=mean_squared_error(demand,forecast_d2_des_1)\r\n",
        "mse_d2_des_2=mean_squared_error(demand,forecast_d2_des_2)\r\n",
        "mse_d2_des_3=mean_squared_error(demand,forecast_d2_des_3)\r\n",
        "\r\n",
        "print(\"Mean of Square Errors for alpha = 0.2,beta= 0.3 is: \",mse_d2_des_1)\r\n",
        "print(\"Mean of Square Errors for alpha = 0.5,beta= 0.6 is: \",mse_d2_des_2)\r\n",
        "print(\"Mean of Square Errors for alpha = 0.8,beta= 0.9 is: \",mse_d2_des_3)"
      ],
      "execution_count": 84,
      "outputs": [
        {
          "output_type": "stream",
          "text": [
            "Mean of Square Errors for alpha = 0.2,beta= 0.3 is:  5654.4471403397865\n",
            "Mean of Square Errors for alpha = 0.5,beta= 0.6 is:  8150.740235092144\n",
            "Mean of Square Errors for alpha = 0.8,beta= 0.9 is:  17610.337587153404\n"
          ],
          "name": "stdout"
        }
      ]
    },
    {
      "cell_type": "code",
      "metadata": {
        "colab": {
          "base_uri": "https://localhost:8080/",
          "height": 301
        },
        "id": "utM-g_9XTjAG",
        "outputId": "5e374e17-0359-403e-d292-d316bf95ea71"
      },
      "source": [
        "d2_des_1={'Demand':demand,'Forecast':forecast_d2_des_1}\r\n",
        "d2_des_2={'Demand':demand,'Forecast':forecast_d2_des_2}\r\n",
        "d2_des_3={'Demand':demand,'Forecast':forecast_d2_des_3}\r\n",
        "\r\n",
        "df1=pd.DataFrame(d2_des_1)\r\n",
        "df2=pd.DataFrame(d2_des_2)\r\n",
        "df3=pd.DataFrame(d2_des_3)\r\n",
        "\r\n",
        "if mse_d2_des_1<=mse_d2_des_2 and mse_d2_des_1<=mse_d2_des_3:\r\n",
        "  print('alpha: ',alpha1)\r\n",
        "  print('beta: ',beta1)\r\n",
        "  df1.plot(style=['-','-'])\r\n",
        "elif mse_d2_des_2<=mse_d2_des_1 and mse_d2_des_2<=mse_d2_des_3:\r\n",
        "  print('alpha: ',alpha2)\r\n",
        "  print('beta: ',beta2)\r\n",
        "  df2.plot(style=['-','-'])\r\n",
        "else:\r\n",
        "  print('alpha: ',alpha3)\r\n",
        "  print('beta: ',beta3)\r\n",
        "  df3.plot(style=['-','-'])"
      ],
      "execution_count": 85,
      "outputs": [
        {
          "output_type": "stream",
          "text": [
            "alpha:  0.2\n",
            "beta:  0.3\n"
          ],
          "name": "stdout"
        },
        {
          "output_type": "display_data",
          "data": {
            "image/png": "[encoded data removed]",
            "text/plain": [
              "<Figure size 432x288 with 1 Axes>"
            ]
          },
          "metadata": {
            "tags": [],
            "needs_background": "light"
          }
        }
      ]
    },
    {
      "cell_type": "markdown",
      "metadata": {
        "id": "RIn32M51yDs2"
      },
      "source": [
        "2. For interval of 2 month"
      ]
    },
    {
      "cell_type": "code",
      "metadata": {
        "id": "mfCSXxoyTlBC"
      },
      "source": [
        "#Creating demand list in 'n' intervals\r\n",
        "demand=dem_n(data['Sales of shampoo over a three year period'],2)"
      ],
      "execution_count": 86,
      "outputs": []
    },
    {
      "cell_type": "code",
      "metadata": {
        "id": "OuNzUfbGTlBC"
      },
      "source": [
        "#Forecasting\r\n",
        "alpha1=0.2\r\n",
        "alpha2=0.5\r\n",
        "alpha3=0.8\r\n",
        "\r\n",
        "beta1=0.3\r\n",
        "beta2=0.6\r\n",
        "beta3=0.9\r\n",
        "\r\n",
        "forecast_d2_des_1=des(demand,alpha1,beta1)\r\n",
        "forecast_d2_des_2=des(demand,alpha2,beta2)\r\n",
        "forecast_d2_des_3=des(demand,alpha3,beta3)"
      ],
      "execution_count": 87,
      "outputs": []
    },
    {
      "cell_type": "code",
      "metadata": {
        "colab": {
          "base_uri": "https://localhost:8080/"
        },
        "id": "_eTa4Jk-TlBD",
        "outputId": "8916e330-f4fc-4981-b87a-88c3af704161"
      },
      "source": [
        "#Calculating Mean of Square Errors\r\n",
        "mse_d2_des_1=mean_squared_error(demand,forecast_d2_des_1)\r\n",
        "mse_d2_des_2=mean_squared_error(demand,forecast_d2_des_2)\r\n",
        "mse_d2_des_3=mean_squared_error(demand,forecast_d2_des_3)\r\n",
        "\r\n",
        "print(\"Mean of Square Errors for alpha = 0.2,beta= 0.3 is: \",mse_d2_des_1)\r\n",
        "print(\"Mean of Square Errors for alpha = 0.5,beta= 0.6 is: \",mse_d2_des_2)\r\n",
        "print(\"Mean of Square Errors for alpha = 0.8,beta= 0.9 is: \",mse_d2_des_3)"
      ],
      "execution_count": 88,
      "outputs": [
        {
          "output_type": "stream",
          "text": [
            "Mean of Square Errors for alpha = 0.2,beta= 0.3 is:  12135.859514695057\n",
            "Mean of Square Errors for alpha = 0.5,beta= 0.6 is:  7116.866005519517\n",
            "Mean of Square Errors for alpha = 0.8,beta= 0.9 is:  10360.307208357472\n"
          ],
          "name": "stdout"
        }
      ]
    },
    {
      "cell_type": "code",
      "metadata": {
        "colab": {
          "base_uri": "https://localhost:8080/",
          "height": 300
        },
        "id": "xUDQURymTlBE",
        "outputId": "7bf261a8-685c-4991-ff1f-9937083ecfdc"
      },
      "source": [
        "d2_des_1={'Demand':demand,'Forecast':forecast_d2_des_1}\r\n",
        "d2_des_2={'Demand':demand,'Forecast':forecast_d2_des_2}\r\n",
        "d2_des_3={'Demand':demand,'Forecast':forecast_d2_des_3}\r\n",
        "\r\n",
        "df1=pd.DataFrame(d2_des_1)\r\n",
        "df2=pd.DataFrame(d2_des_2)\r\n",
        "df3=pd.DataFrame(d2_des_3)\r\n",
        "\r\n",
        "if mse_d2_des_1<=mse_d2_des_2 and mse_d2_des_1<=mse_d2_des_3:\r\n",
        "  print('alpha: ',alpha1)\r\n",
        "  print('beta: ',beta1)\r\n",
        "  df1.plot(style=['-','-'])\r\n",
        "elif mse_d2_des_2<=mse_d2_des_1 and mse_d2_des_2<=mse_d2_des_3:\r\n",
        "  print('alpha: ',alpha2)\r\n",
        "  print('beta: ',beta2)\r\n",
        "  df2.plot(style=['-','-'])\r\n",
        "else:\r\n",
        "  print('alpha: ',alpha3)\r\n",
        "  print('beta: ',beta3)\r\n",
        "  df3.plot(style=['-','-'])"
      ],
      "execution_count": 89,
      "outputs": [
        {
          "output_type": "stream",
          "text": [
            "alpha:  0.5\n",
            "beta:  0.6\n"
          ],
          "name": "stdout"
        },
        {
          "output_type": "display_data",
          "data": {
            "image/png": "[encoded data removed]",
            "text/plain": [
              "<Figure size 432x288 with 1 Axes>"
            ]
          },
          "metadata": {
            "tags": [],
            "needs_background": "light"
          }
        }
      ]
    },
    {
      "cell_type": "markdown",
      "metadata": {
        "id": "z2SEduW_yG83"
      },
      "source": [
        "3. For interval of 4 month"
      ]
    },
    {
      "cell_type": "code",
      "metadata": {
        "id": "Fs21hBeMTlVf"
      },
      "source": [
        "#Creating demand list in 'n' intervals\r\n",
        "demand=dem_n(data['Sales of shampoo over a three year period'],4)"
      ],
      "execution_count": 90,
      "outputs": []
    },
    {
      "cell_type": "code",
      "metadata": {
        "id": "i4JPOYg6TlVe"
      },
      "source": [
        "4#Forecasting\r\n",
        "alpha1=0.2\r\n",
        "alpha2=0.5\r\n",
        "alpha3=0.8\r\n",
        "\r\n",
        "beta1=0.3\r\n",
        "beta2=0.6\r\n",
        "beta3=0.9\r\n",
        "\r\n",
        "forecast_d2_des_1=des(demand,alpha1,beta1)\r\n",
        "forecast_d2_des_2=des(demand,alpha2,beta2)\r\n",
        "forecast_d2_des_3=des(demand,alpha3,beta3)"
      ],
      "execution_count": 91,
      "outputs": []
    },
    {
      "cell_type": "code",
      "metadata": {
        "colab": {
          "base_uri": "https://localhost:8080/"
        },
        "id": "cmDFDbzeTlVf",
        "outputId": "c5808ac6-ff19-4394-d9fa-c0a09f3ea25b"
      },
      "source": [
        "#Calculating Mean of Square Errors\r\n",
        "mse_d2_des_1=mean_squared_error(demand,forecast_d2_des_1)\r\n",
        "mse_d2_des_2=mean_squared_error(demand,forecast_d2_des_2)\r\n",
        "mse_d2_des_3=mean_squared_error(demand,forecast_d2_des_3)\r\n",
        "\r\n",
        "print(\"Mean of Square Errors for alpha = 0.2,beta= 0.3 is: \",mse_d2_des_1)\r\n",
        "print(\"Mean of Square Errors for alpha = 0.5,beta= 0.6 is: \",mse_d2_des_2)\r\n",
        "print(\"Mean of Square Errors for alpha = 0.8,beta= 0.9 is: \",mse_d2_des_3)"
      ],
      "execution_count": 92,
      "outputs": [
        {
          "output_type": "stream",
          "text": [
            "Mean of Square Errors for alpha = 0.2,beta= 0.3 is:  19676.988093930686\n",
            "Mean of Square Errors for alpha = 0.5,beta= 0.6 is:  12204.916099023323\n",
            "Mean of Square Errors for alpha = 0.8,beta= 0.9 is:  8548.9787530965\n"
          ],
          "name": "stdout"
        }
      ]
    },
    {
      "cell_type": "code",
      "metadata": {
        "colab": {
          "base_uri": "https://localhost:8080/",
          "height": 301
        },
        "id": "NQLdhwJFTlVf",
        "outputId": "e47d2469-c2db-425c-96c9-f132ca5fc824"
      },
      "source": [
        "d2_des_1={'Demand':demand,'Forecast':forecast_d2_des_1}\r\n",
        "d2_des_2={'Demand':demand,'Forecast':forecast_d2_des_2}\r\n",
        "d2_des_3={'Demand':demand,'Forecast':forecast_d2_des_3}\r\n",
        "\r\n",
        "df1=pd.DataFrame(d2_des_1)\r\n",
        "df2=pd.DataFrame(d2_des_2)\r\n",
        "df3=pd.DataFrame(d2_des_3)\r\n",
        "\r\n",
        "if mse_d2_des_1<=mse_d2_des_2 and mse_d2_des_1<=mse_d2_des_3:\r\n",
        "  print('alpha: ',alpha1)\r\n",
        "  print('beta: ',beta1)\r\n",
        "  df1.plot(style=['-','-'])\r\n",
        "elif mse_d2_des_2<=mse_d2_des_1 and mse_d2_des_2<=mse_d2_des_3:\r\n",
        "  print('alpha: ',alpha2)\r\n",
        "  print('beta: ',beta2)\r\n",
        "  df2.plot(style=['-','-'])\r\n",
        "else:\r\n",
        "  print('alpha: ',alpha3)\r\n",
        "  print('beta: ',beta3)\r\n",
        "  df3.plot(style=['-','-'])"
      ],
      "execution_count": 93,
      "outputs": [
        {
          "output_type": "stream",
          "text": [
            "alpha:  0.8\n",
            "beta:  0.9\n"
          ],
          "name": "stdout"
        },
        {
          "output_type": "display_data",
          "data": {
            "image/png": "[encoded data removed]",
            "text/plain": [
              "<Figure size 432x288 with 1 Axes>"
            ]
          },
          "metadata": {
            "tags": [],
            "needs_background": "light"
          }
        }
      ]
    },
    {
      "cell_type": "markdown",
      "metadata": {
        "id": "knWGxZxWycej"
      },
      "source": [
        "4. For interval of 8 month"
      ]
    },
    {
      "cell_type": "code",
      "metadata": {
        "id": "-pcl5Gn_TlqH"
      },
      "source": [
        "#Creating demand list in 'n' intervals\r\n",
        "demand=dem_n(data['Sales of shampoo over a three year period'],8)"
      ],
      "execution_count": 94,
      "outputs": []
    },
    {
      "cell_type": "code",
      "metadata": {
        "id": "A93n3QxUTlqH"
      },
      "source": [
        "#Forecasting\r\n",
        "alpha1=0.2\r\n",
        "alpha2=0.5\r\n",
        "alpha3=0.8\r\n",
        "\r\n",
        "beta1=0.3\r\n",
        "beta2=0.6\r\n",
        "beta3=0.9\r\n",
        "\r\n",
        "forecast_d2_des_1=des(demand,alpha1,beta1)\r\n",
        "forecast_d2_des_2=des(demand,alpha2,beta2)\r\n",
        "forecast_d2_des_3=des(demand,alpha3,beta3)"
      ],
      "execution_count": 95,
      "outputs": []
    },
    {
      "cell_type": "code",
      "metadata": {
        "colab": {
          "base_uri": "https://localhost:8080/"
        },
        "id": "pVmrnLm9TlqJ",
        "outputId": "9f761aa6-ec9c-42c3-8d25-a80cbfe4b4dd"
      },
      "source": [
        "#Calculating Mean of Square Errors\r\n",
        "mse_d2_des_1=mean_squared_error(demand,forecast_d2_des_1)\r\n",
        "mse_d2_des_2=mean_squared_error(demand,forecast_d2_des_2)\r\n",
        "mse_d2_des_3=mean_squared_error(demand,forecast_d2_des_3)\r\n",
        "\r\n",
        "print(\"Mean of Square Errors for alpha = 0.2,beta= 0.3 is: \",mse_d2_des_1)\r\n",
        "print(\"Mean of Square Errors for alpha = 0.5,beta= 0.6 is: \",mse_d2_des_2)\r\n",
        "print(\"Mean of Square Errors for alpha = 0.8,beta= 0.9 is: \",mse_d2_des_3)"
      ],
      "execution_count": 96,
      "outputs": [
        {
          "output_type": "stream",
          "text": [
            "Mean of Square Errors for alpha = 0.2,beta= 0.3 is:  26426.46368184635\n",
            "Mean of Square Errors for alpha = 0.5,beta= 0.6 is:  35368.46196403201\n",
            "Mean of Square Errors for alpha = 0.8,beta= 0.9 is:  28664.570879174913\n"
          ],
          "name": "stdout"
        }
      ]
    },
    {
      "cell_type": "code",
      "metadata": {
        "colab": {
          "base_uri": "https://localhost:8080/",
          "height": 302
        },
        "id": "5HwuvtkwTlqJ",
        "outputId": "f7a5590a-f03e-45a7-85ab-fe7c4ef0c6ae"
      },
      "source": [
        "d2_des_1={'Demand':demand,'Forecast':forecast_d2_des_1}\r\n",
        "d2_des_2={'Demand':demand,'Forecast':forecast_d2_des_2}\r\n",
        "d2_des_3={'Demand':demand,'Forecast':forecast_d2_des_3}\r\n",
        "\r\n",
        "df1=pd.DataFrame(d2_des_1)\r\n",
        "df2=pd.DataFrame(d2_des_2)\r\n",
        "df3=pd.DataFrame(d2_des_3)\r\n",
        "\r\n",
        "if mse_d2_des_1<=mse_d2_des_2 and mse_d2_des_1<=mse_d2_des_3:\r\n",
        "  print('alpha: ',alpha1)\r\n",
        "  print('beta: ',beta1)\r\n",
        "  df1.plot(style=['-','-'])\r\n",
        "elif mse_d2_des_2<=mse_d2_des_1 and mse_d2_des_2<=mse_d2_des_3:\r\n",
        "  print('alpha: ',alpha2)\r\n",
        "  print('beta: ',beta2)\r\n",
        "  df2.plot(style=['-','-'])\r\n",
        "else:\r\n",
        "  print('alpha: ',alpha3)\r\n",
        "  print('beta: ',beta3)\r\n",
        "  df3.plot(style=['-','-'])"
      ],
      "execution_count": 97,
      "outputs": [
        {
          "output_type": "stream",
          "text": [
            "alpha:  0.2\n",
            "beta:  0.3\n"
          ],
          "name": "stdout"
        },
        {
          "output_type": "display_data",
          "data": {
            "image/png": "[encoded data removed]",
            "text/plain": [
              "<Figure size 432x288 with 1 Axes>"
            ]
          },
          "metadata": {
            "tags": [],
            "needs_background": "light"
          }
        }
      ]
    },
    {
      "cell_type": "markdown",
      "metadata": {
        "id": "ilUm9N2kyfcr"
      },
      "source": [
        "5. For interval of 12 month"
      ]
    },
    {
      "cell_type": "code",
      "metadata": {
        "id": "zQerfkp3Tl9o"
      },
      "source": [
        "#Creating demand list in 'n' intervals\r\n",
        "demand=dem_n(data['Sales of shampoo over a three year period'],12)"
      ],
      "execution_count": 98,
      "outputs": []
    },
    {
      "cell_type": "code",
      "metadata": {
        "id": "IZY41AEkTl9n"
      },
      "source": [
        "#Forecasting\r\n",
        "alpha1=0.2\r\n",
        "alpha2=0.5\r\n",
        "alpha3=0.8\r\n",
        "\r\n",
        "beta1=0.3\r\n",
        "beta2=0.6\r\n",
        "beta3=0.9\r\n",
        "\r\n",
        "forecast_d2_des_1=des(demand,alpha1,beta1)\r\n",
        "forecast_d2_des_2=des(demand,alpha2,beta2)\r\n",
        "forecast_d2_des_3=des(demand,alpha3,beta3)"
      ],
      "execution_count": 99,
      "outputs": []
    },
    {
      "cell_type": "code",
      "metadata": {
        "colab": {
          "base_uri": "https://localhost:8080/"
        },
        "id": "PtsTaBPeTl9o",
        "outputId": "f8e661dc-79ea-4247-f761-e5d281cb7aed"
      },
      "source": [
        "#Calculating Mean of Square Errors\r\n",
        "mse_d2_des_1=mean_squared_error(demand,forecast_d2_des_1)\r\n",
        "mse_d2_des_2=mean_squared_error(demand,forecast_d2_des_2)\r\n",
        "mse_d2_des_3=mean_squared_error(demand,forecast_d2_des_3)\r\n",
        "\r\n",
        "print(\"Mean of Square Errors for alpha = 0.2,beta= 0.3 is: \",mse_d2_des_1)\r\n",
        "print(\"Mean of Square Errors for alpha = 0.5,beta= 0.6 is: \",mse_d2_des_2)\r\n",
        "print(\"Mean of Square Errors for alpha = 0.8,beta= 0.9 is: \",mse_d2_des_3)"
      ],
      "execution_count": 100,
      "outputs": [
        {
          "output_type": "stream",
          "text": [
            "Mean of Square Errors for alpha = 0.2,beta= 0.3 is:  4193.213409666667\n",
            "Mean of Square Errors for alpha = 0.5,beta= 0.6 is:  6441.429366666666\n",
            "Mean of Square Errors for alpha = 0.8,beta= 0.9 is:  13002.260838666662\n"
          ],
          "name": "stdout"
        }
      ]
    },
    {
      "cell_type": "code",
      "metadata": {
        "colab": {
          "base_uri": "https://localhost:8080/",
          "height": 300
        },
        "id": "4xSoJlnQTl9o",
        "outputId": "3948c3f4-dd45-457c-b289-2586e7f55c3f"
      },
      "source": [
        "d2_des_1={'Demand':demand,'Forecast':forecast_d2_des_1}\r\n",
        "d2_des_2={'Demand':demand,'Forecast':forecast_d2_des_2}\r\n",
        "d2_des_3={'Demand':demand,'Forecast':forecast_d2_des_3}\r\n",
        "\r\n",
        "df1=pd.DataFrame(d2_des_1)\r\n",
        "df2=pd.DataFrame(d2_des_2)\r\n",
        "df3=pd.DataFrame(d2_des_3)\r\n",
        "\r\n",
        "if mse_d2_des_1<=mse_d2_des_2 and mse_d2_des_1<=mse_d2_des_3:\r\n",
        "  print('alpha: ',alpha1)\r\n",
        "  print('beta: ',beta1)\r\n",
        "  df1.plot(style=['-','-'])\r\n",
        "elif mse_d2_des_2<=mse_d2_des_1 and mse_d2_des_2<=mse_d2_des_3:\r\n",
        "  print('alpha: ',alpha2)\r\n",
        "  print('beta: ',beta2)\r\n",
        "  df2.plot(style=['-','-'])\r\n",
        "else:\r\n",
        "  print('alpha: ',alpha3)\r\n",
        "  print('beta: ',beta3)\r\n",
        "  df3.plot(style=['-','-'])"
      ],
      "execution_count": 101,
      "outputs": [
        {
          "output_type": "stream",
          "text": [
            "alpha:  0.2\n",
            "beta:  0.3\n"
          ],
          "name": "stdout"
        },
        {
          "output_type": "display_data",
          "data": {
            "image/png": "[encoded data removed]",
            "text/plain": [
              "<Figure size 432x288 with 1 Axes>"
            ]
          },
          "metadata": {
            "tags": [],
            "needs_background": "light"
          }
        }
      ]
    },
    {
      "cell_type": "markdown",
      "metadata": {
        "id": "_1sObFQpyie_"
      },
      "source": [
        "6. For interval of 24 month"
      ]
    },
    {
      "cell_type": "code",
      "metadata": {
        "id": "o_sMLgZwTmRI"
      },
      "source": [
        "#Creating demand list in 'n' intervals\r\n",
        "demand=dem_n(data['Sales of shampoo over a three year period'],24)"
      ],
      "execution_count": 148,
      "outputs": []
    },
    {
      "cell_type": "code",
      "metadata": {
        "id": "jHzljdJ5TmRH"
      },
      "source": [
        "#Forecasting\r\n",
        "alpha1=0.2\r\n",
        "alpha2=0.5\r\n",
        "alpha3=0.8\r\n",
        "\r\n",
        "beta1=0.3\r\n",
        "beta2=0.6\r\n",
        "beta3=0.9\r\n",
        "\r\n",
        "forecast_d2_des_1=des(demand,alpha1,beta1)\r\n",
        "forecast_d2_des_2=des(demand,alpha2,beta2)\r\n",
        "forecast_d2_des_3=des(demand,alpha3,beta3)"
      ],
      "execution_count": 150,
      "outputs": []
    },
    {
      "cell_type": "code",
      "metadata": {
        "colab": {
          "base_uri": "https://localhost:8080/"
        },
        "id": "iQLAuP2gTmRI",
        "outputId": "fe274cf1-7c75-4ae1-be2e-44ac6a7499b6"
      },
      "source": [
        "#Calculating Mean of Square Errors\r\n",
        "mse_d2_des_1=mean_squared_error(demand,forecast_d2_des_1)\r\n",
        "mse_d2_des_2=mean_squared_error(demand,forecast_d2_des_2)\r\n",
        "mse_d2_des_3=mean_squared_error(demand,forecast_d2_des_3)\r\n",
        "\r\n",
        "print(\"Mean of Square Errors for alpha = 0.2,beta= 0.3 is: \",mse_d2_des_1)\r\n",
        "print(\"Mean of Square Errors for alpha = 0.5,beta= 0.6 is: \",mse_d2_des_2)\r\n",
        "print(\"Mean of Square Errors for alpha = 0.8,beta= 0.9 is: \",mse_d2_des_3)"
      ],
      "execution_count": 151,
      "outputs": [
        {
          "output_type": "stream",
          "text": [
            "Mean of Square Errors for alpha = 0.2,beta= 0.3 is:  0.0\n",
            "Mean of Square Errors for alpha = 0.5,beta= 0.6 is:  0.0\n",
            "Mean of Square Errors for alpha = 0.8,beta= 0.9 is:  0.0\n"
          ],
          "name": "stdout"
        }
      ]
    },
    {
      "cell_type": "code",
      "metadata": {
        "colab": {
          "base_uri": "https://localhost:8080/",
          "height": 300
        },
        "id": "X_jmBAZwTmRJ",
        "outputId": "7283d11a-8358-492d-edbe-80b3a045963e"
      },
      "source": [
        "d2_des_1={'Demand':demand,'Forecast':forecast_d2_des_1}\r\n",
        "d2_des_2={'Demand':demand,'Forecast':forecast_d2_des_2}\r\n",
        "d2_des_3={'Demand':demand,'Forecast':forecast_d2_des_3}\r\n",
        "\r\n",
        "df1=pd.DataFrame(d2_des_1)\r\n",
        "df2=pd.DataFrame(d2_des_2)\r\n",
        "df3=pd.DataFrame(d2_des_3)\r\n",
        "\r\n",
        "if mse_d2_des_1<=mse_d2_des_2 and mse_d2_des_1<=mse_d2_des_3:\r\n",
        "  print('alpha: ',alpha1)\r\n",
        "  print('beta: ',beta1)\r\n",
        "  df1.plot()\r\n",
        "elif mse_d2_des_2<=mse_d2_des_1 and mse_d2_des_2<=mse_d2_des_3:\r\n",
        "  print('alpha: ',alpha2)\r\n",
        "  print('beta: ',beta2)\r\n",
        "  df2.plot(style=['-','-'])\r\n",
        "else:\r\n",
        "  print('alpha: ',alpha3)\r\n",
        "  print('beta: ',beta3)\r\n",
        "  df3.plot(style=['-','-'])"
      ],
      "execution_count": 152,
      "outputs": [
        {
          "output_type": "stream",
          "text": [
            "alpha:  0.2\n",
            "beta:  0.3\n"
          ],
          "name": "stdout"
        },
        {
          "output_type": "display_data",
          "data": {
            "image/png": "[encoded data removed]",
            "text/plain": [
              "<Figure size 432x288 with 1 Axes>"
            ]
          },
          "metadata": {
            "tags": [],
            "needs_background": "light"
          }
        }
      ]
    },
    {
      "cell_type": "markdown",
      "metadata": {
        "id": "wtoddjk9DnLN"
      },
      "source": [
        "\r\n",
        "\r\n",
        "---\r\n",
        "\r\n"
      ]
    },
    {
      "cell_type": "markdown",
      "metadata": {
        "id": "6D6Yzn0mEV8g"
      },
      "source": [
        "Tabulating Intervals and least MSE"
      ]
    },
    {
      "cell_type": "code",
      "metadata": {
        "colab": {
          "base_uri": "https://localhost:8080/"
        },
        "id": "HyruDq68_En6",
        "outputId": "3f3161f8-5165-4b99-cf32-93a0866a33f2"
      },
      "source": [
        "from tabulate import tabulate\r\n",
        "print(tabulate([['1 month',  5654.4471403397865], ['2 month',  7116.866005519517],['4 month',  8548.978753096],['8 month', 26426.46368184635],['12 month', 4193.213409666667],['24 month', 0.0]], headers=['Intervals', 'Least MSE'], tablefmt='grid'))"
      ],
      "execution_count": 153,
      "outputs": [
        {
          "output_type": "stream",
          "text": [
            "+-------------+-------------+\n",
            "| Intervals   |   Least MSE |\n",
            "+=============+=============+\n",
            "| 1 month     |     5654.45 |\n",
            "+-------------+-------------+\n",
            "| 2 month     |     7116.87 |\n",
            "+-------------+-------------+\n",
            "| 4 month     |     8548.98 |\n",
            "+-------------+-------------+\n",
            "| 8 month     |    26426.5  |\n",
            "+-------------+-------------+\n",
            "| 12 month    |     4193.21 |\n",
            "+-------------+-------------+\n",
            "| 24 month    |        0    |\n",
            "+-------------+-------------+\n"
          ],
          "name": "stdout"
        }
      ]
    },
    {
      "cell_type": "markdown",
      "metadata": {
        "id": "kAfqx-beEV8z"
      },
      "source": [
        "Plotting MSE for Constructed Table"
      ]
    },
    {
      "cell_type": "code",
      "metadata": {
        "colab": {
          "base_uri": "https://localhost:8080/",
          "height": 309
        },
        "id": "LKBh4OBE_En7",
        "outputId": "f80f1de6-c274-455c-fc2f-f115d48fee52"
      },
      "source": [
        "import matplotlib.pyplot as plt\r\n",
        "plt.scatter(['1 month','2 month','4 month','8 month','12 month','24 month'], [5654.45 ,7116.87 ,8548.98 ,26426.5  , 4193.21 ,0],c='r')\r\n",
        "plt.title('Least MSE for different intervals for Double Exponential Smoothening Function',pad=20)\r\n",
        "plt.xlabel('Intervals')\r\n",
        "plt.ylabel('Least MSE of predicted for each interval')\r\n",
        "plt.show()"
      ],
      "execution_count": 154,
      "outputs": [
        {
          "output_type": "display_data",
          "data": {
            "image/png": "[encoded data removed]",
            "text/plain": [
              "<Figure size 432x288 with 1 Axes>"
            ]
          },
          "metadata": {
            "tags": [],
            "needs_background": "light"
          }
        }
      ]
    },
    {
      "cell_type": "markdown",
      "metadata": {
        "id": "ks647T13orj4"
      },
      "source": [
        "\r\n",
        "\r\n",
        "---\r\n",
        "\r\n"
      ]
    },
    {
      "cell_type": "markdown",
      "metadata": {
        "id": "rZ2K8v-UouRe"
      },
      "source": [
        "For Triple Exponential Smoothening"
      ]
    },
    {
      "cell_type": "markdown",
      "metadata": {
        "id": "uknUu9OPo5Qd"
      },
      "source": [
        "1. For interval of 1 month"
      ]
    },
    {
      "cell_type": "code",
      "metadata": {
        "id": "s-OkgTgBo3g8"
      },
      "source": [
        "#Creating demand list in 'n' intervals\r\n",
        "demand=dem_n(data['Sales of shampoo over a three year period'],1)"
      ],
      "execution_count": 112,
      "outputs": []
    },
    {
      "cell_type": "code",
      "metadata": {
        "id": "15pfcIoGo3g9"
      },
      "source": [
        "#Forecasting\r\n",
        "alpha1=0.2\r\n",
        "alpha2=0.5\r\n",
        "alpha3=0.8\r\n",
        "\r\n",
        "beta1=0.3\r\n",
        "beta2=0.6\r\n",
        "beta3=0.9\r\n",
        "\r\n",
        "gamma1=0.4\r\n",
        "gamma2=0.7\r\n",
        "gamma3=0.95\r\n",
        "\r\n",
        "#Considering season of 12 months here\r\n",
        "\r\n",
        "forecast_d2_tes_1=tes(demand,12,alpha1,beta1,gamma1,0)\r\n",
        "forecast_d2_tes_2=tes(demand,12,alpha2,beta2,gamma2,0)\r\n",
        "forecast_d2_tes_3=tes(demand,12,alpha3,beta3,gamma3,0)"
      ],
      "execution_count": 113,
      "outputs": []
    },
    {
      "cell_type": "code",
      "metadata": {
        "colab": {
          "base_uri": "https://localhost:8080/"
        },
        "id": "J00Wdvqdo3g-",
        "outputId": "24fe4c2b-fe1b-4a66-cf27-1cc00a63ee97"
      },
      "source": [
        "mse_d2_tes_1=mean_squared_error(demand,forecast_d2_tes_1)\r\n",
        "mse_d2_tes_2=mean_squared_error(demand,forecast_d2_tes_2)\r\n",
        "mse_d2_tes_3=mean_squared_error(demand,forecast_d2_tes_3)\r\n",
        "\r\n",
        "print(\"Mean of Square Errors for alpha = 0.2,beta= 0.3 gamma=0.4 is: \",mse_d2_tes_1)\r\n",
        "print(\"Mean of Square Errors for alpha = 0.5,beta= 0.6 gamma=0.7 is: \",mse_d2_tes_2)\r\n",
        "print(\"Mean of Square Errors for alpha = 0.8,beta= 0.9 gamma=0.95 is: \",mse_d2_tes_3)"
      ],
      "execution_count": 114,
      "outputs": [
        {
          "output_type": "stream",
          "text": [
            "Mean of Square Errors for alpha = 0.2,beta= 0.3 gamma=0.4 is:  1705.5940793672862\n",
            "Mean of Square Errors for alpha = 0.5,beta= 0.6 gamma=0.7 is:  527.7554251944694\n",
            "Mean of Square Errors for alpha = 0.8,beta= 0.9 gamma=0.95 is:  3940.441345408781\n"
          ],
          "name": "stdout"
        }
      ]
    },
    {
      "cell_type": "code",
      "metadata": {
        "colab": {
          "base_uri": "https://localhost:8080/",
          "height": 318
        },
        "id": "eV1Cs1gyo3g_",
        "outputId": "71c881b5-e551-4ee0-8e56-7fc57713f25d"
      },
      "source": [
        "d2_tes_1={'Demand':demand,'Forecast':forecast_d2_tes_1}\r\n",
        "d2_tes_2={'Demand':demand,'Forecast':forecast_d2_tes_2}\r\n",
        "d2_tes_3={'Demand':demand,'Forecast':forecast_d2_tes_3}\r\n",
        "\r\n",
        "df1=pd.DataFrame(d2_tes_1)\r\n",
        "df2=pd.DataFrame(d2_tes_2)\r\n",
        "df3=pd.DataFrame(d2_tes_3)\r\n",
        "\r\n",
        "if mse_d2_tes_1<=mse_d2_tes_2 and mse_d2_tes_1<=mse_d2_tes_3:\r\n",
        "  print('alpha: ',alpha1)\r\n",
        "  print('beta: ',beta1)\r\n",
        "  print('gamma: ',gamma1)\r\n",
        "  df1.plot(style=['-','-'])\r\n",
        "elif mse_d2_tes_2<=mse_d2_tes_1 and mse_d2_tes_2<=mse_d2_tes_3:\r\n",
        "  print('alpha: ',alpha2)\r\n",
        "  print('beta: ',beta2)\r\n",
        "  print('gamma: ',gamma2)\r\n",
        "  df2.plot(style=['-','-'])\r\n",
        "else:\r\n",
        "  print('alpha: ',alpha3)\r\n",
        "  print('beta: ',beta3)\r\n",
        "  print('gamma: ',gamma3)\r\n",
        "  df3.plot(style=['-','-'])"
      ],
      "execution_count": 115,
      "outputs": [
        {
          "output_type": "stream",
          "text": [
            "alpha:  0.5\n",
            "beta:  0.6\n",
            "gamma:  0.7\n"
          ],
          "name": "stdout"
        },
        {
          "output_type": "display_data",
          "data": {
            "image/png": "[encoded data removed]",
            "text/plain": [
              "<Figure size 432x288 with 1 Axes>"
            ]
          },
          "metadata": {
            "tags": [],
            "needs_background": "light"
          }
        }
      ]
    },
    {
      "cell_type": "markdown",
      "metadata": {
        "id": "lBSjDpG7Gfyf"
      },
      "source": [
        "For the intervals 2 months, 4 months, 8 months, 12 months, 24 months and 48 months, the triple exponential smoothening defined by me is not giving output since I have taken the season length to be 12 months. Thus while applying the triple exponential smoothening, the index is going out of bound."
      ]
    },
    {
      "cell_type": "markdown",
      "metadata": {
        "id": "jtERmHBNCDtX"
      },
      "source": [
        "\r\n",
        "---\r\n",
        "\r\n"
      ]
    },
    {
      "cell_type": "markdown",
      "metadata": {
        "id": "cwOjuCUbCOTJ"
      },
      "source": [
        "Tabulating Intervals and least MSE"
      ]
    },
    {
      "cell_type": "code",
      "metadata": {
        "colab": {
          "base_uri": "https://localhost:8080/"
        },
        "id": "a3riU3AFCEsR",
        "outputId": "3621dd63-aee0-47ae-e3b4-f1f1f5045772"
      },
      "source": [
        "from tabulate import tabulate\r\n",
        "print(tabulate([['1 month', 527.7554251944694]], headers=['Intervals', 'Least MSE'], tablefmt='grid'))"
      ],
      "execution_count": 155,
      "outputs": [
        {
          "output_type": "stream",
          "text": [
            "+-------------+-------------+\n",
            "| Intervals   |   Least MSE |\n",
            "+=============+=============+\n",
            "| 1 month     |     527.755 |\n",
            "+-------------+-------------+\n"
          ],
          "name": "stdout"
        }
      ]
    },
    {
      "cell_type": "markdown",
      "metadata": {
        "id": "7NkcmzGaCOTK"
      },
      "source": [
        "Plotting MSE for Constructed Table"
      ]
    },
    {
      "cell_type": "code",
      "metadata": {
        "colab": {
          "base_uri": "https://localhost:8080/",
          "height": 309
        },
        "id": "2nHv75IBCEsU",
        "outputId": "e405ba18-9be3-43ef-8db8-fc7b9a438819"
      },
      "source": [
        "import matplotlib.pyplot as plt\r\n",
        "plt.scatter(['1 month'], [527.755],c='r')\r\n",
        "plt.title('Least MSE for different intervals for Triple Exponential Smoothening Function',pad=20)\r\n",
        "plt.xlabel('Intervals')\r\n",
        "plt.ylabel('Least MSE of predicted for each interval')\r\n",
        "plt.show()"
      ],
      "execution_count": 156,
      "outputs": [
        {
          "output_type": "display_data",
          "data": {
            "image/png": "[encoded data removed]",
            "text/plain": [
              "<Figure size 432x288 with 1 Axes>"
            ]
          },
          "metadata": {
            "tags": [],
            "needs_background": "light"
          }
        }
      ]
    },
    {
      "cell_type": "markdown",
      "metadata": {
        "id": "VCf73hu3DdFq"
      },
      "source": [
        "\r\n",
        "\r\n",
        "---\r\n",
        "\r\n",
        "---\r\n",
        "\r\n",
        "---\r\n",
        "\r\n",
        "\r\n",
        "\r\n",
        "\r\n",
        "\r\n"
      ]
    },
    {
      "cell_type": "markdown",
      "metadata": {
        "id": "8nS0jLqFDehK"
      },
      "source": [
        "**Forecasting with inbuilt function**"
      ]
    },
    {
      "cell_type": "code",
      "metadata": {
        "id": "n1eLgi88QGpZ"
      },
      "source": [
        "data_for_inbuilt=pd.read_csv('D2.csv')"
      ],
      "execution_count": 127,
      "outputs": []
    },
    {
      "cell_type": "markdown",
      "metadata": {
        "id": "udG6Hk7BTXmX"
      },
      "source": [
        "Forecast for Single Exponential Smoothening"
      ]
    },
    {
      "cell_type": "code",
      "metadata": {
        "colab": {
          "base_uri": "https://localhost:8080/",
          "height": 1000
        },
        "id": "s9oS8VHCgAMq",
        "outputId": "fdc7f2b8-3fec-4d20-f25c-8b6e20e64410"
      },
      "source": [
        "from statsmodels.tsa.holtwinters import SimpleExpSmoothing\r\n",
        "\r\n",
        "data_for_inbuilt['SES']=SimpleExpSmoothing(data_for_inbuilt['Sales of shampoo over a three year period']).fit(smoothing_level=0.8,optimized=False).fittedvalues.shift(0)\r\n",
        "data_for_inbuilt"
      ],
      "execution_count": 128,
      "outputs": [
        {
          "output_type": "execute_result",
          "data": {
            "text/html": [
              "<div>\n",
              "<style scoped>\n",
              "    .dataframe tbody tr th:only-of-type {\n",
              "        vertical-align: middle;\n",
              "    }\n",
              "\n",
              "    .dataframe tbody tr th {\n",
              "        vertical-align: top;\n",
              "    }\n",
              "\n",
              "    .dataframe thead th {\n",
              "        text-align: right;\n",
              "    }\n",
              "</style>\n",
              "<table border=\"1\" class=\"dataframe\">\n",
              "  <thead>\n",
              "    <tr style=\"text-align: right;\">\n",
              "      <th></th>\n",
              "      <th>Year</th>\n",
              "      <th>Sales of shampoo over a three year period</th>\n",
              "      <th>SES</th>\n",
              "    </tr>\n",
              "  </thead>\n",
              "  <tbody>\n",
              "    <tr>\n",
              "      <th>0</th>\n",
              "      <td>1</td>\n",
              "      <td>266.0</td>\n",
              "      <td>266.000000</td>\n",
              "    </tr>\n",
              "    <tr>\n",
              "      <th>1</th>\n",
              "      <td>2</td>\n",
              "      <td>145.9</td>\n",
              "      <td>266.000000</td>\n",
              "    </tr>\n",
              "    <tr>\n",
              "      <th>2</th>\n",
              "      <td>3</td>\n",
              "      <td>183.1</td>\n",
              "      <td>169.920000</td>\n",
              "    </tr>\n",
              "    <tr>\n",
              "      <th>3</th>\n",
              "      <td>4</td>\n",
              "      <td>119.3</td>\n",
              "      <td>180.464000</td>\n",
              "    </tr>\n",
              "    <tr>\n",
              "      <th>4</th>\n",
              "      <td>5</td>\n",
              "      <td>180.3</td>\n",
              "      <td>131.532800</td>\n",
              "    </tr>\n",
              "    <tr>\n",
              "      <th>5</th>\n",
              "      <td>6</td>\n",
              "      <td>168.5</td>\n",
              "      <td>170.546560</td>\n",
              "    </tr>\n",
              "    <tr>\n",
              "      <th>6</th>\n",
              "      <td>7</td>\n",
              "      <td>231.8</td>\n",
              "      <td>168.909312</td>\n",
              "    </tr>\n",
              "    <tr>\n",
              "      <th>7</th>\n",
              "      <td>8</td>\n",
              "      <td>224.5</td>\n",
              "      <td>219.221862</td>\n",
              "    </tr>\n",
              "    <tr>\n",
              "      <th>8</th>\n",
              "      <td>9</td>\n",
              "      <td>192.8</td>\n",
              "      <td>223.444372</td>\n",
              "    </tr>\n",
              "    <tr>\n",
              "      <th>9</th>\n",
              "      <td>10</td>\n",
              "      <td>122.9</td>\n",
              "      <td>198.928874</td>\n",
              "    </tr>\n",
              "    <tr>\n",
              "      <th>10</th>\n",
              "      <td>11</td>\n",
              "      <td>336.5</td>\n",
              "      <td>138.105775</td>\n",
              "    </tr>\n",
              "    <tr>\n",
              "      <th>11</th>\n",
              "      <td>12</td>\n",
              "      <td>185.9</td>\n",
              "      <td>296.821155</td>\n",
              "    </tr>\n",
              "    <tr>\n",
              "      <th>12</th>\n",
              "      <td>13</td>\n",
              "      <td>194.3</td>\n",
              "      <td>208.084231</td>\n",
              "    </tr>\n",
              "    <tr>\n",
              "      <th>13</th>\n",
              "      <td>14</td>\n",
              "      <td>149.5</td>\n",
              "      <td>197.056846</td>\n",
              "    </tr>\n",
              "    <tr>\n",
              "      <th>14</th>\n",
              "      <td>15</td>\n",
              "      <td>210.1</td>\n",
              "      <td>159.011369</td>\n",
              "    </tr>\n",
              "    <tr>\n",
              "      <th>15</th>\n",
              "      <td>16</td>\n",
              "      <td>273.3</td>\n",
              "      <td>199.882274</td>\n",
              "    </tr>\n",
              "    <tr>\n",
              "      <th>16</th>\n",
              "      <td>17</td>\n",
              "      <td>191.4</td>\n",
              "      <td>258.616455</td>\n",
              "    </tr>\n",
              "    <tr>\n",
              "      <th>17</th>\n",
              "      <td>18</td>\n",
              "      <td>287.0</td>\n",
              "      <td>204.843291</td>\n",
              "    </tr>\n",
              "    <tr>\n",
              "      <th>18</th>\n",
              "      <td>19</td>\n",
              "      <td>226.0</td>\n",
              "      <td>270.568658</td>\n",
              "    </tr>\n",
              "    <tr>\n",
              "      <th>19</th>\n",
              "      <td>20</td>\n",
              "      <td>303.6</td>\n",
              "      <td>234.913732</td>\n",
              "    </tr>\n",
              "    <tr>\n",
              "      <th>20</th>\n",
              "      <td>21</td>\n",
              "      <td>289.9</td>\n",
              "      <td>289.862746</td>\n",
              "    </tr>\n",
              "    <tr>\n",
              "      <th>21</th>\n",
              "      <td>22</td>\n",
              "      <td>421.6</td>\n",
              "      <td>289.892549</td>\n",
              "    </tr>\n",
              "    <tr>\n",
              "      <th>22</th>\n",
              "      <td>23</td>\n",
              "      <td>264.5</td>\n",
              "      <td>395.258510</td>\n",
              "    </tr>\n",
              "    <tr>\n",
              "      <th>23</th>\n",
              "      <td>24</td>\n",
              "      <td>342.3</td>\n",
              "      <td>290.651702</td>\n",
              "    </tr>\n",
              "    <tr>\n",
              "      <th>24</th>\n",
              "      <td>25</td>\n",
              "      <td>339.7</td>\n",
              "      <td>331.970340</td>\n",
              "    </tr>\n",
              "    <tr>\n",
              "      <th>25</th>\n",
              "      <td>26</td>\n",
              "      <td>440.4</td>\n",
              "      <td>338.154068</td>\n",
              "    </tr>\n",
              "    <tr>\n",
              "      <th>26</th>\n",
              "      <td>27</td>\n",
              "      <td>315.9</td>\n",
              "      <td>419.950814</td>\n",
              "    </tr>\n",
              "    <tr>\n",
              "      <th>27</th>\n",
              "      <td>28</td>\n",
              "      <td>439.3</td>\n",
              "      <td>336.710163</td>\n",
              "    </tr>\n",
              "    <tr>\n",
              "      <th>28</th>\n",
              "      <td>29</td>\n",
              "      <td>401.3</td>\n",
              "      <td>418.782033</td>\n",
              "    </tr>\n",
              "    <tr>\n",
              "      <th>29</th>\n",
              "      <td>30</td>\n",
              "      <td>437.4</td>\n",
              "      <td>404.796407</td>\n",
              "    </tr>\n",
              "    <tr>\n",
              "      <th>30</th>\n",
              "      <td>31</td>\n",
              "      <td>575.5</td>\n",
              "      <td>430.879281</td>\n",
              "    </tr>\n",
              "    <tr>\n",
              "      <th>31</th>\n",
              "      <td>32</td>\n",
              "      <td>407.6</td>\n",
              "      <td>546.575856</td>\n",
              "    </tr>\n",
              "    <tr>\n",
              "      <th>32</th>\n",
              "      <td>33</td>\n",
              "      <td>682.0</td>\n",
              "      <td>435.395171</td>\n",
              "    </tr>\n",
              "    <tr>\n",
              "      <th>33</th>\n",
              "      <td>34</td>\n",
              "      <td>475.3</td>\n",
              "      <td>632.679034</td>\n",
              "    </tr>\n",
              "    <tr>\n",
              "      <th>34</th>\n",
              "      <td>35</td>\n",
              "      <td>581.3</td>\n",
              "      <td>506.775807</td>\n",
              "    </tr>\n",
              "    <tr>\n",
              "      <th>35</th>\n",
              "      <td>36</td>\n",
              "      <td>646.9</td>\n",
              "      <td>566.395161</td>\n",
              "    </tr>\n",
              "  </tbody>\n",
              "</table>\n",
              "</div>"
            ],
            "text/plain": [
              "    Year  Sales of shampoo over a three year period         SES\n",
              "0      1                                      266.0  266.000000\n",
              "1      2                                      145.9  266.000000\n",
              "2      3                                      183.1  169.920000\n",
              "3      4                                      119.3  180.464000\n",
              "4      5                                      180.3  131.532800\n",
              "5      6                                      168.5  170.546560\n",
              "6      7                                      231.8  168.909312\n",
              "7      8                                      224.5  219.221862\n",
              "8      9                                      192.8  223.444372\n",
              "9     10                                      122.9  198.928874\n",
              "10    11                                      336.5  138.105775\n",
              "11    12                                      185.9  296.821155\n",
              "12    13                                      194.3  208.084231\n",
              "13    14                                      149.5  197.056846\n",
              "14    15                                      210.1  159.011369\n",
              "15    16                                      273.3  199.882274\n",
              "16    17                                      191.4  258.616455\n",
              "17    18                                      287.0  204.843291\n",
              "18    19                                      226.0  270.568658\n",
              "19    20                                      303.6  234.913732\n",
              "20    21                                      289.9  289.862746\n",
              "21    22                                      421.6  289.892549\n",
              "22    23                                      264.5  395.258510\n",
              "23    24                                      342.3  290.651702\n",
              "24    25                                      339.7  331.970340\n",
              "25    26                                      440.4  338.154068\n",
              "26    27                                      315.9  419.950814\n",
              "27    28                                      439.3  336.710163\n",
              "28    29                                      401.3  418.782033\n",
              "29    30                                      437.4  404.796407\n",
              "30    31                                      575.5  430.879281\n",
              "31    32                                      407.6  546.575856\n",
              "32    33                                      682.0  435.395171\n",
              "33    34                                      475.3  632.679034\n",
              "34    35                                      581.3  506.775807\n",
              "35    36                                      646.9  566.395161"
            ]
          },
          "metadata": {
            "tags": []
          },
          "execution_count": 128
        }
      ]
    },
    {
      "cell_type": "markdown",
      "metadata": {
        "id": "8UbCESE10SId"
      },
      "source": [
        "Comparing between my implementation and inbuilt function output"
      ]
    },
    {
      "cell_type": "code",
      "metadata": {
        "id": "KjusDzTN0ZXG"
      },
      "source": [
        "#Creating demand list in 'n' intervals\r\n",
        "demand=dem_n(data['Sales of shampoo over a three year period'],1)"
      ],
      "execution_count": 129,
      "outputs": []
    },
    {
      "cell_type": "code",
      "metadata": {
        "id": "Yr2uIvOS0ZXG"
      },
      "source": [
        "#Forecasting\r\n",
        "alpha=0.8\r\n",
        "forecast_d2_ses=ses(demand,alpha)"
      ],
      "execution_count": 130,
      "outputs": []
    },
    {
      "cell_type": "code",
      "metadata": {
        "id": "Q5FAFpwCzyVa"
      },
      "source": [
        "my_mse=mean_squared_error(demand,forecast_d2_ses)\r\n",
        "inbuilt_mse=mean_squared_error(data_for_inbuilt['Sales of shampoo over a three year period'],data_for_inbuilt.SES)"
      ],
      "execution_count": 131,
      "outputs": []
    },
    {
      "cell_type": "code",
      "metadata": {
        "colab": {
          "base_uri": "https://localhost:8080/"
        },
        "id": "2RXGJGRB1IOX",
        "outputId": "4eed2ade-45eb-477a-f570-21d8f1076bba"
      },
      "source": [
        "#Calculating error between my implementation and inbuilt function\r\n",
        "error=(inbuilt_mse-my_mse)/inbuilt_mse*100\r\n",
        "print(\"Precentage error between my implementation and inbuilt function output is: \",error,\"%\")"
      ],
      "execution_count": 132,
      "outputs": [
        {
          "output_type": "stream",
          "text": [
            "Precentage error between my implementation and inbuilt function output is:  0.0 %\n"
          ],
          "name": "stdout"
        }
      ]
    },
    {
      "cell_type": "markdown",
      "metadata": {
        "id": "ml4txWHQTgGy"
      },
      "source": [
        "Forecast for Double Exponential Smoothening"
      ]
    },
    {
      "cell_type": "code",
      "metadata": {
        "colab": {
          "base_uri": "https://localhost:8080/",
          "height": 1000
        },
        "id": "5TLQK8A48O8y",
        "outputId": "dfc6aa09-14af-4909-fd09-c9f45f8a25f6"
      },
      "source": [
        "from statsmodels.tsa.holtwinters import Holt\r\n",
        "\r\n",
        "data_for_inbuilt['DES'] = Holt(data_for_inbuilt['Sales of shampoo over a three year period']).fit(smoothing_level=0.2, smoothing_slope=0.3).fittedvalues.shift(0)\r\n",
        "\r\n",
        "data_for_inbuilt"
      ],
      "execution_count": 133,
      "outputs": [
        {
          "output_type": "execute_result",
          "data": {
            "text/html": [
              "<div>\n",
              "<style scoped>\n",
              "    .dataframe tbody tr th:only-of-type {\n",
              "        vertical-align: middle;\n",
              "    }\n",
              "\n",
              "    .dataframe tbody tr th {\n",
              "        vertical-align: top;\n",
              "    }\n",
              "\n",
              "    .dataframe thead th {\n",
              "        text-align: right;\n",
              "    }\n",
              "</style>\n",
              "<table border=\"1\" class=\"dataframe\">\n",
              "  <thead>\n",
              "    <tr style=\"text-align: right;\">\n",
              "      <th></th>\n",
              "      <th>Year</th>\n",
              "      <th>Sales of shampoo over a three year period</th>\n",
              "      <th>SES</th>\n",
              "      <th>DES</th>\n",
              "    </tr>\n",
              "  </thead>\n",
              "  <tbody>\n",
              "    <tr>\n",
              "      <th>0</th>\n",
              "      <td>1</td>\n",
              "      <td>266.0</td>\n",
              "      <td>266.000000</td>\n",
              "      <td>266.000000</td>\n",
              "    </tr>\n",
              "    <tr>\n",
              "      <th>1</th>\n",
              "      <td>2</td>\n",
              "      <td>145.9</td>\n",
              "      <td>266.000000</td>\n",
              "      <td>266.000000</td>\n",
              "    </tr>\n",
              "    <tr>\n",
              "      <th>2</th>\n",
              "      <td>3</td>\n",
              "      <td>183.1</td>\n",
              "      <td>169.920000</td>\n",
              "      <td>234.774000</td>\n",
              "    </tr>\n",
              "    <tr>\n",
              "      <th>3</th>\n",
              "      <td>4</td>\n",
              "      <td>119.3</td>\n",
              "      <td>180.464000</td>\n",
              "      <td>214.132760</td>\n",
              "    </tr>\n",
              "    <tr>\n",
              "      <th>4</th>\n",
              "      <td>5</td>\n",
              "      <td>180.3</td>\n",
              "      <td>131.532800</td>\n",
              "      <td>179.169802</td>\n",
              "    </tr>\n",
              "    <tr>\n",
              "      <th>5</th>\n",
              "      <td>6</td>\n",
              "      <td>168.5</td>\n",
              "      <td>170.546560</td>\n",
              "      <td>163.467248</td>\n",
              "    </tr>\n",
              "    <tr>\n",
              "      <th>6</th>\n",
              "      <td>7</td>\n",
              "      <td>231.8</td>\n",
              "      <td>168.909312</td>\n",
              "      <td>148.847170</td>\n",
              "    </tr>\n",
              "    <tr>\n",
              "      <th>7</th>\n",
              "      <td>8</td>\n",
              "      <td>224.5</td>\n",
              "      <td>219.221862</td>\n",
              "      <td>154.788277</td>\n",
              "    </tr>\n",
              "    <tr>\n",
              "      <th>8</th>\n",
              "      <td>9</td>\n",
              "      <td>192.8</td>\n",
              "      <td>223.444372</td>\n",
              "      <td>162.263866</td>\n",
              "    </tr>\n",
              "    <tr>\n",
              "      <th>9</th>\n",
              "      <td>10</td>\n",
              "      <td>122.9</td>\n",
              "      <td>198.928874</td>\n",
              "      <td>163.736506</td>\n",
              "    </tr>\n",
              "    <tr>\n",
              "      <th>10</th>\n",
              "      <td>11</td>\n",
              "      <td>336.5</td>\n",
              "      <td>138.105775</td>\n",
              "      <td>148.484427</td>\n",
              "    </tr>\n",
              "    <tr>\n",
              "      <th>11</th>\n",
              "      <td>12</td>\n",
              "      <td>185.9</td>\n",
              "      <td>296.821155</td>\n",
              "      <td>190.283698</td>\n",
              "    </tr>\n",
              "    <tr>\n",
              "      <th>12</th>\n",
              "      <td>13</td>\n",
              "      <td>194.3</td>\n",
              "      <td>208.084231</td>\n",
              "      <td>193.340093</td>\n",
              "    </tr>\n",
              "    <tr>\n",
              "      <th>13</th>\n",
              "      <td>14</td>\n",
              "      <td>149.5</td>\n",
              "      <td>197.056846</td>\n",
              "      <td>197.522804</td>\n",
              "    </tr>\n",
              "    <tr>\n",
              "      <th>14</th>\n",
              "      <td>15</td>\n",
              "      <td>210.1</td>\n",
              "      <td>159.011369</td>\n",
              "      <td>189.027604</td>\n",
              "    </tr>\n",
              "    <tr>\n",
              "      <th>15</th>\n",
              "      <td>16</td>\n",
              "      <td>273.3</td>\n",
              "      <td>199.882274</td>\n",
              "      <td>195.615788</td>\n",
              "    </tr>\n",
              "    <tr>\n",
              "      <th>16</th>\n",
              "      <td>17</td>\n",
              "      <td>191.4</td>\n",
              "      <td>258.616455</td>\n",
              "      <td>218.187388</td>\n",
              "    </tr>\n",
              "    <tr>\n",
              "      <th>17</th>\n",
              "      <td>18</td>\n",
              "      <td>287.0</td>\n",
              "      <td>204.843291</td>\n",
              "      <td>218.257424</td>\n",
              "    </tr>\n",
              "    <tr>\n",
              "      <th>18</th>\n",
              "      <td>19</td>\n",
              "      <td>226.0</td>\n",
              "      <td>270.568658</td>\n",
              "      <td>241.558008</td>\n",
              "    </tr>\n",
              "    <tr>\n",
              "      <th>19</th>\n",
              "      <td>20</td>\n",
              "      <td>303.6</td>\n",
              "      <td>234.913732</td>\n",
              "      <td>247.064995</td>\n",
              "    </tr>\n",
              "    <tr>\n",
              "      <th>20</th>\n",
              "      <td>21</td>\n",
              "      <td>289.9</td>\n",
              "      <td>289.862746</td>\n",
              "      <td>270.382684</td>\n",
              "    </tr>\n",
              "    <tr>\n",
              "      <th>21</th>\n",
              "      <td>22</td>\n",
              "      <td>421.6</td>\n",
              "      <td>289.892549</td>\n",
              "      <td>287.467875</td>\n",
              "    </tr>\n",
              "    <tr>\n",
              "      <th>22</th>\n",
              "      <td>23</td>\n",
              "      <td>264.5</td>\n",
              "      <td>395.258510</td>\n",
              "      <td>335.523955</td>\n",
              "    </tr>\n",
              "    <tr>\n",
              "      <th>23</th>\n",
              "      <td>24</td>\n",
              "      <td>342.3</td>\n",
              "      <td>290.651702</td>\n",
              "      <td>338.287382</td>\n",
              "    </tr>\n",
              "    <tr>\n",
              "      <th>24</th>\n",
              "      <td>25</td>\n",
              "      <td>339.7</td>\n",
              "      <td>331.970340</td>\n",
              "      <td>356.298880</td>\n",
              "    </tr>\n",
              "    <tr>\n",
              "      <th>25</th>\n",
              "      <td>26</td>\n",
              "      <td>440.4</td>\n",
              "      <td>338.154068</td>\n",
              "      <td>369.192146</td>\n",
              "    </tr>\n",
              "    <tr>\n",
              "      <th>26</th>\n",
              "      <td>27</td>\n",
              "      <td>315.9</td>\n",
              "      <td>419.950814</td>\n",
              "      <td>403.919230</td>\n",
              "    </tr>\n",
              "    <tr>\n",
              "      <th>27</th>\n",
              "      <td>28</td>\n",
              "      <td>439.3</td>\n",
              "      <td>336.710163</td>\n",
              "      <td>401.519743</td>\n",
              "    </tr>\n",
              "    <tr>\n",
              "      <th>28</th>\n",
              "      <td>29</td>\n",
              "      <td>401.3</td>\n",
              "      <td>418.782033</td>\n",
              "      <td>426.546970</td>\n",
              "    </tr>\n",
              "    <tr>\n",
              "      <th>29</th>\n",
              "      <td>30</td>\n",
              "      <td>437.4</td>\n",
              "      <td>404.796407</td>\n",
              "      <td>437.453932</td>\n",
              "    </tr>\n",
              "    <tr>\n",
              "      <th>30</th>\n",
              "      <td>31</td>\n",
              "      <td>575.5</td>\n",
              "      <td>430.879281</td>\n",
              "      <td>453.396267</td>\n",
              "    </tr>\n",
              "    <tr>\n",
              "      <th>31</th>\n",
              "      <td>32</td>\n",
              "      <td>407.6</td>\n",
              "      <td>546.575856</td>\n",
              "      <td>501.096358</td>\n",
              "    </tr>\n",
              "    <tr>\n",
              "      <th>32</th>\n",
              "      <td>33</td>\n",
              "      <td>682.0</td>\n",
              "      <td>435.395171</td>\n",
              "      <td>500.066650</td>\n",
              "    </tr>\n",
              "    <tr>\n",
              "      <th>33</th>\n",
              "      <td>34</td>\n",
              "      <td>475.3</td>\n",
              "      <td>632.679034</td>\n",
              "      <td>565.038884</td>\n",
              "    </tr>\n",
              "    <tr>\n",
              "      <th>34</th>\n",
              "      <td>35</td>\n",
              "      <td>581.3</td>\n",
              "      <td>506.775807</td>\n",
              "      <td>570.292338</td>\n",
              "    </tr>\n",
              "    <tr>\n",
              "      <th>35</th>\n",
              "      <td>36</td>\n",
              "      <td>646.9</td>\n",
              "      <td>566.395161</td>\n",
              "      <td>596.355562</td>\n",
              "    </tr>\n",
              "  </tbody>\n",
              "</table>\n",
              "</div>"
            ],
            "text/plain": [
              "    Year  Sales of shampoo over a three year period         SES         DES\n",
              "0      1                                      266.0  266.000000  266.000000\n",
              "1      2                                      145.9  266.000000  266.000000\n",
              "2      3                                      183.1  169.920000  234.774000\n",
              "3      4                                      119.3  180.464000  214.132760\n",
              "4      5                                      180.3  131.532800  179.169802\n",
              "5      6                                      168.5  170.546560  163.467248\n",
              "6      7                                      231.8  168.909312  148.847170\n",
              "7      8                                      224.5  219.221862  154.788277\n",
              "8      9                                      192.8  223.444372  162.263866\n",
              "9     10                                      122.9  198.928874  163.736506\n",
              "10    11                                      336.5  138.105775  148.484427\n",
              "11    12                                      185.9  296.821155  190.283698\n",
              "12    13                                      194.3  208.084231  193.340093\n",
              "13    14                                      149.5  197.056846  197.522804\n",
              "14    15                                      210.1  159.011369  189.027604\n",
              "15    16                                      273.3  199.882274  195.615788\n",
              "16    17                                      191.4  258.616455  218.187388\n",
              "17    18                                      287.0  204.843291  218.257424\n",
              "18    19                                      226.0  270.568658  241.558008\n",
              "19    20                                      303.6  234.913732  247.064995\n",
              "20    21                                      289.9  289.862746  270.382684\n",
              "21    22                                      421.6  289.892549  287.467875\n",
              "22    23                                      264.5  395.258510  335.523955\n",
              "23    24                                      342.3  290.651702  338.287382\n",
              "24    25                                      339.7  331.970340  356.298880\n",
              "25    26                                      440.4  338.154068  369.192146\n",
              "26    27                                      315.9  419.950814  403.919230\n",
              "27    28                                      439.3  336.710163  401.519743\n",
              "28    29                                      401.3  418.782033  426.546970\n",
              "29    30                                      437.4  404.796407  437.453932\n",
              "30    31                                      575.5  430.879281  453.396267\n",
              "31    32                                      407.6  546.575856  501.096358\n",
              "32    33                                      682.0  435.395171  500.066650\n",
              "33    34                                      475.3  632.679034  565.038884\n",
              "34    35                                      581.3  506.775807  570.292338\n",
              "35    36                                      646.9  566.395161  596.355562"
            ]
          },
          "metadata": {
            "tags": []
          },
          "execution_count": 133
        }
      ]
    },
    {
      "cell_type": "markdown",
      "metadata": {
        "id": "W7rRQZ461rKU"
      },
      "source": [
        "Comparing between my implementation and inbuilt function output"
      ]
    },
    {
      "cell_type": "code",
      "metadata": {
        "id": "Fdn5SQSH1mk7"
      },
      "source": [
        "#Forecasting\r\n",
        "alpha=0.2\r\n",
        "beta=0.3\r\n",
        "forecast_d2_des=des(demand,alpha,beta)"
      ],
      "execution_count": 134,
      "outputs": []
    },
    {
      "cell_type": "code",
      "metadata": {
        "id": "KE-Ey0Sz1mlB"
      },
      "source": [
        "my_mse=mean_squared_error(demand,forecast_d2_des)\r\n",
        "inbuilt_mse=mean_squared_error(data_for_inbuilt['Sales of shampoo over a three year period'],data_for_inbuilt.DES)"
      ],
      "execution_count": 135,
      "outputs": []
    },
    {
      "cell_type": "code",
      "metadata": {
        "colab": {
          "base_uri": "https://localhost:8080/"
        },
        "id": "3aDdNbRv1mlB",
        "outputId": "c6b42729-69a1-477e-ddd0-9a926c08d00a"
      },
      "source": [
        "#Calculating error between my implementation and inbuilt function\r\n",
        "error=(inbuilt_mse-my_mse)/inbuilt_mse*100\r\n",
        "print(\"Precentage error between my implementation and inbuilt function output is: \",error,\"%\")"
      ],
      "execution_count": 136,
      "outputs": [
        {
          "output_type": "stream",
          "text": [
            "Precentage error between my implementation and inbuilt function output is:  -2.003351073144138 %\n"
          ],
          "name": "stdout"
        }
      ]
    },
    {
      "cell_type": "markdown",
      "metadata": {
        "id": "zkFFAFErTiT7"
      },
      "source": [
        "Forecast for Triple Exponential Smoothening"
      ]
    },
    {
      "cell_type": "code",
      "metadata": {
        "colab": {
          "base_uri": "https://localhost:8080/",
          "height": 1000
        },
        "id": "b-D_yAok9dC9",
        "outputId": "9bf2084b-8dac-4e38-e1e1-12178d26fd6a"
      },
      "source": [
        "from statsmodels.tsa.holtwinters import ExponentialSmoothing\r\n",
        "\r\n",
        "data_for_inbuilt['TES'] = ExponentialSmoothing(data_for_inbuilt['Sales of shampoo over a three year period']).fit(smoothing_level=0.5, smoothing_slope=0.6,smoothing_seasonal=0.7).fittedvalues.shift(0)\r\n",
        "data_for_inbuilt\r\n"
      ],
      "execution_count": 137,
      "outputs": [
        {
          "output_type": "execute_result",
          "data": {
            "text/html": [
              "<div>\n",
              "<style scoped>\n",
              "    .dataframe tbody tr th:only-of-type {\n",
              "        vertical-align: middle;\n",
              "    }\n",
              "\n",
              "    .dataframe tbody tr th {\n",
              "        vertical-align: top;\n",
              "    }\n",
              "\n",
              "    .dataframe thead th {\n",
              "        text-align: right;\n",
              "    }\n",
              "</style>\n",
              "<table border=\"1\" class=\"dataframe\">\n",
              "  <thead>\n",
              "    <tr style=\"text-align: right;\">\n",
              "      <th></th>\n",
              "      <th>Year</th>\n",
              "      <th>Sales of shampoo over a three year period</th>\n",
              "      <th>SES</th>\n",
              "      <th>DES</th>\n",
              "      <th>TES</th>\n",
              "    </tr>\n",
              "  </thead>\n",
              "  <tbody>\n",
              "    <tr>\n",
              "      <th>0</th>\n",
              "      <td>1</td>\n",
              "      <td>266.0</td>\n",
              "      <td>266.000000</td>\n",
              "      <td>266.000000</td>\n",
              "      <td>211.527153</td>\n",
              "    </tr>\n",
              "    <tr>\n",
              "      <th>1</th>\n",
              "      <td>2</td>\n",
              "      <td>145.9</td>\n",
              "      <td>266.000000</td>\n",
              "      <td>266.000000</td>\n",
              "      <td>238.763577</td>\n",
              "    </tr>\n",
              "    <tr>\n",
              "      <th>2</th>\n",
              "      <td>3</td>\n",
              "      <td>183.1</td>\n",
              "      <td>169.920000</td>\n",
              "      <td>234.774000</td>\n",
              "      <td>192.331788</td>\n",
              "    </tr>\n",
              "    <tr>\n",
              "      <th>3</th>\n",
              "      <td>4</td>\n",
              "      <td>119.3</td>\n",
              "      <td>180.464000</td>\n",
              "      <td>214.132760</td>\n",
              "      <td>187.715894</td>\n",
              "    </tr>\n",
              "    <tr>\n",
              "      <th>4</th>\n",
              "      <td>5</td>\n",
              "      <td>180.3</td>\n",
              "      <td>131.532800</td>\n",
              "      <td>179.169802</td>\n",
              "      <td>153.507947</td>\n",
              "    </tr>\n",
              "    <tr>\n",
              "      <th>5</th>\n",
              "      <td>6</td>\n",
              "      <td>168.5</td>\n",
              "      <td>170.546560</td>\n",
              "      <td>163.467248</td>\n",
              "      <td>166.903974</td>\n",
              "    </tr>\n",
              "    <tr>\n",
              "      <th>6</th>\n",
              "      <td>7</td>\n",
              "      <td>231.8</td>\n",
              "      <td>168.909312</td>\n",
              "      <td>148.847170</td>\n",
              "      <td>167.701987</td>\n",
              "    </tr>\n",
              "    <tr>\n",
              "      <th>7</th>\n",
              "      <td>8</td>\n",
              "      <td>224.5</td>\n",
              "      <td>219.221862</td>\n",
              "      <td>154.788277</td>\n",
              "      <td>199.750993</td>\n",
              "    </tr>\n",
              "    <tr>\n",
              "      <th>8</th>\n",
              "      <td>9</td>\n",
              "      <td>192.8</td>\n",
              "      <td>223.444372</td>\n",
              "      <td>162.263866</td>\n",
              "      <td>212.125497</td>\n",
              "    </tr>\n",
              "    <tr>\n",
              "      <th>9</th>\n",
              "      <td>10</td>\n",
              "      <td>122.9</td>\n",
              "      <td>198.928874</td>\n",
              "      <td>163.736506</td>\n",
              "      <td>202.462748</td>\n",
              "    </tr>\n",
              "    <tr>\n",
              "      <th>10</th>\n",
              "      <td>11</td>\n",
              "      <td>336.5</td>\n",
              "      <td>138.105775</td>\n",
              "      <td>148.484427</td>\n",
              "      <td>162.681374</td>\n",
              "    </tr>\n",
              "    <tr>\n",
              "      <th>11</th>\n",
              "      <td>12</td>\n",
              "      <td>185.9</td>\n",
              "      <td>296.821155</td>\n",
              "      <td>190.283698</td>\n",
              "      <td>249.590687</td>\n",
              "    </tr>\n",
              "    <tr>\n",
              "      <th>12</th>\n",
              "      <td>13</td>\n",
              "      <td>194.3</td>\n",
              "      <td>208.084231</td>\n",
              "      <td>193.340093</td>\n",
              "      <td>217.745344</td>\n",
              "    </tr>\n",
              "    <tr>\n",
              "      <th>13</th>\n",
              "      <td>14</td>\n",
              "      <td>149.5</td>\n",
              "      <td>197.056846</td>\n",
              "      <td>197.522804</td>\n",
              "      <td>206.022672</td>\n",
              "    </tr>\n",
              "    <tr>\n",
              "      <th>14</th>\n",
              "      <td>15</td>\n",
              "      <td>210.1</td>\n",
              "      <td>159.011369</td>\n",
              "      <td>189.027604</td>\n",
              "      <td>177.761336</td>\n",
              "    </tr>\n",
              "    <tr>\n",
              "      <th>15</th>\n",
              "      <td>16</td>\n",
              "      <td>273.3</td>\n",
              "      <td>199.882274</td>\n",
              "      <td>195.615788</td>\n",
              "      <td>193.930668</td>\n",
              "    </tr>\n",
              "    <tr>\n",
              "      <th>16</th>\n",
              "      <td>17</td>\n",
              "      <td>191.4</td>\n",
              "      <td>258.616455</td>\n",
              "      <td>218.187388</td>\n",
              "      <td>233.615334</td>\n",
              "    </tr>\n",
              "    <tr>\n",
              "      <th>17</th>\n",
              "      <td>18</td>\n",
              "      <td>287.0</td>\n",
              "      <td>204.843291</td>\n",
              "      <td>218.257424</td>\n",
              "      <td>212.507667</td>\n",
              "    </tr>\n",
              "    <tr>\n",
              "      <th>18</th>\n",
              "      <td>19</td>\n",
              "      <td>226.0</td>\n",
              "      <td>270.568658</td>\n",
              "      <td>241.558008</td>\n",
              "      <td>249.753833</td>\n",
              "    </tr>\n",
              "    <tr>\n",
              "      <th>19</th>\n",
              "      <td>20</td>\n",
              "      <td>303.6</td>\n",
              "      <td>234.913732</td>\n",
              "      <td>247.064995</td>\n",
              "      <td>237.876917</td>\n",
              "    </tr>\n",
              "    <tr>\n",
              "      <th>20</th>\n",
              "      <td>21</td>\n",
              "      <td>289.9</td>\n",
              "      <td>289.862746</td>\n",
              "      <td>270.382684</td>\n",
              "      <td>270.738458</td>\n",
              "    </tr>\n",
              "    <tr>\n",
              "      <th>21</th>\n",
              "      <td>22</td>\n",
              "      <td>421.6</td>\n",
              "      <td>289.892549</td>\n",
              "      <td>287.467875</td>\n",
              "      <td>280.319229</td>\n",
              "    </tr>\n",
              "    <tr>\n",
              "      <th>22</th>\n",
              "      <td>23</td>\n",
              "      <td>264.5</td>\n",
              "      <td>395.258510</td>\n",
              "      <td>335.523955</td>\n",
              "      <td>350.959615</td>\n",
              "    </tr>\n",
              "    <tr>\n",
              "      <th>23</th>\n",
              "      <td>24</td>\n",
              "      <td>342.3</td>\n",
              "      <td>290.651702</td>\n",
              "      <td>338.287382</td>\n",
              "      <td>307.729807</td>\n",
              "    </tr>\n",
              "    <tr>\n",
              "      <th>24</th>\n",
              "      <td>25</td>\n",
              "      <td>339.7</td>\n",
              "      <td>331.970340</td>\n",
              "      <td>356.298880</td>\n",
              "      <td>325.014904</td>\n",
              "    </tr>\n",
              "    <tr>\n",
              "      <th>25</th>\n",
              "      <td>26</td>\n",
              "      <td>440.4</td>\n",
              "      <td>338.154068</td>\n",
              "      <td>369.192146</td>\n",
              "      <td>332.357452</td>\n",
              "    </tr>\n",
              "    <tr>\n",
              "      <th>26</th>\n",
              "      <td>27</td>\n",
              "      <td>315.9</td>\n",
              "      <td>419.950814</td>\n",
              "      <td>403.919230</td>\n",
              "      <td>386.378726</td>\n",
              "    </tr>\n",
              "    <tr>\n",
              "      <th>27</th>\n",
              "      <td>28</td>\n",
              "      <td>439.3</td>\n",
              "      <td>336.710163</td>\n",
              "      <td>401.519743</td>\n",
              "      <td>351.139363</td>\n",
              "    </tr>\n",
              "    <tr>\n",
              "      <th>28</th>\n",
              "      <td>29</td>\n",
              "      <td>401.3</td>\n",
              "      <td>418.782033</td>\n",
              "      <td>426.546970</td>\n",
              "      <td>395.219681</td>\n",
              "    </tr>\n",
              "    <tr>\n",
              "      <th>29</th>\n",
              "      <td>30</td>\n",
              "      <td>437.4</td>\n",
              "      <td>404.796407</td>\n",
              "      <td>437.453932</td>\n",
              "      <td>398.259841</td>\n",
              "    </tr>\n",
              "    <tr>\n",
              "      <th>30</th>\n",
              "      <td>31</td>\n",
              "      <td>575.5</td>\n",
              "      <td>430.879281</td>\n",
              "      <td>453.396267</td>\n",
              "      <td>417.829920</td>\n",
              "    </tr>\n",
              "    <tr>\n",
              "      <th>31</th>\n",
              "      <td>32</td>\n",
              "      <td>407.6</td>\n",
              "      <td>546.575856</td>\n",
              "      <td>501.096358</td>\n",
              "      <td>496.664960</td>\n",
              "    </tr>\n",
              "    <tr>\n",
              "      <th>32</th>\n",
              "      <td>33</td>\n",
              "      <td>682.0</td>\n",
              "      <td>435.395171</td>\n",
              "      <td>500.066650</td>\n",
              "      <td>452.132480</td>\n",
              "    </tr>\n",
              "    <tr>\n",
              "      <th>33</th>\n",
              "      <td>34</td>\n",
              "      <td>475.3</td>\n",
              "      <td>632.679034</td>\n",
              "      <td>565.038884</td>\n",
              "      <td>567.066240</td>\n",
              "    </tr>\n",
              "    <tr>\n",
              "      <th>34</th>\n",
              "      <td>35</td>\n",
              "      <td>581.3</td>\n",
              "      <td>506.775807</td>\n",
              "      <td>570.292338</td>\n",
              "      <td>521.183120</td>\n",
              "    </tr>\n",
              "    <tr>\n",
              "      <th>35</th>\n",
              "      <td>36</td>\n",
              "      <td>646.9</td>\n",
              "      <td>566.395161</td>\n",
              "      <td>596.355562</td>\n",
              "      <td>551.241560</td>\n",
              "    </tr>\n",
              "  </tbody>\n",
              "</table>\n",
              "</div>"
            ],
            "text/plain": [
              "    Year  Sales of shampoo over a three year period  ...         DES         TES\n",
              "0      1                                      266.0  ...  266.000000  211.527153\n",
              "1      2                                      145.9  ...  266.000000  238.763577\n",
              "2      3                                      183.1  ...  234.774000  192.331788\n",
              "3      4                                      119.3  ...  214.132760  187.715894\n",
              "4      5                                      180.3  ...  179.169802  153.507947\n",
              "5      6                                      168.5  ...  163.467248  166.903974\n",
              "6      7                                      231.8  ...  148.847170  167.701987\n",
              "7      8                                      224.5  ...  154.788277  199.750993\n",
              "8      9                                      192.8  ...  162.263866  212.125497\n",
              "9     10                                      122.9  ...  163.736506  202.462748\n",
              "10    11                                      336.5  ...  148.484427  162.681374\n",
              "11    12                                      185.9  ...  190.283698  249.590687\n",
              "12    13                                      194.3  ...  193.340093  217.745344\n",
              "13    14                                      149.5  ...  197.522804  206.022672\n",
              "14    15                                      210.1  ...  189.027604  177.761336\n",
              "15    16                                      273.3  ...  195.615788  193.930668\n",
              "16    17                                      191.4  ...  218.187388  233.615334\n",
              "17    18                                      287.0  ...  218.257424  212.507667\n",
              "18    19                                      226.0  ...  241.558008  249.753833\n",
              "19    20                                      303.6  ...  247.064995  237.876917\n",
              "20    21                                      289.9  ...  270.382684  270.738458\n",
              "21    22                                      421.6  ...  287.467875  280.319229\n",
              "22    23                                      264.5  ...  335.523955  350.959615\n",
              "23    24                                      342.3  ...  338.287382  307.729807\n",
              "24    25                                      339.7  ...  356.298880  325.014904\n",
              "25    26                                      440.4  ...  369.192146  332.357452\n",
              "26    27                                      315.9  ...  403.919230  386.378726\n",
              "27    28                                      439.3  ...  401.519743  351.139363\n",
              "28    29                                      401.3  ...  426.546970  395.219681\n",
              "29    30                                      437.4  ...  437.453932  398.259841\n",
              "30    31                                      575.5  ...  453.396267  417.829920\n",
              "31    32                                      407.6  ...  501.096358  496.664960\n",
              "32    33                                      682.0  ...  500.066650  452.132480\n",
              "33    34                                      475.3  ...  565.038884  567.066240\n",
              "34    35                                      581.3  ...  570.292338  521.183120\n",
              "35    36                                      646.9  ...  596.355562  551.241560\n",
              "\n",
              "[36 rows x 5 columns]"
            ]
          },
          "metadata": {
            "tags": []
          },
          "execution_count": 137
        }
      ]
    },
    {
      "cell_type": "markdown",
      "metadata": {
        "id": "RzknTCIt2FRc"
      },
      "source": [
        "Comparing between my implementation and inbuilt function output"
      ]
    },
    {
      "cell_type": "code",
      "metadata": {
        "id": "eLnV3n9f2FRc"
      },
      "source": [
        "#Forecasting\r\n",
        "alpha=0.5\r\n",
        "beta=0.6\r\n",
        "gamma=0.7\r\n",
        "forecast_d2_tes=tes(demand,12,alpha,beta,gamma,0)"
      ],
      "execution_count": 140,
      "outputs": []
    },
    {
      "cell_type": "code",
      "metadata": {
        "id": "krG2sRXM2FRc"
      },
      "source": [
        "my_mse=mean_squared_error(demand,forecast_d2_tes)\r\n",
        "inbuilt_mse=mean_squared_error(data_for_inbuilt['Sales of shampoo over a three year period'],data_for_inbuilt.TES)"
      ],
      "execution_count": 141,
      "outputs": []
    },
    {
      "cell_type": "code",
      "metadata": {
        "colab": {
          "base_uri": "https://localhost:8080/"
        },
        "id": "TSqPmByb2FRc",
        "outputId": "7b05d661-e0cb-41e4-f687-195f8a7def85"
      },
      "source": [
        "#Calculating error between my implementation and inbuilt function\r\n",
        "error=(inbuilt_mse-my_mse)/inbuilt_mse*100\r\n",
        "print(\"Precentage error between my implementation and inbuilt function output is: \",error,\"%\")"
      ],
      "execution_count": 142,
      "outputs": [
        {
          "output_type": "stream",
          "text": [
            "Precentage error between my implementation and inbuilt function output is:  92.34176557502155 %\n"
          ],
          "name": "stdout"
        }
      ]
    }
  ]
}