{
  "nbformat": 4,
  "nbformat_minor": 0,
  "metadata": {
    "colab": {
      "name": "2011MT10_EndSem_A1_IBM Dataset_CS575.ipynb",
      "provenance": [],
      "collapsed_sections": []
    },
    "kernelspec": {
      "name": "python3",
      "display_name": "Python 3"
    },
    "language_info": {
      "name": "python"
    }
  },
  "cells": [
    {
      "cell_type": "markdown",
      "metadata": {
        "id": "_hYRmY80ydi4"
      },
      "source": [
        "### Submission by Durgesh Vikram Yadav (2011MT10)"
      ]
    },
    {
      "cell_type": "markdown",
      "metadata": {
        "id": "7AF3466UyUC1"
      },
      "source": [
        "# IBM Dataset"
      ]
    },
    {
      "cell_type": "code",
      "metadata": {
        "id": "GtBTJ_H3bNRL"
      },
      "source": [
        "#Importing Libraries\n",
        "import pandas as pd\n",
        "import numpy as np\n",
        "from pandas_datareader import data as pdr\n",
        "from datetime import datetime\n",
        "import matplotlib.pyplot as plt \n",
        "import warnings\n",
        "warnings.simplefilter('ignore')"
      ],
      "execution_count": 3,
      "outputs": []
    },
    {
      "cell_type": "code",
      "metadata": {
        "id": "pinPpHERexvw"
      },
      "source": [
        "#Downloading data\n",
        "ibm = pdr.DataReader('IBM', 'yahoo', start=datetime(2014, 8, 1), end=datetime(2016, 11, 30))"
      ],
      "execution_count": 4,
      "outputs": []
    },
    {
      "cell_type": "code",
      "metadata": {
        "id": "TPdwyRrPiPtC"
      },
      "source": [
        "#Exporting and saving as csv files\n",
        "ibm.to_csv('Apple_stock.csv', sep=',')"
      ],
      "execution_count": 5,
      "outputs": []
    },
    {
      "cell_type": "code",
      "metadata": {
        "colab": {
          "base_uri": "https://localhost:8080/",
          "height": 233
        },
        "id": "Vx34zEFUi3rD",
        "outputId": "4f9687f8-8e5a-4b37-be09-a114c4c20dc0"
      },
      "source": [
        "#Printing the first few lines of data\n",
        "ibm.head()"
      ],
      "execution_count": 6,
      "outputs": [
        {
          "output_type": "execute_result",
          "data": {
            "text/html": [
              "<div>\n",
              "<style scoped>\n",
              "    .dataframe tbody tr th:only-of-type {\n",
              "        vertical-align: middle;\n",
              "    }\n",
              "\n",
              "    .dataframe tbody tr th {\n",
              "        vertical-align: top;\n",
              "    }\n",
              "\n",
              "    .dataframe thead th {\n",
              "        text-align: right;\n",
              "    }\n",
              "</style>\n",
              "<table border=\"1\" class=\"dataframe\">\n",
              "  <thead>\n",
              "    <tr style=\"text-align: right;\">\n",
              "      <th></th>\n",
              "      <th>High</th>\n",
              "      <th>Low</th>\n",
              "      <th>Open</th>\n",
              "      <th>Close</th>\n",
              "      <th>Volume</th>\n",
              "      <th>Adj Close</th>\n",
              "    </tr>\n",
              "    <tr>\n",
              "      <th>Date</th>\n",
              "      <th></th>\n",
              "      <th></th>\n",
              "      <th></th>\n",
              "      <th></th>\n",
              "      <th></th>\n",
              "      <th></th>\n",
              "    </tr>\n",
              "  </thead>\n",
              "  <tbody>\n",
              "    <tr>\n",
              "      <th>2014-08-01</th>\n",
              "      <td>191.500000</td>\n",
              "      <td>188.860001</td>\n",
              "      <td>190.500000</td>\n",
              "      <td>189.149994</td>\n",
              "      <td>5181100.0</td>\n",
              "      <td>143.561371</td>\n",
              "    </tr>\n",
              "    <tr>\n",
              "      <th>2014-08-04</th>\n",
              "      <td>189.949997</td>\n",
              "      <td>188.600006</td>\n",
              "      <td>189.350006</td>\n",
              "      <td>189.639999</td>\n",
              "      <td>2125900.0</td>\n",
              "      <td>143.933304</td>\n",
              "    </tr>\n",
              "    <tr>\n",
              "      <th>2014-08-05</th>\n",
              "      <td>189.199997</td>\n",
              "      <td>186.440002</td>\n",
              "      <td>188.750000</td>\n",
              "      <td>187.100006</td>\n",
              "      <td>3307900.0</td>\n",
              "      <td>142.005493</td>\n",
              "    </tr>\n",
              "    <tr>\n",
              "      <th>2014-08-06</th>\n",
              "      <td>186.880005</td>\n",
              "      <td>184.440002</td>\n",
              "      <td>185.360001</td>\n",
              "      <td>185.970001</td>\n",
              "      <td>3847000.0</td>\n",
              "      <td>141.982544</td>\n",
              "    </tr>\n",
              "    <tr>\n",
              "      <th>2014-08-07</th>\n",
              "      <td>186.679993</td>\n",
              "      <td>183.580002</td>\n",
              "      <td>186.639999</td>\n",
              "      <td>184.300003</td>\n",
              "      <td>2708600.0</td>\n",
              "      <td>140.707535</td>\n",
              "    </tr>\n",
              "  </tbody>\n",
              "</table>\n",
              "</div>"
            ],
            "text/plain": [
              "                  High         Low  ...     Volume   Adj Close\n",
              "Date                                ...                       \n",
              "2014-08-01  191.500000  188.860001  ...  5181100.0  143.561371\n",
              "2014-08-04  189.949997  188.600006  ...  2125900.0  143.933304\n",
              "2014-08-05  189.199997  186.440002  ...  3307900.0  142.005493\n",
              "2014-08-06  186.880005  184.440002  ...  3847000.0  141.982544\n",
              "2014-08-07  186.679993  183.580002  ...  2708600.0  140.707535\n",
              "\n",
              "[5 rows x 6 columns]"
            ]
          },
          "metadata": {
            "tags": []
          },
          "execution_count": 6
        }
      ]
    },
    {
      "cell_type": "code",
      "metadata": {
        "colab": {
          "base_uri": "https://localhost:8080/",
          "height": 353
        },
        "id": "GiXsC3xtrEE6",
        "outputId": "7db512c8-c122-4647-81de-d416297bedea"
      },
      "source": [
        "#Visulaizing the data\n",
        "plt.figure(figsize=(12,5))\n",
        "plt.plot(ibm['Close'], label='Close Price history')\n",
        "plt.legend()\n",
        "plt.title('Close Price history vs Time')"
      ],
      "execution_count": 7,
      "outputs": [
        {
          "output_type": "execute_result",
          "data": {
            "text/plain": [
              "Text(0.5, 1.0, 'Close Price history vs Time')"
            ]
          },
          "metadata": {
            "tags": []
          },
          "execution_count": 7
        },
        {
          "output_type": "display_data",
          "data": {
            "image/png": "[encoded data removed]",
            "text/plain": [
              "<Figure size 864x360 with 1 Axes>"
            ]
          },
          "metadata": {
            "tags": [],
            "needs_background": "light"
          }
        }
      ]
    },
    {
      "cell_type": "markdown",
      "metadata": {
        "id": "icxydeFoTGu0"
      },
      "source": [
        "Perform basic EDA to analyse the Data Frame"
      ]
    },
    {
      "cell_type": "markdown",
      "metadata": {
        "id": "WGW72xebrutx"
      },
      "source": [
        "###ADF and KPSS Tests"
      ]
    },
    {
      "cell_type": "code",
      "metadata": {
        "id": "2KIeF0OfrzeL"
      },
      "source": [
        "#Importing libraries\n",
        "from statsmodels.tsa.stattools import adfuller,kpss"
      ],
      "execution_count": 8,
      "outputs": []
    },
    {
      "cell_type": "markdown",
      "metadata": {
        "id": "m2I1Ne3QsEYn"
      },
      "source": [
        "a) ADF Test"
      ]
    },
    {
      "cell_type": "code",
      "metadata": {
        "colab": {
          "base_uri": "https://localhost:8080/"
        },
        "id": "h3JHKe-isGdC",
        "outputId": "b3cc273c-b98b-480f-8539-908ca1179ad9"
      },
      "source": [
        "def adf_test(atr):\n",
        "    #Perform Dickey-Fuller test:\n",
        "    timeseries = ibm[atr].dropna()\n",
        "    print ('Results of Dickey-Fuller Test for ',atr,'\\n')\n",
        "    dftest = adfuller(timeseries, autolag='AIC')\n",
        "    dfoutput = pd.Series(dftest[0:4], index=['Test Statistic','p-value','#Lags Used','Number of Observations Used'])\n",
        "    for key,value in dftest[4].items():\n",
        "       dfoutput['Critical Value (%s)'%key] = value\n",
        "    print(dfoutput)\n",
        "\n",
        "#apply adf test on the series\n",
        "adf_test('Close')"
      ],
      "execution_count": 9,
      "outputs": [
        {
          "output_type": "stream",
          "text": [
            "Results of Dickey-Fuller Test for  Close \n",
            "\n",
            "Test Statistic                  -2.279273\n",
            "p-value                          0.178740\n",
            "#Lags Used                       0.000000\n",
            "Number of Observations Used    588.000000\n",
            "Critical Value (1%)             -3.441520\n",
            "Critical Value (5%)             -2.866468\n",
            "Critical Value (10%)            -2.569394\n",
            "dtype: float64\n"
          ],
          "name": "stdout"
        }
      ]
    },
    {
      "cell_type": "markdown",
      "metadata": {
        "id": "0wj4xGzWbWWP"
      },
      "source": [
        "Since p value is greater than 0.05, therefore, we fail to reject the null hypothesis and the data is non-stationary."
      ]
    },
    {
      "cell_type": "markdown",
      "metadata": {
        "id": "XFyproxssNus"
      },
      "source": [
        "b) KPSS Test"
      ]
    },
    {
      "cell_type": "code",
      "metadata": {
        "colab": {
          "base_uri": "https://localhost:8080/"
        },
        "id": "evR0N7dssQbA",
        "outputId": "ca6c1690-030d-4e92-d822-bb20d145cf7c"
      },
      "source": [
        "def kpss_test(atr):\n",
        "    timeseries = ibm[atr].dropna()\n",
        "    print ('Results of KPSS Test for ',atr)\n",
        "    kpsstest = kpss(timeseries, regression='c')\n",
        "    kpss_output = pd.Series(kpsstest[0:3], index=['Test Statistic','p-value','Lags Used'])\n",
        "    for key,value in kpsstest[3].items():\n",
        "        kpss_output['Critical Value (%s)'%key] = value\n",
        "    print (kpss_output)\n",
        "kpss_test('Close')"
      ],
      "execution_count": 10,
      "outputs": [
        {
          "output_type": "stream",
          "text": [
            "Results of KPSS Test for  Close\n",
            "Test Statistic            1.268862\n",
            "p-value                   0.010000\n",
            "Lags Used                19.000000\n",
            "Critical Value (10%)      0.347000\n",
            "Critical Value (5%)       0.463000\n",
            "Critical Value (2.5%)     0.574000\n",
            "Critical Value (1%)       0.739000\n",
            "dtype: float64\n"
          ],
          "name": "stdout"
        },
        {
          "output_type": "stream",
          "text": [
            "/usr/local/lib/python3.7/dist-packages/statsmodels/tsa/stattools.py:1709: InterpolationWarning: p-value is smaller than the indicated p-value\n",
            "  warn(\"p-value is smaller than the indicated p-value\", InterpolationWarning)\n"
          ],
          "name": "stderr"
        }
      ]
    },
    {
      "cell_type": "markdown",
      "metadata": {
        "id": "8hayhWAUcwCD"
      },
      "source": [
        "From KPSS Test, the test statistic is greater than the critical value, we reject the null hypothesis (series is not stationary)."
      ]
    },
    {
      "cell_type": "markdown",
      "metadata": {
        "id": "euc0TV5Qc4-p"
      },
      "source": [
        "Both tests conclude that the series is not stationary -> series is not stationary"
      ]
    },
    {
      "cell_type": "markdown",
      "metadata": {
        "id": "8mOyjmpxyNpt"
      },
      "source": [
        "###ACF and PACF Tests"
      ]
    },
    {
      "cell_type": "markdown",
      "metadata": {
        "id": "lPV59K_3yQ9m"
      },
      "source": [
        "a) ACF Test"
      ]
    },
    {
      "cell_type": "code",
      "metadata": {
        "colab": {
          "base_uri": "https://localhost:8080/",
          "height": 281
        },
        "id": "Vgo60bRfzgYB",
        "outputId": "c3a1e9d9-d2ad-40fc-dafa-f4af1c325a53"
      },
      "source": [
        "from statsmodels.graphics.tsaplots import plot_acf\n",
        "plot_acf(ibm['Close'].dropna(), lags=10)\n",
        "plt.show()"
      ],
      "execution_count": 11,
      "outputs": [
        {
          "output_type": "display_data",
          "data": {
            "image/png": "[encoded data removed]",
            "text/plain": [
              "<Figure size 432x288 with 1 Axes>"
            ]
          },
          "metadata": {
            "tags": [],
            "needs_background": "light"
          }
        }
      ]
    },
    {
      "cell_type": "markdown",
      "metadata": {
        "id": "Oe5g24wTznfe"
      },
      "source": [
        "b) PACF Test"
      ]
    },
    {
      "cell_type": "code",
      "metadata": {
        "colab": {
          "base_uri": "https://localhost:8080/",
          "height": 281
        },
        "id": "2zcCR27eznff",
        "outputId": "eceb3fe3-3480-49fa-c028-baaa53a75e22"
      },
      "source": [
        "from statsmodels.graphics.tsaplots import plot_pacf\n",
        "plot_pacf(ibm['Close'])\n",
        "plt.show()"
      ],
      "execution_count": 12,
      "outputs": [
        {
          "output_type": "display_data",
          "data": {
            "image/png": "[encoded data removed]",
            "text/plain": [
              "<Figure size 432x288 with 1 Axes>"
            ]
          },
          "metadata": {
            "tags": [],
            "needs_background": "light"
          }
        }
      ]
    },
    {
      "cell_type": "markdown",
      "metadata": {
        "id": "piJ9QRxOeKE6"
      },
      "source": [
        "From ACF and PACF plots, since more than 5% of the plot is outside the shaded region, the data is non stationary."
      ]
    },
    {
      "cell_type": "markdown",
      "metadata": {
        "id": "GIw2G-KY0Yys"
      },
      "source": [
        "### Differencing to make data as stationary"
      ]
    },
    {
      "cell_type": "code",
      "metadata": {
        "id": "RuVV4CDCTMUO"
      },
      "source": [
        "#Differencing the data\n",
        "ibm['diff'] = ibm['Close'].diff(periods=1)"
      ],
      "execution_count": 13,
      "outputs": []
    },
    {
      "cell_type": "code",
      "metadata": {
        "colab": {
          "base_uri": "https://localhost:8080/",
          "height": 295
        },
        "id": "hZsy7x02TdYX",
        "outputId": "7e7e340e-2b63-4240-e0c0-da4dad9335e6"
      },
      "source": [
        "#Visulaizing the differenced data\n",
        "ibm[\"diff\"].plot()"
      ],
      "execution_count": 14,
      "outputs": [
        {
          "output_type": "execute_result",
          "data": {
            "text/plain": [
              "<matplotlib.axes._subplots.AxesSubplot at 0x7f65e2e80590>"
            ]
          },
          "metadata": {
            "tags": []
          },
          "execution_count": 14
        },
        {
          "output_type": "display_data",
          "data": {
            "image/png": "[encoded data removed]",
            "text/plain": [
              "<Figure size 432x288 with 1 Axes>"
            ]
          },
          "metadata": {
            "tags": [],
            "needs_background": "light"
          }
        }
      ]
    },
    {
      "cell_type": "code",
      "metadata": {
        "colab": {
          "base_uri": "https://localhost:8080/"
        },
        "id": "zg0COPPHXW3L",
        "outputId": "f7481f99-71e3-430b-a0d4-ff9bd811d206"
      },
      "source": [
        "# ADF Test of differenced data\n",
        "adf_test('diff')"
      ],
      "execution_count": 15,
      "outputs": [
        {
          "output_type": "stream",
          "text": [
            "Results of Dickey-Fuller Test for  diff \n",
            "\n",
            "Test Statistic                -1.843371e+01\n",
            "p-value                        2.166547e-30\n",
            "#Lags Used                     1.000000e+00\n",
            "Number of Observations Used    5.860000e+02\n",
            "Critical Value (1%)           -3.441558e+00\n",
            "Critical Value (5%)           -2.866485e+00\n",
            "Critical Value (10%)          -2.569403e+00\n",
            "dtype: float64\n"
          ],
          "name": "stdout"
        }
      ]
    },
    {
      "cell_type": "markdown",
      "metadata": {
        "id": "ZStPTi0vdDfv"
      },
      "source": [
        "Since p value is less than 0.05, therefore, we reject the null hypothesis and the differenced data is stationary."
      ]
    },
    {
      "cell_type": "code",
      "metadata": {
        "colab": {
          "base_uri": "https://localhost:8080/"
        },
        "id": "-OY6EjUsXWrP",
        "outputId": "da169e12-b3aa-412c-9efd-298d02a891c6"
      },
      "source": [
        "# KPSS Test of differenced data\n",
        "kpss_test('diff')"
      ],
      "execution_count": 16,
      "outputs": [
        {
          "output_type": "stream",
          "text": [
            "Results of KPSS Test for  diff\n",
            "Test Statistic            0.251866\n",
            "p-value                   0.100000\n",
            "Lags Used                19.000000\n",
            "Critical Value (10%)      0.347000\n",
            "Critical Value (5%)       0.463000\n",
            "Critical Value (2.5%)     0.574000\n",
            "Critical Value (1%)       0.739000\n",
            "dtype: float64\n"
          ],
          "name": "stdout"
        },
        {
          "output_type": "stream",
          "text": [
            "/usr/local/lib/python3.7/dist-packages/statsmodels/tsa/stattools.py:1711: InterpolationWarning: p-value is greater than the indicated p-value\n",
            "  warn(\"p-value is greater than the indicated p-value\", InterpolationWarning)\n"
          ],
          "name": "stderr"
        }
      ]
    },
    {
      "cell_type": "markdown",
      "metadata": {
        "id": "iCu1HRfjdOlg"
      },
      "source": [
        "From KPSS Test, the test statistic is less than the critical value, we fail to reject the null hypothesis (differenced series is stationary)."
      ]
    },
    {
      "cell_type": "markdown",
      "metadata": {
        "id": "-CLmihcgdOlh"
      },
      "source": [
        "Both tests conclude that the differenced series is stationary -> series is stationary."
      ]
    },
    {
      "cell_type": "code",
      "metadata": {
        "id": "N-Bd3nWhGups",
        "colab": {
          "base_uri": "https://localhost:8080/",
          "height": 281
        },
        "outputId": "ecc9b246-edf2-46bd-b734-b941524c28eb"
      },
      "source": [
        "# ACF Test of differenced data\n",
        "plot_acf(ibm['diff'].dropna(), lags=10)\n",
        "plt.show()"
      ],
      "execution_count": 17,
      "outputs": [
        {
          "output_type": "display_data",
          "data": {
            "image/png": "[encoded data removed]",
            "text/plain": [
              "<Figure size 432x288 with 1 Axes>"
            ]
          },
          "metadata": {
            "tags": [],
            "needs_background": "light"
          }
        }
      ]
    },
    {
      "cell_type": "code",
      "metadata": {
        "colab": {
          "base_uri": "https://localhost:8080/",
          "height": 281
        },
        "id": "jXiH41Ej1dAk",
        "outputId": "e46e3f24-8726-4655-d630-e00dd59add39"
      },
      "source": [
        "# PACF Test of differenced data\n",
        "plot_pacf(ibm['diff'].dropna(), lags=10)\n",
        "plt.show()"
      ],
      "execution_count": 18,
      "outputs": [
        {
          "output_type": "display_data",
          "data": {
            "image/png": "[encoded data removed]",
            "text/plain": [
              "<Figure size 432x288 with 1 Axes>"
            ]
          },
          "metadata": {
            "tags": [],
            "needs_background": "light"
          }
        }
      ]
    },
    {
      "cell_type": "markdown",
      "metadata": {
        "id": "_uVmtAbPertT"
      },
      "source": [
        "From ACF and PACF plots, since less than 5% of the plot is outside the shaded region, the differenced data is stationary."
      ]
    },
    {
      "cell_type": "markdown",
      "metadata": {
        "id": "tqof808nMnwU"
      },
      "source": [
        "\n",
        "\n",
        "---\n",
        "\n",
        "\n",
        "\n",
        "---\n",
        "\n",
        "\n",
        "\n",
        "---\n",
        "\n"
      ]
    },
    {
      "cell_type": "markdown",
      "metadata": {
        "id": "Xh-vWwR7gZ1l"
      },
      "source": [
        "## Univariate Outliers:"
      ]
    },
    {
      "cell_type": "code",
      "metadata": {
        "id": "ZJevDrU4NEww"
      },
      "source": [
        "#Deleting differenced data column 'diff'\n",
        "del ibm[\"diff\"]"
      ],
      "execution_count": 19,
      "outputs": []
    },
    {
      "cell_type": "code",
      "metadata": {
        "colab": {
          "base_uri": "https://localhost:8080/"
        },
        "id": "FSnflh7yMnP6",
        "outputId": "81c1a064-fe65-41df-f2c1-933e5f139a7b"
      },
      "source": [
        "ibm.isnull().sum()"
      ],
      "execution_count": 20,
      "outputs": [
        {
          "output_type": "execute_result",
          "data": {
            "text/plain": [
              "High         0\n",
              "Low          0\n",
              "Open         0\n",
              "Close        0\n",
              "Volume       0\n",
              "Adj Close    0\n",
              "dtype: int64"
            ]
          },
          "metadata": {
            "tags": []
          },
          "execution_count": 20
        }
      ]
    },
    {
      "cell_type": "markdown",
      "metadata": {
        "id": "crtWQhEhTAw5"
      },
      "source": [
        "There are no null values in the data frame"
      ]
    },
    {
      "cell_type": "markdown",
      "metadata": {
        "id": "H0Fjsyk0S8vw"
      },
      "source": [
        "We will plot a simple box plot which is the best visualization for detecting outliers"
      ]
    },
    {
      "cell_type": "code",
      "metadata": {
        "colab": {
          "base_uri": "https://localhost:8080/",
          "height": 487
        },
        "id": "Vaxw7f05SUcX",
        "outputId": "dba5d28c-7330-44b1-9705-38162cf34815"
      },
      "source": [
        "#Box plot for Close column of dataset\n",
        "import seaborn as sns \n",
        "plt.figure(figsize = (4,8))\n",
        "sns.boxplot(y = ibm.Close)"
      ],
      "execution_count": 21,
      "outputs": [
        {
          "output_type": "execute_result",
          "data": {
            "text/plain": [
              "<matplotlib.axes._subplots.AxesSubplot at 0x7f65e2ba9a50>"
            ]
          },
          "metadata": {
            "tags": []
          },
          "execution_count": 21
        },
        {
          "output_type": "display_data",
          "data": {
            "image/png": "[encoded data removed]",
            "text/plain": [
              "<Figure size 288x576 with 1 Axes>"
            ]
          },
          "metadata": {
            "tags": [],
            "needs_background": "light"
          }
        }
      ]
    },
    {
      "cell_type": "markdown",
      "metadata": {
        "id": "8J2i_K9igZ1t"
      },
      "source": [
        "#### Let's define a function to find out the IQR, lower and the upper whisker."
      ]
    },
    {
      "cell_type": "code",
      "metadata": {
        "id": "EBbcRaK8T1Lz"
      },
      "source": [
        "def out_iqr(df , column):\n",
        "    global lower,upper\n",
        "    q25, q75 = np.quantile(df[column], 0.25), np.quantile(df[column], 0.75)\n",
        "    # calculate the IQR\n",
        "    iqr = q75 - q25\n",
        "    # calculate the outlier cutoff\n",
        "    cut_off = iqr * 1.5\n",
        "    # calculate the lower and upper bound value\n",
        "    lower, upper = q25 - cut_off, q75 + cut_off\n",
        "    print('The IQR is',iqr)\n",
        "    print('The lower bound value is', lower)\n",
        "    print('The upper bound value is', upper)\n",
        "    # Calculate the number of records below and above lower and above bound value respectively\n",
        "    df1 = df[df[column] > upper]\n",
        "    df2 = df[df[column] < lower]\n",
        "    return print('Total number of outliers are', df1.shape[0]+ df2.shape[0])"
      ],
      "execution_count": 22,
      "outputs": []
    },
    {
      "cell_type": "code",
      "metadata": {
        "colab": {
          "base_uri": "https://localhost:8080/"
        },
        "id": "NuGHNpjzT9Y9",
        "outputId": "c4297476-ae42-4df1-8754-dc4e4b39f4a2"
      },
      "source": [
        "#Input the dataset and the required column\n",
        "out_iqr(ibm,'Close')"
      ],
      "execution_count": 23,
      "outputs": [
        {
          "output_type": "stream",
          "text": [
            "The IQR is 14.990005493164062\n",
            "The lower bound value is 125.40499114990234\n",
            "The upper bound value is 185.3650131225586\n",
            "Total number of outliers are 65\n"
          ],
          "name": "stdout"
        }
      ]
    },
    {
      "cell_type": "markdown",
      "metadata": {
        "id": "fpwrMS0-0tgG"
      },
      "source": [
        "We can see here that there are 65 outliers in Close column of datsaset."
      ]
    },
    {
      "cell_type": "markdown",
      "metadata": {
        "id": "gcB1fdp-gZ1u"
      },
      "source": [
        "### Visual representation:"
      ]
    },
    {
      "cell_type": "code",
      "metadata": {
        "colab": {
          "base_uri": "https://localhost:8080/",
          "height": 405
        },
        "id": "6WadmZIvUP6w",
        "outputId": "88291b69-5bc2-4929-8418-82bed3be59d5"
      },
      "source": [
        "plt.figure(figsize = (10,6))\n",
        "sns.distplot(ibm.Close, kde=True)\n",
        "plt.axvspan(xmin = lower,xmax= ibm.Close.min(),alpha=0.3, color='red')\n",
        "plt.axvspan(xmin = upper,xmax= ibm.Close.max(),alpha=0.3, color='red')"
      ],
      "execution_count": 24,
      "outputs": [
        {
          "output_type": "execute_result",
          "data": {
            "text/plain": [
              "<matplotlib.patches.Polygon at 0x7f65e23d4e50>"
            ]
          },
          "metadata": {
            "tags": []
          },
          "execution_count": 24
        },
        {
          "output_type": "display_data",
          "data": {
            "image/png": "[encoded data removed]",
            "text/plain": [
              "<Figure size 720x432 with 1 Axes>"
            ]
          },
          "metadata": {
            "tags": [],
            "needs_background": "light"
          }
        }
      ]
    },
    {
      "cell_type": "markdown",
      "metadata": {
        "id": "OWyc9honVyQT"
      },
      "source": [
        "Here the red zone represents the outlier zone."
      ]
    },
    {
      "cell_type": "markdown",
      "metadata": {
        "id": "6h1CmZCUhG_n"
      },
      "source": [
        "\n",
        "\n",
        "---\n",
        "\n"
      ]
    },
    {
      "cell_type": "markdown",
      "metadata": {
        "id": "s4MfTv7pgZ18"
      },
      "source": [
        "## Mulitivariate Outliers:"
      ]
    },
    {
      "cell_type": "markdown",
      "metadata": {
        "id": "KZEPcoi7gZ18"
      },
      "source": [
        "### 1) DBSCAN (Density-Based Spatial Clustering of Applications with Noise):"
      ]
    },
    {
      "cell_type": "markdown",
      "metadata": {
        "id": "s3vhnAmt1YpA"
      },
      "source": [
        "We are considering the Open and Close columns of the dataset."
      ]
    },
    {
      "cell_type": "code",
      "metadata": {
        "id": "9YWzUGoVgZ1-"
      },
      "source": [
        "from sklearn.cluster import DBSCAN\n",
        "X = ibm[['Open','Close']].values\n",
        "\n",
        "db = DBSCAN(eps=3.0, min_samples=10).fit(X)\n",
        "labels = db.labels_"
      ],
      "execution_count": 25,
      "outputs": []
    },
    {
      "cell_type": "code",
      "metadata": {
        "scrolled": true,
        "id": "yhhSVUQagZ1-",
        "colab": {
          "base_uri": "https://localhost:8080/"
        },
        "outputId": "4d234c53-3dae-4cb6-aaf9-cc26a7f0ab6e"
      },
      "source": [
        "pd.Series(labels).value_counts()"
      ],
      "execution_count": 26,
      "outputs": [
        {
          "output_type": "execute_result",
          "data": {
            "text/plain": [
              " 1    513\n",
              " 0     52\n",
              " 2     14\n",
              "-1     10\n",
              "dtype: int64"
            ]
          },
          "metadata": {
            "tags": []
          },
          "execution_count": 26
        }
      ]
    },
    {
      "cell_type": "markdown",
      "metadata": {
        "id": "a2XNXy5AgZ1_"
      },
      "source": [
        "Here the -1's represent the outliers and 0 represent not outlier. "
      ]
    },
    {
      "cell_type": "code",
      "metadata": {
        "id": "Op0bXr8NgZ1_",
        "colab": {
          "base_uri": "https://localhost:8080/",
          "height": 714
        },
        "outputId": "72467ac5-3ccd-447d-d01e-751508ddd758"
      },
      "source": [
        "plt.figure(figsize=(12,12))\n",
        "\n",
        "unique_labels = set(labels)\n",
        "colors = ['green','red']\n",
        "\n",
        "for color,label in zip(colors, unique_labels):\n",
        "    sample_mask = [True if l == label else False for l in labels]\n",
        "    plt.plot(X[:,0][sample_mask], X[:, 1][sample_mask], 'o', color=color);\n",
        "plt.xlabel('Open');\n",
        "plt.ylabel('Close');\n"
      ],
      "execution_count": 27,
      "outputs": [
        {
          "output_type": "display_data",
          "data": {
            "image/png": "[encoded data removed]",
            "text/plain": [
              "<Figure size 864x864 with 1 Axes>"
            ]
          },
          "metadata": {
            "tags": [],
            "needs_background": "light"
          }
        }
      ]
    },
    {
      "cell_type": "markdown",
      "metadata": {
        "id": "mdMMUtChlmb5"
      },
      "source": [
        "\n",
        "\n",
        "---\n",
        "\n"
      ]
    },
    {
      "cell_type": "markdown",
      "metadata": {
        "id": "Skyv4WOqgZ2A"
      },
      "source": [
        "### 2) Local Outlier Factor Method(LOF):"
      ]
    },
    {
      "cell_type": "code",
      "metadata": {
        "id": "YtTgsVFugZ2I"
      },
      "source": [
        "from sklearn.neighbors import LocalOutlierFactor\n",
        "clf = LocalOutlierFactor(n_neighbors=50, contamination='auto')\n",
        "X = ibm[['Open','Close']].values\n",
        "y_pred = clf.fit_predict(X)"
      ],
      "execution_count": 28,
      "outputs": []
    },
    {
      "cell_type": "markdown",
      "metadata": {
        "id": "5BH9K63CgZ2I"
      },
      "source": [
        " Now let's plot and visualize the outliers. I've set blue for the normal records and red for outliers"
      ]
    },
    {
      "cell_type": "code",
      "metadata": {
        "id": "MtizNz3qgZ2I",
        "colab": {
          "base_uri": "https://localhost:8080/",
          "height": 730
        },
        "outputId": "fe8a1149-e036-41eb-90d4-c433eaac11fb"
      },
      "source": [
        "plt.figure(figsize=(12,12))\n",
        "# plot the level sets of the decision function\n",
        "\n",
        "in_mask = [True if l == 1 else False for l in y_pred]\n",
        "out_mask = [True if l == -1 else False for l in y_pred]\n",
        "\n",
        "plt.title(\"Local Outlier Factor (LOF)\")\n",
        "# inliers\n",
        "a = plt.scatter(X[in_mask, 0], X[in_mask, 1], c = 'blue',\n",
        "                edgecolor = 'k', s = 30)\n",
        "# outliers\n",
        "b = plt.scatter(X[out_mask, 0], X[out_mask, 1], c = 'red',\n",
        "                edgecolor = 'k', s = 30)\n",
        "plt.axis('tight');\n",
        "plt.xlabel('Open');\n",
        "plt.ylabel('Close');\n",
        "plt.show()"
      ],
      "execution_count": 29,
      "outputs": [
        {
          "output_type": "display_data",
          "data": {
            "image/png": "[encoded data removed]",
            "text/plain": [
              "<Figure size 864x864 with 1 Axes>"
            ]
          },
          "metadata": {
            "tags": [],
            "needs_background": "light"
          }
        }
      ]
    },
    {
      "cell_type": "markdown",
      "metadata": {
        "id": "qGPWLDur3Ytn"
      },
      "source": [
        "Here, blue coloured ones are normal data and red ones are outliers."
      ]
    }
  ]
}