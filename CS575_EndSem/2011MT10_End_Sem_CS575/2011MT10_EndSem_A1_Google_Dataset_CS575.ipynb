{
  "nbformat": 4,
  "nbformat_minor": 0,
  "metadata": {
    "colab": {
      "name": "2011MT10_EndSem_A1_Google Dataset_CS575.ipynb",
      "provenance": [],
      "collapsed_sections": []
    },
    "kernelspec": {
      "name": "python3",
      "display_name": "Python 3"
    },
    "language_info": {
      "name": "python"
    }
  },
  "cells": [
    {
      "cell_type": "markdown",
      "metadata": {
        "id": "_hYRmY80ydi4"
      },
      "source": [
        "### Submission by Durgesh Vikram Yadav (2011MT10)"
      ]
    },
    {
      "cell_type": "markdown",
      "metadata": {
        "id": "7AF3466UyUC1"
      },
      "source": [
        "# Google Dataset"
      ]
    },
    {
      "cell_type": "code",
      "metadata": {
        "id": "GtBTJ_H3bNRL"
      },
      "source": [
        "#Importing Libraries\n",
        "import pandas as pd\n",
        "import numpy as np\n",
        "from pandas_datareader import data as pdr\n",
        "from datetime import datetime\n",
        "import matplotlib.pyplot as plt \n",
        "import warnings\n",
        "warnings.simplefilter('ignore')"
      ],
      "execution_count": 28,
      "outputs": []
    },
    {
      "cell_type": "code",
      "metadata": {
        "id": "pinPpHERexvw"
      },
      "source": [
        "#Downloading data\n",
        "googl = pdr.DataReader('GOOGL', 'yahoo', start=datetime(2014, 8, 1), end=datetime(2016, 11, 30))"
      ],
      "execution_count": 29,
      "outputs": []
    },
    {
      "cell_type": "code",
      "metadata": {
        "id": "TPdwyRrPiPtC"
      },
      "source": [
        "#Exporting and saving as csv files\n",
        "googl.to_csv('Apple_stock.csv', sep=',')"
      ],
      "execution_count": 30,
      "outputs": []
    },
    {
      "cell_type": "code",
      "metadata": {
        "colab": {
          "base_uri": "https://localhost:8080/",
          "height": 233
        },
        "id": "Vx34zEFUi3rD",
        "outputId": "2c06981a-16d1-4328-9339-935c83f48948"
      },
      "source": [
        "#Printing the first few lines of data\n",
        "googl.head()"
      ],
      "execution_count": 31,
      "outputs": [
        {
          "output_type": "execute_result",
          "data": {
            "text/html": [
              "<div>\n",
              "<style scoped>\n",
              "    .dataframe tbody tr th:only-of-type {\n",
              "        vertical-align: middle;\n",
              "    }\n",
              "\n",
              "    .dataframe tbody tr th {\n",
              "        vertical-align: top;\n",
              "    }\n",
              "\n",
              "    .dataframe thead th {\n",
              "        text-align: right;\n",
              "    }\n",
              "</style>\n",
              "<table border=\"1\" class=\"dataframe\">\n",
              "  <thead>\n",
              "    <tr style=\"text-align: right;\">\n",
              "      <th></th>\n",
              "      <th>High</th>\n",
              "      <th>Low</th>\n",
              "      <th>Open</th>\n",
              "      <th>Close</th>\n",
              "      <th>Volume</th>\n",
              "      <th>Adj Close</th>\n",
              "    </tr>\n",
              "    <tr>\n",
              "      <th>Date</th>\n",
              "      <th></th>\n",
              "      <th></th>\n",
              "      <th></th>\n",
              "      <th></th>\n",
              "      <th></th>\n",
              "      <th></th>\n",
              "    </tr>\n",
              "  </thead>\n",
              "  <tbody>\n",
              "    <tr>\n",
              "      <th>2014-08-01</th>\n",
              "      <td>583.429993</td>\n",
              "      <td>570.299988</td>\n",
              "      <td>578.549988</td>\n",
              "      <td>573.599976</td>\n",
              "      <td>2213300</td>\n",
              "      <td>573.599976</td>\n",
              "    </tr>\n",
              "    <tr>\n",
              "      <th>2014-08-04</th>\n",
              "      <td>583.820007</td>\n",
              "      <td>572.260010</td>\n",
              "      <td>576.510010</td>\n",
              "      <td>582.270020</td>\n",
              "      <td>1519400</td>\n",
              "      <td>582.270020</td>\n",
              "    </tr>\n",
              "    <tr>\n",
              "      <th>2014-08-05</th>\n",
              "      <td>580.200012</td>\n",
              "      <td>570.309998</td>\n",
              "      <td>579.380005</td>\n",
              "      <td>573.140015</td>\n",
              "      <td>1643800</td>\n",
              "      <td>573.140015</td>\n",
              "    </tr>\n",
              "    <tr>\n",
              "      <th>2014-08-06</th>\n",
              "      <td>578.640015</td>\n",
              "      <td>567.450012</td>\n",
              "      <td>569.500000</td>\n",
              "      <td>574.489990</td>\n",
              "      <td>1322800</td>\n",
              "      <td>574.489990</td>\n",
              "    </tr>\n",
              "    <tr>\n",
              "      <th>2014-08-07</th>\n",
              "      <td>578.309998</td>\n",
              "      <td>569.429993</td>\n",
              "      <td>576.049988</td>\n",
              "      <td>571.809998</td>\n",
              "      <td>1163000</td>\n",
              "      <td>571.809998</td>\n",
              "    </tr>\n",
              "  </tbody>\n",
              "</table>\n",
              "</div>"
            ],
            "text/plain": [
              "                  High         Low        Open       Close   Volume   Adj Close\n",
              "Date                                                                           \n",
              "2014-08-01  583.429993  570.299988  578.549988  573.599976  2213300  573.599976\n",
              "2014-08-04  583.820007  572.260010  576.510010  582.270020  1519400  582.270020\n",
              "2014-08-05  580.200012  570.309998  579.380005  573.140015  1643800  573.140015\n",
              "2014-08-06  578.640015  567.450012  569.500000  574.489990  1322800  574.489990\n",
              "2014-08-07  578.309998  569.429993  576.049988  571.809998  1163000  571.809998"
            ]
          },
          "metadata": {
            "tags": []
          },
          "execution_count": 31
        }
      ]
    },
    {
      "cell_type": "code",
      "metadata": {
        "colab": {
          "base_uri": "https://localhost:8080/",
          "height": 353
        },
        "id": "GiXsC3xtrEE6",
        "outputId": "efc3bfa6-154e-4cdc-8075-ad5d0e124c8e"
      },
      "source": [
        "#Visulaizing the data\n",
        "plt.figure(figsize=(12,5))\n",
        "plt.plot(googl['Close'], label='Close Price history')\n",
        "plt.legend()\n",
        "plt.title('Close Price history vs Time')"
      ],
      "execution_count": 32,
      "outputs": [
        {
          "output_type": "execute_result",
          "data": {
            "text/plain": [
              "Text(0.5, 1.0, 'Close Price history vs Time')"
            ]
          },
          "metadata": {
            "tags": []
          },
          "execution_count": 32
        },
        {
          "output_type": "display_data",
          "data": {
            "image/png": "[encoded data removed]",
            "text/plain": [
              "<Figure size 864x360 with 1 Axes>"
            ]
          },
          "metadata": {
            "tags": [],
            "needs_background": "light"
          }
        }
      ]
    },
    {
      "cell_type": "markdown",
      "metadata": {
        "id": "icxydeFoTGu0"
      },
      "source": [
        "Perform basic EDA to analyse the Data Frame"
      ]
    },
    {
      "cell_type": "markdown",
      "metadata": {
        "id": "WGW72xebrutx"
      },
      "source": [
        "###ADF and KPSS Tests"
      ]
    },
    {
      "cell_type": "code",
      "metadata": {
        "id": "2KIeF0OfrzeL"
      },
      "source": [
        "#Importing libraries\n",
        "from statsmodels.tsa.stattools import adfuller,kpss"
      ],
      "execution_count": 33,
      "outputs": []
    },
    {
      "cell_type": "markdown",
      "metadata": {
        "id": "m2I1Ne3QsEYn"
      },
      "source": [
        "a) ADF Test"
      ]
    },
    {
      "cell_type": "code",
      "metadata": {
        "colab": {
          "base_uri": "https://localhost:8080/"
        },
        "id": "h3JHKe-isGdC",
        "outputId": "2e7a237d-121a-4a91-9420-c63608247497"
      },
      "source": [
        "def adf_test(atr):\n",
        "    #Perform Dickey-Fuller test:\n",
        "    timeseries = googl[atr].dropna()\n",
        "    print ('Results of Dickey-Fuller Test for ',atr,'\\n')\n",
        "    dftest = adfuller(timeseries, autolag='AIC')\n",
        "    dfoutput = pd.Series(dftest[0:4], index=['Test Statistic','p-value','#Lags Used','Number of Observations Used'])\n",
        "    for key,value in dftest[4].items():\n",
        "       dfoutput['Critical Value (%s)'%key] = value\n",
        "    print(dfoutput)\n",
        "\n",
        "#apply adf test on the series\n",
        "adf_test('Close')"
      ],
      "execution_count": 34,
      "outputs": [
        {
          "output_type": "stream",
          "text": [
            "Results of Dickey-Fuller Test for  Close \n",
            "\n",
            "Test Statistic                  -1.092577\n",
            "p-value                          0.718023\n",
            "#Lags Used                       3.000000\n",
            "Number of Observations Used    585.000000\n",
            "Critical Value (1%)             -3.441578\n",
            "Critical Value (5%)             -2.866493\n",
            "Critical Value (10%)            -2.569408\n",
            "dtype: float64\n"
          ],
          "name": "stdout"
        }
      ]
    },
    {
      "cell_type": "markdown",
      "metadata": {
        "id": "0wj4xGzWbWWP"
      },
      "source": [
        "Since p value is greater than 0.05, therefore, we fail to reject the null hypothesis and the data is non-stationary."
      ]
    },
    {
      "cell_type": "markdown",
      "metadata": {
        "id": "XFyproxssNus"
      },
      "source": [
        "b) KPSS Test"
      ]
    },
    {
      "cell_type": "code",
      "metadata": {
        "colab": {
          "base_uri": "https://localhost:8080/"
        },
        "id": "evR0N7dssQbA",
        "outputId": "11b0cb02-20c5-418e-a268-d8b741bdacf0"
      },
      "source": [
        "def kpss_test(atr):\n",
        "    timeseries = googl[atr].dropna()\n",
        "    print ('Results of KPSS Test for ',atr)\n",
        "    kpsstest = kpss(timeseries, regression='c')\n",
        "    kpss_output = pd.Series(kpsstest[0:3], index=['Test Statistic','p-value','Lags Used'])\n",
        "    for key,value in kpsstest[3].items():\n",
        "        kpss_output['Critical Value (%s)'%key] = value\n",
        "    print (kpss_output)\n",
        "kpss_test('Close')"
      ],
      "execution_count": 35,
      "outputs": [
        {
          "output_type": "stream",
          "text": [
            "Results of KPSS Test for  Close\n",
            "Test Statistic            2.648792\n",
            "p-value                   0.010000\n",
            "Lags Used                19.000000\n",
            "Critical Value (10%)      0.347000\n",
            "Critical Value (5%)       0.463000\n",
            "Critical Value (2.5%)     0.574000\n",
            "Critical Value (1%)       0.739000\n",
            "dtype: float64\n"
          ],
          "name": "stdout"
        }
      ]
    },
    {
      "cell_type": "markdown",
      "metadata": {
        "id": "8hayhWAUcwCD"
      },
      "source": [
        "From KPSS Test, the test statistic is greater than the critical value, we reject the null hypothesis (series is not stationary)."
      ]
    },
    {
      "cell_type": "markdown",
      "metadata": {
        "id": "euc0TV5Qc4-p"
      },
      "source": [
        "Both tests conclude that the series is not stationary -> series is not stationary"
      ]
    },
    {
      "cell_type": "markdown",
      "metadata": {
        "id": "8mOyjmpxyNpt"
      },
      "source": [
        "###ACF and PACF Tests"
      ]
    },
    {
      "cell_type": "markdown",
      "metadata": {
        "id": "lPV59K_3yQ9m"
      },
      "source": [
        "a) ACF Test"
      ]
    },
    {
      "cell_type": "code",
      "metadata": {
        "colab": {
          "base_uri": "https://localhost:8080/",
          "height": 281
        },
        "id": "Vgo60bRfzgYB",
        "outputId": "1cd19bc2-e96c-4055-dab4-99ead582da17"
      },
      "source": [
        "from statsmodels.graphics.tsaplots import plot_acf\n",
        "plot_acf(googl['Close'].dropna(), lags=10)\n",
        "plt.show()"
      ],
      "execution_count": 36,
      "outputs": [
        {
          "output_type": "display_data",
          "data": {
            "image/png": "[encoded data removed]",
            "text/plain": [
              "<Figure size 432x288 with 1 Axes>"
            ]
          },
          "metadata": {
            "tags": [],
            "needs_background": "light"
          }
        }
      ]
    },
    {
      "cell_type": "markdown",
      "metadata": {
        "id": "Oe5g24wTznfe"
      },
      "source": [
        "b) PACF Test"
      ]
    },
    {
      "cell_type": "code",
      "metadata": {
        "colab": {
          "base_uri": "https://localhost:8080/",
          "height": 281
        },
        "id": "2zcCR27eznff",
        "outputId": "36c5bb64-80ee-494f-c82a-b429d918c1cf"
      },
      "source": [
        "from statsmodels.graphics.tsaplots import plot_pacf\n",
        "plot_pacf(googl['Close'])\n",
        "plt.show()"
      ],
      "execution_count": 37,
      "outputs": [
        {
          "output_type": "display_data",
          "data": {
            "image/png": "[encoded data removed]",
            "text/plain": [
              "<Figure size 432x288 with 1 Axes>"
            ]
          },
          "metadata": {
            "tags": [],
            "needs_background": "light"
          }
        }
      ]
    },
    {
      "cell_type": "markdown",
      "metadata": {
        "id": "piJ9QRxOeKE6"
      },
      "source": [
        "From ACF and PACF plots, since more than 5% of the plot is outside the shaded region, the data is non stationary."
      ]
    },
    {
      "cell_type": "markdown",
      "metadata": {
        "id": "GIw2G-KY0Yys"
      },
      "source": [
        "### Differencing to make data as stationary"
      ]
    },
    {
      "cell_type": "code",
      "metadata": {
        "id": "RuVV4CDCTMUO"
      },
      "source": [
        "#Differencing the data\n",
        "googl['diff'] = googl['Close'].diff(periods=1)"
      ],
      "execution_count": 38,
      "outputs": []
    },
    {
      "cell_type": "code",
      "metadata": {
        "colab": {
          "base_uri": "https://localhost:8080/",
          "height": 295
        },
        "id": "hZsy7x02TdYX",
        "outputId": "e9081c0f-eb43-4e13-f047-de1bbeee4f4c"
      },
      "source": [
        "#Visulaizing the differenced data\n",
        "googl[\"diff\"].plot()"
      ],
      "execution_count": 39,
      "outputs": [
        {
          "output_type": "execute_result",
          "data": {
            "text/plain": [
              "<matplotlib.axes._subplots.AxesSubplot at 0x7f3be9771210>"
            ]
          },
          "metadata": {
            "tags": []
          },
          "execution_count": 39
        },
        {
          "output_type": "display_data",
          "data": {
            "image/png": "[encoded data removed]",
            "text/plain": [
              "<Figure size 432x288 with 1 Axes>"
            ]
          },
          "metadata": {
            "tags": [],
            "needs_background": "light"
          }
        }
      ]
    },
    {
      "cell_type": "code",
      "metadata": {
        "colab": {
          "base_uri": "https://localhost:8080/"
        },
        "id": "zg0COPPHXW3L",
        "outputId": "7c36e2d1-bacc-4b97-fa67-4bce26ba449f"
      },
      "source": [
        "# ADF Test of differenced data\n",
        "adf_test('diff')"
      ],
      "execution_count": 40,
      "outputs": [
        {
          "output_type": "stream",
          "text": [
            "Results of Dickey-Fuller Test for  diff \n",
            "\n",
            "Test Statistic                -1.479016e+01\n",
            "p-value                        2.177423e-27\n",
            "#Lags Used                     2.000000e+00\n",
            "Number of Observations Used    5.850000e+02\n",
            "Critical Value (1%)           -3.441578e+00\n",
            "Critical Value (5%)           -2.866493e+00\n",
            "Critical Value (10%)          -2.569408e+00\n",
            "dtype: float64\n"
          ],
          "name": "stdout"
        }
      ]
    },
    {
      "cell_type": "markdown",
      "metadata": {
        "id": "ZStPTi0vdDfv"
      },
      "source": [
        "Since p value is less than 0.05, therefore, we reject the null hypothesis and the differenced data is stationary."
      ]
    },
    {
      "cell_type": "code",
      "metadata": {
        "colab": {
          "base_uri": "https://localhost:8080/"
        },
        "id": "-OY6EjUsXWrP",
        "outputId": "bef58312-fbe7-4738-92d4-12806720ea3a"
      },
      "source": [
        "# KPSS Test of differenced data\n",
        "kpss_test('diff')"
      ],
      "execution_count": 41,
      "outputs": [
        {
          "output_type": "stream",
          "text": [
            "Results of KPSS Test for  diff\n",
            "Test Statistic            0.073196\n",
            "p-value                   0.100000\n",
            "Lags Used                19.000000\n",
            "Critical Value (10%)      0.347000\n",
            "Critical Value (5%)       0.463000\n",
            "Critical Value (2.5%)     0.574000\n",
            "Critical Value (1%)       0.739000\n",
            "dtype: float64\n"
          ],
          "name": "stdout"
        }
      ]
    },
    {
      "cell_type": "markdown",
      "metadata": {
        "id": "iCu1HRfjdOlg"
      },
      "source": [
        "From KPSS Test, the test statistic is less than the critical value, we fail to reject the null hypothesis (differenced series is stationary)."
      ]
    },
    {
      "cell_type": "markdown",
      "metadata": {
        "id": "-CLmihcgdOlh"
      },
      "source": [
        "Both tests conclude that the differenced series is stationary -> series is stationary."
      ]
    },
    {
      "cell_type": "code",
      "metadata": {
        "id": "N-Bd3nWhGups",
        "colab": {
          "base_uri": "https://localhost:8080/",
          "height": 281
        },
        "outputId": "ce275055-280c-495a-e2a4-570dbf8b26ed"
      },
      "source": [
        "# ACF Test of differenced data\n",
        "plot_acf(googl['diff'].dropna(), lags=10)\n",
        "plt.show()"
      ],
      "execution_count": 42,
      "outputs": [
        {
          "output_type": "display_data",
          "data": {
            "image/png": "[encoded data removed]",
            "text/plain": [
              "<Figure size 432x288 with 1 Axes>"
            ]
          },
          "metadata": {
            "tags": [],
            "needs_background": "light"
          }
        }
      ]
    },
    {
      "cell_type": "code",
      "metadata": {
        "colab": {
          "base_uri": "https://localhost:8080/",
          "height": 281
        },
        "id": "jXiH41Ej1dAk",
        "outputId": "772a047f-8847-41cd-cccd-1e2ae320a896"
      },
      "source": [
        "# PACF Test of differenced data\n",
        "plot_pacf(googl['diff'].dropna(), lags=10)\n",
        "plt.show()"
      ],
      "execution_count": 43,
      "outputs": [
        {
          "output_type": "display_data",
          "data": {
            "image/png": "[encoded data removed]",
            "text/plain": [
              "<Figure size 432x288 with 1 Axes>"
            ]
          },
          "metadata": {
            "tags": [],
            "needs_background": "light"
          }
        }
      ]
    },
    {
      "cell_type": "markdown",
      "metadata": {
        "id": "_uVmtAbPertT"
      },
      "source": [
        "From ACF and PACF plots, since less than 5% of the plot is outside the shaded region, the differenced data is stationary."
      ]
    },
    {
      "cell_type": "markdown",
      "metadata": {
        "id": "tqof808nMnwU"
      },
      "source": [
        "\n",
        "\n",
        "---\n",
        "\n",
        "\n",
        "\n",
        "---\n",
        "\n",
        "\n",
        "\n",
        "---\n",
        "\n"
      ]
    },
    {
      "cell_type": "markdown",
      "metadata": {
        "id": "Xh-vWwR7gZ1l"
      },
      "source": [
        "## Univariate Outliers:"
      ]
    },
    {
      "cell_type": "code",
      "metadata": {
        "id": "ZJevDrU4NEww"
      },
      "source": [
        "#Deleting differenced data column 'diff'\n",
        "del googl[\"diff\"]"
      ],
      "execution_count": 44,
      "outputs": []
    },
    {
      "cell_type": "code",
      "metadata": {
        "colab": {
          "base_uri": "https://localhost:8080/"
        },
        "id": "FSnflh7yMnP6",
        "outputId": "fe7e1e63-cf1b-40d0-a8a1-8fd6ae93e236"
      },
      "source": [
        "googl.isnull().sum()"
      ],
      "execution_count": 45,
      "outputs": [
        {
          "output_type": "execute_result",
          "data": {
            "text/plain": [
              "High         0\n",
              "Low          0\n",
              "Open         0\n",
              "Close        0\n",
              "Volume       0\n",
              "Adj Close    0\n",
              "dtype: int64"
            ]
          },
          "metadata": {
            "tags": []
          },
          "execution_count": 45
        }
      ]
    },
    {
      "cell_type": "markdown",
      "metadata": {
        "id": "crtWQhEhTAw5"
      },
      "source": [
        "There are no null values in the data frame"
      ]
    },
    {
      "cell_type": "markdown",
      "metadata": {
        "id": "H0Fjsyk0S8vw"
      },
      "source": [
        "We will plot a simple box plot which is the best visualization for detecting outliers"
      ]
    },
    {
      "cell_type": "code",
      "metadata": {
        "colab": {
          "base_uri": "https://localhost:8080/",
          "height": 487
        },
        "id": "Vaxw7f05SUcX",
        "outputId": "51d3f962-4e68-498c-a917-f2fea93ad062"
      },
      "source": [
        "#Box plot for Close column of dataset\n",
        "import seaborn as sns \n",
        "plt.figure(figsize = (4,8))\n",
        "sns.boxplot(y = googl.Close)"
      ],
      "execution_count": 46,
      "outputs": [
        {
          "output_type": "execute_result",
          "data": {
            "text/plain": [
              "<matplotlib.axes._subplots.AxesSubplot at 0x7f3be0be1710>"
            ]
          },
          "metadata": {
            "tags": []
          },
          "execution_count": 46
        },
        {
          "output_type": "display_data",
          "data": {
            "image/png": "[encoded data removed]",
            "text/plain": [
              "<Figure size 288x576 with 1 Axes>"
            ]
          },
          "metadata": {
            "tags": [],
            "needs_background": "light"
          }
        }
      ]
    },
    {
      "cell_type": "markdown",
      "metadata": {
        "id": "8J2i_K9igZ1t"
      },
      "source": [
        "#### Let's define a function to find out the IQR, lower and the upper whisker."
      ]
    },
    {
      "cell_type": "code",
      "metadata": {
        "id": "EBbcRaK8T1Lz"
      },
      "source": [
        "def out_iqr(df , column):\n",
        "    global lower,upper\n",
        "    q25, q75 = np.quantile(df[column], 0.25), np.quantile(df[column], 0.75)\n",
        "    # calculate the IQR\n",
        "    iqr = q75 - q25\n",
        "    # calculate the outlier cutoff\n",
        "    cut_off = iqr * 1.5\n",
        "    # calculate the lower and upper bound value\n",
        "    lower, upper = q25 - cut_off, q75 + cut_off\n",
        "    print('The IQR is',iqr)\n",
        "    print('The lower bound value is', lower)\n",
        "    print('The upper bound value is', upper)\n",
        "    # Calculate the number of records below and above lower and above bound value respectively\n",
        "    df1 = df[df[column] > upper]\n",
        "    df2 = df[df[column] < lower]\n",
        "    return print('Total number of outliers are', df1.shape[0]+ df2.shape[0])"
      ],
      "execution_count": 47,
      "outputs": []
    },
    {
      "cell_type": "code",
      "metadata": {
        "colab": {
          "base_uri": "https://localhost:8080/"
        },
        "id": "NuGHNpjzT9Y9",
        "outputId": "15c4d6ae-f629-406d-832b-d9a875befbfd"
      },
      "source": [
        "#Input the dataset and the required column\n",
        "out_iqr(googl,'Close')"
      ],
      "execution_count": 48,
      "outputs": [
        {
          "output_type": "stream",
          "text": [
            "The IQR is 200.84002685546875\n",
            "The lower bound value is 255.54995727539062\n",
            "The upper bound value is 1058.9100646972656\n",
            "Total number of outliers are 0\n"
          ],
          "name": "stdout"
        }
      ]
    },
    {
      "cell_type": "markdown",
      "metadata": {
        "id": "fpwrMS0-0tgG"
      },
      "source": [
        "We can see here that there are 0 outliers in Close column of datsaset."
      ]
    },
    {
      "cell_type": "markdown",
      "metadata": {
        "id": "gcB1fdp-gZ1u"
      },
      "source": [
        "### Visual representation:"
      ]
    },
    {
      "cell_type": "code",
      "metadata": {
        "colab": {
          "base_uri": "https://localhost:8080/",
          "height": 405
        },
        "id": "6WadmZIvUP6w",
        "outputId": "835e590c-eae1-4345-afc9-b9835d367caf"
      },
      "source": [
        "plt.figure(figsize = (10,6))\n",
        "sns.distplot(googl.Close, kde=True)\n",
        "plt.axvspan(xmin = lower,xmax= googl.Close.min(),alpha=0.3, color='red')\n",
        "plt.axvspan(xmin = upper,xmax= googl.Close.max(),alpha=0.3, color='red')"
      ],
      "execution_count": 49,
      "outputs": [
        {
          "output_type": "execute_result",
          "data": {
            "text/plain": [
              "<matplotlib.patches.Polygon at 0x7f3be0b77b90>"
            ]
          },
          "metadata": {
            "tags": []
          },
          "execution_count": 49
        },
        {
          "output_type": "display_data",
          "data": {
            "image/png": "[encoded data removed]",
            "text/plain": [
              "<Figure size 720x432 with 1 Axes>"
            ]
          },
          "metadata": {
            "tags": [],
            "needs_background": "light"
          }
        }
      ]
    },
    {
      "cell_type": "markdown",
      "metadata": {
        "id": "OWyc9honVyQT"
      },
      "source": [
        "Here the red zone represents the outlier zone."
      ]
    },
    {
      "cell_type": "markdown",
      "metadata": {
        "id": "6h1CmZCUhG_n"
      },
      "source": [
        "\n",
        "\n",
        "---\n",
        "\n"
      ]
    },
    {
      "cell_type": "markdown",
      "metadata": {
        "id": "s4MfTv7pgZ18"
      },
      "source": [
        "## Mulitivariate Outliers:"
      ]
    },
    {
      "cell_type": "markdown",
      "metadata": {
        "id": "KZEPcoi7gZ18"
      },
      "source": [
        "### 1) DBSCAN (Density-Based Spatial Clustering of Applications with Noise):"
      ]
    },
    {
      "cell_type": "markdown",
      "metadata": {
        "id": "s3vhnAmt1YpA"
      },
      "source": [
        "We are considering the Open and Close columns of the dataset."
      ]
    },
    {
      "cell_type": "code",
      "metadata": {
        "id": "9YWzUGoVgZ1-"
      },
      "source": [
        "from sklearn.cluster import DBSCAN\n",
        "X = googl[['Open','Close']].values\n",
        "\n",
        "db = DBSCAN(eps=3.0, min_samples=10).fit(X)\n",
        "labels = db.labels_"
      ],
      "execution_count": 50,
      "outputs": []
    },
    {
      "cell_type": "code",
      "metadata": {
        "scrolled": true,
        "id": "yhhSVUQagZ1-",
        "colab": {
          "base_uri": "https://localhost:8080/"
        },
        "outputId": "84b5d597-65e7-4ede-afa1-0d49d5f3260c"
      },
      "source": [
        "pd.Series(labels).value_counts()"
      ],
      "execution_count": 51,
      "outputs": [
        {
          "output_type": "execute_result",
          "data": {
            "text/plain": [
              "-1    478\n",
              " 0     60\n",
              " 1     22\n",
              " 3     19\n",
              " 2     10\n",
              "dtype: int64"
            ]
          },
          "metadata": {
            "tags": []
          },
          "execution_count": 51
        }
      ]
    },
    {
      "cell_type": "markdown",
      "metadata": {
        "id": "a2XNXy5AgZ1_"
      },
      "source": [
        "Here the -1's represent the outliers and 0 represent not outlier. "
      ]
    },
    {
      "cell_type": "code",
      "metadata": {
        "id": "Op0bXr8NgZ1_",
        "colab": {
          "base_uri": "https://localhost:8080/",
          "height": 714
        },
        "outputId": "4a007e78-eaf0-4061-a0c1-dbf71c2864b6"
      },
      "source": [
        "plt.figure(figsize=(12,12))\n",
        "\n",
        "unique_labels = set(labels)\n",
        "colors = ['green','red']\n",
        "\n",
        "for color,label in zip(colors, unique_labels):\n",
        "    sample_mask = [True if l == label else False for l in labels]\n",
        "    plt.plot(X[:,0][sample_mask], X[:, 1][sample_mask], 'o', color=color);\n",
        "plt.xlabel('Open');\n",
        "plt.ylabel('Close');\n"
      ],
      "execution_count": 52,
      "outputs": [
        {
          "output_type": "display_data",
          "data": {
            "image/png": "[encoded data removed]",
            "text/plain": [
              "<Figure size 864x864 with 1 Axes>"
            ]
          },
          "metadata": {
            "tags": [],
            "needs_background": "light"
          }
        }
      ]
    },
    {
      "cell_type": "markdown",
      "metadata": {
        "id": "mdMMUtChlmb5"
      },
      "source": [
        "\n",
        "\n",
        "---\n",
        "\n"
      ]
    },
    {
      "cell_type": "markdown",
      "metadata": {
        "id": "Skyv4WOqgZ2A"
      },
      "source": [
        "### 2) Local Outlier Factor Method(LOF):"
      ]
    },
    {
      "cell_type": "code",
      "metadata": {
        "id": "YtTgsVFugZ2I"
      },
      "source": [
        "from sklearn.neighbors import LocalOutlierFactor\n",
        "clf = LocalOutlierFactor(n_neighbors=50, contamination='auto')\n",
        "X = googl[['Open','Close']].values\n",
        "y_pred = clf.fit_predict(X)"
      ],
      "execution_count": 53,
      "outputs": []
    },
    {
      "cell_type": "markdown",
      "metadata": {
        "id": "5BH9K63CgZ2I"
      },
      "source": [
        " Now let's plot and visualize the outliers. I've set blue for the normal records and red for outliers"
      ]
    },
    {
      "cell_type": "code",
      "metadata": {
        "id": "MtizNz3qgZ2I",
        "colab": {
          "base_uri": "https://localhost:8080/",
          "height": 730
        },
        "outputId": "eb6a93e5-a8e9-4fa3-cb4b-a94b223660dc"
      },
      "source": [
        "plt.figure(figsize=(12,12))\n",
        "# plot the level sets of the decision function\n",
        "\n",
        "in_mask = [True if l == 1 else False for l in y_pred]\n",
        "out_mask = [True if l == -1 else False for l in y_pred]\n",
        "\n",
        "plt.title(\"Local Outlier Factor (LOF)\")\n",
        "# inliers\n",
        "a = plt.scatter(X[in_mask, 0], X[in_mask, 1], c = 'blue',\n",
        "                edgecolor = 'k', s = 30)\n",
        "# outliers\n",
        "b = plt.scatter(X[out_mask, 0], X[out_mask, 1], c = 'red',\n",
        "                edgecolor = 'k', s = 30)\n",
        "plt.axis('tight');\n",
        "plt.xlabel('Open');\n",
        "plt.ylabel('Close');\n",
        "plt.show()"
      ],
      "execution_count": 54,
      "outputs": [
        {
          "output_type": "display_data",
          "data": {
            "image/png": "[encoded data removed]",
            "text/plain": [
              "<Figure size 864x864 with 1 Axes>"
            ]
          },
          "metadata": {
            "tags": [],
            "needs_background": "light"
          }
        }
      ]
    },
    {
      "cell_type": "markdown",
      "metadata": {
        "id": "qGPWLDur3Ytn"
      },
      "source": [
        "Here, blue coloured ones are normal data and red ones are outliers."
      ]
    }
  ]
}