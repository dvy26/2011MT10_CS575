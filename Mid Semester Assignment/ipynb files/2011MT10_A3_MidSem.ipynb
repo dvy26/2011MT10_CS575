{
  "nbformat": 4,
  "nbformat_minor": 0,
  "metadata": {
    "colab": {
      "name": "2011MT10_A3_MidSem.ipynb",
      "provenance": [],
      "collapsed_sections": []
    },
    "kernelspec": {
      "name": "python3",
      "display_name": "Python 3"
    }
  },
  "cells": [
    {
      "cell_type": "markdown",
      "metadata": {
        "id": "b_VUqJHGBHkc"
      },
      "source": [
        "# **Question 2**"
      ]
    },
    {
      "cell_type": "code",
      "metadata": {
        "id": "Ko7d3VzzB4j_"
      },
      "source": [
        "import numpy as np\r\n",
        "import pandas as pd\r\n",
        "from numpy import log10\r\n",
        "import math\r\n",
        "\r\n"
      ],
      "execution_count": 3,
      "outputs": []
    },
    {
      "cell_type": "code",
      "metadata": {
        "id": "WrBlCX8mB8qP"
      },
      "source": [
        "# Importing the dataset\r\n",
        "df = pd.read_excel(\"dataset_metrics.xlsx\")"
      ],
      "execution_count": 4,
      "outputs": []
    },
    {
      "cell_type": "code",
      "metadata": {
        "id": "A0BB1VODvimG"
      },
      "source": [
        "#Defining evaluated and simulated value\r\n",
        "e = list(df.actual_y)\r\n",
        "s = list(df.predicted_y)"
      ],
      "execution_count": 5,
      "outputs": []
    },
    {
      "cell_type": "markdown",
      "metadata": {
        "id": "JlLnZERJz1ck"
      },
      "source": [
        "Defining Mean, Variance and Standard Deviation functions below, which will be called in question parts below."
      ]
    },
    {
      "cell_type": "code",
      "metadata": {
        "id": "MfjdO6EaLVb2"
      },
      "source": [
        "#Calculating mean\r\n",
        "def mean(arr):\r\n",
        "  Sum=0\r\n",
        "  for i in arr:\r\n",
        "    Sum+=i\r\n",
        "  mean=Sum/len(arr)\r\n",
        "  return mean"
      ],
      "execution_count": 6,
      "outputs": []
    },
    {
      "cell_type": "code",
      "metadata": {
        "id": "vOt6PrTPkLog"
      },
      "source": [
        "#Defining variance function\r\n",
        "def var(arr):\r\n",
        "  mu=mean(arr)\r\n",
        "  Sum=0\r\n",
        "  for i in arr:\r\n",
        "    Sum=Sum+((i-mu)**2)\r\n",
        "  var=Sum/(len(arr)-1)\r\n",
        "  return var"
      ],
      "execution_count": 7,
      "outputs": []
    },
    {
      "cell_type": "code",
      "metadata": {
        "id": "EZsrBn-OkNnQ"
      },
      "source": [
        "#Defining standard deviation function\r\n",
        "def std(arr):\r\n",
        "  var1=var(arr)\r\n",
        "  std=math.sqrt(var1)\r\n",
        "  return std"
      ],
      "execution_count": 8,
      "outputs": []
    },
    {
      "cell_type": "markdown",
      "metadata": {
        "id": "QDvim-cx20ax"
      },
      "source": [
        "Part 1: Bias"
      ]
    },
    {
      "cell_type": "code",
      "metadata": {
        "id": "-1wWgUcoGcmO"
      },
      "source": [
        "#Defining Bias function\r\n",
        "def bias(arr1,arr2):\r\n",
        "  sum = 0\r\n",
        "  for i in range(len(arr1)):\r\n",
        "      sum += arr1[i] - arr2[i]\r\n",
        "  bias = sum/len(arr1)\r\n",
        "  return bias"
      ],
      "execution_count": 9,
      "outputs": []
    },
    {
      "cell_type": "code",
      "metadata": {
        "colab": {
          "base_uri": "https://localhost:8080/"
        },
        "id": "bNRqTJarGhvu",
        "outputId": "b6d37692-7941-4237-8463-66b7d0b30dc9"
      },
      "source": [
        "#Finding Bias\r\n",
        "print('Bias is : ',bias(e,s))"
      ],
      "execution_count": 10,
      "outputs": [
        {
          "output_type": "stream",
          "text": [
            "Bias is :  -0.5\n"
          ],
          "name": "stdout"
        }
      ]
    },
    {
      "cell_type": "markdown",
      "metadata": {
        "id": "NBYcgytZBlC-"
      },
      "source": [
        "Part 2: pBias"
      ]
    },
    {
      "cell_type": "code",
      "metadata": {
        "id": "XjunnonABhJr"
      },
      "source": [
        "#Defining pBias function\r\n",
        "def pbias(arr1,arr2):\r\n",
        "  sum1 = 0\r\n",
        "  sum2 = 0\r\n",
        "  for i in range(len(arr1)):\r\n",
        "      sum1 += arr1[i] - arr2[i]\r\n",
        "      sum2 += arr1[i]\r\n",
        "  pbias = 100*sum1/sum2\r\n",
        "  return pbias"
      ],
      "execution_count": 11,
      "outputs": []
    },
    {
      "cell_type": "code",
      "metadata": {
        "colab": {
          "base_uri": "https://localhost:8080/"
        },
        "id": "47Oh410lHrIh",
        "outputId": "c8caf33a-386d-46ad-8d8f-122ca7853d45"
      },
      "source": [
        "#Finding pBias\r\n",
        "print('p-bias is : ',pbias(e,s))"
      ],
      "execution_count": 12,
      "outputs": [
        {
          "output_type": "stream",
          "text": [
            "p-bias is :  -3.125\n"
          ],
          "name": "stdout"
        }
      ]
    },
    {
      "cell_type": "markdown",
      "metadata": {
        "id": "_aCUHApkJUMe"
      },
      "source": [
        "Part 3: Nash-Sutcliffe (NSE)"
      ]
    },
    {
      "cell_type": "code",
      "metadata": {
        "id": "28PY7t1OCi0D"
      },
      "source": [
        "#Defining NSE function\r\n",
        "def nse(arr1,arr2):\r\n",
        "  sum1=0\r\n",
        "  sum2=0\r\n",
        "\r\n",
        "  for i in range(len(arr1)):\r\n",
        "    sum1+=(arr1[i]-arr2[i])**2\r\n",
        "\r\n",
        "  emean=mean(arr1)\r\n",
        "\r\n",
        "  for i in range(len(arr1)):\r\n",
        "    sum2+=(arr1[i]-emean)**2\r\n",
        "\r\n",
        "  nse = 1-(sum1/sum2)\r\n",
        "  return nse"
      ],
      "execution_count": 13,
      "outputs": []
    },
    {
      "cell_type": "code",
      "metadata": {
        "id": "2sqFbNwzSkfr",
        "colab": {
          "base_uri": "https://localhost:8080/"
        },
        "outputId": "b25c7c36-9e35-4582-ced1-5b2e5ef1777a"
      },
      "source": [
        "#Finding NSE\r\n",
        "print('NSE is : ',nse(e,s))"
      ],
      "execution_count": 14,
      "outputs": [
        {
          "output_type": "stream",
          "text": [
            "NSE is :  0.8417085427135679\n"
          ],
          "name": "stdout"
        }
      ]
    },
    {
      "cell_type": "markdown",
      "metadata": {
        "id": "UfMoeQeuQoZ7"
      },
      "source": [
        "Part 4: log Nash-Sutcli\u000be"
      ]
    },
    {
      "cell_type": "code",
      "metadata": {
        "id": "P95xGUBACpcx"
      },
      "source": [
        "#Defining logNSE function\r\n",
        "def lognse(arr1,arr2):\r\n",
        "  sum1=0\r\n",
        "  sum2=0\r\n",
        "\r\n",
        "  for i in range(len(arr1)):\r\n",
        "    sum1+=(log10(arr1[i])-log10(arr2[i]))**2\r\n",
        "\r\n",
        "  emean=mean(arr1)\r\n",
        "\r\n",
        "  for i in range(len(arr1)):\r\n",
        "    sum2+=(log10(arr1[i])-log10(emean))**2\r\n",
        "\r\n",
        "  lognse = 1-(sum1/sum2)\r\n",
        "  return lognse"
      ],
      "execution_count": 15,
      "outputs": []
    },
    {
      "cell_type": "code",
      "metadata": {
        "id": "QQmQV5HLSZ3q",
        "colab": {
          "base_uri": "https://localhost:8080/"
        },
        "outputId": "08650857-3042-4fac-f925-a190cb3f9189"
      },
      "source": [
        "#Finding logNSE\r\n",
        "print('logNSE is : ',lognse(e,s))"
      ],
      "execution_count": 16,
      "outputs": [
        {
          "output_type": "stream",
          "text": [
            "logNSE is :  0.7121054364600314\n"
          ],
          "name": "stdout"
        }
      ]
    },
    {
      "cell_type": "markdown",
      "metadata": {
        "id": "bwyL_-ymSIu_"
      },
      "source": [
        "Part 5: Correlation Coefficient"
      ]
    },
    {
      "cell_type": "code",
      "metadata": {
        "id": "FvzscHC4SBnt"
      },
      "source": [
        "#Defining correlation function\r\n",
        "def corr(arr1,arr2):\r\n",
        "  sum1=0\r\n",
        "  sum2=0\r\n",
        "  sum3=0\r\n",
        "  mu1=mean(arr1)\r\n",
        "  mu2=mean(arr2)\r\n",
        "  for i, j in zip(arr1, arr2):\r\n",
        "    sum1+=((i-mu1)*(j-mu2))\r\n",
        "  for i in arr1:\r\n",
        "    sum2+=((i-mu1)**2)\r\n",
        "  for j in arr2:\r\n",
        "    sum3+=((j-mu2)**2)\r\n",
        "  corr=sum1/(math.sqrt(sum2*sum3))\r\n",
        "  return corr"
      ],
      "execution_count": 17,
      "outputs": []
    },
    {
      "cell_type": "code",
      "metadata": {
        "colab": {
          "base_uri": "https://localhost:8080/"
        },
        "id": "AB82S8CwSyyd",
        "outputId": "501ffdbb-9507-4c36-a67c-b2031a49c156"
      },
      "source": [
        "#Finding Correlation Coefficient\r\n",
        "print('Correlation Coefficient is : ',corr(e,s))"
      ],
      "execution_count": 18,
      "outputs": [
        {
          "output_type": "stream",
          "text": [
            "Correlation Coefficient is :  0.92088934100307\n"
          ],
          "name": "stdout"
        }
      ]
    },
    {
      "cell_type": "markdown",
      "metadata": {
        "id": "JJmy35q5bOS_"
      },
      "source": [
        "Part 6: rsquared"
      ]
    },
    {
      "cell_type": "code",
      "metadata": {
        "id": "N99pgQ81F1GY"
      },
      "source": [
        "#Defining rsquared\r\n",
        "def rsquared(arr1,arr2):\r\n",
        "  sum1=0\r\n",
        "  sum2=0\r\n",
        "  sum3=0\r\n",
        "  mu1=mean(arr1)\r\n",
        "  mu2=mean(arr2)\r\n",
        "  for i, j in zip(arr1, arr2):\r\n",
        "    sum1+=((i-mu1)*(j-mu2))\r\n",
        "  for i in arr1:\r\n",
        "    sum2+=((i-mu1)**2)\r\n",
        "  for j in arr2:\r\n",
        "    sum3+=((j-mu2)**2)\r\n",
        "  corr=sum1/(math.sqrt(sum2*sum3))\r\n",
        "  rsquared=corr**2\r\n",
        "  return rsquared\r\n"
      ],
      "execution_count": 19,
      "outputs": []
    },
    {
      "cell_type": "code",
      "metadata": {
        "colab": {
          "base_uri": "https://localhost:8080/"
        },
        "id": "O80fFDchblBj",
        "outputId": "7ea2e8ee-9ef6-4e2b-8290-21d903a30c08"
      },
      "source": [
        "#Finding rsquared \r\n",
        "print('rsquared is : ',rsquared(e,s))"
      ],
      "execution_count": 20,
      "outputs": [
        {
          "output_type": "stream",
          "text": [
            "rsquared is :  0.8480371783730685\n"
          ],
          "name": "stdout"
        }
      ]
    },
    {
      "cell_type": "markdown",
      "metadata": {
        "id": "beob28UndAaR"
      },
      "source": [
        "Part 7: MSE"
      ]
    },
    {
      "cell_type": "code",
      "metadata": {
        "id": "XO78-qsYc-EL"
      },
      "source": [
        "#Defining Mean of Squared Error Function mse\r\n",
        "def mse(arr1,arr2):\r\n",
        "  arr3=[]\r\n",
        "  for i, j in zip(arr1, arr2):\r\n",
        "    arr3.append(i-j)\r\n",
        "  sum=0\r\n",
        "  for i in arr3:\r\n",
        "    sqr=i**2\r\n",
        "    sum+=sqr\r\n",
        "  mse=sum/(len(arr2))\r\n",
        "  return mse"
      ],
      "execution_count": 21,
      "outputs": []
    },
    {
      "cell_type": "code",
      "metadata": {
        "colab": {
          "base_uri": "https://localhost:8080/"
        },
        "id": "H0vmK70wfkFZ",
        "outputId": "67f46c6a-e5ba-4607-8b01-b5d52976750a"
      },
      "source": [
        "#Finding Mean of Squared Error mse \r\n",
        "print('Mean of Squared Error mse is : ',mse(e,s))"
      ],
      "execution_count": 22,
      "outputs": [
        {
          "output_type": "stream",
          "text": [
            "Mean of Squared Error mse is :  6.3\n"
          ],
          "name": "stdout"
        }
      ]
    },
    {
      "cell_type": "markdown",
      "metadata": {
        "id": "WLlggoMffxuG"
      },
      "source": [
        "Part 8: Root MSE"
      ]
    },
    {
      "cell_type": "code",
      "metadata": {
        "id": "LVij6bLHfxuU"
      },
      "source": [
        "#Defining Root Mean of Squared Error Function rmse\r\n",
        "def rmse(arr1,arr2):\r\n",
        "  arr3=[]\r\n",
        "  for i, j in zip(arr1, arr2):\r\n",
        "    arr3.append(i-j)\r\n",
        "  sum=0\r\n",
        "  for i in arr3:\r\n",
        "    sqr=i**2\r\n",
        "    sum+=sqr\r\n",
        "  mse=sum/(len(arr2))\r\n",
        "  rmse=mse**0.5\r\n",
        "  return rmse"
      ],
      "execution_count": 23,
      "outputs": []
    },
    {
      "cell_type": "code",
      "metadata": {
        "colab": {
          "base_uri": "https://localhost:8080/"
        },
        "id": "1dEWNXpOfxuV",
        "outputId": "b1e00521-d54a-4414-98f0-42e1e669ad77"
      },
      "source": [
        "#Finding Root Mean of Squared Error rmse\r\n",
        "print('Root Mean of Squared Error rmse is : ',rmse(e,s))"
      ],
      "execution_count": 24,
      "outputs": [
        {
          "output_type": "stream",
          "text": [
            "Root Mean of Squared Error rmse is :  2.5099800796022267\n"
          ],
          "name": "stdout"
        }
      ]
    },
    {
      "cell_type": "markdown",
      "metadata": {
        "id": "UxBxQ-vSgPH-"
      },
      "source": [
        "Part 9: Mean Absolute Error"
      ]
    },
    {
      "cell_type": "code",
      "metadata": {
        "id": "Y9nrJMhygPH_"
      },
      "source": [
        "#Defining Mean Absolute Error mae\r\n",
        "def mae(arr1,arr2):\r\n",
        "  sum=0\r\n",
        "  arr3=[]\r\n",
        "  for i, j in zip(arr1, arr2):\r\n",
        "    arr3.append(i-j)\r\n",
        "  sum=0\r\n",
        "  for i in arr3:\r\n",
        "    sqr=abs(i)\r\n",
        "    sum+=sqr\r\n",
        "  mae=sum/(len(arr2))\r\n",
        "  return mae"
      ],
      "execution_count": 25,
      "outputs": []
    },
    {
      "cell_type": "code",
      "metadata": {
        "colab": {
          "base_uri": "https://localhost:8080/"
        },
        "id": "cpHkHNElgPIA",
        "outputId": "f2d075e2-9920-4cad-f886-10993d3cb83d"
      },
      "source": [
        "#Finding Mean Absolute Error mae\r\n",
        "print('Mean Absolute Error mae is : ',mae(e,s))"
      ],
      "execution_count": 26,
      "outputs": [
        {
          "output_type": "stream",
          "text": [
            "Mean Absolute Error mae is :  1.9\n"
          ],
          "name": "stdout"
        }
      ]
    },
    {
      "cell_type": "markdown",
      "metadata": {
        "id": "I0l0k_JHhtU2"
      },
      "source": [
        "Part 10: RRMSE"
      ]
    },
    {
      "cell_type": "code",
      "metadata": {
        "id": "HKIvSguJhtVG"
      },
      "source": [
        "#Defining RRMSE\r\n",
        "def rrmse(arr1,arr2):\r\n",
        "  arr3=[]\r\n",
        "  for i, j in zip(arr1, arr2):\r\n",
        "    arr3.append(i-j)\r\n",
        "  sum=0\r\n",
        "  for i in arr3:\r\n",
        "    sqr=i**2\r\n",
        "    sum+=sqr\r\n",
        "  mse=sum/(len(arr2))\r\n",
        "  rmse=mse**0.5\r\n",
        "  rrmse=rmse/mean(e)\r\n",
        "  return rrmse"
      ],
      "execution_count": 27,
      "outputs": []
    },
    {
      "cell_type": "code",
      "metadata": {
        "colab": {
          "base_uri": "https://localhost:8080/"
        },
        "id": "43w-RS05htVH",
        "outputId": "442da200-ff0d-42f0-dab5-6638a1a435cc"
      },
      "source": [
        "#Finding RRMSE\r\n",
        "print('RRMSE is : ',rrmse(e,s))"
      ],
      "execution_count": 28,
      "outputs": [
        {
          "output_type": "stream",
          "text": [
            "RRMSE is :  0.15687375497513917\n"
          ],
          "name": "stdout"
        }
      ]
    },
    {
      "cell_type": "markdown",
      "metadata": {
        "id": "Tqq1ygwbitBt"
      },
      "source": [
        "Part 11: Agreementindex"
      ]
    },
    {
      "cell_type": "code",
      "metadata": {
        "id": "czOlyCuPQTgC"
      },
      "source": [
        "#Defining Agreementindex\r\n",
        "def aggrementindex(arr1,arr2):\r\n",
        "  sum1 = 0\r\n",
        "  sum2 = 0\r\n",
        "  for i in range(len(arr1)):\r\n",
        "    sum1 += (arr1[i] - arr2[i])**2\r\n",
        "    \r\n",
        "  for j in range(len(arr1)):\r\n",
        "    sum2 += (abs(arr2[j] - mean(arr1)) + abs(arr1[j] - mean(arr1)))**2\r\n",
        "    \r\n",
        "  d = 1 - (sum1/sum2)  \r\n",
        "  return d"
      ],
      "execution_count": 29,
      "outputs": []
    },
    {
      "cell_type": "code",
      "metadata": {
        "colab": {
          "base_uri": "https://localhost:8080/"
        },
        "id": "k26VXsTrlLxq",
        "outputId": "4316b6ba-acba-4914-8f51-81e5caee76ca"
      },
      "source": [
        "#Finding Agreementindex\r\n",
        "print('Agreementindex is : ',aggrementindex(e,s))"
      ],
      "execution_count": 30,
      "outputs": [
        {
          "output_type": "stream",
          "text": [
            "Agreementindex is :  0.955096222380613\n"
          ],
          "name": "stdout"
        }
      ]
    },
    {
      "cell_type": "markdown",
      "metadata": {
        "id": "ienqyTfFl5Fw"
      },
      "source": [
        "Part 12: Covariance"
      ]
    },
    {
      "cell_type": "code",
      "metadata": {
        "id": "k9fHLYMal9Wl"
      },
      "source": [
        "#Defining Covariance\r\n",
        "def covariance(arr1,arr2):\r\n",
        "  sum=0\r\n",
        "  emean=mean(arr1)\r\n",
        "  smean=mean(arr2)\r\n",
        "  for i, j in zip(arr1, arr2):\r\n",
        "    sum += ((i-emean)*(j-smean))\r\n",
        "  covariance= sum/len(arr1)\r\n",
        "  return covariance"
      ],
      "execution_count": 31,
      "outputs": []
    },
    {
      "cell_type": "code",
      "metadata": {
        "colab": {
          "base_uri": "https://localhost:8080/"
        },
        "id": "buJ36HUol9Wm",
        "outputId": "b455fd66-172e-4934-940a-9ad46ce9f647"
      },
      "source": [
        "#Finding Covariance\r\n",
        "print('Covariance is : ',covariance(e,s))"
      ],
      "execution_count": 32,
      "outputs": [
        {
          "output_type": "stream",
          "text": [
            "Covariance is :  33.5\n"
          ],
          "name": "stdout"
        }
      ]
    },
    {
      "cell_type": "markdown",
      "metadata": {
        "id": "QuLC45XwoItN"
      },
      "source": [
        "Part 13: Kling-Gupta Efficiency (kge)"
      ]
    },
    {
      "cell_type": "code",
      "metadata": {
        "id": "seGTQZVdKkBo"
      },
      "source": [
        "#Defining Kling-Gupta Efficiency (kge)\r\n",
        "def kge(arr1,arr2):\r\n",
        "  emean=mean(arr1)\r\n",
        "  smean=mean(arr2)\r\n",
        "\r\n",
        "  estd=std(arr1)\r\n",
        "  sstd=std(arr2)\r\n",
        "\r\n",
        "  cc=corr(e,s)\r\n",
        "\r\n",
        "  kge=1-((cc-1)**2+(emean/smean)**2+(estd/sstd)**2)**0.5\r\n",
        "\r\n",
        "  return kge"
      ],
      "execution_count": 33,
      "outputs": []
    },
    {
      "cell_type": "code",
      "metadata": {
        "colab": {
          "base_uri": "https://localhost:8080/"
        },
        "id": "ul_aahPWvYvk",
        "outputId": "7351a321-d659-457d-db73-75cc5646360d"
      },
      "source": [
        "#Finding Kling-Gupta Efficiency (kge)\r\n",
        "print('Kling-Gupta Efficiency (kge) is : ',kge(e,s))"
      ],
      "execution_count": 34,
      "outputs": [
        {
          "output_type": "stream",
          "text": [
            "Kling-Gupta Efficiency (kge) is :  -0.46409125077961644\n"
          ],
          "name": "stdout"
        }
      ]
    },
    {
      "cell_type": "markdown",
      "metadata": {
        "id": "_nY0yDAgwiXg"
      },
      "source": [
        "Part 14: RSR"
      ]
    },
    {
      "cell_type": "code",
      "metadata": {
        "id": "HBIh3lhGwiXu"
      },
      "source": [
        "#Defining RSR\r\n",
        "def rsr(arr1,arr2):\r\n",
        "  arr3=[]\r\n",
        "  for i, j in zip(arr1, arr2):\r\n",
        "    arr3.append(i-j)\r\n",
        "  sum=0\r\n",
        "  for i in arr3:\r\n",
        "    sqr=i**2\r\n",
        "    sum+=sqr\r\n",
        "  mse=sum/(len(arr2))\r\n",
        "  rmse=mse**0.5\r\n",
        "\r\n",
        "  estd=std(arr1)\r\n",
        "  rsr=rmse/estd\r\n",
        "\r\n",
        "  return rsr"
      ],
      "execution_count": 35,
      "outputs": []
    },
    {
      "cell_type": "code",
      "metadata": {
        "colab": {
          "base_uri": "https://localhost:8080/"
        },
        "id": "cyNbVQC5wiXv",
        "outputId": "70e0300c-287f-458d-ca7c-bdeed06d2673"
      },
      "source": [
        "#Finding RSR\r\n",
        "print('RSR is : ',rsr(e,s))"
      ],
      "execution_count": 36,
      "outputs": [
        {
          "output_type": "stream",
          "text": [
            "RSR is :  0.37744179890122\n"
          ],
          "name": "stdout"
        }
      ]
    },
    {
      "cell_type": "markdown",
      "metadata": {
        "id": "VjL69X7wxfIq"
      },
      "source": [
        "Part 15: Volume Error"
      ]
    },
    {
      "cell_type": "code",
      "metadata": {
        "id": "7EFdoQtqspIy"
      },
      "source": [
        "#Defining Volume Error\r\n",
        "def vol_error(arr1,arr2):\r\n",
        "  sum1 = 0\r\n",
        "  for i in range(len(arr1)):\r\n",
        "    sum1 += (arr2[i] - arr1[i])   \r\n",
        "  sum2 = 0\r\n",
        "  for j in arr1:\r\n",
        "    sum2 += j\r\n",
        "  vol_error = sum1/sum2\r\n",
        "  return vol_error "
      ],
      "execution_count": 37,
      "outputs": []
    },
    {
      "cell_type": "code",
      "metadata": {
        "colab": {
          "base_uri": "https://localhost:8080/"
        },
        "id": "wOIoCLcnyoYF",
        "outputId": "1b135bb0-0d97-485f-ddb2-e19d4b133261"
      },
      "source": [
        "#Finding Volume Error\r\n",
        "print('Volume Error is : ',vol_error(e,s))"
      ],
      "execution_count": 38,
      "outputs": [
        {
          "output_type": "stream",
          "text": [
            "Volume Error is :  0.03125\n"
          ],
          "name": "stdout"
        }
      ]
    }
  ]
}