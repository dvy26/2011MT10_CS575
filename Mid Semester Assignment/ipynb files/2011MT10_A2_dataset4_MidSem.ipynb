{
  "nbformat": 4,
  "nbformat_minor": 0,
  "metadata": {
    "colab": {
      "name": "2011MT10_A2_dataset4_MidSem.ipynb",
      "provenance": [],
      "collapsed_sections": []
    },
    "kernelspec": {
      "name": "python3",
      "display_name": "Python 3"
    }
  },
  "cells": [
    {
      "cell_type": "code",
      "metadata": {
        "colab": {
          "base_uri": "https://localhost:8080/"
        },
        "id": "u0mK7opwrnbs",
        "outputId": "36815605-b316-45b9-e065-4d515dd14064"
      },
      "source": [
        "!pip3 install pmdarima"
      ],
      "execution_count": null,
      "outputs": [
        {
          "output_type": "stream",
          "text": [
            "Requirement already satisfied: pmdarima in /usr/local/lib/python3.7/dist-packages (1.8.0)\n",
            "Requirement already satisfied: joblib>=0.11 in /usr/local/lib/python3.7/dist-packages (from pmdarima) (1.0.1)\n",
            "Requirement already satisfied: scipy>=1.3.2 in /usr/local/lib/python3.7/dist-packages (from pmdarima) (1.4.1)\n",
            "Requirement already satisfied: setuptools!=50.0.0,>=38.6.0 in /usr/local/lib/python3.7/dist-packages (from pmdarima) (53.0.0)\n",
            "Requirement already satisfied: urllib3 in /usr/local/lib/python3.7/dist-packages (from pmdarima) (1.24.3)\n",
            "Requirement already satisfied: scikit-learn>=0.22 in /usr/local/lib/python3.7/dist-packages (from pmdarima) (0.22.2.post1)\n",
            "Requirement already satisfied: pandas>=0.19 in /usr/local/lib/python3.7/dist-packages (from pmdarima) (1.1.5)\n",
            "Requirement already satisfied: statsmodels!=0.12.0,>=0.11 in /usr/local/lib/python3.7/dist-packages (from pmdarima) (0.12.2)\n",
            "Requirement already satisfied: numpy>=1.17.3 in /usr/local/lib/python3.7/dist-packages (from pmdarima) (1.19.5)\n",
            "Requirement already satisfied: Cython<0.29.18,>=0.29 in /usr/local/lib/python3.7/dist-packages (from pmdarima) (0.29.17)\n",
            "Requirement already satisfied: pytz>=2017.2 in /usr/local/lib/python3.7/dist-packages (from pandas>=0.19->pmdarima) (2018.9)\n",
            "Requirement already satisfied: python-dateutil>=2.7.3 in /usr/local/lib/python3.7/dist-packages (from pandas>=0.19->pmdarima) (2.8.1)\n",
            "Requirement already satisfied: patsy>=0.5 in /usr/local/lib/python3.7/dist-packages (from statsmodels!=0.12.0,>=0.11->pmdarima) (0.5.1)\n",
            "Requirement already satisfied: six>=1.5 in /usr/local/lib/python3.7/dist-packages (from python-dateutil>=2.7.3->pandas>=0.19->pmdarima) (1.15.0)\n"
          ],
          "name": "stdout"
        }
      ]
    },
    {
      "cell_type": "code",
      "metadata": {
        "id": "Maxhevw21AUw"
      },
      "source": [
        "# Import package\r\n",
        "import numpy as np\r\n",
        "import pandas as pd\r\n",
        "import matplotlib.pyplot as plt\r\n",
        "import warnings \r\n",
        "from statsmodels.tsa.api import SimpleExpSmoothing\r\n",
        "from sklearn.metrics import mean_squared_error\r\n",
        "from sklearn.metrics import mean_absolute_error \r\n",
        "from datetime import datetime\r\n",
        "from statsmodels.tsa.arima_model import ARIMA\r\n",
        "from statsmodels.graphics.tsaplots import plot_acf,plot_pacf\r\n",
        "\r\n",
        "\r\n",
        "warnings.simplefilter('ignore')"
      ],
      "execution_count": null,
      "outputs": []
    },
    {
      "cell_type": "code",
      "metadata": {
        "id": "ky35eTQw5Xj5"
      },
      "source": [
        "data = pd.read_csv('Dataset4_yahoo304.96.8.14.csv',names = ['yahoo304_96_8_14'])\r\n"
      ],
      "execution_count": null,
      "outputs": []
    },
    {
      "cell_type": "markdown",
      "metadata": {
        "id": "mMd20j3_u_4z"
      },
      "source": [
        "**Applying KPSS and ADF test**"
      ]
    },
    {
      "cell_type": "markdown",
      "metadata": {
        "id": "icHMbchgvRp5"
      },
      "source": [
        "1. ADF test"
      ]
    },
    {
      "cell_type": "code",
      "metadata": {
        "colab": {
          "base_uri": "https://localhost:8080/"
        },
        "id": "zxKgHkUQvUHb",
        "outputId": "d6fe3626-7f50-4ef8-aa66-309ccd9e38d5"
      },
      "source": [
        "#define function for ADF test\r\n",
        "from statsmodels.tsa.stattools import adfuller\r\n",
        "\r\n",
        "def adf_test(atr):\r\n",
        "    #Perform Dickey-Fuller test:\r\n",
        "    timeseries = data[atr].dropna()\r\n",
        "    print ('Results of Dickey-Fuller Test for ',atr,'\\n')\r\n",
        "    dftest = adfuller(timeseries, autolag='AIC')\r\n",
        "    dfoutput = pd.Series(dftest[0:4], index=['Test Statistic','p-value','#Lags Used','Number of Observations Used'])\r\n",
        "    for key,value in dftest[4].items():\r\n",
        "       dfoutput['Critical Value (%s)'%key] = value\r\n",
        "    print(dfoutput)\r\n",
        "\r\n",
        "#apply adf test on the series\r\n",
        "adf_test('yahoo304_96_8_14')"
      ],
      "execution_count": null,
      "outputs": [
        {
          "output_type": "stream",
          "text": [
            "Results of Dickey-Fuller Test for  yahoo304_96_8_14 \n",
            "\n",
            "Test Statistic                   -3.286733\n",
            "p-value                           0.015482\n",
            "#Lags Used                       30.000000\n",
            "Number of Observations Used    4582.000000\n",
            "Critical Value (1%)              -3.431778\n",
            "Critical Value (5%)              -2.862171\n",
            "Critical Value (10%)             -2.567106\n",
            "dtype: float64\n"
          ],
          "name": "stdout"
        }
      ]
    },
    {
      "cell_type": "markdown",
      "metadata": {
        "id": "d1ZvfmZdw6KM"
      },
      "source": [
        "2. KPSS test"
      ]
    },
    {
      "cell_type": "code",
      "metadata": {
        "colab": {
          "base_uri": "https://localhost:8080/"
        },
        "id": "LkI3aYQ_xDxy",
        "outputId": "97698219-462c-4166-ccf6-5428def86c11"
      },
      "source": [
        "#define function for kpss test\r\n",
        "from statsmodels.tsa.stattools import kpss\r\n",
        "#define KPSS\r\n",
        "def kpss_test(atr):\r\n",
        "    timeseries = data[atr].dropna()\r\n",
        "    print ('Results of KPSS Test for ',atr)\r\n",
        "    kpsstest = kpss(timeseries, regression='c')\r\n",
        "    kpss_output = pd.Series(kpsstest[0:3], index=['Test Statistic','p-value','Lags Used'])\r\n",
        "    for key,value in kpsstest[3].items():\r\n",
        "        kpss_output['Critical Value (%s)'%key] = value\r\n",
        "    print (kpss_output)\r\n",
        "kpss_test('yahoo304_96_8_14')"
      ],
      "execution_count": null,
      "outputs": [
        {
          "output_type": "stream",
          "text": [
            "Results of KPSS Test for  yahoo304_96_8_14\n",
            "Test Statistic            3.701679\n",
            "p-value                   0.010000\n",
            "Lags Used                32.000000\n",
            "Critical Value (10%)      0.347000\n",
            "Critical Value (5%)       0.463000\n",
            "Critical Value (2.5%)     0.574000\n",
            "Critical Value (1%)       0.739000\n",
            "dtype: float64\n"
          ],
          "name": "stdout"
        }
      ]
    },
    {
      "cell_type": "markdown",
      "metadata": {
        "id": "A9PEydfjxb6E"
      },
      "source": [
        "For ADF test, we can see that the p-value  is below 0.05. Thus, from ADF test, we can say that the dataset is stationary.\r\n",
        "\r\n",
        "For KPSS test, Test Statistic is more than Critical Value, thus we reject the null hypothesis. Thus, from KPSS test, we can say that the dataset is non-stationary.\r\n",
        "\r\n",
        "Since, both tests conclude that the series is stationary, therefore, the dataset is concluded as Difference-Stationary."
      ]
    },
    {
      "cell_type": "markdown",
      "metadata": {
        "id": "fFo2HJZCFkv6"
      },
      "source": [
        "\r\n",
        "\r\n",
        "---\r\n",
        "\r\n"
      ]
    },
    {
      "cell_type": "markdown",
      "metadata": {
        "id": "Xsmv1jFfFmge"
      },
      "source": [
        "Making dataset stationary with differencing\r\n"
      ]
    },
    {
      "cell_type": "code",
      "metadata": {
        "colab": {
          "base_uri": "https://localhost:8080/",
          "height": 647
        },
        "id": "PBU2Z2YxBj1X",
        "outputId": "2ec34c47-254d-47af-e013-6f03b35b0bfc"
      },
      "source": [
        "# Differencing\r\n",
        "data['diff'] = data['yahoo304_96_8_14'].diff(periods=1)\r\n",
        "\r\n",
        "data.plot(subplots=True, figsize=(10,12))\r\n",
        "plt.show()"
      ],
      "execution_count": null,
      "outputs": [
        {
          "output_type": "display_data",
          "data": {
            "image/png": "[encoded data removed]",
            "text/plain": [
              "<Figure size 720x864 with 2 Axes>"
            ]
          },
          "metadata": {
            "tags": [],
            "needs_background": "light"
          }
        }
      ]
    },
    {
      "cell_type": "markdown",
      "metadata": {
        "id": "HDJevnvwlaOV"
      },
      "source": [
        "\r\n",
        "\r\n",
        "---\r\n",
        "\r\n"
      ]
    },
    {
      "cell_type": "markdown",
      "metadata": {
        "id": "y81HF5Gh7Prn"
      },
      "source": [
        "Applying Exponential Smoothening"
      ]
    },
    {
      "cell_type": "code",
      "metadata": {
        "id": "hWQKX8Wi7VUV"
      },
      "source": [
        "#List of least mse and mae\r\n",
        "mseses=[]\r\n",
        "msedes=[]\r\n",
        "msetes=[]\r\n",
        "maeses=[]\r\n",
        "maedes=[]\r\n",
        "maetes=[]"
      ],
      "execution_count": null,
      "outputs": []
    },
    {
      "cell_type": "markdown",
      "metadata": {
        "id": "8wkpep7szSKV"
      },
      "source": [
        "**Single Exponential Smoothing**"
      ]
    },
    {
      "cell_type": "code",
      "metadata": {
        "id": "iaSYixFYFa7-"
      },
      "source": [
        "#Defining Single Exponential Smoothing function ses\r\n",
        "def ses(arr,alpha):\r\n",
        "    arr1 = [arr[0]]\r\n",
        "    for i in range(1, len(arr)):\r\n",
        "        arr1.append(alpha * arr[i-1] + (1 - alpha) * arr1[i-1])\r\n",
        "    return arr1"
      ],
      "execution_count": null,
      "outputs": []
    },
    {
      "cell_type": "code",
      "metadata": {
        "id": "WqDKrNkzXdqh"
      },
      "source": [
        "#Defining Mean of Squared Error Function mse\r\n",
        "def mse(arr1,arr2):\r\n",
        "  arr3=[0]\r\n",
        "  for i, j in zip(arr1, arr2):\r\n",
        "    arr3.append(i-j)\r\n",
        "  Sum=0\r\n",
        "  for i in arr3:\r\n",
        "    sqr=i**2\r\n",
        "    Sum+=sqr\r\n",
        "  mse=Sum/(len(arr2)-1)\r\n",
        "  return mse"
      ],
      "execution_count": null,
      "outputs": []
    },
    {
      "cell_type": "code",
      "metadata": {
        "id": "I-Q-YepamrGH"
      },
      "source": [
        "#Function to make list of demand with interval 'n'\r\n",
        "def dem_n(arr,n):\r\n",
        "  arr1=[arr[0]]\r\n",
        "  for i in range(1,len(arr)):\r\n",
        "    if i%n==0:  \r\n",
        "      arr1.append(arr[i])\r\n",
        "  return arr1"
      ],
      "execution_count": null,
      "outputs": []
    },
    {
      "cell_type": "code",
      "metadata": {
        "id": "SrsumhCssIOI"
      },
      "source": [
        "#Creating demand list in 'n' intervals\r\n",
        "demand=dem_n(data.yahoo304_96_8_14,1)"
      ],
      "execution_count": null,
      "outputs": []
    },
    {
      "cell_type": "code",
      "metadata": {
        "id": "GZwPqdpgcbuF"
      },
      "source": [
        "#Forecasting\r\n",
        "alpha1=0.2\r\n",
        "alpha2=0.5\r\n",
        "alpha3=0.8\r\n",
        "\r\n",
        "forecast1=ses(demand,alpha1)\r\n",
        "forecast2=ses(demand,alpha2)\r\n",
        "forecast3=ses(demand,alpha3)"
      ],
      "execution_count": null,
      "outputs": []
    },
    {
      "cell_type": "code",
      "metadata": {
        "colab": {
          "base_uri": "https://localhost:8080/"
        },
        "id": "Io0w2dQ7dvwH",
        "outputId": "15f810b9-448b-4277-842e-9e7b5dc0528e"
      },
      "source": [
        "#Calculating Mean of Square Errors\r\n",
        "mse1=mean_squared_error(demand,forecast1)\r\n",
        "mse2=mean_squared_error(demand,forecast2)\r\n",
        "mse3=mean_squared_error(demand,forecast3)\r\n",
        "\r\n",
        "print(\"Mean of Square Errors for alpha = 0.2 is: \",mse1)\r\n",
        "print(\"Mean of Square Errors for alpha = 0.5 is: \",mse2)\r\n",
        "print(\"Mean of Square Errors for alpha = 0.8 is: \",mse3)"
      ],
      "execution_count": null,
      "outputs": [
        {
          "output_type": "stream",
          "text": [
            "Mean of Square Errors for alpha = 0.2 is:  96.05545489077616\n",
            "Mean of Square Errors for alpha = 0.5 is:  47.45126817506155\n",
            "Mean of Square Errors for alpha = 0.8 is:  36.266977799467504\n"
          ],
          "name": "stdout"
        }
      ]
    },
    {
      "cell_type": "code",
      "metadata": {
        "colab": {
          "base_uri": "https://localhost:8080/"
        },
        "id": "bXWU3byPy1Sb",
        "outputId": "19357647-81a9-46bd-d35d-29b36265b9ee"
      },
      "source": [
        "#Calculating Mean Absolute Errors\r\n",
        "mae1=mean_absolute_error(demand,forecast1)\r\n",
        "mae2=mean_absolute_error(demand,forecast2)\r\n",
        "mae3=mean_absolute_error(demand,forecast3)\r\n",
        "\r\n",
        "print(\"Mean Absolute Errors for alpha = 0.2 is: \",mae1)\r\n",
        "print(\"Mean Absolute Errors for alpha = 0.5 is: \",mae2)\r\n",
        "print(\"Mean Absolute Errors for alpha = 0.8 is: \",mae3)"
      ],
      "execution_count": null,
      "outputs": [
        {
          "output_type": "stream",
          "text": [
            "Mean Absolute Errors for alpha = 0.2 is:  2.977391560154959\n",
            "Mean Absolute Errors for alpha = 0.5 is:  1.9522762583275515\n",
            "Mean Absolute Errors for alpha = 0.8 is:  1.6859884166178474\n"
          ],
          "name": "stdout"
        }
      ]
    },
    {
      "cell_type": "code",
      "metadata": {
        "colab": {
          "base_uri": "https://localhost:8080/",
          "height": 283
        },
        "id": "j9hwctrYfFko",
        "outputId": "a258fbc2-0180-4165-d1d0-1c8f48092e84"
      },
      "source": [
        "#Comparing mse and plotting for least mse\r\n",
        "d1={'Demand':demand,'Forecast':forecast1}\r\n",
        "d2={'Demand':demand,'Forecast':forecast2}\r\n",
        "d3={'Demand':demand,'Forecast':forecast3}\r\n",
        "\r\n",
        "df1=pd.DataFrame(d1)\r\n",
        "df2=pd.DataFrame(d2)\r\n",
        "df3=pd.DataFrame(d3)\r\n",
        "\r\n",
        "if mse1<=mse2 and mse1<=mse3:\r\n",
        "  print('alpha: ',alpha1)\r\n",
        "  df1.plot(style=['-','-'])\r\n",
        "elif mse2<=mse1 and mse2<=mse3:\r\n",
        "  print('alpha: ',alpha2)\r\n",
        "  df2.plot(style=['-','-'])\r\n",
        "else:\r\n",
        "  print('alpha: ',alpha3)\r\n",
        "  df3.plot(style=['-','-'])\r\n"
      ],
      "execution_count": null,
      "outputs": [
        {
          "output_type": "stream",
          "text": [
            "alpha:  0.8\n"
          ],
          "name": "stdout"
        },
        {
          "output_type": "display_data",
          "data": {
            "image/png": "[encoded data removed]",
            "text/plain": [
              "<Figure size 432x288 with 1 Axes>"
            ]
          },
          "metadata": {
            "tags": [],
            "needs_background": "light"
          }
        }
      ]
    },
    {
      "cell_type": "markdown",
      "metadata": {
        "id": "7RXgUgIgo3vA"
      },
      "source": [
        "**Double Exponential Smoothing**"
      ]
    },
    {
      "cell_type": "code",
      "metadata": {
        "id": "mqw1s40ePOB0"
      },
      "source": [
        "#Defining Double Exponential Smoothing function des\r\n",
        "def des(arr,alpha,beta):\r\n",
        "  a=[arr[0]]\r\n",
        "  l=len(arr)\r\n",
        "  b=[(arr[l-1]-arr[0])/(l-1)]\r\n",
        "  arr1 = [arr[0]]\r\n",
        "  arr1.append(a[0]+b[0])\r\n",
        "  for i in range(1,len(arr)-1):\r\n",
        "      a.append(alpha * arr[i] + (1 - alpha) * (a[i-1]+b[i-1]))\r\n",
        "      b.append(beta * (a[i]-a[i-1]) + (1 - beta) * (b[i-1]))        \r\n",
        "      arr1.append(a[i]+b[i])\r\n",
        "  return arr1"
      ],
      "execution_count": null,
      "outputs": []
    },
    {
      "cell_type": "code",
      "metadata": {
        "id": "TgR6dYUYux6f"
      },
      "source": [
        "#Creating demand list in 'n' intervals\r\n",
        "demand=dem_n(data.yahoo304_96_8_14,1)"
      ],
      "execution_count": null,
      "outputs": []
    },
    {
      "cell_type": "code",
      "metadata": {
        "id": "7rPm77U7g1nE"
      },
      "source": [
        "#Forecasting\r\n",
        "alpha1=0.2\r\n",
        "alpha2=0.5\r\n",
        "alpha3=0.8\r\n",
        "\r\n",
        "beta1=0.3\r\n",
        "beta2=0.6\r\n",
        "beta3=0.9\r\n",
        "\r\n",
        "forecast1=des(demand,alpha1,beta1)\r\n",
        "forecast2=des(demand,alpha2,beta2)\r\n",
        "forecast3=des(demand,alpha3,beta3)"
      ],
      "execution_count": null,
      "outputs": []
    },
    {
      "cell_type": "code",
      "metadata": {
        "colab": {
          "base_uri": "https://localhost:8080/"
        },
        "id": "YPIb0UzVk4RH",
        "outputId": "f56904fe-9460-439b-ce4c-5310f478bcfc"
      },
      "source": [
        "#Calculating Mean of Square Errors\r\n",
        "mse1=mean_squared_error(demand,forecast1)\r\n",
        "mse2=mean_squared_error(demand,forecast2)\r\n",
        "mse3=mean_squared_error(demand,forecast3)\r\n",
        "\r\n",
        "print(\"Mean of Square Errors for alpha = 0.2,beta= 0.3 is: \",mse1)\r\n",
        "print(\"Mean of Square Errors for alpha = 0.5,beta= 0.6 is: \",mse2)\r\n",
        "print(\"Mean of Square Errors for alpha = 0.8,beta= 0.9 is: \",mse3)"
      ],
      "execution_count": null,
      "outputs": [
        {
          "output_type": "stream",
          "text": [
            "Mean of Square Errors for alpha = 0.2,beta= 0.3 is:  98.61340054241282\n",
            "Mean of Square Errors for alpha = 0.5,beta= 0.6 is:  53.99123148363984\n",
            "Mean of Square Errors for alpha = 0.8,beta= 0.9 is:  50.11839964406356\n"
          ],
          "name": "stdout"
        }
      ]
    },
    {
      "cell_type": "code",
      "metadata": {
        "colab": {
          "base_uri": "https://localhost:8080/"
        },
        "id": "djQNXKgbzZbI",
        "outputId": "97e90fa0-7a55-4a41-b880-d6fafe779957"
      },
      "source": [
        "#Calculating Mean Absolute Errors\r\n",
        "mae1=mean_absolute_error(demand,forecast1)\r\n",
        "mae2=mean_absolute_error(demand,forecast2)\r\n",
        "mae3=mean_absolute_error(demand,forecast3)\r\n",
        "\r\n",
        "print(\"Mean Absolute Errors for alpha = 0.2,beta= 0.3 is: \",mae1)\r\n",
        "print(\"Mean Absolute Errors for alpha = 0.5,beta= 0.6 is: \",mae2)\r\n",
        "print(\"Mean Absolute Errors for alpha = 0.8,beta= 0.9 is: \",mae3)"
      ],
      "execution_count": null,
      "outputs": [
        {
          "output_type": "stream",
          "text": [
            "Mean Absolute Errors for alpha = 0.2,beta= 0.3 is:  2.964884523576852\n",
            "Mean Absolute Errors for alpha = 0.5,beta= 0.6 is:  2.152219376160902\n",
            "Mean Absolute Errors for alpha = 0.8,beta= 0.9 is:  2.0473756875762197\n"
          ],
          "name": "stdout"
        }
      ]
    },
    {
      "cell_type": "code",
      "metadata": {
        "colab": {
          "base_uri": "https://localhost:8080/",
          "height": 300
        },
        "id": "qIqgoTnrlyq9",
        "outputId": "789b7275-cdd5-4741-d366-ca983bb3d67b"
      },
      "source": [
        "#Comparing mse and plotting for least mse\r\n",
        "d1={'Demand':demand,'Forecast':forecast1}\r\n",
        "d2={'Demand':demand,'Forecast':forecast2}\r\n",
        "d3={'Demand':demand,'Forecast':forecast3}\r\n",
        "\r\n",
        "df1=pd.DataFrame(d1)\r\n",
        "df2=pd.DataFrame(d2)\r\n",
        "df3=pd.DataFrame(d3)\r\n",
        "\r\n",
        "if mse1<=mse2 and mse1<=mse3:\r\n",
        "  print('alpha: ',alpha1)\r\n",
        "  print('beta: ',beta1)\r\n",
        "  df1.plot(style=['-','-'])\r\n",
        "elif mse2<=mse1 and mse2<=mse3:\r\n",
        "  print('alpha: ',alpha2)\r\n",
        "  print('beta: ',beta2)\r\n",
        "  df2.plot(style=['-','-'])\r\n",
        "else:\r\n",
        "  print('alpha: ',alpha3)\r\n",
        "  print('beta: ',beta3)\r\n",
        "  df3.plot(style=['-','-'])"
      ],
      "execution_count": null,
      "outputs": [
        {
          "output_type": "stream",
          "text": [
            "alpha:  0.8\n",
            "beta:  0.9\n"
          ],
          "name": "stdout"
        },
        {
          "output_type": "display_data",
          "data": {
            "image/png": "[encoded data removed]",
            "text/plain": [
              "<Figure size 432x288 with 1 Axes>"
            ]
          },
          "metadata": {
            "tags": [],
            "needs_background": "light"
          }
        }
      ]
    },
    {
      "cell_type": "markdown",
      "metadata": {
        "id": "DGpYPopmv7TH"
      },
      "source": [
        "**Triple Exponential Smoothing**"
      ]
    },
    {
      "cell_type": "code",
      "metadata": {
        "id": "l0ZKJXeHwC0q"
      },
      "source": [
        "#Defining initial trend\r\n",
        "def initial_trend(arr, slen):\r\n",
        "    Sum = 0\r\n",
        "    for i in range(slen):\r\n",
        "        Sum += float(arr[i+slen] - arr[i]) / slen\r\n",
        "    return Sum / slen"
      ],
      "execution_count": null,
      "outputs": []
    },
    {
      "cell_type": "code",
      "metadata": {
        "id": "lglCjK_Rd8yH"
      },
      "source": [
        "#Defining initial seasonal\r\n",
        "def initial_seasonal(arr, slen):\r\n",
        "    arr1 = {}\r\n",
        "    s_avg = []\r\n",
        "    m = int(len(arr)/slen)\r\n",
        "    for j in range(m):\r\n",
        "        s_avg.append(sum(arr[slen*j:slen*j+slen])/float(slen))\r\n",
        "    for i in range(slen):\r\n",
        "        Sum = 0\r\n",
        "        for j in range(m):\r\n",
        "            Sum += arr[slen*j+i]-s_avg[j]\r\n",
        "        arr1[i] = Sum/m\r\n",
        "    return arr1"
      ],
      "execution_count": null,
      "outputs": []
    },
    {
      "cell_type": "code",
      "metadata": {
        "id": "8HGtD3M9eGus"
      },
      "source": [
        "#Defining Triple Exponential Smoothing function tes with interval 'n'\r\n",
        "def tes(arr, slen, alpha, beta, gamma, n):\r\n",
        "    arr1 = []\r\n",
        "    seasonals = initial_seasonal(arr, slen)\r\n",
        "    for i in range(len(arr)+n):\r\n",
        "        if i == 0:\r\n",
        "            smooth = arr[0]\r\n",
        "            trend = initial_trend(arr, slen)\r\n",
        "            arr1.append(arr[0])\r\n",
        "            continue\r\n",
        "        if i >= len(arr):\r\n",
        "            m = i - len(arr) + 1\r\n",
        "            arr1.append((smooth + m*trend) + seasonals[i%slen])\r\n",
        "        else:\r\n",
        "            val = arr[i]\r\n",
        "            lsmooth, smooth = smooth, alpha*(val-seasonals[i%slen]) + (1-alpha)*(smooth+trend)\r\n",
        "            trend = beta * (smooth-lsmooth) + (1-beta)*trend\r\n",
        "            seasonals[i%slen] = gamma*(val-smooth) + (1-gamma)*seasonals[i%slen]\r\n",
        "            arr1.append(smooth+trend+seasonals[i%slen])\r\n",
        "    return arr1"
      ],
      "execution_count": null,
      "outputs": []
    },
    {
      "cell_type": "code",
      "metadata": {
        "id": "3a9Gm5x9iF2a"
      },
      "source": [
        "#Creating demand list in 'n' intervals\r\n",
        "demand=dem_n(data.yahoo304_96_8_14,1)"
      ],
      "execution_count": null,
      "outputs": []
    },
    {
      "cell_type": "code",
      "metadata": {
        "id": "NCQyHA5FfY19"
      },
      "source": [
        "#Forecasting\r\n",
        "alpha1=0.2\r\n",
        "alpha2=0.5\r\n",
        "alpha3=0.8\r\n",
        "\r\n",
        "beta1=0.3\r\n",
        "beta2=0.6\r\n",
        "beta3=0.9\r\n",
        "\r\n",
        "gamma1=0.4\r\n",
        "gamma2=0.7\r\n",
        "gamma3=0.95\r\n",
        "\r\n",
        "#Considering season of 1 hours here\r\n",
        "\r\n",
        "forecast1=tes(demand,1,alpha1,beta1,gamma1,0)\r\n",
        "forecast2=tes(demand,1,alpha2,beta2,gamma2,0)\r\n",
        "forecast3=tes(demand,1,alpha3,beta3,gamma3,0)"
      ],
      "execution_count": null,
      "outputs": []
    },
    {
      "cell_type": "code",
      "metadata": {
        "colab": {
          "base_uri": "https://localhost:8080/"
        },
        "id": "Md6AMPpzi5wa",
        "outputId": "d5e53e64-56af-4008-e57c-14bd72ef721f"
      },
      "source": [
        "#Calculating mean of sqaured errors\r\n",
        "mse1=mean_squared_error(demand,forecast1)\r\n",
        "mse2=mean_squared_error(demand,forecast2)\r\n",
        "mse3=mean_squared_error(demand,forecast3)\r\n",
        "\r\n",
        "print(\"Mean of Square Errors for alpha = 0.2,beta= 0.3 gamma=0.4 is: \",mse1)\r\n",
        "print(\"Mean of Square Errors for alpha = 0.5,beta= 0.6 gamma=0.7 is: \",mse2)\r\n",
        "print(\"Mean of Square Errors for alpha = 0.8,beta= 0.9 gamma=0.95 is: \",mse3)"
      ],
      "execution_count": null,
      "outputs": [
        {
          "output_type": "stream",
          "text": [
            "Mean of Square Errors for alpha = 0.2,beta= 0.3 gamma=0.4 is:  11.639338570577138\n",
            "Mean of Square Errors for alpha = 0.5,beta= 0.6 gamma=0.7 is:  6.348675651210603\n",
            "Mean of Square Errors for alpha = 0.8,beta= 0.9 gamma=0.95 is:  19.48517402679209\n"
          ],
          "name": "stdout"
        }
      ]
    },
    {
      "cell_type": "code",
      "metadata": {
        "colab": {
          "base_uri": "https://localhost:8080/"
        },
        "id": "_R9Go-Oez2ue",
        "outputId": "aebeb055-db4e-4358-c00a-a24987cc179a"
      },
      "source": [
        "#Calculating Mean Absolute Errors\r\n",
        "mae1=mean_absolute_error(demand,forecast1)\r\n",
        "mae2=mean_absolute_error(demand,forecast2)\r\n",
        "mae3=mean_absolute_error(demand,forecast3)\r\n",
        "\r\n",
        "print(\"Mean Absolute Errors for alpha = 0.2,beta= 0.3, gamma=0.4 is: \",mae1)\r\n",
        "print(\"Mean Absolute Errors for alpha = 0.5,beta= 0.6, gamma=0.7 is: \",mae2)\r\n",
        "print(\"Mean Absolute Errors for alpha = 0.8,beta= 0.9, gamma=0.95 is: \",mae3)"
      ],
      "execution_count": null,
      "outputs": [
        {
          "output_type": "stream",
          "text": [
            "Mean Absolute Errors for alpha = 0.2,beta= 0.3, gamma=0.4 is:  1.032820786741875\n",
            "Mean Absolute Errors for alpha = 0.5,beta= 0.6, gamma=0.7 is:  0.7323065580072101\n",
            "Mean Absolute Errors for alpha = 0.8,beta= 0.9, gamma=0.95 is:  1.239266078672252\n"
          ],
          "name": "stdout"
        }
      ]
    },
    {
      "cell_type": "code",
      "metadata": {
        "colab": {
          "base_uri": "https://localhost:8080/",
          "height": 317
        },
        "id": "4xPGF2WvjlOC",
        "outputId": "9fb3944e-9dbd-4cd9-98f8-69ce460d0e88"
      },
      "source": [
        "#Comparing mse and plotting for least mse\r\n",
        "d1={'Demand':demand,'Forecast':forecast1}\r\n",
        "d2={'Demand':demand,'Forecast':forecast2}\r\n",
        "d3={'Demand':demand,'Forecast':forecast3}\r\n",
        "\r\n",
        "df1=pd.DataFrame(d1)\r\n",
        "df2=pd.DataFrame(d2)\r\n",
        "df3=pd.DataFrame(d3)\r\n",
        "\r\n",
        "if mse1<=mse2 and mse1<=mse3:\r\n",
        "  print('alpha: ',alpha1)\r\n",
        "  print('beta: ',beta1)\r\n",
        "  print('gamma: ',gamma1)\r\n",
        "  df1.plot(style=['-','-'])\r\n",
        "elif mse2<=mse1 and mse2<=mse3:\r\n",
        "  print('alpha: ',alpha2)\r\n",
        "  print('beta: ',beta2)\r\n",
        "  print('gamma: ',gamma2)\r\n",
        "  df2.plot(style=['-','-'])\r\n",
        "else:\r\n",
        "  print('alpha: ',alpha3)\r\n",
        "  print('beta: ',beta3)\r\n",
        "  print('gamma: ',gamma3)\r\n",
        "  df3.plot(style=['-','-'])"
      ],
      "execution_count": null,
      "outputs": [
        {
          "output_type": "stream",
          "text": [
            "alpha:  0.5\n",
            "beta:  0.6\n",
            "gamma:  0.7\n"
          ],
          "name": "stdout"
        },
        {
          "output_type": "display_data",
          "data": {
            "image/png": "[encoded data removed]",
            "text/plain": [
              "<Figure size 432x288 with 1 Axes>"
            ]
          },
          "metadata": {
            "tags": [],
            "needs_background": "light"
          }
        }
      ]
    },
    {
      "cell_type": "markdown",
      "metadata": {
        "id": "q2GM2ZPDqpSx"
      },
      "source": [
        "\r\n",
        "\r\n",
        "---\r\n",
        "\r\n"
      ]
    },
    {
      "cell_type": "markdown",
      "metadata": {
        "id": "znSGiFHJsujW"
      },
      "source": [
        "For 1 Unit"
      ]
    },
    {
      "cell_type": "markdown",
      "metadata": {
        "id": "-X63WEprsy4X"
      },
      "source": [
        "**Single Exponential Smoothing**"
      ]
    },
    {
      "cell_type": "code",
      "metadata": {
        "id": "7bHzPgUZsy4c"
      },
      "source": [
        "#Creating demand list in 'n' intervals\r\n",
        "demand=dem_n(data.yahoo304_96_8_14,1)"
      ],
      "execution_count": null,
      "outputs": []
    },
    {
      "cell_type": "code",
      "metadata": {
        "id": "uLxZE7vYsy4d"
      },
      "source": [
        "#Forecasting\r\n",
        "alpha1=0.2\r\n",
        "alpha2=0.5\r\n",
        "alpha3=0.8\r\n",
        "\r\n",
        "forecast1=ses(demand,alpha1)\r\n",
        "forecast2=ses(demand,alpha2)\r\n",
        "forecast3=ses(demand,alpha3)"
      ],
      "execution_count": null,
      "outputs": []
    },
    {
      "cell_type": "code",
      "metadata": {
        "colab": {
          "base_uri": "https://localhost:8080/"
        },
        "id": "QBJPRnbBsy4d",
        "outputId": "bffd17a5-5d99-4ef0-bf6d-f83aacd2c242"
      },
      "source": [
        "#Calculating Mean of Square Errors\r\n",
        "mse1=mean_squared_error(demand,forecast1)\r\n",
        "mse2=mean_squared_error(demand,forecast2)\r\n",
        "mse3=mean_squared_error(demand,forecast3)\r\n",
        "\r\n",
        "print(\"Mean of Square Errors for alpha = 0.2 is: \",mse1)\r\n",
        "print(\"Mean of Square Errors for alpha = 0.5 is: \",mse2)\r\n",
        "print(\"Mean of Square Errors for alpha = 0.8 is: \",mse3)"
      ],
      "execution_count": null,
      "outputs": [
        {
          "output_type": "stream",
          "text": [
            "Mean of Square Errors for alpha = 0.2 is:  96.05545489077616\n",
            "Mean of Square Errors for alpha = 0.5 is:  47.45126817506155\n",
            "Mean of Square Errors for alpha = 0.8 is:  36.266977799467504\n"
          ],
          "name": "stdout"
        }
      ]
    },
    {
      "cell_type": "code",
      "metadata": {
        "colab": {
          "base_uri": "https://localhost:8080/",
          "height": 283
        },
        "id": "Kxxo9Za6sy4d",
        "outputId": "e18a565e-4487-4ac9-e552-556e1b7a1574"
      },
      "source": [
        "#Comparing mse and plotting for least mse\r\n",
        "d1={'Demand':demand,'Forecast':forecast1}\r\n",
        "d2={'Demand':demand,'Forecast':forecast2}\r\n",
        "d3={'Demand':demand,'Forecast':forecast3}\r\n",
        "\r\n",
        "df1=pd.DataFrame(d1)\r\n",
        "df2=pd.DataFrame(d2)\r\n",
        "df3=pd.DataFrame(d3)\r\n",
        "\r\n",
        "if mse1<=mse2 and mse1<=mse3:\r\n",
        "  print('alpha: ',alpha1)\r\n",
        "  df1.plot(style=['-','-'])\r\n",
        "  mseses.append(mse1)\r\n",
        "elif mse2<=mse1 and mse2<=mse3:\r\n",
        "  print('alpha: ',alpha2)\r\n",
        "  df2.plot(style=['-','-'])\r\n",
        "  mseses.append(mse2) \r\n",
        "else:\r\n",
        "  print('alpha: ',alpha3)\r\n",
        "  df3.plot(style=['-','-'])\r\n",
        "  mseses.append(mse3)"
      ],
      "execution_count": null,
      "outputs": [
        {
          "output_type": "stream",
          "text": [
            "alpha:  0.8\n"
          ],
          "name": "stdout"
        },
        {
          "output_type": "display_data",
          "data": {
            "image/png": "[encoded data removed]",
            "text/plain": [
              "<Figure size 432x288 with 1 Axes>"
            ]
          },
          "metadata": {
            "tags": [],
            "needs_background": "light"
          }
        }
      ]
    },
    {
      "cell_type": "code",
      "metadata": {
        "id": "_lDLRvbT_PT-"
      },
      "source": [
        "#Storing least mae values\r\n",
        "if mae1<=mae2 and mae1<=mae3:\r\n",
        "  maeses.append(mae1)\r\n",
        "elif mae2<=mae1 and mae2<=mae3:\r\n",
        "  maeses.append(mae2)\r\n",
        "else:\r\n",
        "  maeses.append(mae3)"
      ],
      "execution_count": null,
      "outputs": []
    },
    {
      "cell_type": "markdown",
      "metadata": {
        "id": "38PIR97Csy4e"
      },
      "source": [
        "**Double Exponential Smoothing**"
      ]
    },
    {
      "cell_type": "code",
      "metadata": {
        "id": "OMdupMjZsy4e"
      },
      "source": [
        "#Creating demand list in 'n' intervals\r\n",
        "demand=dem_n(data.yahoo304_96_8_14,1)"
      ],
      "execution_count": null,
      "outputs": []
    },
    {
      "cell_type": "code",
      "metadata": {
        "id": "k-tQLh7Xsy4e"
      },
      "source": [
        "#Forecasting\r\n",
        "alpha1=0.2\r\n",
        "alpha2=0.5\r\n",
        "alpha3=0.8\r\n",
        "\r\n",
        "beta1=0.3\r\n",
        "beta2=0.6\r\n",
        "beta3=0.9\r\n",
        "\r\n",
        "forecast1=des(demand,alpha1,beta1)\r\n",
        "forecast2=des(demand,alpha2,beta2)\r\n",
        "forecast3=des(demand,alpha3,beta3)"
      ],
      "execution_count": null,
      "outputs": []
    },
    {
      "cell_type": "code",
      "metadata": {
        "colab": {
          "base_uri": "https://localhost:8080/"
        },
        "id": "bYkbHKx1sy4e",
        "outputId": "b07e132a-0619-436b-d044-28b998a4c77c"
      },
      "source": [
        "#Calculating Mean of Square Errors\r\n",
        "mse1=mean_squared_error(demand,forecast1)\r\n",
        "mse2=mean_squared_error(demand,forecast2)\r\n",
        "mse3=mean_squared_error(demand,forecast3)\r\n",
        "\r\n",
        "print(\"Mean of Square Errors for alpha = 0.2,beta= 0.3 is: \",mse1)\r\n",
        "print(\"Mean of Square Errors for alpha = 0.5,beta= 0.6 is: \",mse2)\r\n",
        "print(\"Mean of Square Errors for alpha = 0.8,beta= 0.9 is: \",mse3)"
      ],
      "execution_count": null,
      "outputs": [
        {
          "output_type": "stream",
          "text": [
            "Mean of Square Errors for alpha = 0.2,beta= 0.3 is:  98.61340054241282\n",
            "Mean of Square Errors for alpha = 0.5,beta= 0.6 is:  53.99123148363984\n",
            "Mean of Square Errors for alpha = 0.8,beta= 0.9 is:  50.11839964406356\n"
          ],
          "name": "stdout"
        }
      ]
    },
    {
      "cell_type": "code",
      "metadata": {
        "colab": {
          "base_uri": "https://localhost:8080/",
          "height": 300
        },
        "id": "9QzfG06Isy4e",
        "outputId": "01bc43ec-c076-439c-e8a5-4e44d9ef7cef"
      },
      "source": [
        "#Comparing mse and plotting for least mse\r\n",
        "d1={'Demand':demand,'Forecast':forecast1}\r\n",
        "d2={'Demand':demand,'Forecast':forecast2}\r\n",
        "d3={'Demand':demand,'Forecast':forecast3}\r\n",
        "\r\n",
        "df1=pd.DataFrame(d1)\r\n",
        "df2=pd.DataFrame(d2)\r\n",
        "df3=pd.DataFrame(d3)\r\n",
        "\r\n",
        "if mse1<=mse2 and mse1<=mse3:\r\n",
        "  print('alpha: ',alpha1)\r\n",
        "  print('beta: ',beta1)\r\n",
        "  df1.plot(style=['-','-'])\r\n",
        "  msedes.append(mse1)\r\n",
        "elif mse2<=mse1 and mse2<=mse3:\r\n",
        "  print('alpha: ',alpha2)\r\n",
        "  print('beta: ',beta2)\r\n",
        "  df2.plot(style=['-','-'])\r\n",
        "  msedes.append(mse2) \r\n",
        "else:\r\n",
        "  print('alpha: ',alpha3)\r\n",
        "  print('beta: ',beta3)\r\n",
        "  df3.plot(style=['-','-'])\r\n",
        "  msedes.append(mse3)"
      ],
      "execution_count": null,
      "outputs": [
        {
          "output_type": "stream",
          "text": [
            "alpha:  0.8\n",
            "beta:  0.9\n"
          ],
          "name": "stdout"
        },
        {
          "output_type": "display_data",
          "data": {
            "image/png": "[encoded data removed]",
            "text/plain": [
              "<Figure size 432x288 with 1 Axes>"
            ]
          },
          "metadata": {
            "tags": [],
            "needs_background": "light"
          }
        }
      ]
    },
    {
      "cell_type": "code",
      "metadata": {
        "id": "biwzDKO-AVQm"
      },
      "source": [
        "#Storing least mae values\r\n",
        "if mae1<=mae2 and mae1<=mae3:\r\n",
        "  maedes.append(mae1)\r\n",
        "elif mae2<=mae1 and mae2<=mae3:\r\n",
        "  maedes.append(mae2)\r\n",
        "else:\r\n",
        "  maedes.append(mae3)"
      ],
      "execution_count": null,
      "outputs": []
    },
    {
      "cell_type": "markdown",
      "metadata": {
        "id": "XetYv_iCsy4g"
      },
      "source": [
        "**Triple Exponential Smoothing**"
      ]
    },
    {
      "cell_type": "code",
      "metadata": {
        "id": "o3FjEFBSsy4g"
      },
      "source": [
        "#Creating demand list in 'n' intervals\r\n",
        "demand=dem_n(data.yahoo304_96_8_14,1)"
      ],
      "execution_count": null,
      "outputs": []
    },
    {
      "cell_type": "code",
      "metadata": {
        "id": "9vRVejt9sy4g"
      },
      "source": [
        "#Forecasting\r\n",
        "alpha1=0.2\r\n",
        "alpha2=0.5\r\n",
        "alpha3=0.8\r\n",
        "\r\n",
        "beta1=0.3\r\n",
        "beta2=0.6\r\n",
        "beta3=0.9\r\n",
        "\r\n",
        "gamma1=0.4\r\n",
        "gamma2=0.7\r\n",
        "gamma3=0.95\r\n",
        "\r\n",
        "#Considering season of 1 hours here\r\n",
        "\r\n",
        "forecast1=tes(demand,1,alpha1,beta1,gamma1,0)\r\n",
        "forecast2=tes(demand,1,alpha2,beta2,gamma2,0)\r\n",
        "forecast3=tes(demand,1,alpha3,beta3,gamma3,0)"
      ],
      "execution_count": null,
      "outputs": []
    },
    {
      "cell_type": "code",
      "metadata": {
        "colab": {
          "base_uri": "https://localhost:8080/"
        },
        "id": "i8kmXQi5sy4g",
        "outputId": "932ce3e2-8783-4b53-fa22-9582bf475743"
      },
      "source": [
        "#Calculating mean of sqaured errors\r\n",
        "mse1=mean_squared_error(demand,forecast1)\r\n",
        "mse2=mean_squared_error(demand,forecast2)\r\n",
        "mse3=mean_squared_error(demand,forecast3)\r\n",
        "\r\n",
        "print(\"Mean of Square Errors for alpha = 0.2,beta= 0.3 gamma=0.4 is: \",mse1)\r\n",
        "print(\"Mean of Square Errors for alpha = 0.5,beta= 0.6 gamma=0.7 is: \",mse2)\r\n",
        "print(\"Mean of Square Errors for alpha = 0.8,beta= 0.9 gamma=0.95 is: \",mse3)"
      ],
      "execution_count": null,
      "outputs": [
        {
          "output_type": "stream",
          "text": [
            "Mean of Square Errors for alpha = 0.2,beta= 0.3 gamma=0.4 is:  11.639338570577138\n",
            "Mean of Square Errors for alpha = 0.5,beta= 0.6 gamma=0.7 is:  6.348675651210603\n",
            "Mean of Square Errors for alpha = 0.8,beta= 0.9 gamma=0.95 is:  19.48517402679209\n"
          ],
          "name": "stdout"
        }
      ]
    },
    {
      "cell_type": "code",
      "metadata": {
        "colab": {
          "base_uri": "https://localhost:8080/"
        },
        "id": "Mh7r_Oh60XcP",
        "outputId": "b84bef0f-6e81-4131-b2c8-97e79f38f70d"
      },
      "source": [
        "#Calculating Mean Absolute Errors\r\n",
        "mae1=mean_absolute_error(demand,forecast1)\r\n",
        "mae2=mean_absolute_error(demand,forecast2)\r\n",
        "mae3=mean_absolute_error(demand,forecast3)\r\n",
        "\r\n",
        "print(\"Mean Absolute Errors for alpha = 0.2,beta= 0.3, gamma=0.4 is: \",mae1)\r\n",
        "print(\"Mean Absolute Errors for alpha = 0.5,beta= 0.6, gamma=0.7 is: \",mae2)\r\n",
        "print(\"Mean Absolute Errors for alpha = 0.8,beta= 0.9, gamma=0.95 is: \",mae3)"
      ],
      "execution_count": null,
      "outputs": [
        {
          "output_type": "stream",
          "text": [
            "Mean Absolute Errors for alpha = 0.2,beta= 0.3, gamma=0.4 is:  1.032820786741875\n",
            "Mean Absolute Errors for alpha = 0.5,beta= 0.6, gamma=0.7 is:  0.7323065580072101\n",
            "Mean Absolute Errors for alpha = 0.8,beta= 0.9, gamma=0.95 is:  1.239266078672252\n"
          ],
          "name": "stdout"
        }
      ]
    },
    {
      "cell_type": "code",
      "metadata": {
        "colab": {
          "base_uri": "https://localhost:8080/",
          "height": 317
        },
        "id": "fRiSTBcysy4h",
        "outputId": "9eb3b785-cfe9-4694-ffb3-62191614d0bf"
      },
      "source": [
        "#Comparing mse and plotting for least mse\r\n",
        "d1={'Demand':demand,'Forecast':forecast1}\r\n",
        "d2={'Demand':demand,'Forecast':forecast2}\r\n",
        "d3={'Demand':demand,'Forecast':forecast3}\r\n",
        "\r\n",
        "df1=pd.DataFrame(d1)\r\n",
        "df2=pd.DataFrame(d2)\r\n",
        "df3=pd.DataFrame(d3)\r\n",
        "\r\n",
        "if mse1<=mse2 and mse1<=mse3:\r\n",
        "  print('alpha: ',alpha1)\r\n",
        "  print('beta: ',beta1)\r\n",
        "  print('gamma: ',gamma1)\r\n",
        "  df1.plot(style=['-','-'])\r\n",
        "  msetes.append(mse1)\r\n",
        "elif mse2<=mse1 and mse2<=mse3:\r\n",
        "  print('alpha: ',alpha2)\r\n",
        "  print('beta: ',beta2)\r\n",
        "  print('gamma: ',gamma2)\r\n",
        "  df2.plot(style=['-','-'])\r\n",
        "  msetes.append(mse2) \r\n",
        "else:\r\n",
        "  print('alpha: ',alpha3)\r\n",
        "  print('beta: ',beta3)\r\n",
        "  print('gamma: ',gamma3)\r\n",
        "  df3.plot(style=['-','-'])\r\n",
        "  msetes.append(mse3)"
      ],
      "execution_count": null,
      "outputs": [
        {
          "output_type": "stream",
          "text": [
            "alpha:  0.5\n",
            "beta:  0.6\n",
            "gamma:  0.7\n"
          ],
          "name": "stdout"
        },
        {
          "output_type": "display_data",
          "data": {
            "image/png": "[encoded data removed]",
            "text/plain": [
              "<Figure size 432x288 with 1 Axes>"
            ]
          },
          "metadata": {
            "tags": [],
            "needs_background": "light"
          }
        }
      ]
    },
    {
      "cell_type": "code",
      "metadata": {
        "id": "Egm7QLpEBCdS"
      },
      "source": [
        "#Storing least mae values\r\n",
        "if mae1<=mae2 and mae1<=mae3:\r\n",
        "  maetes.append(mae1)\r\n",
        "elif mae2<=mae1 and mae2<=mae3:\r\n",
        "  maetes.append(mae2)\r\n",
        "else:\r\n",
        "  maetes.append(mae3)"
      ],
      "execution_count": null,
      "outputs": []
    },
    {
      "cell_type": "markdown",
      "metadata": {
        "id": "kS36u1E2s4BN"
      },
      "source": [
        "For 2 Unit"
      ]
    },
    {
      "cell_type": "markdown",
      "metadata": {
        "id": "89B9jbXds6H7"
      },
      "source": [
        "**Single Exponential Smoothing**"
      ]
    },
    {
      "cell_type": "code",
      "metadata": {
        "id": "f6DToo2Ss6H7"
      },
      "source": [
        "#Creating demand list in 'n' intervals\r\n",
        "demand=dem_n(data.yahoo304_96_8_14,2)"
      ],
      "execution_count": null,
      "outputs": []
    },
    {
      "cell_type": "code",
      "metadata": {
        "id": "kSFj6L14s6H8"
      },
      "source": [
        "#Forecasting\r\n",
        "alpha1=0.2\r\n",
        "alpha2=0.5\r\n",
        "alpha3=0.8\r\n",
        "\r\n",
        "forecast1=ses(demand,alpha1)\r\n",
        "forecast2=ses(demand,alpha2)\r\n",
        "forecast3=ses(demand,alpha3)"
      ],
      "execution_count": null,
      "outputs": []
    },
    {
      "cell_type": "code",
      "metadata": {
        "colab": {
          "base_uri": "https://localhost:8080/"
        },
        "id": "KkePmWuss6H8",
        "outputId": "da8e4c6c-581c-4e48-b6d5-4627c7f89f29"
      },
      "source": [
        "#Calculating Mean of Square Errors\r\n",
        "mse1=mean_squared_error(demand,forecast1)\r\n",
        "mse2=mean_squared_error(demand,forecast2)\r\n",
        "mse3=mean_squared_error(demand,forecast3)\r\n",
        "\r\n",
        "print(\"Mean of Square Errors for alpha = 0.2 is: \",mse1)\r\n",
        "print(\"Mean of Square Errors for alpha = 0.5 is: \",mse2)\r\n",
        "print(\"Mean of Square Errors for alpha = 0.8 is: \",mse3)"
      ],
      "execution_count": null,
      "outputs": [
        {
          "output_type": "stream",
          "text": [
            "Mean of Square Errors for alpha = 0.2 is:  180.76450708751057\n",
            "Mean of Square Errors for alpha = 0.5 is:  90.24920445458754\n",
            "Mean of Square Errors for alpha = 0.8 is:  70.74433216569851\n"
          ],
          "name": "stdout"
        }
      ]
    },
    {
      "cell_type": "code",
      "metadata": {
        "colab": {
          "base_uri": "https://localhost:8080/",
          "height": 283
        },
        "id": "42WyyLyjs6H8",
        "outputId": "d0bf13da-333b-4178-ff08-9ff52cb7abd8"
      },
      "source": [
        "#Comparing mse and plotting for least mse\r\n",
        "d1={'Demand':demand,'Forecast':forecast1}\r\n",
        "d2={'Demand':demand,'Forecast':forecast2}\r\n",
        "d3={'Demand':demand,'Forecast':forecast3}\r\n",
        "\r\n",
        "df1=pd.DataFrame(d1)\r\n",
        "df2=pd.DataFrame(d2)\r\n",
        "df3=pd.DataFrame(d3)\r\n",
        "\r\n",
        "if mse1<=mse2 and mse1<=mse3:\r\n",
        "  print('alpha: ',alpha1)\r\n",
        "  df1.plot(style=['-','-'])\r\n",
        "  mseses.append(mse1)\r\n",
        "elif mse2<=mse1 and mse2<=mse3:\r\n",
        "  print('alpha: ',alpha2)\r\n",
        "  df2.plot(style=['-','-'])\r\n",
        "  mseses.append(mse2) \r\n",
        "else:\r\n",
        "  print('alpha: ',alpha3)\r\n",
        "  df3.plot(style=['-','-'])\r\n",
        "  mseses.append(mse3)"
      ],
      "execution_count": null,
      "outputs": [
        {
          "output_type": "stream",
          "text": [
            "alpha:  0.8\n"
          ],
          "name": "stdout"
        },
        {
          "output_type": "display_data",
          "data": {
            "image/png": "[encoded data removed]",
            "text/plain": [
              "<Figure size 432x288 with 1 Axes>"
            ]
          },
          "metadata": {
            "tags": [],
            "needs_background": "light"
          }
        }
      ]
    },
    {
      "cell_type": "code",
      "metadata": {
        "id": "ohvOs_5i_3If"
      },
      "source": [
        "#Storing least mae values\r\n",
        "if mae1<=mae2 and mae1<=mae3:\r\n",
        "  maeses.append(mae1)\r\n",
        "elif mae2<=mae1 and mae2<=mae3:\r\n",
        "  maeses.append(mae2)\r\n",
        "else:\r\n",
        "  maeses.append(mae3)"
      ],
      "execution_count": null,
      "outputs": []
    },
    {
      "cell_type": "markdown",
      "metadata": {
        "id": "bpOo10bbs6H8"
      },
      "source": [
        "**Double Exponential Smoothing**"
      ]
    },
    {
      "cell_type": "code",
      "metadata": {
        "id": "mR_i_OWys6H8"
      },
      "source": [
        "#Creating demand list in 'n' intervals\r\n",
        "demand=dem_n(data.yahoo304_96_8_14,2)"
      ],
      "execution_count": null,
      "outputs": []
    },
    {
      "cell_type": "code",
      "metadata": {
        "id": "yrhdlJ8vs6H8"
      },
      "source": [
        "#Forecasting\r\n",
        "alpha1=0.2\r\n",
        "alpha2=0.5\r\n",
        "alpha3=0.8\r\n",
        "\r\n",
        "beta1=0.3\r\n",
        "beta2=0.6\r\n",
        "beta3=0.9\r\n",
        "\r\n",
        "forecast1=des(demand,alpha1,beta1)\r\n",
        "forecast2=des(demand,alpha2,beta2)\r\n",
        "forecast3=des(demand,alpha3,beta3)"
      ],
      "execution_count": null,
      "outputs": []
    },
    {
      "cell_type": "code",
      "metadata": {
        "colab": {
          "base_uri": "https://localhost:8080/"
        },
        "id": "LFduVmrts6H9",
        "outputId": "6307f7a4-b7a6-4bcd-c8ba-cd2cf9d4a9cf"
      },
      "source": [
        "#Calculating Mean of Square Errors\r\n",
        "mse1=mean_squared_error(demand,forecast1)\r\n",
        "mse2=mean_squared_error(demand,forecast2)\r\n",
        "mse3=mean_squared_error(demand,forecast3)\r\n",
        "\r\n",
        "print(\"Mean of Square Errors for alpha = 0.2,beta= 0.3 is: \",mse1)\r\n",
        "print(\"Mean of Square Errors for alpha = 0.5,beta= 0.6 is: \",mse2)\r\n",
        "print(\"Mean of Square Errors for alpha = 0.8,beta= 0.9 is: \",mse3)"
      ],
      "execution_count": null,
      "outputs": [
        {
          "output_type": "stream",
          "text": [
            "Mean of Square Errors for alpha = 0.2,beta= 0.3 is:  189.56455362093845\n",
            "Mean of Square Errors for alpha = 0.5,beta= 0.6 is:  105.91052413310219\n",
            "Mean of Square Errors for alpha = 0.8,beta= 0.9 is:  100.69577635286231\n"
          ],
          "name": "stdout"
        }
      ]
    },
    {
      "cell_type": "code",
      "metadata": {
        "colab": {
          "base_uri": "https://localhost:8080/",
          "height": 300
        },
        "id": "7y9mHMLFs6H9",
        "outputId": "0c808511-028c-455c-e535-1efa29d4c764"
      },
      "source": [
        "#Comparing mse and plotting for least mse\r\n",
        "d1={'Demand':demand,'Forecast':forecast1}\r\n",
        "d2={'Demand':demand,'Forecast':forecast2}\r\n",
        "d3={'Demand':demand,'Forecast':forecast3}\r\n",
        "\r\n",
        "df1=pd.DataFrame(d1)\r\n",
        "df2=pd.DataFrame(d2)\r\n",
        "df3=pd.DataFrame(d3)\r\n",
        "\r\n",
        "if mse1<=mse2 and mse1<=mse3:\r\n",
        "  print('alpha: ',alpha1)\r\n",
        "  print('beta: ',beta1)\r\n",
        "  df1.plot(style=['-','-'])\r\n",
        "  msedes.append(mse1)\r\n",
        "elif mse2<=mse1 and mse2<=mse3:\r\n",
        "  print('alpha: ',alpha2)\r\n",
        "  print('beta: ',beta2)\r\n",
        "  df2.plot(style=['-','-'])\r\n",
        "  msedes.append(mse2) \r\n",
        "else:\r\n",
        "  print('alpha: ',alpha3)\r\n",
        "  print('beta: ',beta3)\r\n",
        "  df3.plot(style=['-','-'])\r\n",
        "  msedes.append(mse3)"
      ],
      "execution_count": null,
      "outputs": [
        {
          "output_type": "stream",
          "text": [
            "alpha:  0.8\n",
            "beta:  0.9\n"
          ],
          "name": "stdout"
        },
        {
          "output_type": "display_data",
          "data": {
            "image/png": "[encoded data removed]",
            "text/plain": [
              "<Figure size 432x288 with 1 Axes>"
            ]
          },
          "metadata": {
            "tags": [],
            "needs_background": "light"
          }
        }
      ]
    },
    {
      "cell_type": "code",
      "metadata": {
        "id": "J9I5blahAe4o"
      },
      "source": [
        "#Storing least mae values\r\n",
        "if mae1<=mae2 and mae1<=mae3:\r\n",
        "  maedes.append(mae1)\r\n",
        "elif mae2<=mae1 and mae2<=mae3:\r\n",
        "  maedes.append(mae2)\r\n",
        "else:\r\n",
        "  maedes.append(mae3)"
      ],
      "execution_count": null,
      "outputs": []
    },
    {
      "cell_type": "markdown",
      "metadata": {
        "id": "Noqk1yXPs6H9"
      },
      "source": [
        "**Triple Exponential Smoothing**"
      ]
    },
    {
      "cell_type": "code",
      "metadata": {
        "id": "jaZFk7Ins6H9"
      },
      "source": [
        "#Creating demand list in 'n' intervals\r\n",
        "demand=dem_n(data.yahoo304_96_8_14,2)"
      ],
      "execution_count": null,
      "outputs": []
    },
    {
      "cell_type": "code",
      "metadata": {
        "id": "_Pbstt-ps6H-"
      },
      "source": [
        "#Forecasting\r\n",
        "alpha1=0.2\r\n",
        "alpha2=0.5\r\n",
        "alpha3=0.8\r\n",
        "\r\n",
        "beta1=0.3\r\n",
        "beta2=0.6\r\n",
        "beta3=0.9\r\n",
        "\r\n",
        "gamma1=0.4\r\n",
        "gamma2=0.7\r\n",
        "gamma3=0.95\r\n",
        "\r\n",
        "#Considering season of 1 hours here\r\n",
        "\r\n",
        "forecast1=tes(demand,1,alpha1,beta1,gamma1,0)\r\n",
        "forecast2=tes(demand,1,alpha2,beta2,gamma2,0)\r\n",
        "forecast3=tes(demand,1,alpha3,beta3,gamma3,0)"
      ],
      "execution_count": null,
      "outputs": []
    },
    {
      "cell_type": "code",
      "metadata": {
        "colab": {
          "base_uri": "https://localhost:8080/"
        },
        "id": "WpoRf0P9s6H-",
        "outputId": "ac13ffbe-2534-468a-a38f-bff744bdea05"
      },
      "source": [
        "#Calculating mean of sqaured errors\r\n",
        "mse1=mean_squared_error(demand,forecast1)\r\n",
        "mse2=mean_squared_error(demand,forecast2)\r\n",
        "mse3=mean_squared_error(demand,forecast3)\r\n",
        "\r\n",
        "print(\"Mean of Square Errors for alpha = 0.2,beta= 0.3 gamma=0.4 is: \",mse1)\r\n",
        "print(\"Mean of Square Errors for alpha = 0.5,beta= 0.6 gamma=0.7 is: \",mse2)\r\n",
        "print(\"Mean of Square Errors for alpha = 0.8,beta= 0.9 gamma=0.95 is: \",mse3)"
      ],
      "execution_count": null,
      "outputs": [
        {
          "output_type": "stream",
          "text": [
            "Mean of Square Errors for alpha = 0.2,beta= 0.3 gamma=0.4 is:  22.053348792543282\n",
            "Mean of Square Errors for alpha = 0.5,beta= 0.6 gamma=0.7 is:  11.733396511437721\n",
            "Mean of Square Errors for alpha = 0.8,beta= 0.9 gamma=0.95 is:  37.76557145513107\n"
          ],
          "name": "stdout"
        }
      ]
    },
    {
      "cell_type": "code",
      "metadata": {
        "colab": {
          "base_uri": "https://localhost:8080/"
        },
        "id": "SzrIO4HF0ZnW",
        "outputId": "8f2233a4-e066-42d1-bc90-f227bb4334d6"
      },
      "source": [
        "#Calculating Mean Absolute Errors\r\n",
        "mae1=mean_absolute_error(demand,forecast1)\r\n",
        "mae2=mean_absolute_error(demand,forecast2)\r\n",
        "mae3=mean_absolute_error(demand,forecast3)\r\n",
        "\r\n",
        "print(\"Mean Absolute Errors for alpha = 0.2,beta= 0.3, gamma=0.4 is: \",mae1)\r\n",
        "print(\"Mean Absolute Errors for alpha = 0.5,beta= 0.6, gamma=0.7 is: \",mae2)\r\n",
        "print(\"Mean Absolute Errors for alpha = 0.8,beta= 0.9, gamma=0.95 is: \",mae3)"
      ],
      "execution_count": null,
      "outputs": [
        {
          "output_type": "stream",
          "text": [
            "Mean Absolute Errors for alpha = 0.2,beta= 0.3, gamma=0.4 is:  1.4890138335978669\n",
            "Mean Absolute Errors for alpha = 0.5,beta= 0.6, gamma=0.7 is:  1.0783372848909816\n",
            "Mean Absolute Errors for alpha = 0.8,beta= 0.9, gamma=0.95 is:  1.7916636448595848\n"
          ],
          "name": "stdout"
        }
      ]
    },
    {
      "cell_type": "code",
      "metadata": {
        "colab": {
          "base_uri": "https://localhost:8080/",
          "height": 317
        },
        "id": "qKgUbafAs6H-",
        "outputId": "58aaca83-65a5-4bf0-c09a-fb040d7d1000"
      },
      "source": [
        "#Comparing mse and plotting for least mse\r\n",
        "d1={'Demand':demand,'Forecast':forecast1}\r\n",
        "d2={'Demand':demand,'Forecast':forecast2}\r\n",
        "d3={'Demand':demand,'Forecast':forecast3}\r\n",
        "\r\n",
        "df1=pd.DataFrame(d1)\r\n",
        "df2=pd.DataFrame(d2)\r\n",
        "df3=pd.DataFrame(d3)\r\n",
        "\r\n",
        "if mse1<=mse2 and mse1<=mse3:\r\n",
        "  print('alpha: ',alpha1)\r\n",
        "  print('beta: ',beta1)\r\n",
        "  print('gamma: ',gamma1)\r\n",
        "  df1.plot(style=['-','-'])\r\n",
        "  msetes.append(mse1)\r\n",
        "elif mse2<=mse1 and mse2<=mse3:\r\n",
        "  print('alpha: ',alpha2)\r\n",
        "  print('beta: ',beta2)\r\n",
        "  print('gamma: ',gamma2)\r\n",
        "  df2.plot(style=['-','-'])\r\n",
        "  msetes.append(mse2) \r\n",
        "else:\r\n",
        "  print('alpha: ',alpha3)\r\n",
        "  print('beta: ',beta3)\r\n",
        "  print('gamma: ',gamma3)\r\n",
        "  df3.plot(style=['-','-'])\r\n",
        "  msetes.append(mse3)"
      ],
      "execution_count": null,
      "outputs": [
        {
          "output_type": "stream",
          "text": [
            "alpha:  0.5\n",
            "beta:  0.6\n",
            "gamma:  0.7\n"
          ],
          "name": "stdout"
        },
        {
          "output_type": "display_data",
          "data": {
            "image/png": "[encoded data removed]",
            "text/plain": [
              "<Figure size 432x288 with 1 Axes>"
            ]
          },
          "metadata": {
            "tags": [],
            "needs_background": "light"
          }
        }
      ]
    },
    {
      "cell_type": "code",
      "metadata": {
        "id": "PJoZRn1lBJMK"
      },
      "source": [
        "#Storing least mae values\r\n",
        "if mae1<=mae2 and mae1<=mae3:\r\n",
        "  maetes.append(mae1)\r\n",
        "elif mae2<=mae1 and mae2<=mae3:\r\n",
        "  maetes.append(mae2)\r\n",
        "else:\r\n",
        "  maetes.append(mae3)"
      ],
      "execution_count": null,
      "outputs": []
    },
    {
      "cell_type": "markdown",
      "metadata": {
        "id": "rTnMcDVOtD2W"
      },
      "source": [
        "For 4 Unit"
      ]
    },
    {
      "cell_type": "markdown",
      "metadata": {
        "id": "HWRhCCxFtIco"
      },
      "source": [
        "**Single Exponential Smoothing**"
      ]
    },
    {
      "cell_type": "code",
      "metadata": {
        "id": "vAKOjtC7tIcq"
      },
      "source": [
        "#Creating demand list in 'n' intervals\r\n",
        "demand=dem_n(data.yahoo304_96_8_14,4)"
      ],
      "execution_count": null,
      "outputs": []
    },
    {
      "cell_type": "code",
      "metadata": {
        "id": "hl0Bg7-QtIcq"
      },
      "source": [
        "#Forecasting\r\n",
        "alpha1=0.2\r\n",
        "alpha2=0.5\r\n",
        "alpha3=0.8\r\n",
        "\r\n",
        "forecast1=ses(demand,alpha1)\r\n",
        "forecast2=ses(demand,alpha2)\r\n",
        "forecast3=ses(demand,alpha3)"
      ],
      "execution_count": null,
      "outputs": []
    },
    {
      "cell_type": "code",
      "metadata": {
        "colab": {
          "base_uri": "https://localhost:8080/"
        },
        "id": "5_fyv3RQtIcq",
        "outputId": "ac377ce1-e25f-4e93-8ad7-c16a26c6bb20"
      },
      "source": [
        "#Calculating Mean of Square Errors\r\n",
        "mse1=mean_squared_error(demand,forecast1)\r\n",
        "mse2=mean_squared_error(demand,forecast2)\r\n",
        "mse3=mean_squared_error(demand,forecast3)\r\n",
        "\r\n",
        "print(\"Mean of Square Errors for alpha = 0.2 is: \",mse1)\r\n",
        "print(\"Mean of Square Errors for alpha = 0.5 is: \",mse2)\r\n",
        "print(\"Mean of Square Errors for alpha = 0.8 is: \",mse3)"
      ],
      "execution_count": null,
      "outputs": [
        {
          "output_type": "stream",
          "text": [
            "Mean of Square Errors for alpha = 0.2 is:  324.88713214124726\n",
            "Mean of Square Errors for alpha = 0.5 is:  167.06281335851196\n",
            "Mean of Square Errors for alpha = 0.8 is:  135.12511739078056\n"
          ],
          "name": "stdout"
        }
      ]
    },
    {
      "cell_type": "code",
      "metadata": {
        "colab": {
          "base_uri": "https://localhost:8080/",
          "height": 283
        },
        "id": "yNbxwuNJtIcr",
        "outputId": "8d660433-146b-4081-b33f-3432f86d3afc"
      },
      "source": [
        "#Comparing mse and plotting for least mse\r\n",
        "d1={'Demand':demand,'Forecast':forecast1}\r\n",
        "d2={'Demand':demand,'Forecast':forecast2}\r\n",
        "d3={'Demand':demand,'Forecast':forecast3}\r\n",
        "\r\n",
        "df1=pd.DataFrame(d1)\r\n",
        "df2=pd.DataFrame(d2)\r\n",
        "df3=pd.DataFrame(d3)\r\n",
        "\r\n",
        "if mse1<=mse2 and mse1<=mse3:\r\n",
        "  print('alpha: ',alpha1)\r\n",
        "  df1.plot(style=['-','-'])\r\n",
        "  mseses.append(mse1)\r\n",
        "elif mse2<=mse1 and mse2<=mse3:\r\n",
        "  print('alpha: ',alpha2)\r\n",
        "  df2.plot(style=['-','-'])\r\n",
        "  mseses.append(mse2) \r\n",
        "else:\r\n",
        "  print('alpha: ',alpha3)\r\n",
        "  df3.plot(style=['-','-'])\r\n",
        "  mseses.append(mse3)"
      ],
      "execution_count": null,
      "outputs": [
        {
          "output_type": "stream",
          "text": [
            "alpha:  0.8\n"
          ],
          "name": "stdout"
        },
        {
          "output_type": "display_data",
          "data": {
            "image/png": "[encoded data removed]",
            "text/plain": [
              "<Figure size 432x288 with 1 Axes>"
            ]
          },
          "metadata": {
            "tags": [],
            "needs_background": "light"
          }
        }
      ]
    },
    {
      "cell_type": "code",
      "metadata": {
        "id": "t3anvp2r_5fB"
      },
      "source": [
        "#Storing least mae values\r\n",
        "if mae1<=mae2 and mae1<=mae3:\r\n",
        "  maeses.append(mae1)\r\n",
        "elif mae2<=mae1 and mae2<=mae3:\r\n",
        "  maeses.append(mae2)\r\n",
        "else:\r\n",
        "  maeses.append(mae3)"
      ],
      "execution_count": null,
      "outputs": []
    },
    {
      "cell_type": "markdown",
      "metadata": {
        "id": "3p1g-eXhtIcr"
      },
      "source": [
        "**Double Exponential Smoothing**"
      ]
    },
    {
      "cell_type": "code",
      "metadata": {
        "id": "fdkyUhuttIcs"
      },
      "source": [
        "#Creating demand list in 'n' intervals\r\n",
        "demand=dem_n(data.yahoo304_96_8_14,4)"
      ],
      "execution_count": null,
      "outputs": []
    },
    {
      "cell_type": "code",
      "metadata": {
        "id": "KgvvairPtIcs"
      },
      "source": [
        "#Forecasting\r\n",
        "alpha1=0.2\r\n",
        "alpha2=0.5\r\n",
        "alpha3=0.8\r\n",
        "\r\n",
        "beta1=0.3\r\n",
        "beta2=0.6\r\n",
        "beta3=0.9\r\n",
        "\r\n",
        "forecast1=des(demand,alpha1,beta1)\r\n",
        "forecast2=des(demand,alpha2,beta2)\r\n",
        "forecast3=des(demand,alpha3,beta3)"
      ],
      "execution_count": null,
      "outputs": []
    },
    {
      "cell_type": "code",
      "metadata": {
        "colab": {
          "base_uri": "https://localhost:8080/"
        },
        "id": "s3vqaxyJtIcs",
        "outputId": "379f7a9a-67d1-463c-da58-ab8139e79007"
      },
      "source": [
        "#Calculating Mean of Square Errors\r\n",
        "mse1=mean_squared_error(demand,forecast1)\r\n",
        "mse2=mean_squared_error(demand,forecast2)\r\n",
        "mse3=mean_squared_error(demand,forecast3)\r\n",
        "\r\n",
        "print(\"Mean of Square Errors for alpha = 0.2,beta= 0.3 is: \",mse1)\r\n",
        "print(\"Mean of Square Errors for alpha = 0.5,beta= 0.6 is: \",mse2)\r\n",
        "print(\"Mean of Square Errors for alpha = 0.8,beta= 0.9 is: \",mse3)"
      ],
      "execution_count": null,
      "outputs": [
        {
          "output_type": "stream",
          "text": [
            "Mean of Square Errors for alpha = 0.2,beta= 0.3 is:  389.5482290439572\n",
            "Mean of Square Errors for alpha = 0.5,beta= 0.6 is:  179.78037941617038\n",
            "Mean of Square Errors for alpha = 0.8,beta= 0.9 is:  200.49519102127783\n"
          ],
          "name": "stdout"
        }
      ]
    },
    {
      "cell_type": "code",
      "metadata": {
        "colab": {
          "base_uri": "https://localhost:8080/",
          "height": 300
        },
        "id": "FhvIAL7PtIct",
        "outputId": "a184df29-f0f0-4f87-ae82-402bb7b9b0f9"
      },
      "source": [
        "#Comparing mse and plotting for least mse\r\n",
        "d1={'Demand':demand,'Forecast':forecast1}\r\n",
        "d2={'Demand':demand,'Forecast':forecast2}\r\n",
        "d3={'Demand':demand,'Forecast':forecast3}\r\n",
        "\r\n",
        "df1=pd.DataFrame(d1)\r\n",
        "df2=pd.DataFrame(d2)\r\n",
        "df3=pd.DataFrame(d3)\r\n",
        "\r\n",
        "if mse1<=mse2 and mse1<=mse3:\r\n",
        "  print('alpha: ',alpha1)\r\n",
        "  print('beta: ',beta1)\r\n",
        "  df1.plot(style=['-','-'])\r\n",
        "  msedes.append(mse1)\r\n",
        "elif mse2<=mse1 and mse2<=mse3:\r\n",
        "  print('alpha: ',alpha2)\r\n",
        "  print('beta: ',beta2)\r\n",
        "  df2.plot(style=['-','-'])\r\n",
        "  msedes.append(mse2) \r\n",
        "else:\r\n",
        "  print('alpha: ',alpha3)\r\n",
        "  print('beta: ',beta3)\r\n",
        "  df3.plot(style=['-','-'])\r\n",
        "  msedes.append(mse3)"
      ],
      "execution_count": null,
      "outputs": [
        {
          "output_type": "stream",
          "text": [
            "alpha:  0.5\n",
            "beta:  0.6\n"
          ],
          "name": "stdout"
        },
        {
          "output_type": "display_data",
          "data": {
            "image/png": "[encoded data removed]",
            "text/plain": [
              "<Figure size 432x288 with 1 Axes>"
            ]
          },
          "metadata": {
            "tags": [],
            "needs_background": "light"
          }
        }
      ]
    },
    {
      "cell_type": "code",
      "metadata": {
        "id": "b01QwYCAAhAp"
      },
      "source": [
        "#Storing least mae values\r\n",
        "if mae1<=mae2 and mae1<=mae3:\r\n",
        "  maedes.append(mae1)\r\n",
        "elif mae2<=mae1 and mae2<=mae3:\r\n",
        "  maedes.append(mae2)\r\n",
        "else:\r\n",
        "  maedes.append(mae3)"
      ],
      "execution_count": null,
      "outputs": []
    },
    {
      "cell_type": "markdown",
      "metadata": {
        "id": "HaMO5JWitIct"
      },
      "source": [
        "**Triple Exponential Smoothing**"
      ]
    },
    {
      "cell_type": "code",
      "metadata": {
        "id": "iyBhHxcqtIct"
      },
      "source": [
        "#Creating demand list in 'n' intervals\r\n",
        "demand=dem_n(data.yahoo304_96_8_14,4)"
      ],
      "execution_count": null,
      "outputs": []
    },
    {
      "cell_type": "code",
      "metadata": {
        "id": "bOvLhhDStIcu"
      },
      "source": [
        "#Forecasting\r\n",
        "alpha1=0.2\r\n",
        "alpha2=0.5\r\n",
        "alpha3=0.8\r\n",
        "\r\n",
        "beta1=0.3\r\n",
        "beta2=0.6\r\n",
        "beta3=0.9\r\n",
        "\r\n",
        "gamma1=0.4\r\n",
        "gamma2=0.7\r\n",
        "gamma3=0.95\r\n",
        "\r\n",
        "#Considering season of 1 hours here\r\n",
        "\r\n",
        "forecast1=tes(demand,1,alpha1,beta1,gamma1,0)\r\n",
        "forecast2=tes(demand,1,alpha2,beta2,gamma2,0)\r\n",
        "forecast3=tes(demand,1,alpha3,beta3,gamma3,0)"
      ],
      "execution_count": null,
      "outputs": []
    },
    {
      "cell_type": "code",
      "metadata": {
        "colab": {
          "base_uri": "https://localhost:8080/"
        },
        "id": "7OSsYF0UtIcv",
        "outputId": "4f073c9d-8529-4068-c631-c0333328a62f"
      },
      "source": [
        "#Calculating mean of sqaured errors\r\n",
        "mse1=mean_squared_error(demand,forecast1)\r\n",
        "mse2=mean_squared_error(demand,forecast2)\r\n",
        "mse3=mean_squared_error(demand,forecast3)\r\n",
        "\r\n",
        "print(\"Mean of Square Errors for alpha = 0.2,beta= 0.3 gamma=0.4 is: \",mse1)\r\n",
        "print(\"Mean of Square Errors for alpha = 0.5,beta= 0.6 gamma=0.7 is: \",mse2)\r\n",
        "print(\"Mean of Square Errors for alpha = 0.8,beta= 0.9 gamma=0.95 is: \",mse3)"
      ],
      "execution_count": null,
      "outputs": [
        {
          "output_type": "stream",
          "text": [
            "Mean of Square Errors for alpha = 0.2,beta= 0.3 gamma=0.4 is:  40.92701807206647\n",
            "Mean of Square Errors for alpha = 0.5,beta= 0.6 gamma=0.7 is:  21.350809413671804\n",
            "Mean of Square Errors for alpha = 0.8,beta= 0.9 gamma=0.95 is:  70.76855113847974\n"
          ],
          "name": "stdout"
        }
      ]
    },
    {
      "cell_type": "code",
      "metadata": {
        "colab": {
          "base_uri": "https://localhost:8080/"
        },
        "id": "KzvjLHmo0cNG",
        "outputId": "341ed589-8027-4da5-fca0-bdf36c313341"
      },
      "source": [
        "#Calculating Mean Absolute Errors\r\n",
        "mae1=mean_absolute_error(demand,forecast1)\r\n",
        "mae2=mean_absolute_error(demand,forecast2)\r\n",
        "mae3=mean_absolute_error(demand,forecast3)\r\n",
        "\r\n",
        "print(\"Mean Absolute Errors for alpha = 0.2,beta= 0.3, gamma=0.4 is: \",mae1)\r\n",
        "print(\"Mean Absolute Errors for alpha = 0.5,beta= 0.6, gamma=0.7 is: \",mae2)\r\n",
        "print(\"Mean Absolute Errors for alpha = 0.8,beta= 0.9, gamma=0.95 is: \",mae3)"
      ],
      "execution_count": null,
      "outputs": [
        {
          "output_type": "stream",
          "text": [
            "Mean Absolute Errors for alpha = 0.2,beta= 0.3, gamma=0.4 is:  2.1853413729779603\n",
            "Mean Absolute Errors for alpha = 0.5,beta= 0.6, gamma=0.7 is:  1.5846934379909212\n",
            "Mean Absolute Errors for alpha = 0.8,beta= 0.9, gamma=0.95 is:  2.5783465554224296\n"
          ],
          "name": "stdout"
        }
      ]
    },
    {
      "cell_type": "code",
      "metadata": {
        "colab": {
          "base_uri": "https://localhost:8080/",
          "height": 317
        },
        "id": "g0MsbZYdtIcv",
        "outputId": "e4bdacb2-6531-4684-f4c4-fb66786ceed1"
      },
      "source": [
        "#Comparing mse and plotting for least mse\r\n",
        "d1={'Demand':demand,'Forecast':forecast1}\r\n",
        "d2={'Demand':demand,'Forecast':forecast2}\r\n",
        "d3={'Demand':demand,'Forecast':forecast3}\r\n",
        "\r\n",
        "df1=pd.DataFrame(d1)\r\n",
        "df2=pd.DataFrame(d2)\r\n",
        "df3=pd.DataFrame(d3)\r\n",
        "\r\n",
        "if mse1<=mse2 and mse1<=mse3:\r\n",
        "  print('alpha: ',alpha1)\r\n",
        "  print('beta: ',beta1)\r\n",
        "  print('gamma: ',gamma1)\r\n",
        "  df1.plot(style=['-','-'])\r\n",
        "  msetes.append(mse1)\r\n",
        "elif mse2<=mse1 and mse2<=mse3:\r\n",
        "  print('alpha: ',alpha2)\r\n",
        "  print('beta: ',beta2)\r\n",
        "  print('gamma: ',gamma2)\r\n",
        "  df2.plot(style=['-','-'])\r\n",
        "  msetes.append(mse2) \r\n",
        "else:\r\n",
        "  print('alpha: ',alpha3)\r\n",
        "  print('beta: ',beta3)\r\n",
        "  print('gamma: ',gamma3)\r\n",
        "  df3.plot(style=['-','-'])\r\n",
        "  msetes.append(mse3)"
      ],
      "execution_count": null,
      "outputs": [
        {
          "output_type": "stream",
          "text": [
            "alpha:  0.5\n",
            "beta:  0.6\n",
            "gamma:  0.7\n"
          ],
          "name": "stdout"
        },
        {
          "output_type": "display_data",
          "data": {
            "image/png": "[encoded data removed]",
            "text/plain": [
              "<Figure size 432x288 with 1 Axes>"
            ]
          },
          "metadata": {
            "tags": [],
            "needs_background": "light"
          }
        }
      ]
    },
    {
      "cell_type": "code",
      "metadata": {
        "id": "N2H4H6ySBLYY"
      },
      "source": [
        "#Storing least mae values\r\n",
        "if mae1<=mae2 and mae1<=mae3:\r\n",
        "  maetes.append(mae1)\r\n",
        "elif mae2<=mae1 and mae2<=mae3:\r\n",
        "  maetes.append(mae2)\r\n",
        "else:\r\n",
        "  maetes.append(mae3)"
      ],
      "execution_count": null,
      "outputs": []
    },
    {
      "cell_type": "markdown",
      "metadata": {
        "id": "KQk9eTastT0-"
      },
      "source": [
        "For 8 Unit"
      ]
    },
    {
      "cell_type": "markdown",
      "metadata": {
        "id": "bvcPsWB8tVcU"
      },
      "source": [
        "**Single Exponential Smoothing**"
      ]
    },
    {
      "cell_type": "code",
      "metadata": {
        "id": "esm4j1AAtVcV"
      },
      "source": [
        "#Creating demand list in 'n' intervals\r\n",
        "demand=dem_n(data.yahoo304_96_8_14,8)"
      ],
      "execution_count": null,
      "outputs": []
    },
    {
      "cell_type": "code",
      "metadata": {
        "id": "NV5S-103tVcV"
      },
      "source": [
        "#Forecasting\r\n",
        "alpha1=0.2\r\n",
        "alpha2=0.5\r\n",
        "alpha3=0.8\r\n",
        "\r\n",
        "forecast1=ses(demand,alpha1)\r\n",
        "forecast2=ses(demand,alpha2)\r\n",
        "forecast3=ses(demand,alpha3)"
      ],
      "execution_count": null,
      "outputs": []
    },
    {
      "cell_type": "code",
      "metadata": {
        "colab": {
          "base_uri": "https://localhost:8080/"
        },
        "id": "owZb8iEytVcV",
        "outputId": "b022668e-0621-49e5-9ba9-e14e50a176ab"
      },
      "source": [
        "#Calculating Mean of Square Errors\r\n",
        "mse1=mean_squared_error(demand,forecast1)\r\n",
        "mse2=mean_squared_error(demand,forecast2)\r\n",
        "mse3=mean_squared_error(demand,forecast3)\r\n",
        "\r\n",
        "print(\"Mean of Square Errors for alpha = 0.2 is: \",mse1)\r\n",
        "print(\"Mean of Square Errors for alpha = 0.5 is: \",mse2)\r\n",
        "print(\"Mean of Square Errors for alpha = 0.8 is: \",mse3)"
      ],
      "execution_count": null,
      "outputs": [
        {
          "output_type": "stream",
          "text": [
            "Mean of Square Errors for alpha = 0.2 is:  595.4377000575759\n",
            "Mean of Square Errors for alpha = 0.5 is:  354.46155227597797\n",
            "Mean of Square Errors for alpha = 0.8 is:  284.3567740733148\n"
          ],
          "name": "stdout"
        }
      ]
    },
    {
      "cell_type": "code",
      "metadata": {
        "colab": {
          "base_uri": "https://localhost:8080/",
          "height": 283
        },
        "id": "LD9BFqOLtVcV",
        "outputId": "ac11a56a-134a-4efc-ce01-1cf65c3114f9"
      },
      "source": [
        "#Comparing mse and plotting for least mse\r\n",
        "d1={'Demand':demand,'Forecast':forecast1}\r\n",
        "d2={'Demand':demand,'Forecast':forecast2}\r\n",
        "d3={'Demand':demand,'Forecast':forecast3}\r\n",
        "\r\n",
        "df1=pd.DataFrame(d1)\r\n",
        "df2=pd.DataFrame(d2)\r\n",
        "df3=pd.DataFrame(d3)\r\n",
        "\r\n",
        "if mse1<=mse2 and mse1<=mse3:\r\n",
        "  print('alpha: ',alpha1)\r\n",
        "  df1.plot(style=['-','-'])\r\n",
        "  mseses.append(mse1)\r\n",
        "elif mse2<=mse1 and mse2<=mse3:\r\n",
        "  print('alpha: ',alpha2)\r\n",
        "  df2.plot(style=['-','-'])\r\n",
        "  mseses.append(mse2) \r\n",
        "else:\r\n",
        "  print('alpha: ',alpha3)\r\n",
        "  df3.plot(style=['-','-'])\r\n",
        "  mseses.append(mse3)"
      ],
      "execution_count": null,
      "outputs": [
        {
          "output_type": "stream",
          "text": [
            "alpha:  0.8\n"
          ],
          "name": "stdout"
        },
        {
          "output_type": "display_data",
          "data": {
            "image/png": "[encoded data removed]",
            "text/plain": [
              "<Figure size 432x288 with 1 Axes>"
            ]
          },
          "metadata": {
            "tags": [],
            "needs_background": "light"
          }
        }
      ]
    },
    {
      "cell_type": "code",
      "metadata": {
        "id": "JN0WoFSc_8Sv"
      },
      "source": [
        "#Storing least mae values\r\n",
        "if mae1<=mae2 and mae1<=mae3:\r\n",
        "  maeses.append(mae1)\r\n",
        "elif mae2<=mae1 and mae2<=mae3:\r\n",
        "  maeses.append(mae2)\r\n",
        "else:\r\n",
        "  maeses.append(mae3)"
      ],
      "execution_count": null,
      "outputs": []
    },
    {
      "cell_type": "markdown",
      "metadata": {
        "id": "Pv5jNbzEtVcW"
      },
      "source": [
        "**Double Exponential Smoothing**"
      ]
    },
    {
      "cell_type": "code",
      "metadata": {
        "id": "Ai4nYjGptVcW"
      },
      "source": [
        "#Creating demand list in 'n' intervals\r\n",
        "demand=dem_n(data.yahoo304_96_8_14,8)"
      ],
      "execution_count": null,
      "outputs": []
    },
    {
      "cell_type": "code",
      "metadata": {
        "id": "EkiZfgivtVcW"
      },
      "source": [
        "#Forecasting\r\n",
        "alpha1=0.2\r\n",
        "alpha2=0.5\r\n",
        "alpha3=0.8\r\n",
        "\r\n",
        "beta1=0.3\r\n",
        "beta2=0.6\r\n",
        "beta3=0.9\r\n",
        "\r\n",
        "forecast1=des(demand,alpha1,beta1)\r\n",
        "forecast2=des(demand,alpha2,beta2)\r\n",
        "forecast3=des(demand,alpha3,beta3)"
      ],
      "execution_count": null,
      "outputs": []
    },
    {
      "cell_type": "code",
      "metadata": {
        "colab": {
          "base_uri": "https://localhost:8080/"
        },
        "id": "m0utaS3gtVcW",
        "outputId": "0a7255de-1fea-48c2-8a34-f9da391a204c"
      },
      "source": [
        "#Calculating Mean of Square Errors\r\n",
        "mse1=mean_squared_error(demand,forecast1)\r\n",
        "mse2=mean_squared_error(demand,forecast2)\r\n",
        "mse3=mean_squared_error(demand,forecast3)\r\n",
        "\r\n",
        "print(\"Mean of Square Errors for alpha = 0.2,beta= 0.3 is: \",mse1)\r\n",
        "print(\"Mean of Square Errors for alpha = 0.5,beta= 0.6 is: \",mse2)\r\n",
        "print(\"Mean of Square Errors for alpha = 0.8,beta= 0.9 is: \",mse3)"
      ],
      "execution_count": null,
      "outputs": [
        {
          "output_type": "stream",
          "text": [
            "Mean of Square Errors for alpha = 0.2,beta= 0.3 is:  861.5601415083182\n",
            "Mean of Square Errors for alpha = 0.5,beta= 0.6 is:  443.02309370147407\n",
            "Mean of Square Errors for alpha = 0.8,beta= 0.9 is:  401.47865143128286\n"
          ],
          "name": "stdout"
        }
      ]
    },
    {
      "cell_type": "code",
      "metadata": {
        "colab": {
          "base_uri": "https://localhost:8080/",
          "height": 300
        },
        "id": "AyUXsQuVtVcW",
        "outputId": "616e5681-6466-4d65-b53a-1b877764e231"
      },
      "source": [
        "#Comparing mse and plotting for least mse\r\n",
        "d1={'Demand':demand,'Forecast':forecast1}\r\n",
        "d2={'Demand':demand,'Forecast':forecast2}\r\n",
        "d3={'Demand':demand,'Forecast':forecast3}\r\n",
        "\r\n",
        "df1=pd.DataFrame(d1)\r\n",
        "df2=pd.DataFrame(d2)\r\n",
        "df3=pd.DataFrame(d3)\r\n",
        "\r\n",
        "if mse1<=mse2 and mse1<=mse3:\r\n",
        "  print('alpha: ',alpha1)\r\n",
        "  print('beta: ',beta1)\r\n",
        "  df1.plot(style=['-','-'])\r\n",
        "  msedes.append(mse1)\r\n",
        "elif mse2<=mse1 and mse2<=mse3:\r\n",
        "  print('alpha: ',alpha2)\r\n",
        "  print('beta: ',beta2)\r\n",
        "  df2.plot(style=['-','-'])\r\n",
        "  msedes.append(mse2) \r\n",
        "else:\r\n",
        "  print('alpha: ',alpha3)\r\n",
        "  print('beta: ',beta3)\r\n",
        "  df3.plot(style=['-','-'])\r\n",
        "  msedes.append(mse3)"
      ],
      "execution_count": null,
      "outputs": [
        {
          "output_type": "stream",
          "text": [
            "alpha:  0.8\n",
            "beta:  0.9\n"
          ],
          "name": "stdout"
        },
        {
          "output_type": "display_data",
          "data": {
            "image/png": "[encoded data removed]",
            "text/plain": [
              "<Figure size 432x288 with 1 Axes>"
            ]
          },
          "metadata": {
            "tags": [],
            "needs_background": "light"
          }
        }
      ]
    },
    {
      "cell_type": "code",
      "metadata": {
        "id": "owitqjLgAjac"
      },
      "source": [
        "#Storing least mae values\r\n",
        "if mae1<=mae2 and mae1<=mae3:\r\n",
        "  maedes.append(mae1)\r\n",
        "elif mae2<=mae1 and mae2<=mae3:\r\n",
        "  maedes.append(mae2)\r\n",
        "else:\r\n",
        "  maedes.append(mae3)"
      ],
      "execution_count": null,
      "outputs": []
    },
    {
      "cell_type": "markdown",
      "metadata": {
        "id": "mZGxDOErtVcW"
      },
      "source": [
        "**Triple Exponential Smoothing**"
      ]
    },
    {
      "cell_type": "code",
      "metadata": {
        "id": "VBRh-RuvtVcX"
      },
      "source": [
        "#Creating demand list in 'n' intervals\r\n",
        "demand=dem_n(data.yahoo304_96_8_14,8)"
      ],
      "execution_count": null,
      "outputs": []
    },
    {
      "cell_type": "code",
      "metadata": {
        "id": "RCEJle0FtVcX"
      },
      "source": [
        "#Forecasting\r\n",
        "alpha1=0.2\r\n",
        "alpha2=0.5\r\n",
        "alpha3=0.8\r\n",
        "\r\n",
        "beta1=0.3\r\n",
        "beta2=0.6\r\n",
        "beta3=0.9\r\n",
        "\r\n",
        "gamma1=0.4\r\n",
        "gamma2=0.7\r\n",
        "gamma3=0.95\r\n",
        "\r\n",
        "#Considering season of 1 hours here\r\n",
        "\r\n",
        "forecast1=tes(demand,1,alpha1,beta1,gamma1,0)\r\n",
        "forecast2=tes(demand,1,alpha2,beta2,gamma2,0)\r\n",
        "forecast3=tes(demand,1,alpha3,beta3,gamma3,0)"
      ],
      "execution_count": null,
      "outputs": []
    },
    {
      "cell_type": "code",
      "metadata": {
        "colab": {
          "base_uri": "https://localhost:8080/"
        },
        "id": "-FYQo9G8tVcX",
        "outputId": "2dc6a2f9-4508-4f81-df63-29a36f796cad"
      },
      "source": [
        "#Calculating mean of sqaured errors\r\n",
        "mse1=mean_squared_error(demand,forecast1)\r\n",
        "mse2=mean_squared_error(demand,forecast2)\r\n",
        "mse3=mean_squared_error(demand,forecast3)\r\n",
        "\r\n",
        "print(\"Mean of Square Errors for alpha = 0.2,beta= 0.3 gamma=0.4 is: \",mse1)\r\n",
        "print(\"Mean of Square Errors for alpha = 0.5,beta= 0.6 gamma=0.7 is: \",mse2)\r\n",
        "print(\"Mean of Square Errors for alpha = 0.8,beta= 0.9 gamma=0.95 is: \",mse3)"
      ],
      "execution_count": null,
      "outputs": [
        {
          "output_type": "stream",
          "text": [
            "Mean of Square Errors for alpha = 0.2,beta= 0.3 gamma=0.4 is:  86.62536866355454\n",
            "Mean of Square Errors for alpha = 0.5,beta= 0.6 gamma=0.7 is:  43.77633888809179\n",
            "Mean of Square Errors for alpha = 0.8,beta= 0.9 gamma=0.95 is:  150.47577578775852\n"
          ],
          "name": "stdout"
        }
      ]
    },
    {
      "cell_type": "code",
      "metadata": {
        "colab": {
          "base_uri": "https://localhost:8080/"
        },
        "id": "g4PLBg1O0g89",
        "outputId": "27a3cd56-9b25-4fdd-d9f8-a33e42f4a9f5"
      },
      "source": [
        "#Calculating Mean Absolute Errors\r\n",
        "mae1=mean_absolute_error(demand,forecast1)\r\n",
        "mae2=mean_absolute_error(demand,forecast2)\r\n",
        "mae3=mean_absolute_error(demand,forecast3)\r\n",
        "\r\n",
        "print(\"Mean Absolute Errors for alpha = 0.2,beta= 0.3, gamma=0.4 is: \",mae1)\r\n",
        "print(\"Mean Absolute Errors for alpha = 0.5,beta= 0.6, gamma=0.7 is: \",mae2)\r\n",
        "print(\"Mean Absolute Errors for alpha = 0.8,beta= 0.9, gamma=0.95 is: \",mae3)"
      ],
      "execution_count": null,
      "outputs": [
        {
          "output_type": "stream",
          "text": [
            "Mean Absolute Errors for alpha = 0.2,beta= 0.3, gamma=0.4 is:  3.1931530914015007\n",
            "Mean Absolute Errors for alpha = 0.5,beta= 0.6, gamma=0.7 is:  2.444632845486679\n",
            "Mean Absolute Errors for alpha = 0.8,beta= 0.9, gamma=0.95 is:  3.8543419881386067\n"
          ],
          "name": "stdout"
        }
      ]
    },
    {
      "cell_type": "code",
      "metadata": {
        "colab": {
          "base_uri": "https://localhost:8080/",
          "height": 317
        },
        "id": "xMYxN8ontVcX",
        "outputId": "7ad85d75-1ac3-4e4e-cc34-44478b28ff42"
      },
      "source": [
        "#Comparing mse and plotting for least mse\r\n",
        "d1={'Demand':demand,'Forecast':forecast1}\r\n",
        "d2={'Demand':demand,'Forecast':forecast2}\r\n",
        "d3={'Demand':demand,'Forecast':forecast3}\r\n",
        "\r\n",
        "df1=pd.DataFrame(d1)\r\n",
        "df2=pd.DataFrame(d2)\r\n",
        "df3=pd.DataFrame(d3)\r\n",
        "\r\n",
        "if mse1<=mse2 and mse1<=mse3:\r\n",
        "  print('alpha: ',alpha1)\r\n",
        "  print('beta: ',beta1)\r\n",
        "  print('gamma: ',gamma1)\r\n",
        "  df1.plot(style=['-','-'])\r\n",
        "  msetes.append(mse1)\r\n",
        "elif mse2<=mse1 and mse2<=mse3:\r\n",
        "  print('alpha: ',alpha2)\r\n",
        "  print('beta: ',beta2)\r\n",
        "  print('gamma: ',gamma2)\r\n",
        "  df2.plot(style=['-','-'])\r\n",
        "  msetes.append(mse2) \r\n",
        "else:\r\n",
        "  print('alpha: ',alpha3)\r\n",
        "  print('beta: ',beta3)\r\n",
        "  print('gamma: ',gamma3)\r\n",
        "  df3.plot(style=['-','-'])\r\n",
        "  msetes.append(mse3)"
      ],
      "execution_count": null,
      "outputs": [
        {
          "output_type": "stream",
          "text": [
            "alpha:  0.5\n",
            "beta:  0.6\n",
            "gamma:  0.7\n"
          ],
          "name": "stdout"
        },
        {
          "output_type": "display_data",
          "data": {
            "image/png": "[encoded data removed]",
            "text/plain": [
              "<Figure size 432x288 with 1 Axes>"
            ]
          },
          "metadata": {
            "tags": [],
            "needs_background": "light"
          }
        }
      ]
    },
    {
      "cell_type": "code",
      "metadata": {
        "id": "93UTRGCmBNa4"
      },
      "source": [
        "#Storing least mae values\r\n",
        "if mae1<=mae2 and mae1<=mae3:\r\n",
        "  maetes.append(mae1)\r\n",
        "elif mae2<=mae1 and mae2<=mae3:\r\n",
        "  maetes.append(mae2)\r\n",
        "else:\r\n",
        "  maetes.append(mae3)"
      ],
      "execution_count": null,
      "outputs": []
    },
    {
      "cell_type": "markdown",
      "metadata": {
        "id": "q7OmQqzauurd"
      },
      "source": [
        "For 12 Unit"
      ]
    },
    {
      "cell_type": "markdown",
      "metadata": {
        "id": "QEa-lF5zu8NW"
      },
      "source": [
        "**Single Exponential Smoothing**"
      ]
    },
    {
      "cell_type": "code",
      "metadata": {
        "id": "GQK3IcDHu8Nd"
      },
      "source": [
        "#Creating demand list in 'n' intervals\r\n",
        "demand=dem_n(data.yahoo304_96_8_14,12)"
      ],
      "execution_count": null,
      "outputs": []
    },
    {
      "cell_type": "code",
      "metadata": {
        "id": "ebhEht9Nu8Nd"
      },
      "source": [
        "#Forecasting\r\n",
        "alpha1=0.2\r\n",
        "alpha2=0.5\r\n",
        "alpha3=0.8\r\n",
        "\r\n",
        "forecast1=ses(demand,alpha1)\r\n",
        "forecast2=ses(demand,alpha2)\r\n",
        "forecast3=ses(demand,alpha3)"
      ],
      "execution_count": null,
      "outputs": []
    },
    {
      "cell_type": "code",
      "metadata": {
        "colab": {
          "base_uri": "https://localhost:8080/"
        },
        "id": "c4hbMx8ru8Ne",
        "outputId": "4aa48217-ebf3-467d-d7af-28330ef8094d"
      },
      "source": [
        "#Calculating Mean of Square Errors\r\n",
        "mse1=mean_squared_error(demand,forecast1)\r\n",
        "mse2=mean_squared_error(demand,forecast2)\r\n",
        "mse3=mean_squared_error(demand,forecast3)\r\n",
        "\r\n",
        "print(\"Mean of Square Errors for alpha = 0.2 is: \",mse1)\r\n",
        "print(\"Mean of Square Errors for alpha = 0.5 is: \",mse2)\r\n",
        "print(\"Mean of Square Errors for alpha = 0.8 is: \",mse3)"
      ],
      "execution_count": null,
      "outputs": [
        {
          "output_type": "stream",
          "text": [
            "Mean of Square Errors for alpha = 0.2 is:  695.2913065175823\n",
            "Mean of Square Errors for alpha = 0.5 is:  434.09441905658844\n",
            "Mean of Square Errors for alpha = 0.8 is:  347.86041803251385\n"
          ],
          "name": "stdout"
        }
      ]
    },
    {
      "cell_type": "code",
      "metadata": {
        "colab": {
          "base_uri": "https://localhost:8080/",
          "height": 283
        },
        "id": "vxlv2WWAu8Ne",
        "outputId": "8f1ab0a7-3b95-4dee-9957-3fd8df6cc510"
      },
      "source": [
        "#Comparing mse and plotting for least mse\r\n",
        "d1={'Demand':demand,'Forecast':forecast1}\r\n",
        "d2={'Demand':demand,'Forecast':forecast2}\r\n",
        "d3={'Demand':demand,'Forecast':forecast3}\r\n",
        "\r\n",
        "df1=pd.DataFrame(d1)\r\n",
        "df2=pd.DataFrame(d2)\r\n",
        "df3=pd.DataFrame(d3)\r\n",
        "\r\n",
        "if mse1<=mse2 and mse1<=mse3:\r\n",
        "  print('alpha: ',alpha1)\r\n",
        "  df1.plot(style=['-','-'])\r\n",
        "  mseses.append(mse1)\r\n",
        "elif mse2<=mse1 and mse2<=mse3:\r\n",
        "  print('alpha: ',alpha2)\r\n",
        "  df2.plot(style=['-','-'])\r\n",
        "  mseses.append(mse2) \r\n",
        "else:\r\n",
        "  print('alpha: ',alpha3)\r\n",
        "  df3.plot(style=['-','-'])\r\n",
        "  mseses.append(mse3)"
      ],
      "execution_count": null,
      "outputs": [
        {
          "output_type": "stream",
          "text": [
            "alpha:  0.8\n"
          ],
          "name": "stdout"
        },
        {
          "output_type": "display_data",
          "data": {
            "image/png": "[encoded data removed]",
            "text/plain": [
              "<Figure size 432x288 with 1 Axes>"
            ]
          },
          "metadata": {
            "tags": [],
            "needs_background": "light"
          }
        }
      ]
    },
    {
      "cell_type": "code",
      "metadata": {
        "id": "77YA0ZWiAAxR"
      },
      "source": [
        "#Storing least mae values\r\n",
        "if mae1<=mae2 and mae1<=mae3:\r\n",
        "  maeses.append(mae1)\r\n",
        "elif mae2<=mae1 and mae2<=mae3:\r\n",
        "  maeses.append(mae2)\r\n",
        "else:\r\n",
        "  maeses.append(mae3)"
      ],
      "execution_count": null,
      "outputs": []
    },
    {
      "cell_type": "markdown",
      "metadata": {
        "id": "zo43_S2Vu8Nf"
      },
      "source": [
        "**Double Exponential Smoothing**"
      ]
    },
    {
      "cell_type": "code",
      "metadata": {
        "id": "r8_nvH-xu8Nf"
      },
      "source": [
        "#Creating demand list in 'n' intervals\r\n",
        "demand=dem_n(data.yahoo304_96_8_14,12)"
      ],
      "execution_count": null,
      "outputs": []
    },
    {
      "cell_type": "code",
      "metadata": {
        "id": "-AJIXLTNu8Nf"
      },
      "source": [
        "#Forecasting\r\n",
        "alpha1=0.2\r\n",
        "alpha2=0.5\r\n",
        "alpha3=0.8\r\n",
        "\r\n",
        "beta1=0.3\r\n",
        "beta2=0.6\r\n",
        "beta3=0.9\r\n",
        "\r\n",
        "forecast1=des(demand,alpha1,beta1)\r\n",
        "forecast2=des(demand,alpha2,beta2)\r\n",
        "forecast3=des(demand,alpha3,beta3)"
      ],
      "execution_count": null,
      "outputs": []
    },
    {
      "cell_type": "code",
      "metadata": {
        "colab": {
          "base_uri": "https://localhost:8080/"
        },
        "id": "69GI49dUu8Nf",
        "outputId": "c0211913-3dca-4b75-dcad-7b0cc3d36938"
      },
      "source": [
        "#Calculating Mean of Square Errors\r\n",
        "mse1=mean_squared_error(demand,forecast1)\r\n",
        "mse2=mean_squared_error(demand,forecast2)\r\n",
        "mse3=mean_squared_error(demand,forecast3)\r\n",
        "\r\n",
        "print(\"Mean of Square Errors for alpha = 0.2,beta= 0.3 is: \",mse1)\r\n",
        "print(\"Mean of Square Errors for alpha = 0.5,beta= 0.6 is: \",mse2)\r\n",
        "print(\"Mean of Square Errors for alpha = 0.8,beta= 0.9 is: \",mse3)"
      ],
      "execution_count": null,
      "outputs": [
        {
          "output_type": "stream",
          "text": [
            "Mean of Square Errors for alpha = 0.2,beta= 0.3 is:  917.0415874290327\n",
            "Mean of Square Errors for alpha = 0.5,beta= 0.6 is:  576.8322453010067\n",
            "Mean of Square Errors for alpha = 0.8,beta= 0.9 is:  490.8480707638323\n"
          ],
          "name": "stdout"
        }
      ]
    },
    {
      "cell_type": "code",
      "metadata": {
        "colab": {
          "base_uri": "https://localhost:8080/",
          "height": 300
        },
        "id": "xKu9lmyIu8Nf",
        "outputId": "67a839df-2136-4ad9-cb63-765391690d2c"
      },
      "source": [
        "#Comparing mse and plotting for least mse\r\n",
        "d1={'Demand':demand,'Forecast':forecast1}\r\n",
        "d2={'Demand':demand,'Forecast':forecast2}\r\n",
        "d3={'Demand':demand,'Forecast':forecast3}\r\n",
        "\r\n",
        "df1=pd.DataFrame(d1)\r\n",
        "df2=pd.DataFrame(d2)\r\n",
        "df3=pd.DataFrame(d3)\r\n",
        "\r\n",
        "if mse1<=mse2 and mse1<=mse3:\r\n",
        "  print('alpha: ',alpha1)\r\n",
        "  print('beta: ',beta1)\r\n",
        "  df1.plot(style=['-','-'])\r\n",
        "  msedes.append(mse1)\r\n",
        "elif mse2<=mse1 and mse2<=mse3:\r\n",
        "  print('alpha: ',alpha2)\r\n",
        "  print('beta: ',beta2)\r\n",
        "  df2.plot(style=['-','-'])\r\n",
        "  msedes.append(mse2) \r\n",
        "else:\r\n",
        "  print('alpha: ',alpha3)\r\n",
        "  print('beta: ',beta3)\r\n",
        "  df3.plot(style=['-','-'])\r\n",
        "  msedes.append(mse3)"
      ],
      "execution_count": null,
      "outputs": [
        {
          "output_type": "stream",
          "text": [
            "alpha:  0.8\n",
            "beta:  0.9\n"
          ],
          "name": "stdout"
        },
        {
          "output_type": "display_data",
          "data": {
            "image/png": "[encoded data removed]",
            "text/plain": [
              "<Figure size 432x288 with 1 Axes>"
            ]
          },
          "metadata": {
            "tags": [],
            "needs_background": "light"
          }
        }
      ]
    },
    {
      "cell_type": "code",
      "metadata": {
        "id": "9xpG5aITArOg"
      },
      "source": [
        "#Storing least mae values\r\n",
        "if mae1<=mae2 and mae1<=mae3:\r\n",
        "  maedes.append(mae1)\r\n",
        "elif mae2<=mae1 and mae2<=mae3:\r\n",
        "  maedes.append(mae2)\r\n",
        "else:\r\n",
        "  maedes.append(mae3)"
      ],
      "execution_count": null,
      "outputs": []
    },
    {
      "cell_type": "markdown",
      "metadata": {
        "id": "hOEPiaOPu8Ng"
      },
      "source": [
        "**Triple Exponential Smoothing**"
      ]
    },
    {
      "cell_type": "code",
      "metadata": {
        "id": "G2V8tcbhu8Ng"
      },
      "source": [
        "#Creating demand list in 'n' intervals\r\n",
        "demand=dem_n(data.yahoo304_96_8_14,12)"
      ],
      "execution_count": null,
      "outputs": []
    },
    {
      "cell_type": "code",
      "metadata": {
        "id": "pvCtCAqtu8Ng"
      },
      "source": [
        "#Forecasting\r\n",
        "alpha1=0.2\r\n",
        "alpha2=0.5\r\n",
        "alpha3=0.8\r\n",
        "\r\n",
        "beta1=0.3\r\n",
        "beta2=0.6\r\n",
        "beta3=0.9\r\n",
        "\r\n",
        "gamma1=0.4\r\n",
        "gamma2=0.7\r\n",
        "gamma3=0.95\r\n",
        "\r\n",
        "#Considering season of 1 hours here\r\n",
        "\r\n",
        "forecast1=tes(demand,1,alpha1,beta1,gamma1,0)\r\n",
        "forecast2=tes(demand,1,alpha2,beta2,gamma2,0)\r\n",
        "forecast3=tes(demand,1,alpha3,beta3,gamma3,0)"
      ],
      "execution_count": null,
      "outputs": []
    },
    {
      "cell_type": "code",
      "metadata": {
        "colab": {
          "base_uri": "https://localhost:8080/"
        },
        "id": "5-UaoCVlu8Ng",
        "outputId": "57d670d1-9067-4f90-af93-d94f4895dd6b"
      },
      "source": [
        "#Calculating mean of sqaured errors\r\n",
        "mse1=mean_squared_error(demand,forecast1)\r\n",
        "mse2=mean_squared_error(demand,forecast2)\r\n",
        "mse3=mean_squared_error(demand,forecast3)\r\n",
        "\r\n",
        "print(\"Mean of Square Errors for alpha = 0.2,beta= 0.3 gamma=0.4 is: \",mse1)\r\n",
        "print(\"Mean of Square Errors for alpha = 0.5,beta= 0.6 gamma=0.7 is: \",mse2)\r\n",
        "print(\"Mean of Square Errors for alpha = 0.8,beta= 0.9 gamma=0.95 is: \",mse3)"
      ],
      "execution_count": null,
      "outputs": [
        {
          "output_type": "stream",
          "text": [
            "Mean of Square Errors for alpha = 0.2,beta= 0.3 gamma=0.4 is:  105.68945928872901\n",
            "Mean of Square Errors for alpha = 0.5,beta= 0.6 gamma=0.7 is:  52.452436971990124\n",
            "Mean of Square Errors for alpha = 0.8,beta= 0.9 gamma=0.95 is:  185.33925379432878\n"
          ],
          "name": "stdout"
        }
      ]
    },
    {
      "cell_type": "code",
      "metadata": {
        "colab": {
          "base_uri": "https://localhost:8080/"
        },
        "id": "ASg4ZN9O0jwF",
        "outputId": "0ac31f73-5aaa-4c2c-ec36-d179fc3cd6ae"
      },
      "source": [
        "#Calculating Mean Absolute Errors\r\n",
        "mae1=mean_absolute_error(demand,forecast1)\r\n",
        "mae2=mean_absolute_error(demand,forecast2)\r\n",
        "mae3=mean_absolute_error(demand,forecast3)\r\n",
        "\r\n",
        "print(\"Mean Absolute Errors for alpha = 0.2,beta= 0.3, gamma=0.4 is: \",mae1)\r\n",
        "print(\"Mean Absolute Errors for alpha = 0.5,beta= 0.6, gamma=0.7 is: \",mae2)\r\n",
        "print(\"Mean Absolute Errors for alpha = 0.8,beta= 0.9, gamma=0.95 is: \",mae3)"
      ],
      "execution_count": null,
      "outputs": [
        {
          "output_type": "stream",
          "text": [
            "Mean Absolute Errors for alpha = 0.2,beta= 0.3, gamma=0.4 is:  3.718815282718495\n",
            "Mean Absolute Errors for alpha = 0.5,beta= 0.6, gamma=0.7 is:  2.7884595336623166\n",
            "Mean Absolute Errors for alpha = 0.8,beta= 0.9, gamma=0.95 is:  4.5485157158957294\n"
          ],
          "name": "stdout"
        }
      ]
    },
    {
      "cell_type": "code",
      "metadata": {
        "colab": {
          "base_uri": "https://localhost:8080/",
          "height": 317
        },
        "id": "TDEBI-tPu8Ng",
        "outputId": "bbba139b-3687-4ff6-cbcc-67a80cabe316"
      },
      "source": [
        "#Comparing mse and plotting for least mse\r\n",
        "d1={'Demand':demand,'Forecast':forecast1}\r\n",
        "d2={'Demand':demand,'Forecast':forecast2}\r\n",
        "d3={'Demand':demand,'Forecast':forecast3}\r\n",
        "\r\n",
        "df1=pd.DataFrame(d1)\r\n",
        "df2=pd.DataFrame(d2)\r\n",
        "df3=pd.DataFrame(d3)\r\n",
        "\r\n",
        "if mse1<=mse2 and mse1<=mse3:\r\n",
        "  print('alpha: ',alpha1)\r\n",
        "  print('beta: ',beta1)\r\n",
        "  print('gamma: ',gamma1)\r\n",
        "  df1.plot(style=['-','-'])\r\n",
        "  msetes.append(mse1)\r\n",
        "elif mse2<=mse1 and mse2<=mse3:\r\n",
        "  print('alpha: ',alpha2)\r\n",
        "  print('beta: ',beta2)\r\n",
        "  print('gamma: ',gamma2)\r\n",
        "  df2.plot(style=['-','-'])\r\n",
        "  msetes.append(mse2) \r\n",
        "else:\r\n",
        "  print('alpha: ',alpha3)\r\n",
        "  print('beta: ',beta3)\r\n",
        "  print('gamma: ',gamma3)\r\n",
        "  df3.plot(style=['-','-'])\r\n",
        "  msetes.append(mse3)"
      ],
      "execution_count": null,
      "outputs": [
        {
          "output_type": "stream",
          "text": [
            "alpha:  0.5\n",
            "beta:  0.6\n",
            "gamma:  0.7\n"
          ],
          "name": "stdout"
        },
        {
          "output_type": "display_data",
          "data": {
            "image/png": "[encoded data removed]",
            "text/plain": [
              "<Figure size 432x288 with 1 Axes>"
            ]
          },
          "metadata": {
            "tags": [],
            "needs_background": "light"
          }
        }
      ]
    },
    {
      "cell_type": "code",
      "metadata": {
        "id": "FSHE07bcBPy8"
      },
      "source": [
        "#Storing least mae values\r\n",
        "if mae1<=mae2 and mae1<=mae3:\r\n",
        "  maetes.append(mae1)\r\n",
        "elif mae2<=mae1 and mae2<=mae3:\r\n",
        "  maetes.append(mae2)\r\n",
        "else:\r\n",
        "  maetes.append(mae3)"
      ],
      "execution_count": null,
      "outputs": []
    },
    {
      "cell_type": "markdown",
      "metadata": {
        "id": "f3-mzj0UwPjA"
      },
      "source": [
        "For 24 Interval"
      ]
    },
    {
      "cell_type": "markdown",
      "metadata": {
        "id": "GHru0XA6wRN4"
      },
      "source": [
        "**Single Exponential Smoothing**"
      ]
    },
    {
      "cell_type": "code",
      "metadata": {
        "id": "NNttI5vcwRN5"
      },
      "source": [
        "#Creating demand list in 'n' intervals\r\n",
        "demand=dem_n(data.yahoo304_96_8_14,24)"
      ],
      "execution_count": null,
      "outputs": []
    },
    {
      "cell_type": "code",
      "metadata": {
        "id": "tr8bHzD2wRN5"
      },
      "source": [
        "#Forecasting\r\n",
        "alpha1=0.2\r\n",
        "alpha2=0.5\r\n",
        "alpha3=0.8\r\n",
        "\r\n",
        "forecast1=ses(demand,alpha1)\r\n",
        "forecast2=ses(demand,alpha2)\r\n",
        "forecast3=ses(demand,alpha3)"
      ],
      "execution_count": null,
      "outputs": []
    },
    {
      "cell_type": "code",
      "metadata": {
        "colab": {
          "base_uri": "https://localhost:8080/"
        },
        "id": "WPw6NhYwwRN6",
        "outputId": "c25b8640-9baf-4df8-cc3e-9b48cf50fd28"
      },
      "source": [
        "#Calculating Mean of Square Errors\r\n",
        "mse1=mean_squared_error(demand,forecast1)\r\n",
        "mse2=mean_squared_error(demand,forecast2)\r\n",
        "mse3=mean_squared_error(demand,forecast3)\r\n",
        "\r\n",
        "print(\"Mean of Square Errors for alpha = 0.2 is: \",mse1)\r\n",
        "print(\"Mean of Square Errors for alpha = 0.5 is: \",mse2)\r\n",
        "print(\"Mean of Square Errors for alpha = 0.8 is: \",mse3)"
      ],
      "execution_count": null,
      "outputs": [
        {
          "output_type": "stream",
          "text": [
            "Mean of Square Errors for alpha = 0.2 is:  1307.5088358730952\n",
            "Mean of Square Errors for alpha = 0.5 is:  945.8271328960523\n",
            "Mean of Square Errors for alpha = 0.8 is:  849.7836364017458\n"
          ],
          "name": "stdout"
        }
      ]
    },
    {
      "cell_type": "code",
      "metadata": {
        "colab": {
          "base_uri": "https://localhost:8080/",
          "height": 283
        },
        "id": "910nhOQvwRN6",
        "outputId": "cccb544f-4243-498a-97c6-659c8da9062f"
      },
      "source": [
        "#Comparing mse and plotting for least mse\r\n",
        "d1={'Demand':demand,'Forecast':forecast1}\r\n",
        "d2={'Demand':demand,'Forecast':forecast2}\r\n",
        "d3={'Demand':demand,'Forecast':forecast3}\r\n",
        "\r\n",
        "df1=pd.DataFrame(d1)\r\n",
        "df2=pd.DataFrame(d2)\r\n",
        "df3=pd.DataFrame(d3)\r\n",
        "\r\n",
        "if mse1<=mse2 and mse1<=mse3:\r\n",
        "  print('alpha: ',alpha1)\r\n",
        "  df1.plot(style=['-','-'])\r\n",
        "  mseses.append(mse1)\r\n",
        "elif mse2<=mse1 and mse2<=mse3:\r\n",
        "  print('alpha: ',alpha2)\r\n",
        "  df2.plot(style=['-','-'])\r\n",
        "  mseses.append(mse2) \r\n",
        "else:\r\n",
        "  print('alpha: ',alpha3)\r\n",
        "  df3.plot(style=['-','-'])\r\n",
        "  mseses.append(mse3)"
      ],
      "execution_count": null,
      "outputs": [
        {
          "output_type": "stream",
          "text": [
            "alpha:  0.8\n"
          ],
          "name": "stdout"
        },
        {
          "output_type": "display_data",
          "data": {
            "image/png": "[encoded data removed]",
            "text/plain": [
              "<Figure size 432x288 with 1 Axes>"
            ]
          },
          "metadata": {
            "tags": [],
            "needs_background": "light"
          }
        }
      ]
    },
    {
      "cell_type": "code",
      "metadata": {
        "id": "k1ORCadSAGPD"
      },
      "source": [
        "#Storing least mae values\r\n",
        "if mae1<=mae2 and mae1<=mae3:\r\n",
        "  maeses.append(mae1)\r\n",
        "elif mae2<=mae1 and mae2<=mae3:\r\n",
        "  maeses.append(mae2)\r\n",
        "else:\r\n",
        "  maeses.append(mae3)"
      ],
      "execution_count": null,
      "outputs": []
    },
    {
      "cell_type": "markdown",
      "metadata": {
        "id": "MUH0-dMrA1pX"
      },
      "source": [
        "**Double Exponential Smoothing**"
      ]
    },
    {
      "cell_type": "code",
      "metadata": {
        "id": "YLhYtbBowRN6"
      },
      "source": [
        "#Creating demand list in 'n' intervals\r\n",
        "demand=dem_n(data.yahoo304_96_8_14,24)"
      ],
      "execution_count": null,
      "outputs": []
    },
    {
      "cell_type": "code",
      "metadata": {
        "id": "LJxgJfJkwRN6"
      },
      "source": [
        "#Forecasting\r\n",
        "alpha1=0.2\r\n",
        "alpha2=0.5\r\n",
        "alpha3=0.8\r\n",
        "\r\n",
        "beta1=0.3\r\n",
        "beta2=0.6\r\n",
        "beta3=0.9\r\n",
        "\r\n",
        "forecast1=des(demand,alpha1,beta1)\r\n",
        "forecast2=des(demand,alpha2,beta2)\r\n",
        "forecast3=des(demand,alpha3,beta3)"
      ],
      "execution_count": null,
      "outputs": []
    },
    {
      "cell_type": "code",
      "metadata": {
        "colab": {
          "base_uri": "https://localhost:8080/"
        },
        "id": "f5OGxtrlwRN7",
        "outputId": "9ab9b904-c5b1-42dc-e86d-d90fc13226d7"
      },
      "source": [
        "#Calculating Mean of Square Errors\r\n",
        "mse1=mean_squared_error(demand,forecast1)\r\n",
        "mse2=mean_squared_error(demand,forecast2)\r\n",
        "mse3=mean_squared_error(demand,forecast3)\r\n",
        "\r\n",
        "print(\"Mean of Square Errors for alpha = 0.2,beta= 0.3 is: \",mse1)\r\n",
        "print(\"Mean of Square Errors for alpha = 0.5,beta= 0.6 is: \",mse2)\r\n",
        "print(\"Mean of Square Errors for alpha = 0.8,beta= 0.9 is: \",mse3)"
      ],
      "execution_count": null,
      "outputs": [
        {
          "output_type": "stream",
          "text": [
            "Mean of Square Errors for alpha = 0.2,beta= 0.3 is:  1371.9935841256988\n",
            "Mean of Square Errors for alpha = 0.5,beta= 0.6 is:  1424.4136667011549\n",
            "Mean of Square Errors for alpha = 0.8,beta= 0.9 is:  1425.973409598658\n"
          ],
          "name": "stdout"
        }
      ]
    },
    {
      "cell_type": "code",
      "metadata": {
        "colab": {
          "base_uri": "https://localhost:8080/",
          "height": 300
        },
        "id": "4B3YASvKwRN7",
        "outputId": "836ebad9-d2ab-4129-bf3a-16f5a3443c6a"
      },
      "source": [
        "#Comparing mse and plotting for least mse\r\n",
        "d1={'Demand':demand,'Forecast':forecast1}\r\n",
        "d2={'Demand':demand,'Forecast':forecast2}\r\n",
        "d3={'Demand':demand,'Forecast':forecast3}\r\n",
        "\r\n",
        "df1=pd.DataFrame(d1)\r\n",
        "df2=pd.DataFrame(d2)\r\n",
        "df3=pd.DataFrame(d3)\r\n",
        "\r\n",
        "if mse1<=mse2 and mse1<=mse3:\r\n",
        "  print('alpha: ',alpha1)\r\n",
        "  print('beta: ',beta1)\r\n",
        "  df1.plot(style=['-','-'])\r\n",
        "  msedes.append(mse1)\r\n",
        "elif mse2<=mse1 and mse2<=mse3:\r\n",
        "  print('alpha: ',alpha2)\r\n",
        "  print('beta: ',beta2)\r\n",
        "  df2.plot(style=['-','-'])\r\n",
        "  msedes.append(mse2) \r\n",
        "else:\r\n",
        "  print('alpha: ',alpha3)\r\n",
        "  print('beta: ',beta3)\r\n",
        "  df3.plot(style=['-','-'])\r\n",
        "  msedes.append(mse3)"
      ],
      "execution_count": null,
      "outputs": [
        {
          "output_type": "stream",
          "text": [
            "alpha:  0.2\n",
            "beta:  0.3\n"
          ],
          "name": "stdout"
        },
        {
          "output_type": "display_data",
          "data": {
            "image/png": "[encoded data removed]",
            "text/plain": [
              "<Figure size 432x288 with 1 Axes>"
            ]
          },
          "metadata": {
            "tags": [],
            "needs_background": "light"
          }
        }
      ]
    },
    {
      "cell_type": "markdown",
      "metadata": {
        "id": "Sljqc2jUwRN7"
      },
      "source": [
        "**Triple Exponential Smoothing**"
      ]
    },
    {
      "cell_type": "code",
      "metadata": {
        "id": "9s5vOnb8wRN7"
      },
      "source": [
        "#Creating demand list in 'n' intervals\r\n",
        "demand=dem_n(data.yahoo304_96_8_14,24)"
      ],
      "execution_count": null,
      "outputs": []
    },
    {
      "cell_type": "code",
      "metadata": {
        "id": "D5pQOb91wRN7"
      },
      "source": [
        "#Forecasting\r\n",
        "alpha1=0.2\r\n",
        "alpha2=0.5\r\n",
        "alpha3=0.8\r\n",
        "\r\n",
        "beta1=0.3\r\n",
        "beta2=0.6\r\n",
        "beta3=0.9\r\n",
        "\r\n",
        "gamma1=0.4\r\n",
        "gamma2=0.7\r\n",
        "gamma3=0.95\r\n",
        "\r\n",
        "#Considering season of 1 hours here\r\n",
        "\r\n",
        "forecast1=tes(demand,1,alpha1,beta1,gamma1,0)\r\n",
        "forecast2=tes(demand,1,alpha2,beta2,gamma2,0)\r\n",
        "forecast3=tes(demand,1,alpha3,beta3,gamma3,0)"
      ],
      "execution_count": null,
      "outputs": []
    },
    {
      "cell_type": "code",
      "metadata": {
        "colab": {
          "base_uri": "https://localhost:8080/"
        },
        "id": "D1RFhGaOwRN7",
        "outputId": "12facee4-78a5-4b30-8c67-c8e2ff2c3c57"
      },
      "source": [
        "#Calculating mean of sqaured errors\r\n",
        "mse1=mean_squared_error(demand,forecast1)\r\n",
        "mse2=mean_squared_error(demand,forecast2)\r\n",
        "mse3=mean_squared_error(demand,forecast3)\r\n",
        "\r\n",
        "print(\"Mean of Square Errors for alpha = 0.2,beta= 0.3 gamma=0.4 is: \",mse1)\r\n",
        "print(\"Mean of Square Errors for alpha = 0.5,beta= 0.6 gamma=0.7 is: \",mse2)\r\n",
        "print(\"Mean of Square Errors for alpha = 0.8,beta= 0.9 gamma=0.95 is: \",mse3)"
      ],
      "execution_count": null,
      "outputs": [
        {
          "output_type": "stream",
          "text": [
            "Mean of Square Errors for alpha = 0.2,beta= 0.3 gamma=0.4 is:  223.8033725086531\n",
            "Mean of Square Errors for alpha = 0.5,beta= 0.6 gamma=0.7 is:  92.95581609431166\n",
            "Mean of Square Errors for alpha = 0.8,beta= 0.9 gamma=0.95 is:  444.40722954115944\n"
          ],
          "name": "stdout"
        }
      ]
    },
    {
      "cell_type": "code",
      "metadata": {
        "colab": {
          "base_uri": "https://localhost:8080/"
        },
        "id": "IDUrvVOk0su0",
        "outputId": "5786db35-b692-4661-a7c3-48db0a8a8802"
      },
      "source": [
        "#Calculating Mean Absolute Errors\r\n",
        "mae1=mean_absolute_error(demand,forecast1)\r\n",
        "mae2=mean_absolute_error(demand,forecast2)\r\n",
        "mae3=mean_absolute_error(demand,forecast3)\r\n",
        "\r\n",
        "print(\"Mean Absolute Errors for alpha = 0.2,beta= 0.3, gamma=0.4 is: \",mae1)\r\n",
        "print(\"Mean Absolute Errors for alpha = 0.5,beta= 0.6, gamma=0.7 is: \",mae2)\r\n",
        "print(\"Mean Absolute Errors for alpha = 0.8,beta= 0.9, gamma=0.95 is: \",mae3)"
      ],
      "execution_count": null,
      "outputs": [
        {
          "output_type": "stream",
          "text": [
            "Mean Absolute Errors for alpha = 0.2,beta= 0.3, gamma=0.4 is:  5.802045015904002\n",
            "Mean Absolute Errors for alpha = 0.5,beta= 0.6, gamma=0.7 is:  3.957796285812707\n",
            "Mean Absolute Errors for alpha = 0.8,beta= 0.9, gamma=0.95 is:  7.297799596309526\n"
          ],
          "name": "stdout"
        }
      ]
    },
    {
      "cell_type": "code",
      "metadata": {
        "colab": {
          "base_uri": "https://localhost:8080/",
          "height": 317
        },
        "id": "vqp66F6ywRN8",
        "outputId": "740cd800-8784-4b9b-875c-5e419d6e81a2"
      },
      "source": [
        "#Comparing mse and plotting for least mse\r\n",
        "d1={'Demand':demand,'Forecast':forecast1}\r\n",
        "d2={'Demand':demand,'Forecast':forecast2}\r\n",
        "d3={'Demand':demand,'Forecast':forecast3}\r\n",
        "\r\n",
        "df1=pd.DataFrame(d1)\r\n",
        "df2=pd.DataFrame(d2)\r\n",
        "df3=pd.DataFrame(d3)\r\n",
        "\r\n",
        "if mse1<=mse2 and mse1<=mse3:\r\n",
        "  print('alpha: ',alpha1)\r\n",
        "  print('beta: ',beta1)\r\n",
        "  print('gamma: ',gamma1)\r\n",
        "  df1.plot(style=['-','-'])\r\n",
        "  msetes.append(mse1)\r\n",
        "elif mse2<=mse1 and mse2<=mse3:\r\n",
        "  print('alpha: ',alpha2)\r\n",
        "  print('beta: ',beta2)\r\n",
        "  print('gamma: ',gamma2)\r\n",
        "  df2.plot(style=['-','-'])\r\n",
        "  msetes.append(mse2) \r\n",
        "else:\r\n",
        "  print('alpha: ',alpha3)\r\n",
        "  print('beta: ',beta3)\r\n",
        "  print('gamma: ',gamma3)\r\n",
        "  df3.plot(style=['-','-'])\r\n",
        "  msetes.append(mse3)"
      ],
      "execution_count": null,
      "outputs": [
        {
          "output_type": "stream",
          "text": [
            "alpha:  0.5\n",
            "beta:  0.6\n",
            "gamma:  0.7\n"
          ],
          "name": "stdout"
        },
        {
          "output_type": "display_data",
          "data": {
            "image/png": "[encoded data removed]",
            "text/plain": [
              "<Figure size 432x288 with 1 Axes>"
            ]
          },
          "metadata": {
            "tags": [],
            "needs_background": "light"
          }
        }
      ]
    },
    {
      "cell_type": "code",
      "metadata": {
        "id": "rWb63GxrBRzT"
      },
      "source": [
        "#Storing least mae values\r\n",
        "if mae1<=mae2 and mae1<=mae3:\r\n",
        "  maetes.append(mae1)\r\n",
        "elif mae2<=mae1 and mae2<=mae3:\r\n",
        "  maetes.append(mae2)\r\n",
        "else:\r\n",
        "  maetes.append(mae3)"
      ],
      "execution_count": null,
      "outputs": []
    },
    {
      "cell_type": "markdown",
      "metadata": {
        "id": "sNCnw00zBWXI"
      },
      "source": [
        "\r\n",
        "\r\n",
        "---\r\n",
        "\r\n",
        "Least MSE and MAE values are\r\n"
      ]
    },
    {
      "cell_type": "code",
      "metadata": {
        "colab": {
          "base_uri": "https://localhost:8080/"
        },
        "id": "gbQdygsbBbaT",
        "outputId": "48eb6221-cf10-4437-b82a-24ede4abee14"
      },
      "source": [
        "print(\"Least MSE ses\")\r\n",
        "print(mseses)\r\n",
        "print(\"Least MSE des\")\r\n",
        "print(msedes)\r\n",
        "print(\"Least MSE tes\")\r\n",
        "print(msetes)\r\n",
        "\r\n",
        "\r\n",
        "print(\"Least MAE ses\")\r\n",
        "print(maeses)\r\n",
        "print(\"Least MAE des\")\r\n",
        "print(maedes)\r\n",
        "print(\"Least MAE tes\")\r\n",
        "print(maetes)\r\n"
      ],
      "execution_count": null,
      "outputs": [
        {
          "output_type": "stream",
          "text": [
            "Least MSE ses\n",
            "[36.266977799467504, 70.74433216569851, 135.12511739078056, 284.3567740733148, 347.86041803251385, 849.7836364017458]\n",
            "Least MSE des\n",
            "[50.11839964406356, 100.69577635286231, 179.78037941617038, 401.47865143128286, 490.8480707638323, 1371.9935841256988]\n",
            "Least MSE tes\n",
            "[6.348675651210603, 11.733396511437721, 21.350809413671804, 43.77633888809179, 52.452436971990124, 92.95581609431166]\n",
            "Least MAE ses\n",
            "[0.7323065580072101, 0.7323065580072101, 1.0783372848909816, 1.5846934379909212, 2.444632845486679, 2.7884595336623166]\n",
            "Least MAE des\n",
            "[0.7323065580072101, 0.7323065580072101, 1.0783372848909816, 1.5846934379909212, 2.444632845486679]\n",
            "Least MAE tes\n",
            "[0.7323065580072101, 1.0783372848909816, 1.5846934379909212, 2.444632845486679, 2.7884595336623166, 3.957796285812707]\n"
          ],
          "name": "stdout"
        }
      ]
    },
    {
      "cell_type": "markdown",
      "metadata": {
        "id": "92kr0FN236u8"
      },
      "source": [
        "\r\n",
        "\r\n",
        "---\r\n",
        "\r\n"
      ]
    },
    {
      "cell_type": "markdown",
      "metadata": {
        "id": "_94u6LTj38Dj"
      },
      "source": [
        "Applying ACF and PACF"
      ]
    },
    {
      "cell_type": "code",
      "metadata": {
        "colab": {
          "base_uri": "https://localhost:8080/",
          "height": 299
        },
        "id": "0R7SZTg2wtgo",
        "outputId": "80a5d56d-74f4-4c96-ee08-f900ea07be6d"
      },
      "source": [
        "#Plotting ACF\r\n",
        "plot_acf(data.yahoo304_96_8_14,lags=10)\r\n",
        "plt.show"
      ],
      "execution_count": null,
      "outputs": [
        {
          "output_type": "execute_result",
          "data": {
            "text/plain": [
              "<function matplotlib.pyplot.show>"
            ]
          },
          "metadata": {
            "tags": []
          },
          "execution_count": 408
        },
        {
          "output_type": "display_data",
          "data": {
            "image/png": "[encoded data removed]",
            "text/plain": [
              "<Figure size 432x288 with 1 Axes>"
            ]
          },
          "metadata": {
            "tags": [],
            "needs_background": "light"
          }
        }
      ]
    },
    {
      "cell_type": "code",
      "metadata": {
        "colab": {
          "base_uri": "https://localhost:8080/",
          "height": 299
        },
        "id": "qkkvPqrfwtgo",
        "outputId": "1f2c7bff-7709-44d0-c071-0da911b0affb"
      },
      "source": [
        "#plotting PACF\r\n",
        "plot_pacf(data.yahoo304_96_8_14,lags=10)\r\n",
        "plt.show"
      ],
      "execution_count": null,
      "outputs": [
        {
          "output_type": "execute_result",
          "data": {
            "text/plain": [
              "<function matplotlib.pyplot.show>"
            ]
          },
          "metadata": {
            "tags": []
          },
          "execution_count": 409
        },
        {
          "output_type": "display_data",
          "data": {
            "image/png": "[encoded data removed]",
            "text/plain": [
              "<Figure size 432x288 with 1 Axes>"
            ]
          },
          "metadata": {
            "tags": [],
            "needs_background": "light"
          }
        }
      ]
    },
    {
      "cell_type": "markdown",
      "metadata": {
        "id": "mdWD1GATrgaA"
      },
      "source": [
        "\r\n",
        "\r\n",
        "---\r\n",
        "\r\n"
      ]
    },
    {
      "cell_type": "markdown",
      "metadata": {
        "id": "-xJISjbow7ek"
      },
      "source": [
        "Applying AR, MA, ARIMA Models"
      ]
    },
    {
      "cell_type": "code",
      "metadata": {
        "id": "QSrgwzMrDNLW",
        "colab": {
          "base_uri": "https://localhost:8080/",
          "height": 699
        },
        "outputId": "1fd96949-8879-454a-afb7-3d8dee120870"
      },
      "source": [
        "#AR\r\n",
        "\r\n",
        "#fit model\r\n",
        "model=ARIMA(data['yahoo304_96_8_14'], order=(3,0,0))\r\n",
        "model_fit=model.fit()\r\n",
        "\r\n",
        "#model summary\r\n",
        "print(model_fit.summary())\r\n",
        "\r\n",
        "#make prediction\r\n",
        "data['forecastAR'] = model_fit.predict()\r\n",
        "data[['yahoo304_96_8_14','forecastAR']].plot()"
      ],
      "execution_count": null,
      "outputs": [
        {
          "output_type": "stream",
          "text": [
            "                              ARMA Model Results                              \n",
            "==============================================================================\n",
            "Dep. Variable:       yahoo304_96_8_14   No. Observations:                 4613\n",
            "Model:                     ARMA(3, 0)   Log Likelihood              -14672.712\n",
            "Method:                       css-mle   S.D. of innovations              5.820\n",
            "Date:                Mon, 01 Mar 2021   AIC                          29355.423\n",
            "Time:                        05:24:04   BIC                          29387.607\n",
            "Sample:                             0   HQIC                         29366.749\n",
            "                                                                              \n",
            "==========================================================================================\n",
            "                             coef    std err          z      P>|z|      [0.025      0.975]\n",
            "------------------------------------------------------------------------------------------\n",
            "const                     45.3611     14.804      3.064      0.002      16.346      74.376\n",
            "ar.L1.yahoo304_96_8_14     1.0501      0.015     71.346      0.000       1.021       1.079\n",
            "ar.L2.yahoo304_96_8_14    -0.0396      0.021     -1.856      0.063      -0.081       0.002\n",
            "ar.L3.yahoo304_96_8_14    -0.0161      0.015     -1.092      0.275      -0.045       0.013\n",
            "                                    Roots                                    \n",
            "=============================================================================\n",
            "                  Real          Imaginary           Modulus         Frequency\n",
            "-----------------------------------------------------------------------------\n",
            "AR.1            1.0061           +0.0000j            1.0061            0.0000\n",
            "AR.2            6.3188           +0.0000j            6.3188            0.0000\n",
            "AR.3           -9.7905           +0.0000j            9.7905            0.5000\n",
            "-----------------------------------------------------------------------------\n"
          ],
          "name": "stdout"
        },
        {
          "output_type": "execute_result",
          "data": {
            "text/plain": [
              "<matplotlib.axes._subplots.AxesSubplot at 0x7f62200dd0d0>"
            ]
          },
          "metadata": {
            "tags": []
          },
          "execution_count": 410
        },
        {
          "output_type": "display_data",
          "data": {
            "image/png": "[encoded data removed]",
            "text/plain": [
              "<Figure size 432x288 with 1 Axes>"
            ]
          },
          "metadata": {
            "tags": [],
            "needs_background": "light"
          }
        }
      ]
    },
    {
      "cell_type": "code",
      "metadata": {
        "colab": {
          "base_uri": "https://localhost:8080/"
        },
        "id": "ff-vvGJCE6wX",
        "outputId": "b86e242c-19ff-4b70-e210-7831eb87f433"
      },
      "source": [
        "mse=mean_squared_error(data.yahoo304_96_8_14,data.forecastAR.dropna())\r\n",
        "print(\"MSE for AR is:\",mse)"
      ],
      "execution_count": null,
      "outputs": [
        {
          "output_type": "stream",
          "text": [
            "MSE for AR is: 33.89131601513936\n"
          ],
          "name": "stdout"
        }
      ]
    },
    {
      "cell_type": "code",
      "metadata": {
        "colab": {
          "base_uri": "https://localhost:8080/"
        },
        "id": "LxeFr6VsFnlf",
        "outputId": "4b95a0f4-7f7b-4df5-f964-938b86b85a96"
      },
      "source": [
        "mae=mean_absolute_error(data.yahoo304_96_8_14,data.forecastAR.dropna())\r\n",
        "print(\"MAE for AR is:\",mae)"
      ],
      "execution_count": null,
      "outputs": [
        {
          "output_type": "stream",
          "text": [
            "MAE for AR is: 1.631457515002413\n"
          ],
          "name": "stdout"
        }
      ]
    },
    {
      "cell_type": "code",
      "metadata": {
        "colab": {
          "base_uri": "https://localhost:8080/",
          "height": 664
        },
        "id": "Ox8gS63vTxGH",
        "outputId": "bfb5b8f2-1958-434c-c37a-6dd4ba13dc4f"
      },
      "source": [
        "#MA\r\n",
        "\r\n",
        "#fit model\r\n",
        "model=ARIMA(data['diff'].dropna(), order=(0,0,2))\r\n",
        "model_fit=model.fit()\r\n",
        "\r\n",
        "#model summary\r\n",
        "print(model_fit.summary())\r\n",
        "\r\n",
        "#make prediction\r\n",
        "data['forecastMA'] = model_fit.predict()\r\n",
        "data[['diff','forecastMA']].plot()"
      ],
      "execution_count": null,
      "outputs": [
        {
          "output_type": "stream",
          "text": [
            "                              ARMA Model Results                              \n",
            "==============================================================================\n",
            "Dep. Variable:                   diff   No. Observations:                 4612\n",
            "Model:                     ARMA(0, 2)   Log Likelihood              -14673.764\n",
            "Method:                       css-mle   S.D. of innovations              5.828\n",
            "Date:                Mon, 01 Mar 2021   AIC                          29355.529\n",
            "Time:                        05:24:05   BIC                          29381.275\n",
            "Sample:                             0   HQIC                         29364.589\n",
            "                                                                              \n",
            "==============================================================================\n",
            "                 coef    std err          z      P>|z|      [0.025      0.975]\n",
            "------------------------------------------------------------------------------\n",
            "const         -0.0006      0.093     -0.007      0.995      -0.182       0.181\n",
            "ma.L1.diff     0.0563      0.015      3.772      0.000       0.027       0.086\n",
            "ma.L2.diff     0.0238      0.015      1.600      0.110      -0.005       0.053\n",
            "                                    Roots                                    \n",
            "=============================================================================\n",
            "                  Real          Imaginary           Modulus         Frequency\n",
            "-----------------------------------------------------------------------------\n",
            "MA.1           -1.1841           -6.3757j            6.4847           -0.2792\n",
            "MA.2           -1.1841           +6.3757j            6.4847            0.2792\n",
            "-----------------------------------------------------------------------------\n"
          ],
          "name": "stdout"
        },
        {
          "output_type": "execute_result",
          "data": {
            "text/plain": [
              "<matplotlib.axes._subplots.AxesSubplot at 0x7f621d38d810>"
            ]
          },
          "metadata": {
            "tags": []
          },
          "execution_count": 413
        },
        {
          "output_type": "display_data",
          "data": {
            "image/png": "[encoded data removed]",
            "text/plain": [
              "<Figure size 432x288 with 1 Axes>"
            ]
          },
          "metadata": {
            "tags": [],
            "needs_background": "light"
          }
        }
      ]
    },
    {
      "cell_type": "code",
      "metadata": {
        "colab": {
          "base_uri": "https://localhost:8080/"
        },
        "id": "jdGfFS2pF9Yt",
        "outputId": "3eaf51a8-2663-4e28-a814-f9cd71a62b0a"
      },
      "source": [
        "mse=mean_squared_error(data.yahoo304_96_8_14[0:-1],data.forecastMA.dropna())\r\n",
        "print(\"MSE for MA is:\",mse)"
      ],
      "execution_count": null,
      "outputs": [
        {
          "output_type": "stream",
          "text": [
            "MSE for MA is: 5509.995684894809\n"
          ],
          "name": "stdout"
        }
      ]
    },
    {
      "cell_type": "code",
      "metadata": {
        "colab": {
          "base_uri": "https://localhost:8080/"
        },
        "id": "prumknJeF9Y9",
        "outputId": "6c939d95-14ab-43e0-fd21-38ba93b1dd3c"
      },
      "source": [
        "mae=mean_absolute_error(data.yahoo304_96_8_14[0:-1],data.forecastMA.dropna())\r\n",
        "print(\"MAE for MA is:\",mae)"
      ],
      "execution_count": null,
      "outputs": [
        {
          "output_type": "stream",
          "text": [
            "MAE for MA is: 46.141560834983046\n"
          ],
          "name": "stdout"
        }
      ]
    },
    {
      "cell_type": "code",
      "metadata": {
        "colab": {
          "base_uri": "https://localhost:8080/",
          "height": 768
        },
        "id": "CWZ05AcIT8U7",
        "outputId": "adf089ab-fe00-4b60-9f7e-d898b400ffac"
      },
      "source": [
        "#ARIMA\r\n",
        "\r\n",
        "#fit model\r\n",
        "model=ARIMA(data['diff'].dropna(), order=(3,0,2))\r\n",
        "model_fit=model.fit()\r\n",
        "\r\n",
        "#model summary\r\n",
        "print(model_fit.summary())\r\n",
        "\r\n",
        "#make prediction\r\n",
        "data['forecastARIMA'] = model_fit.predict()\r\n",
        "data[['diff','forecastARIMA']].plot()"
      ],
      "execution_count": null,
      "outputs": [
        {
          "output_type": "stream",
          "text": [
            "                              ARMA Model Results                              \n",
            "==============================================================================\n",
            "Dep. Variable:                   diff   No. Observations:                 4612\n",
            "Model:                     ARMA(3, 2)   Log Likelihood              -14636.373\n",
            "Method:                       css-mle   S.D. of innovations              5.781\n",
            "Date:                Mon, 01 Mar 2021   AIC                          29286.746\n",
            "Time:                        05:24:08   BIC                          29331.801\n",
            "Sample:                             0   HQIC                         29302.602\n",
            "                                                                              \n",
            "==============================================================================\n",
            "                 coef    std err          z      P>|z|      [0.025      0.975]\n",
            "------------------------------------------------------------------------------\n",
            "const         -0.0007      0.091     -0.007      0.994      -0.178       0.177\n",
            "ar.L1.diff    -0.3720      0.017    -21.541      0.000      -0.406      -0.338\n",
            "ar.L2.diff    -0.8936      0.018    -48.907      0.000      -0.929      -0.858\n",
            "ar.L3.diff     0.0250      0.015      1.633      0.103      -0.005       0.055\n",
            "ma.L1.diff     0.4286      0.009     47.771      0.000       0.411       0.446\n",
            "ma.L2.diff     0.9581      0.012     76.842      0.000       0.934       0.983\n",
            "                                    Roots                                    \n",
            "=============================================================================\n",
            "                  Real          Imaginary           Modulus         Frequency\n",
            "-----------------------------------------------------------------------------\n",
            "AR.1           -0.2209           -1.0279j            1.0514           -0.2837\n",
            "AR.2           -0.2209           +1.0279j            1.0514            0.2837\n",
            "AR.3           36.1317           -0.0000j           36.1317           -0.0000\n",
            "MA.1           -0.2237           -0.9969j            1.0217           -0.2851\n",
            "MA.2           -0.2237           +0.9969j            1.0217            0.2851\n",
            "-----------------------------------------------------------------------------\n"
          ],
          "name": "stdout"
        },
        {
          "output_type": "execute_result",
          "data": {
            "text/plain": [
              "<matplotlib.axes._subplots.AxesSubplot at 0x7f621d3e0bd0>"
            ]
          },
          "metadata": {
            "tags": []
          },
          "execution_count": 416
        },
        {
          "output_type": "display_data",
          "data": {
            "image/png": "[encoded data removed]",
            "text/plain": [
              "<Figure size 432x288 with 1 Axes>"
            ]
          },
          "metadata": {
            "tags": [],
            "needs_background": "light"
          }
        }
      ]
    },
    {
      "cell_type": "code",
      "metadata": {
        "colab": {
          "base_uri": "https://localhost:8080/"
        },
        "id": "bbb4AjfvGXxT",
        "outputId": "658bf03d-542c-4183-9366-b480e69d70bf"
      },
      "source": [
        "mse=mean_squared_error(data.yahoo304_96_8_14[0:-1],data.forecastARIMA.dropna())\r\n",
        "print(\"MSE for MA is:\",mse)"
      ],
      "execution_count": null,
      "outputs": [
        {
          "output_type": "stream",
          "text": [
            "MSE for MA is: 5511.605519032832\n"
          ],
          "name": "stdout"
        }
      ]
    },
    {
      "cell_type": "code",
      "metadata": {
        "colab": {
          "base_uri": "https://localhost:8080/"
        },
        "id": "qY9jum2DGXxV",
        "outputId": "14c8f831-fdf8-47b2-a5db-5d03f02984a9"
      },
      "source": [
        "mae=mean_absolute_error(data.yahoo304_96_8_14[0:-1],data.forecastARIMA.dropna())\r\n",
        "print(\"MAE for MA is:\",mae)"
      ],
      "execution_count": null,
      "outputs": [
        {
          "output_type": "stream",
          "text": [
            "MAE for MA is: 46.14158164074054\n"
          ],
          "name": "stdout"
        }
      ]
    },
    {
      "cell_type": "markdown",
      "metadata": {
        "id": "4gGVXGjX6NkJ"
      },
      "source": [
        "\r\n",
        "\r\n",
        "---\r\n",
        "\r\n"
      ]
    },
    {
      "cell_type": "markdown",
      "metadata": {
        "id": "tC0GYNaixFML"
      },
      "source": [
        "Applying Auto ARIMA"
      ]
    },
    {
      "cell_type": "code",
      "metadata": {
        "colab": {
          "base_uri": "https://localhost:8080/"
        },
        "id": "jqYkTZfSxJOn",
        "outputId": "fb542ffd-94a9-45a4-8235-2b592dec1f28"
      },
      "source": [
        "import pmdarima as pm\r\n",
        "model = pm.auto_arima(data.iloc[:,0], start_p=1, start_q=1,test='adf',max_p=3, max_q=3,m=1,d=None,seasonal=False,start_P=0, D=0, trace=True,error_action='ignore',  suppress_warnings=True,stepwise=True)\r\n",
        "print(model.summary())"
      ],
      "execution_count": null,
      "outputs": [
        {
          "output_type": "stream",
          "text": [
            "Performing stepwise search to minimize aic\n",
            " ARIMA(1,0,1)(0,0,0)[0]             : AIC=29358.877, Time=0.40 sec\n",
            " ARIMA(0,0,0)(0,0,0)[0]             : AIC=52832.194, Time=0.08 sec\n",
            " ARIMA(1,0,0)(0,0,0)[0]             : AIC=inf, Time=0.19 sec\n",
            " ARIMA(0,0,1)(0,0,0)[0]             : AIC=46916.004, Time=0.68 sec\n",
            " ARIMA(2,0,1)(0,0,0)[0]             : AIC=29360.811, Time=0.71 sec\n",
            " ARIMA(1,0,2)(0,0,0)[0]             : AIC=29357.882, Time=0.48 sec\n",
            " ARIMA(0,0,2)(0,0,0)[0]             : AIC=42222.823, Time=2.91 sec\n",
            " ARIMA(2,0,2)(0,0,0)[0]             : AIC=29345.809, Time=2.09 sec\n",
            " ARIMA(3,0,2)(0,0,0)[0]             : AIC=29290.882, Time=4.59 sec\n",
            " ARIMA(3,0,1)(0,0,0)[0]             : AIC=29348.048, Time=2.03 sec\n",
            " ARIMA(3,0,3)(0,0,0)[0]             : AIC=29296.227, Time=4.54 sec\n",
            " ARIMA(2,0,3)(0,0,0)[0]             : AIC=29340.140, Time=1.17 sec\n",
            " ARIMA(3,0,2)(0,0,0)[0] intercept   : AIC=29295.962, Time=9.00 sec\n",
            "\n",
            "Best model:  ARIMA(3,0,2)(0,0,0)[0]          \n",
            "Total fit time: 28.895 seconds\n",
            "                               SARIMAX Results                                \n",
            "==============================================================================\n",
            "Dep. Variable:                      y   No. Observations:                 4613\n",
            "Model:               SARIMAX(3, 0, 2)   Log Likelihood              -14639.441\n",
            "Date:                Mon, 01 Mar 2021   AIC                          29290.882\n",
            "Time:                        05:25:11   BIC                          29329.502\n",
            "Sample:                             0   HQIC                         29304.473\n",
            "                               - 4613                                         \n",
            "Covariance Type:                  opg                                         \n",
            "==============================================================================\n",
            "                 coef    std err          z      P>|z|      [0.025      0.975]\n",
            "------------------------------------------------------------------------------\n",
            "ar.L1          0.6191      0.008     77.475      0.000       0.603       0.635\n",
            "ar.L2         -0.5112      0.010    -49.807      0.000      -0.531      -0.491\n",
            "ar.L3          0.8846      0.008    105.040      0.000       0.868       0.901\n",
            "ma.L1          0.4173      0.007     55.685      0.000       0.403       0.432\n",
            "ma.L2          0.9431      0.008    123.834      0.000       0.928       0.958\n",
            "sigma2        33.4673      0.092    363.507      0.000      33.287      33.648\n",
            "===================================================================================\n",
            "Ljung-Box (L1) (Q):                   1.46   Jarque-Bera (JB):          36931252.63\n",
            "Prob(Q):                              0.23   Prob(JB):                         0.00\n",
            "Heteroskedasticity (H):             442.37   Skew:                            13.32\n",
            "Prob(H) (two-sided):                  0.00   Kurtosis:                       440.53\n",
            "===================================================================================\n",
            "\n",
            "Warnings:\n",
            "[1] Covariance matrix calculated using the outer product of gradients (complex-step).\n"
          ],
          "name": "stdout"
        }
      ]
    },
    {
      "cell_type": "markdown",
      "metadata": {
        "id": "Iy9Hh21Hxa6g"
      },
      "source": [
        "# Best model:  ARIMA(3,0,2)(0,0,0)[0]          \r\n"
      ]
    },
    {
      "cell_type": "markdown",
      "metadata": {
        "id": "gMPxY8IgzfM4"
      },
      "source": [
        "Final Result![4.PNG](data:image/png;base64,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)"
      ]
    }
  ]
}