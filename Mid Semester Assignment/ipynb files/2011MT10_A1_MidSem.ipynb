{
  "nbformat": 4,
  "nbformat_minor": 0,
  "metadata": {
    "colab": {
      "name": "2011MT10_A1_MidSem.ipynb",
      "provenance": [],
      "collapsed_sections": []
    },
    "kernelspec": {
      "name": "python3",
      "display_name": "Python 3"
    }
  },
  "cells": [
    {
      "cell_type": "markdown",
      "metadata": {
        "id": "1VDa6LS1VbHh"
      },
      "source": [
        "# **Question 1**"
      ]
    },
    {
      "cell_type": "markdown",
      "metadata": {
        "id": "YxK-POBS0OQQ"
      },
      "source": [
        "Since, it is given that e{t}=IIDN(0,1), therefore, we are considering mean as 0 and variance as 1 for error terms in all parts below."
      ]
    },
    {
      "cell_type": "code",
      "metadata": {
        "id": "X-x6YlZiS3u7",
        "colab": {
          "base_uri": "https://localhost:8080/"
        },
        "outputId": "193a4f6c-5912-47f6-a1ae-522ef158660a"
      },
      "source": [
        "import numpy as np\r\n",
        "import matplotlib.pyplot as plt\r\n",
        "from statsmodels.graphics.tsaplots import plot_acf,plot_pacf\r\n",
        "from statsmodels.tsa.stattools import adfuller\r\n"
      ],
      "execution_count": 1,
      "outputs": [
        {
          "output_type": "stream",
          "text": [
            "/usr/local/lib/python3.7/dist-packages/statsmodels/tools/_testing.py:19: FutureWarning: pandas.util.testing is deprecated. Use the functions in the public API at pandas.testing instead.\n",
            "  import pandas.util.testing as tm\n"
          ],
          "name": "stderr"
        }
      ]
    },
    {
      "cell_type": "markdown",
      "metadata": {
        "id": "FO6Hza9IbI4C"
      },
      "source": [
        "Defining ADF, mean and autocovariance functions."
      ]
    },
    {
      "cell_type": "code",
      "metadata": {
        "id": "ACXVaGzvf2qz"
      },
      "source": [
        "#Stationarity Check\r\n",
        "def perform_adf_test(series):\r\n",
        "    result = adfuller(series)\r\n",
        "    print('ADF Statistic: %f' % result[0])\r\n",
        "    print('p-value: %f' % result[1])"
      ],
      "execution_count": 2,
      "outputs": []
    },
    {
      "cell_type": "code",
      "metadata": {
        "id": "dah8IW2EbK9V"
      },
      "source": [
        "#Defining function to calculate mean\r\n",
        "def meanfunction(arr):\r\n",
        "  sum=0\r\n",
        "  for i in arr:\r\n",
        "    sum += i\r\n",
        "  meanvalue = sum/len(arr)\r\n",
        "  return meanvalue"
      ],
      "execution_count": 3,
      "outputs": []
    },
    {
      "cell_type": "code",
      "metadata": {
        "id": "cC-KHnZobU2g"
      },
      "source": [
        "#Defining function to calculate autocovariance\r\n",
        "def autocovariance(a,n,lag,mean):  # n=len of data\r\n",
        "    autocov = 0\r\n",
        "    for i in np.arange(0, n-lag):\r\n",
        "        autocov += ((a[i+lag])-mean)*(a[i]-mean)\r\n",
        "    return (1/(n-1))*autocov"
      ],
      "execution_count": 4,
      "outputs": []
    },
    {
      "cell_type": "markdown",
      "metadata": {
        "id": "l1qW-1mbVfuJ"
      },
      "source": [
        "## Part (a)"
      ]
    },
    {
      "cell_type": "code",
      "metadata": {
        "id": "Ty1CtLCUtGQW"
      },
      "source": [
        "#creating error list\r\n",
        "error_list=np.random.normal(0,1,103)\r\n",
        "e=error_list"
      ],
      "execution_count": 5,
      "outputs": []
    },
    {
      "cell_type": "code",
      "metadata": {
        "id": "piua2T5PbvIH"
      },
      "source": [
        "#Creating 100 Y observations\r\n",
        "\r\n",
        "Y = []\r\n",
        "for i in range(100):  \r\n",
        "  Yt = e[i+3] - e[i]\r\n",
        "  Y.append(Yt)"
      ],
      "execution_count": 6,
      "outputs": []
    },
    {
      "cell_type": "code",
      "metadata": {
        "colab": {
          "base_uri": "https://localhost:8080/"
        },
        "id": "O78gAEbSf-oe",
        "outputId": "85a15667-0247-4aa1-bae3-96746b54bc10"
      },
      "source": [
        "#Check stationarity\r\n",
        "perform_adf_test(Y)"
      ],
      "execution_count": 7,
      "outputs": [
        {
          "output_type": "stream",
          "text": [
            "ADF Statistic: -4.552389\n",
            "p-value: 0.000158\n"
          ],
          "name": "stdout"
        }
      ]
    },
    {
      "cell_type": "markdown",
      "metadata": {
        "id": "zEf3i0D4vzxe"
      },
      "source": [
        "*Since p-value is well below 0.05, thus we can say that the data set is stationary data set.*"
      ]
    },
    {
      "cell_type": "markdown",
      "metadata": {
        "id": "4o1oiNkTvzxk"
      },
      "source": [
        "Now, since, data set is stationary, we can give mean and autocovariance function."
      ]
    },
    {
      "cell_type": "code",
      "metadata": {
        "colab": {
          "base_uri": "https://localhost:8080/"
        },
        "id": "hyg-Z5n9wtgn",
        "outputId": "cffff69a-a931-4714-e015-a1dd2952a46f"
      },
      "source": [
        "#Mean Function\r\n",
        "mean=meanfunction(Y)\r\n",
        "print(\"The mean of the dataset is: \",mean)"
      ],
      "execution_count": 8,
      "outputs": [
        {
          "output_type": "stream",
          "text": [
            "The mean of the dataset is:  -0.02804511495127577\n"
          ],
          "name": "stdout"
        }
      ]
    },
    {
      "cell_type": "code",
      "metadata": {
        "colab": {
          "base_uri": "https://localhost:8080/"
        },
        "id": "sznyojMBwtgo",
        "outputId": "9b158ba6-37ac-41b1-8e29-ced4df909da7"
      },
      "source": [
        "#Autocovariance Function\r\n",
        "a=autocovariance(Y,100,1,mean)\r\n",
        "print(\"The Autocovariance of the dataset is: \",a)"
      ],
      "execution_count": 9,
      "outputs": [
        {
          "output_type": "stream",
          "text": [
            "The Autocovariance of the dataset is:  -0.8254429799872585\n"
          ],
          "name": "stdout"
        }
      ]
    },
    {
      "cell_type": "code",
      "metadata": {
        "colab": {
          "base_uri": "https://localhost:8080/",
          "height": 299
        },
        "id": "0R7SZTg2wtgo",
        "outputId": "64ee3eed-9933-4710-bbc4-607ced5f64c0"
      },
      "source": [
        "#Plotting ACF\r\n",
        "plot_acf(Y,lags=10)\r\n",
        "plt.show"
      ],
      "execution_count": 10,
      "outputs": [
        {
          "output_type": "execute_result",
          "data": {
            "text/plain": [
              "<function matplotlib.pyplot.show>"
            ]
          },
          "metadata": {
            "tags": []
          },
          "execution_count": 10
        },
        {
          "output_type": "display_data",
          "data": {
            "image/png": "[encoded data removed]",
            "text/plain": [
              "<Figure size 432x288 with 1 Axes>"
            ]
          },
          "metadata": {
            "tags": [],
            "needs_background": "light"
          }
        }
      ]
    },
    {
      "cell_type": "code",
      "metadata": {
        "colab": {
          "base_uri": "https://localhost:8080/",
          "height": 299
        },
        "id": "qkkvPqrfwtgo",
        "outputId": "dea30f7a-69c9-432e-ad60-57537316db50"
      },
      "source": [
        "#plotting PACF\r\n",
        "plot_pacf(Y,lags=10)\r\n",
        "plt.show"
      ],
      "execution_count": 11,
      "outputs": [
        {
          "output_type": "execute_result",
          "data": {
            "text/plain": [
              "<function matplotlib.pyplot.show>"
            ]
          },
          "metadata": {
            "tags": []
          },
          "execution_count": 11
        },
        {
          "output_type": "display_data",
          "data": {
            "image/png": "[encoded data removed]",
            "text/plain": [
              "<Figure size 432x288 with 1 Axes>"
            ]
          },
          "metadata": {
            "tags": [],
            "needs_background": "light"
          }
        }
      ]
    },
    {
      "cell_type": "markdown",
      "metadata": {
        "id": "shUnamuqVZDF"
      },
      "source": [
        "## Part (b)"
      ]
    },
    {
      "cell_type": "code",
      "metadata": {
        "id": "ZZU3KmxgyKuG"
      },
      "source": [
        "#creating error list\r\n",
        "\r\n",
        "error_list=np.random.normal(0, 1, 102)\r\n",
        "e=error_list"
      ],
      "execution_count": 12,
      "outputs": []
    },
    {
      "cell_type": "code",
      "metadata": {
        "id": "Cqb29cl0yWjI"
      },
      "source": [
        "#assuming random 2 intial values for Y\r\n",
        "\r\n",
        "Y=list(np.random.randint(0,100,2))"
      ],
      "execution_count": 13,
      "outputs": []
    },
    {
      "cell_type": "code",
      "metadata": {
        "id": "xC22C1W7yKuJ"
      },
      "source": [
        "#Creating 100 Y observations\r\n",
        "\r\n",
        "for i in range(2,102):\r\n",
        "  Y.append(Y[i-1]+0.9*Y[i-2]+e[i])"
      ],
      "execution_count": 14,
      "outputs": []
    },
    {
      "cell_type": "code",
      "metadata": {
        "colab": {
          "base_uri": "https://localhost:8080/"
        },
        "id": "Kit9VJuKyKuK",
        "outputId": "57125b9b-f60e-4c2a-c3eb-641cc453797c"
      },
      "source": [
        "#Check stationarity\r\n",
        "perform_adf_test(Y)"
      ],
      "execution_count": 15,
      "outputs": [
        {
          "output_type": "stream",
          "text": [
            "ADF Statistic: 97048385424817968.000000\n",
            "p-value: 1.000000\n"
          ],
          "name": "stdout"
        }
      ]
    },
    {
      "cell_type": "markdown",
      "metadata": {
        "id": "2staCnHayKuL"
      },
      "source": [
        "*Since p-value is above 0.05, thus we can say that the data set is non-stationary data set.*"
      ]
    },
    {
      "cell_type": "code",
      "metadata": {
        "colab": {
          "base_uri": "https://localhost:8080/",
          "height": 299
        },
        "id": "ry9ZnjByyKuN",
        "outputId": "4349c744-eca2-4528-e12b-f4a7a85effab"
      },
      "source": [
        "#Plotting ACF\r\n",
        "plot_acf(Y,lags=10)\r\n",
        "plt.show"
      ],
      "execution_count": 16,
      "outputs": [
        {
          "output_type": "execute_result",
          "data": {
            "text/plain": [
              "<function matplotlib.pyplot.show>"
            ]
          },
          "metadata": {
            "tags": []
          },
          "execution_count": 16
        },
        {
          "output_type": "display_data",
          "data": {
            "image/png": "[encoded data removed]",
            "text/plain": [
              "<Figure size 432x288 with 1 Axes>"
            ]
          },
          "metadata": {
            "tags": [],
            "needs_background": "light"
          }
        }
      ]
    },
    {
      "cell_type": "code",
      "metadata": {
        "colab": {
          "base_uri": "https://localhost:8080/",
          "height": 299
        },
        "id": "qI1G8oiQyKuO",
        "outputId": "ed0bfd58-5b83-4261-958a-15d27ac25642"
      },
      "source": [
        "#plotting PACF\r\n",
        "plot_pacf(Y,lags=10)\r\n",
        "plt.show"
      ],
      "execution_count": 17,
      "outputs": [
        {
          "output_type": "execute_result",
          "data": {
            "text/plain": [
              "<function matplotlib.pyplot.show>"
            ]
          },
          "metadata": {
            "tags": []
          },
          "execution_count": 17
        },
        {
          "output_type": "display_data",
          "data": {
            "image/png": "[encoded data removed]",
            "text/plain": [
              "<Figure size 432x288 with 1 Axes>"
            ]
          },
          "metadata": {
            "tags": [],
            "needs_background": "light"
          }
        }
      ]
    },
    {
      "cell_type": "markdown",
      "metadata": {
        "id": "eeKLlfUFVjJ5"
      },
      "source": [
        "## Part (c)"
      ]
    },
    {
      "cell_type": "code",
      "metadata": {
        "id": "DIbWekQaAm28"
      },
      "source": [
        "#creating error list\r\n",
        "error_list=np.random.normal(0,1,104)\r\n",
        "e=error_list"
      ],
      "execution_count": 18,
      "outputs": []
    },
    {
      "cell_type": "code",
      "metadata": {
        "id": "KKNhcOV3BZRM"
      },
      "source": [
        "#assuming random 4 intial values for Y\r\n",
        "Y=list(np.random.randint(0,100,4))"
      ],
      "execution_count": 19,
      "outputs": []
    },
    {
      "cell_type": "code",
      "metadata": {
        "id": "BNicgmF3Emqr"
      },
      "source": [
        "#Creating 100 Y observations\r\n",
        "\r\n",
        "for i in range(4,104):\r\n",
        "  Y.append(0.7*Y[i-1]+0.2*Y[i-2]-0.1*Y[i-3]-0.3*Y[1-4]+e[i])\r\n"
      ],
      "execution_count": 20,
      "outputs": []
    },
    {
      "cell_type": "code",
      "metadata": {
        "colab": {
          "base_uri": "https://localhost:8080/"
        },
        "id": "kMadYJ0uYzCJ",
        "outputId": "b162ca22-5634-4a0d-9744-5c0f9bbf89aa"
      },
      "source": [
        "#Stationarity Check\r\n",
        "\r\n",
        "perform_adf_test(Y)"
      ],
      "execution_count": 21,
      "outputs": [
        {
          "output_type": "stream",
          "text": [
            "ADF Statistic: -28.659329\n",
            "p-value: 0.000000\n"
          ],
          "name": "stdout"
        }
      ]
    },
    {
      "cell_type": "markdown",
      "metadata": {
        "id": "8sK-VPo5ZsHy"
      },
      "source": [
        "*Since p-value is well below 0.05, thus we can say that the data set is stationary data set.*"
      ]
    },
    {
      "cell_type": "markdown",
      "metadata": {
        "id": "RGukT294dReM"
      },
      "source": [
        "Now, since, data set is stationary, we can give mean and autocovariance function."
      ]
    },
    {
      "cell_type": "code",
      "metadata": {
        "colab": {
          "base_uri": "https://localhost:8080/"
        },
        "id": "b7WciVQZ4hLx",
        "outputId": "4ded83e9-f5d6-44e3-bb77-d43d85749f2a"
      },
      "source": [
        "#Mean Function\r\n",
        "mean=meanfunction(Y)\r\n",
        "print(\"The mean of the dataset is: \",mean)"
      ],
      "execution_count": 22,
      "outputs": [
        {
          "output_type": "stream",
          "text": [
            "The mean of the dataset is:  2.37924256034017\n"
          ],
          "name": "stdout"
        }
      ]
    },
    {
      "cell_type": "code",
      "metadata": {
        "colab": {
          "base_uri": "https://localhost:8080/"
        },
        "id": "veZX_dbB4hL3",
        "outputId": "056f5d76-cedb-43de-b79d-2c48fa72dbec"
      },
      "source": [
        "#Autocovariance Function\r\n",
        "a=autocovariance(Y,100,1,mean)\r\n",
        "print(\"The Autocovariance of the dataset is: \",a)"
      ],
      "execution_count": 23,
      "outputs": [
        {
          "output_type": "stream",
          "text": [
            "The Autocovariance of the dataset is:  192.95591551861006\n"
          ],
          "name": "stdout"
        }
      ]
    },
    {
      "cell_type": "code",
      "metadata": {
        "colab": {
          "base_uri": "https://localhost:8080/",
          "height": 299
        },
        "id": "41rI7B_VHy6J",
        "outputId": "d96f761f-dd34-43b9-fbf8-bc9cffbbcf06"
      },
      "source": [
        "#plotting ACF\r\n",
        "plot_acf(Y, lags=10)\r\n",
        "plt.show"
      ],
      "execution_count": 24,
      "outputs": [
        {
          "output_type": "execute_result",
          "data": {
            "text/plain": [
              "<function matplotlib.pyplot.show>"
            ]
          },
          "metadata": {
            "tags": []
          },
          "execution_count": 24
        },
        {
          "output_type": "display_data",
          "data": {
            "image/png": "[encoded data removed]",
            "text/plain": [
              "<Figure size 432x288 with 1 Axes>"
            ]
          },
          "metadata": {
            "tags": [],
            "needs_background": "light"
          }
        }
      ]
    },
    {
      "cell_type": "code",
      "metadata": {
        "colab": {
          "base_uri": "https://localhost:8080/",
          "height": 299
        },
        "id": "PfkMIAWtK8gZ",
        "outputId": "a017c698-5d58-40ba-8849-0e356c5d61ff"
      },
      "source": [
        "#plotting PACF\r\n",
        "plot_pacf(Y,lags=10)\r\n",
        "plt.show"
      ],
      "execution_count": 25,
      "outputs": [
        {
          "output_type": "execute_result",
          "data": {
            "text/plain": [
              "<function matplotlib.pyplot.show>"
            ]
          },
          "metadata": {
            "tags": []
          },
          "execution_count": 25
        },
        {
          "output_type": "display_data",
          "data": {
            "image/png": "[encoded data removed]",
            "text/plain": [
              "<Figure size 432x288 with 1 Axes>"
            ]
          },
          "metadata": {
            "tags": [],
            "needs_background": "light"
          }
        }
      ]
    },
    {
      "cell_type": "markdown",
      "metadata": {
        "id": "c2QijuNKVpyQ"
      },
      "source": [
        "## Part (d)"
      ]
    },
    {
      "cell_type": "code",
      "metadata": {
        "id": "3ceG00Oq21Iy"
      },
      "source": [
        "#creating error list\r\n",
        "error_list=np.random.normal(0, 1, 100)\r\n",
        "e=error_list"
      ],
      "execution_count": 26,
      "outputs": []
    },
    {
      "cell_type": "code",
      "metadata": {
        "id": "ikEmmRLF3eKo"
      },
      "source": [
        "#Creating t list\r\n",
        "t= list(range(1, 101))"
      ],
      "execution_count": 27,
      "outputs": []
    },
    {
      "cell_type": "code",
      "metadata": {
        "id": "A9odE_EA21JG"
      },
      "source": [
        "#Y=t+et equation for 100 observations\r\n",
        "Y=t+e"
      ],
      "execution_count": 28,
      "outputs": []
    },
    {
      "cell_type": "code",
      "metadata": {
        "colab": {
          "base_uri": "https://localhost:8080/"
        },
        "id": "zcdMFf9d21JI",
        "outputId": "4337d391-6ae0-4145-fa0b-9adb90700602"
      },
      "source": [
        "#Stationarity Check\r\n",
        "\r\n",
        "perform_adf_test(Y)"
      ],
      "execution_count": 29,
      "outputs": [
        {
          "output_type": "stream",
          "text": [
            "ADF Statistic: 0.187821\n",
            "p-value: 0.971570\n"
          ],
          "name": "stdout"
        }
      ]
    },
    {
      "cell_type": "markdown",
      "metadata": {
        "id": "0GrnnisI21JJ"
      },
      "source": [
        "*Since p-value is above 0.05, thus we can say that the data set is non-stationary data set.*"
      ]
    },
    {
      "cell_type": "code",
      "metadata": {
        "colab": {
          "base_uri": "https://localhost:8080/",
          "height": 299
        },
        "id": "THwDL2e521JK",
        "outputId": "28a09854-bd0f-44c8-ea8c-0eb0d49ea72f"
      },
      "source": [
        "#plotting ACF\r\n",
        "plot_acf(Y,lags=10)\r\n",
        "plt.show"
      ],
      "execution_count": 30,
      "outputs": [
        {
          "output_type": "execute_result",
          "data": {
            "text/plain": [
              "<function matplotlib.pyplot.show>"
            ]
          },
          "metadata": {
            "tags": []
          },
          "execution_count": 30
        },
        {
          "output_type": "display_data",
          "data": {
            "image/png": "[encoded data removed]",
            "text/plain": [
              "<Figure size 432x288 with 1 Axes>"
            ]
          },
          "metadata": {
            "tags": [],
            "needs_background": "light"
          }
        }
      ]
    },
    {
      "cell_type": "code",
      "metadata": {
        "colab": {
          "base_uri": "https://localhost:8080/",
          "height": 299
        },
        "id": "d9widJEW21JL",
        "outputId": "1334dc6f-0549-470e-e989-4997565b2bd1"
      },
      "source": [
        "#plotting PACF\r\n",
        "plot_pacf(Y,lags=10)\r\n",
        "plt.show"
      ],
      "execution_count": 31,
      "outputs": [
        {
          "output_type": "execute_result",
          "data": {
            "text/plain": [
              "<function matplotlib.pyplot.show>"
            ]
          },
          "metadata": {
            "tags": []
          },
          "execution_count": 31
        },
        {
          "output_type": "display_data",
          "data": {
            "image/png": "[encoded data removed]",
            "text/plain": [
              "<Figure size 432x288 with 1 Axes>"
            ]
          },
          "metadata": {
            "tags": [],
            "needs_background": "light"
          }
        }
      ]
    },
    {
      "cell_type": "markdown",
      "metadata": {
        "id": "zdocqjCeVu7F"
      },
      "source": [
        "## Part (e)"
      ]
    },
    {
      "cell_type": "code",
      "metadata": {
        "id": "_9wmfMGhjZKI"
      },
      "source": [
        "#creating error list\r\n",
        "error_list=np.random.normal(0,1,100)\r\n",
        "e=error_list"
      ],
      "execution_count": 32,
      "outputs": []
    },
    {
      "cell_type": "code",
      "metadata": {
        "id": "LJkk6Xwojk0S"
      },
      "source": [
        "#Y=et equation for 100 observations\r\n",
        "Y=e"
      ],
      "execution_count": 33,
      "outputs": []
    },
    {
      "cell_type": "code",
      "metadata": {
        "colab": {
          "base_uri": "https://localhost:8080/"
        },
        "id": "DfnfCcF7j1FE",
        "outputId": "f3d4e344-d52e-49b1-eb7f-e0a2ae3f82bc"
      },
      "source": [
        "#check stationarity\r\n",
        "perform_adf_test(Y)"
      ],
      "execution_count": 34,
      "outputs": [
        {
          "output_type": "stream",
          "text": [
            "ADF Statistic: -7.410084\n",
            "p-value: 0.000000\n"
          ],
          "name": "stdout"
        }
      ]
    },
    {
      "cell_type": "markdown",
      "metadata": {
        "id": "HKRrt33qkVhk"
      },
      "source": [
        "*Since p-value is well below 0.05, thus we can say that the data set is stationary data set.*"
      ]
    },
    {
      "cell_type": "markdown",
      "metadata": {
        "id": "auEhnZV0kVhq"
      },
      "source": [
        "Now, since, data set is stationary, we can give mean and autocovariance function."
      ]
    },
    {
      "cell_type": "code",
      "metadata": {
        "colab": {
          "base_uri": "https://localhost:8080/"
        },
        "id": "5QXhCZxV4zbt",
        "outputId": "2622fa2c-064c-4f22-8767-d840a989e9de"
      },
      "source": [
        "#Mean Function\r\n",
        "mean=meanfunction(Y)\r\n",
        "print(\"The mean of the dataset is: \",mean)"
      ],
      "execution_count": 35,
      "outputs": [
        {
          "output_type": "stream",
          "text": [
            "The mean of the dataset is:  0.058438455058424085\n"
          ],
          "name": "stdout"
        }
      ]
    },
    {
      "cell_type": "code",
      "metadata": {
        "colab": {
          "base_uri": "https://localhost:8080/"
        },
        "id": "5BhI8X0i4zbu",
        "outputId": "eb00331c-ee49-4c6d-a07b-f9cd8d69e13f"
      },
      "source": [
        "#Autocovariance Function\r\n",
        "a=autocovariance(Y,100,1,mean)\r\n",
        "print(\"The Autocovariance of the dataset is: \",a)"
      ],
      "execution_count": 36,
      "outputs": [
        {
          "output_type": "stream",
          "text": [
            "The Autocovariance of the dataset is:  -0.040108742882145665\n"
          ],
          "name": "stdout"
        }
      ]
    },
    {
      "cell_type": "code",
      "metadata": {
        "colab": {
          "base_uri": "https://localhost:8080/",
          "height": 299
        },
        "id": "d_YPVedQj1FG",
        "outputId": "ed2eafe5-412e-45fe-d510-150ff457aa6f"
      },
      "source": [
        "#plotting ACF\r\n",
        "plot_acf(Y,lags=10)\r\n",
        "plt.show"
      ],
      "execution_count": 38,
      "outputs": [
        {
          "output_type": "execute_result",
          "data": {
            "text/plain": [
              "<function matplotlib.pyplot.show>"
            ]
          },
          "metadata": {
            "tags": []
          },
          "execution_count": 38
        },
        {
          "output_type": "display_data",
          "data": {
            "image/png": "[encoded data removed]",
            "text/plain": [
              "<Figure size 432x288 with 1 Axes>"
            ]
          },
          "metadata": {
            "tags": [],
            "needs_background": "light"
          }
        }
      ]
    },
    {
      "cell_type": "code",
      "metadata": {
        "colab": {
          "base_uri": "https://localhost:8080/",
          "height": 299
        },
        "id": "19KoVkCkj1FH",
        "outputId": "57d06bdd-4b7c-4d55-d03f-ece4690d55eb"
      },
      "source": [
        "#plotting PACF\r\n",
        "plot_pacf(Y,lags=10)\r\n",
        "plt.show"
      ],
      "execution_count": 40,
      "outputs": [
        {
          "output_type": "execute_result",
          "data": {
            "text/plain": [
              "<function matplotlib.pyplot.show>"
            ]
          },
          "metadata": {
            "tags": []
          },
          "execution_count": 40
        },
        {
          "output_type": "display_data",
          "data": {
            "image/png": "[encoded data removed]",
            "text/plain": [
              "<Figure size 432x288 with 1 Axes>"
            ]
          },
          "metadata": {
            "tags": [],
            "needs_background": "light"
          }
        }
      ]
    },
    {
      "cell_type": "markdown",
      "metadata": {
        "id": "FD-Tlsy2VvHD"
      },
      "source": [
        "## Part (f)"
      ]
    },
    {
      "cell_type": "code",
      "metadata": {
        "id": "9l4lWI7m5pOi"
      },
      "source": [
        "#creating error list\r\n",
        "error_list=np.random.normal(0, 1, 102)\r\n",
        "e=error_list"
      ],
      "execution_count": 41,
      "outputs": []
    },
    {
      "cell_type": "code",
      "metadata": {
        "id": "o9AUDDff5pO2"
      },
      "source": [
        "#Creating 100 Y observations\r\n",
        "Y=[]\r\n",
        "for i in range(2,102):\r\n",
        "  Y.append(e[i-2]*e[i])"
      ],
      "execution_count": 42,
      "outputs": []
    },
    {
      "cell_type": "code",
      "metadata": {
        "colab": {
          "base_uri": "https://localhost:8080/"
        },
        "id": "I11DHX885pO2",
        "outputId": "04a37f71-1b10-4351-923b-b2aaf1c927d5"
      },
      "source": [
        "#Stationarity Check\r\n",
        "\r\n",
        "perform_adf_test(Y)"
      ],
      "execution_count": 43,
      "outputs": [
        {
          "output_type": "stream",
          "text": [
            "ADF Statistic: -8.900771\n",
            "p-value: 0.000000\n"
          ],
          "name": "stdout"
        }
      ]
    },
    {
      "cell_type": "markdown",
      "metadata": {
        "id": "oO9H9vTI5pO3"
      },
      "source": [
        "*Since p-value is well below 0.05, thus we can say that the data set is stationary data set.*"
      ]
    },
    {
      "cell_type": "markdown",
      "metadata": {
        "id": "jEZ8xX9v5pO4"
      },
      "source": [
        "Now, since, data set is stationary, we can give mean and autocovariance function."
      ]
    },
    {
      "cell_type": "code",
      "metadata": {
        "colab": {
          "base_uri": "https://localhost:8080/"
        },
        "id": "QeIG28UT5pO4",
        "outputId": "2bf9cf12-a93b-4b3d-fafe-2707b7a46a59"
      },
      "source": [
        "#Mean Function\r\n",
        "mean=meanfunction(Y)\r\n",
        "print(\"The mean of the dataset is: \",mean)"
      ],
      "execution_count": 44,
      "outputs": [
        {
          "output_type": "stream",
          "text": [
            "The mean of the dataset is:  -0.008457438149399008\n"
          ],
          "name": "stdout"
        }
      ]
    },
    {
      "cell_type": "code",
      "metadata": {
        "colab": {
          "base_uri": "https://localhost:8080/"
        },
        "id": "2BQ1rmh65pO5",
        "outputId": "a7730122-7efa-4dcd-9d88-dedf38d374c7"
      },
      "source": [
        "#Autocovariance Function\r\n",
        "a=autocovariance(Y,100,1,mean)\r\n",
        "print(\"The Autocovariance of the dataset is: \",a)"
      ],
      "execution_count": 45,
      "outputs": [
        {
          "output_type": "stream",
          "text": [
            "The Autocovariance of the dataset is:  0.10267168074622507\n"
          ],
          "name": "stdout"
        }
      ]
    },
    {
      "cell_type": "code",
      "metadata": {
        "colab": {
          "base_uri": "https://localhost:8080/",
          "height": 299
        },
        "id": "E_PyoZQG5pO6",
        "outputId": "e3ebf055-dc33-475b-e646-9bfa7dad6b86"
      },
      "source": [
        "#plotting ACF\r\n",
        "plot_acf(Y, lags=10)\r\n",
        "plt.show"
      ],
      "execution_count": 46,
      "outputs": [
        {
          "output_type": "execute_result",
          "data": {
            "text/plain": [
              "<function matplotlib.pyplot.show>"
            ]
          },
          "metadata": {
            "tags": []
          },
          "execution_count": 46
        },
        {
          "output_type": "display_data",
          "data": {
            "image/png": "[encoded data removed]",
            "text/plain": [
              "<Figure size 432x288 with 1 Axes>"
            ]
          },
          "metadata": {
            "tags": [],
            "needs_background": "light"
          }
        }
      ]
    },
    {
      "cell_type": "code",
      "metadata": {
        "colab": {
          "base_uri": "https://localhost:8080/",
          "height": 299
        },
        "id": "AEWsWLCN5pO6",
        "outputId": "6259d64f-fcae-4bce-904a-974d162ec00f"
      },
      "source": [
        "#plotting PACF\r\n",
        "plot_pacf(Y,lags=10)\r\n",
        "plt.show"
      ],
      "execution_count": 47,
      "outputs": [
        {
          "output_type": "execute_result",
          "data": {
            "text/plain": [
              "<function matplotlib.pyplot.show>"
            ]
          },
          "metadata": {
            "tags": []
          },
          "execution_count": 47
        },
        {
          "output_type": "display_data",
          "data": {
            "image/png": "[encoded data removed]",
            "text/plain": [
              "<Figure size 432x288 with 1 Axes>"
            ]
          },
          "metadata": {
            "tags": [],
            "needs_background": "light"
          }
        }
      ]
    }
  ]
}