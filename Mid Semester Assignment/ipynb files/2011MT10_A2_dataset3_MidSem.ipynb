{
  "nbformat": 4,
  "nbformat_minor": 0,
  "metadata": {
    "colab": {
      "name": "2011MT10_A2_dataset3_MidSem.ipynb",
      "provenance": [],
      "collapsed_sections": []
    },
    "kernelspec": {
      "name": "python3",
      "display_name": "Python 3"
    }
  },
  "cells": [
    {
      "cell_type": "code",
      "metadata": {
        "colab": {
          "base_uri": "https://localhost:8080/"
        },
        "id": "u0mK7opwrnbs",
        "outputId": "808b80fb-2b92-4c74-ec10-c7494dc30a89"
      },
      "source": [
        "!pip3 install pmdarima"
      ],
      "execution_count": 275,
      "outputs": [
        {
          "output_type": "stream",
          "text": [
            "Requirement already satisfied: pmdarima in /usr/local/lib/python3.7/dist-packages (1.8.0)\n",
            "Requirement already satisfied: numpy>=1.17.3 in /usr/local/lib/python3.7/dist-packages (from pmdarima) (1.19.5)\n",
            "Requirement already satisfied: Cython<0.29.18,>=0.29 in /usr/local/lib/python3.7/dist-packages (from pmdarima) (0.29.17)\n",
            "Requirement already satisfied: urllib3 in /usr/local/lib/python3.7/dist-packages (from pmdarima) (1.24.3)\n",
            "Requirement already satisfied: setuptools!=50.0.0,>=38.6.0 in /usr/local/lib/python3.7/dist-packages (from pmdarima) (53.0.0)\n",
            "Requirement already satisfied: joblib>=0.11 in /usr/local/lib/python3.7/dist-packages (from pmdarima) (1.0.1)\n",
            "Requirement already satisfied: statsmodels!=0.12.0,>=0.11 in /usr/local/lib/python3.7/dist-packages (from pmdarima) (0.12.2)\n",
            "Requirement already satisfied: scipy>=1.3.2 in /usr/local/lib/python3.7/dist-packages (from pmdarima) (1.4.1)\n",
            "Requirement already satisfied: scikit-learn>=0.22 in /usr/local/lib/python3.7/dist-packages (from pmdarima) (0.22.2.post1)\n",
            "Requirement already satisfied: pandas>=0.19 in /usr/local/lib/python3.7/dist-packages (from pmdarima) (1.1.5)\n",
            "Requirement already satisfied: patsy>=0.5 in /usr/local/lib/python3.7/dist-packages (from statsmodels!=0.12.0,>=0.11->pmdarima) (0.5.1)\n",
            "Requirement already satisfied: pytz>=2017.2 in /usr/local/lib/python3.7/dist-packages (from pandas>=0.19->pmdarima) (2018.9)\n",
            "Requirement already satisfied: python-dateutil>=2.7.3 in /usr/local/lib/python3.7/dist-packages (from pandas>=0.19->pmdarima) (2.8.1)\n",
            "Requirement already satisfied: six in /usr/local/lib/python3.7/dist-packages (from patsy>=0.5->statsmodels!=0.12.0,>=0.11->pmdarima) (1.15.0)\n"
          ],
          "name": "stdout"
        }
      ]
    },
    {
      "cell_type": "code",
      "metadata": {
        "id": "Maxhevw21AUw"
      },
      "source": [
        "# Import package\r\n",
        "import numpy as np\r\n",
        "import pandas as pd\r\n",
        "import matplotlib.pyplot as plt\r\n",
        "import warnings \r\n",
        "from statsmodels.tsa.api import SimpleExpSmoothing\r\n",
        "from sklearn.metrics import mean_squared_error\r\n",
        "from sklearn.metrics import mean_absolute_error \r\n",
        "from datetime import datetime\r\n",
        "from statsmodels.tsa.arima_model import ARIMA\r\n",
        "from statsmodels.graphics.tsaplots import plot_acf,plot_pacf\r\n",
        "\r\n",
        "\r\n",
        "warnings.simplefilter('ignore')"
      ],
      "execution_count": 276,
      "outputs": []
    },
    {
      "cell_type": "code",
      "metadata": {
        "id": "ky35eTQw5Xj5"
      },
      "source": [
        "data = pd.read_csv('Dataset3_nasdaq_1985_2014.csv',names = ['nasdaq_1985_2014'])\r\n"
      ],
      "execution_count": 277,
      "outputs": []
    },
    {
      "cell_type": "markdown",
      "metadata": {
        "id": "mMd20j3_u_4z"
      },
      "source": [
        "**Applying KPSS and ADF test**"
      ]
    },
    {
      "cell_type": "markdown",
      "metadata": {
        "id": "icHMbchgvRp5"
      },
      "source": [
        "1. ADF test"
      ]
    },
    {
      "cell_type": "code",
      "metadata": {
        "colab": {
          "base_uri": "https://localhost:8080/"
        },
        "id": "zxKgHkUQvUHb",
        "outputId": "d6a49867-43cc-49b9-aa60-0782ca124a35"
      },
      "source": [
        "#define function for ADF test\r\n",
        "from statsmodels.tsa.stattools import adfuller\r\n",
        "\r\n",
        "def adf_test(atr):\r\n",
        "    #Perform Dickey-Fuller test:\r\n",
        "    timeseries = data[atr].dropna()\r\n",
        "    print ('Results of Dickey-Fuller Test for ',atr,'\\n')\r\n",
        "    dftest = adfuller(timeseries, autolag='AIC')\r\n",
        "    dfoutput = pd.Series(dftest[0:4], index=['Test Statistic','p-value','#Lags Used','Number of Observations Used'])\r\n",
        "    for key,value in dftest[4].items():\r\n",
        "       dfoutput['Critical Value (%s)'%key] = value\r\n",
        "    print(dfoutput)\r\n",
        "\r\n",
        "#apply adf test on the series\r\n",
        "adf_test('nasdaq_1985_2014')"
      ],
      "execution_count": 278,
      "outputs": [
        {
          "output_type": "stream",
          "text": [
            "Results of Dickey-Fuller Test for  nasdaq_1985_2014 \n",
            "\n",
            "Test Statistic                   -2.381102\n",
            "p-value                           0.147141\n",
            "#Lags Used                       35.000000\n",
            "Number of Observations Used    7240.000000\n",
            "Critical Value (1%)              -3.431254\n",
            "Critical Value (5%)              -2.861939\n",
            "Critical Value (10%)             -2.566983\n",
            "dtype: float64\n"
          ],
          "name": "stdout"
        }
      ]
    },
    {
      "cell_type": "markdown",
      "metadata": {
        "id": "d1ZvfmZdw6KM"
      },
      "source": [
        "2. KPSS test"
      ]
    },
    {
      "cell_type": "code",
      "metadata": {
        "colab": {
          "base_uri": "https://localhost:8080/"
        },
        "id": "LkI3aYQ_xDxy",
        "outputId": "01b46a06-1678-4909-a3a4-274f9c9051b3"
      },
      "source": [
        "#define function for kpss test\r\n",
        "from statsmodels.tsa.stattools import kpss\r\n",
        "#define KPSS\r\n",
        "def kpss_test(atr):\r\n",
        "    timeseries = data[atr].dropna()\r\n",
        "    print ('Results of KPSS Test for ',atr)\r\n",
        "    kpsstest = kpss(timeseries, regression='c')\r\n",
        "    kpss_output = pd.Series(kpsstest[0:3], index=['Test Statistic','p-value','Lags Used'])\r\n",
        "    for key,value in kpsstest[3].items():\r\n",
        "        kpss_output['Critical Value (%s)'%key] = value\r\n",
        "    print (kpss_output)\r\n",
        "kpss_test('nasdaq_1985_2014')"
      ],
      "execution_count": 279,
      "outputs": [
        {
          "output_type": "stream",
          "text": [
            "Results of KPSS Test for  nasdaq_1985_2014\n",
            "Test Statistic           12.143812\n",
            "p-value                   0.010000\n",
            "Lags Used                36.000000\n",
            "Critical Value (10%)      0.347000\n",
            "Critical Value (5%)       0.463000\n",
            "Critical Value (2.5%)     0.574000\n",
            "Critical Value (1%)       0.739000\n",
            "dtype: float64\n"
          ],
          "name": "stdout"
        }
      ]
    },
    {
      "cell_type": "markdown",
      "metadata": {
        "id": "A9PEydfjxb6E"
      },
      "source": [
        "For ADF test, we can see that the p-value  is more than 0.05. Thus, from ADF test, we can say that the dataset is non-stationary.\r\n",
        "\r\n",
        "For KPSS test, Test Statistic is more than Critical Value, thus we reject the null hypothesis. Thus, from KPSS test, we can say that the dataset is non-stationary.\r\n",
        "\r\n",
        "Since, both tests conclude that the series is stationary, therefore, the dataset is concluded as Non-Stationary."
      ]
    },
    {
      "cell_type": "markdown",
      "metadata": {
        "id": "fFo2HJZCFkv6"
      },
      "source": [
        "\r\n",
        "\r\n",
        "---\r\n",
        "\r\n"
      ]
    },
    {
      "cell_type": "markdown",
      "metadata": {
        "id": "Xsmv1jFfFmge"
      },
      "source": [
        "Making dataset stationary with differencing\r\n"
      ]
    },
    {
      "cell_type": "code",
      "metadata": {
        "colab": {
          "base_uri": "https://localhost:8080/",
          "height": 647
        },
        "id": "PBU2Z2YxBj1X",
        "outputId": "2a71a2c4-662e-4c44-9074-ddc682ef4b0c"
      },
      "source": [
        "# Differencing\r\n",
        "data['diff'] = data['nasdaq_1985_2014'].diff(periods=1)\r\n",
        "\r\n",
        "data.plot(subplots=True, figsize=(10,12))\r\n",
        "plt.show()"
      ],
      "execution_count": 280,
      "outputs": [
        {
          "output_type": "display_data",
          "data": {
            "image/png": "[encoded data removed]",
            "text/plain": [
              "<Figure size 720x864 with 2 Axes>"
            ]
          },
          "metadata": {
            "tags": [],
            "needs_background": "light"
          }
        }
      ]
    },
    {
      "cell_type": "markdown",
      "metadata": {
        "id": "HDJevnvwlaOV"
      },
      "source": [
        "\r\n",
        "\r\n",
        "---\r\n",
        "\r\n"
      ]
    },
    {
      "cell_type": "markdown",
      "metadata": {
        "id": "y81HF5Gh7Prn"
      },
      "source": [
        "Applying Exponential Smoothening"
      ]
    },
    {
      "cell_type": "code",
      "metadata": {
        "id": "hWQKX8Wi7VUV"
      },
      "source": [
        "#List of least mse and mae\r\n",
        "mseses=[]\r\n",
        "msedes=[]\r\n",
        "msetes=[]\r\n",
        "maeses=[]\r\n",
        "maedes=[]\r\n",
        "maetes=[]"
      ],
      "execution_count": 281,
      "outputs": []
    },
    {
      "cell_type": "markdown",
      "metadata": {
        "id": "8wkpep7szSKV"
      },
      "source": [
        "**Single Exponential Smoothing**"
      ]
    },
    {
      "cell_type": "code",
      "metadata": {
        "id": "iaSYixFYFa7-"
      },
      "source": [
        "#Defining Single Exponential Smoothing function ses\r\n",
        "def ses(arr,alpha):\r\n",
        "    arr1 = [arr[0]]\r\n",
        "    for i in range(1, len(arr)):\r\n",
        "        arr1.append(alpha * arr[i-1] + (1 - alpha) * arr1[i-1])\r\n",
        "    return arr1"
      ],
      "execution_count": 282,
      "outputs": []
    },
    {
      "cell_type": "code",
      "metadata": {
        "id": "WqDKrNkzXdqh"
      },
      "source": [
        "#Defining Mean of Squared Error Function mse\r\n",
        "def mse(arr1,arr2):\r\n",
        "  arr3=[0]\r\n",
        "  for i, j in zip(arr1, arr2):\r\n",
        "    arr3.append(i-j)\r\n",
        "  Sum=0\r\n",
        "  for i in arr3:\r\n",
        "    sqr=i**2\r\n",
        "    Sum+=sqr\r\n",
        "  mse=Sum/(len(arr2)-1)\r\n",
        "  return mse"
      ],
      "execution_count": 283,
      "outputs": []
    },
    {
      "cell_type": "code",
      "metadata": {
        "id": "I-Q-YepamrGH"
      },
      "source": [
        "#Function to make list of demand with interval 'n'\r\n",
        "def dem_n(arr,n):\r\n",
        "  arr1=[arr[0]]\r\n",
        "  for i in range(1,len(arr)):\r\n",
        "    if i%n==0:  \r\n",
        "      arr1.append(arr[i])\r\n",
        "  return arr1"
      ],
      "execution_count": 284,
      "outputs": []
    },
    {
      "cell_type": "code",
      "metadata": {
        "id": "SrsumhCssIOI"
      },
      "source": [
        "#Creating demand list in 'n' intervals\r\n",
        "demand=dem_n(data.nasdaq_1985_2014,1)"
      ],
      "execution_count": 285,
      "outputs": []
    },
    {
      "cell_type": "code",
      "metadata": {
        "id": "GZwPqdpgcbuF"
      },
      "source": [
        "#Forecasting\r\n",
        "alpha1=0.2\r\n",
        "alpha2=0.5\r\n",
        "alpha3=0.8\r\n",
        "\r\n",
        "forecast1=ses(demand,alpha1)\r\n",
        "forecast2=ses(demand,alpha2)\r\n",
        "forecast3=ses(demand,alpha3)"
      ],
      "execution_count": 286,
      "outputs": []
    },
    {
      "cell_type": "code",
      "metadata": {
        "colab": {
          "base_uri": "https://localhost:8080/"
        },
        "id": "Io0w2dQ7dvwH",
        "outputId": "00bdad1f-01fd-4a03-cdb4-50630791272e"
      },
      "source": [
        "#Calculating Mean of Square Errors\r\n",
        "mse1=mean_squared_error(demand,forecast1)\r\n",
        "mse2=mean_squared_error(demand,forecast2)\r\n",
        "mse3=mean_squared_error(demand,forecast3)\r\n",
        "\r\n",
        "print(\"Mean of Square Errors for alpha = 0.2 is: \",mse1)\r\n",
        "print(\"Mean of Square Errors for alpha = 0.5 is: \",mse2)\r\n",
        "print(\"Mean of Square Errors for alpha = 0.8 is: \",mse3)"
      ],
      "execution_count": 287,
      "outputs": [
        {
          "output_type": "stream",
          "text": [
            "Mean of Square Errors for alpha = 0.2 is:  2472.741440084606\n",
            "Mean of Square Errors for alpha = 0.5 is:  1336.440186179414\n",
            "Mean of Square Errors for alpha = 0.8 is:  1117.7909898783196\n"
          ],
          "name": "stdout"
        }
      ]
    },
    {
      "cell_type": "code",
      "metadata": {
        "colab": {
          "base_uri": "https://localhost:8080/"
        },
        "id": "bXWU3byPy1Sb",
        "outputId": "6828bd07-8809-4d2a-bfd0-665d8630efe5"
      },
      "source": [
        "#Calculating Mean Absolute Errors\r\n",
        "mae1=mean_absolute_error(demand,forecast1)\r\n",
        "mae2=mean_absolute_error(demand,forecast2)\r\n",
        "mae3=mean_absolute_error(demand,forecast3)\r\n",
        "\r\n",
        "print(\"Mean Absolute Errors for alpha = 0.2 is: \",mae1)\r\n",
        "print(\"Mean Absolute Errors for alpha = 0.5 is: \",mae2)\r\n",
        "print(\"Mean Absolute Errors for alpha = 0.8 is: \",mae3)"
      ],
      "execution_count": 288,
      "outputs": [
        {
          "output_type": "stream",
          "text": [
            "Mean Absolute Errors for alpha = 0.2 is:  28.000982741860746\n",
            "Mean Absolute Errors for alpha = 0.5 is:  19.850599625184778\n",
            "Mean Absolute Errors for alpha = 0.8 is:  17.774120514236166\n"
          ],
          "name": "stdout"
        }
      ]
    },
    {
      "cell_type": "code",
      "metadata": {
        "colab": {
          "base_uri": "https://localhost:8080/",
          "height": 283
        },
        "id": "j9hwctrYfFko",
        "outputId": "4822de20-280c-41d3-e2d1-891f2b023da7"
      },
      "source": [
        "#Comparing mse and plotting for least mse\r\n",
        "d1={'Demand':demand,'Forecast':forecast1}\r\n",
        "d2={'Demand':demand,'Forecast':forecast2}\r\n",
        "d3={'Demand':demand,'Forecast':forecast3}\r\n",
        "\r\n",
        "df1=pd.DataFrame(d1)\r\n",
        "df2=pd.DataFrame(d2)\r\n",
        "df3=pd.DataFrame(d3)\r\n",
        "\r\n",
        "if mse1<=mse2 and mse1<=mse3:\r\n",
        "  print('alpha: ',alpha1)\r\n",
        "  df1.plot(style=['-','-'])\r\n",
        "elif mse2<=mse1 and mse2<=mse3:\r\n",
        "  print('alpha: ',alpha2)\r\n",
        "  df2.plot(style=['-','-'])\r\n",
        "else:\r\n",
        "  print('alpha: ',alpha3)\r\n",
        "  df3.plot(style=['-','-'])\r\n"
      ],
      "execution_count": 289,
      "outputs": [
        {
          "output_type": "stream",
          "text": [
            "alpha:  0.8\n"
          ],
          "name": "stdout"
        },
        {
          "output_type": "display_data",
          "data": {
            "image/png": "[encoded data removed]",
            "text/plain": [
              "<Figure size 432x288 with 1 Axes>"
            ]
          },
          "metadata": {
            "tags": [],
            "needs_background": "light"
          }
        }
      ]
    },
    {
      "cell_type": "markdown",
      "metadata": {
        "id": "7RXgUgIgo3vA"
      },
      "source": [
        "**Double Exponential Smoothing**"
      ]
    },
    {
      "cell_type": "code",
      "metadata": {
        "id": "mqw1s40ePOB0"
      },
      "source": [
        "#Defining Double Exponential Smoothing function des\r\n",
        "def des(arr,alpha,beta):\r\n",
        "  a=[arr[0]]\r\n",
        "  l=len(arr)\r\n",
        "  b=[(arr[l-1]-arr[0])/(l-1)]\r\n",
        "  arr1 = [arr[0]]\r\n",
        "  arr1.append(a[0]+b[0])\r\n",
        "  for i in range(1,len(arr)-1):\r\n",
        "      a.append(alpha * arr[i] + (1 - alpha) * (a[i-1]+b[i-1]))\r\n",
        "      b.append(beta * (a[i]-a[i-1]) + (1 - beta) * (b[i-1]))        \r\n",
        "      arr1.append(a[i]+b[i])\r\n",
        "  return arr1"
      ],
      "execution_count": 290,
      "outputs": []
    },
    {
      "cell_type": "code",
      "metadata": {
        "id": "TgR6dYUYux6f"
      },
      "source": [
        "#Creating demand list in 'n' intervals\r\n",
        "demand=dem_n(data.nasdaq_1985_2014,1)"
      ],
      "execution_count": 291,
      "outputs": []
    },
    {
      "cell_type": "code",
      "metadata": {
        "id": "7rPm77U7g1nE"
      },
      "source": [
        "#Forecasting\r\n",
        "alpha1=0.2\r\n",
        "alpha2=0.5\r\n",
        "alpha3=0.8\r\n",
        "\r\n",
        "beta1=0.3\r\n",
        "beta2=0.6\r\n",
        "beta3=0.9\r\n",
        "\r\n",
        "forecast1=des(demand,alpha1,beta1)\r\n",
        "forecast2=des(demand,alpha2,beta2)\r\n",
        "forecast3=des(demand,alpha3,beta3)"
      ],
      "execution_count": 292,
      "outputs": []
    },
    {
      "cell_type": "code",
      "metadata": {
        "colab": {
          "base_uri": "https://localhost:8080/"
        },
        "id": "YPIb0UzVk4RH",
        "outputId": "482aa31e-2242-4d52-bb1b-c9efb4672150"
      },
      "source": [
        "#Calculating Mean of Square Errors\r\n",
        "mse1=mean_squared_error(demand,forecast1)\r\n",
        "mse2=mean_squared_error(demand,forecast2)\r\n",
        "mse3=mean_squared_error(demand,forecast3)\r\n",
        "\r\n",
        "print(\"Mean of Square Errors for alpha = 0.2,beta= 0.3 is: \",mse1)\r\n",
        "print(\"Mean of Square Errors for alpha = 0.5,beta= 0.6 is: \",mse2)\r\n",
        "print(\"Mean of Square Errors for alpha = 0.8,beta= 0.9 is: \",mse3)"
      ],
      "execution_count": 293,
      "outputs": [
        {
          "output_type": "stream",
          "text": [
            "Mean of Square Errors for alpha = 0.2,beta= 0.3 is:  2536.946969983234\n",
            "Mean of Square Errors for alpha = 0.5,beta= 0.6 is:  1610.849168270192\n",
            "Mean of Square Errors for alpha = 0.8,beta= 0.9 is:  1730.2882602330976\n"
          ],
          "name": "stdout"
        }
      ]
    },
    {
      "cell_type": "code",
      "metadata": {
        "colab": {
          "base_uri": "https://localhost:8080/"
        },
        "id": "djQNXKgbzZbI",
        "outputId": "95ee298d-7d49-4218-c3b4-3d7eda4694c6"
      },
      "source": [
        "#Calculating Mean Absolute Errors\r\n",
        "mae1=mean_absolute_error(demand,forecast1)\r\n",
        "mae2=mean_absolute_error(demand,forecast2)\r\n",
        "mae3=mean_absolute_error(demand,forecast3)\r\n",
        "\r\n",
        "print(\"Mean Absolute Errors for alpha = 0.2,beta= 0.3 is: \",mae1)\r\n",
        "print(\"Mean Absolute Errors for alpha = 0.5,beta= 0.6 is: \",mae2)\r\n",
        "print(\"Mean Absolute Errors for alpha = 0.8,beta= 0.9 is: \",mae3)"
      ],
      "execution_count": 294,
      "outputs": [
        {
          "output_type": "stream",
          "text": [
            "Mean Absolute Errors for alpha = 0.2,beta= 0.3 is:  27.818256325155097\n",
            "Mean Absolute Errors for alpha = 0.5,beta= 0.6 is:  21.526120724184242\n",
            "Mean Absolute Errors for alpha = 0.8,beta= 0.9 is:  21.86028543903852\n"
          ],
          "name": "stdout"
        }
      ]
    },
    {
      "cell_type": "code",
      "metadata": {
        "colab": {
          "base_uri": "https://localhost:8080/",
          "height": 300
        },
        "id": "qIqgoTnrlyq9",
        "outputId": "1c8c5f5d-b8b4-489d-a46f-879aa67175a4"
      },
      "source": [
        "#Comparing mse and plotting for least mse\r\n",
        "d1={'Demand':demand,'Forecast':forecast1}\r\n",
        "d2={'Demand':demand,'Forecast':forecast2}\r\n",
        "d3={'Demand':demand,'Forecast':forecast3}\r\n",
        "\r\n",
        "df1=pd.DataFrame(d1)\r\n",
        "df2=pd.DataFrame(d2)\r\n",
        "df3=pd.DataFrame(d3)\r\n",
        "\r\n",
        "if mse1<=mse2 and mse1<=mse3:\r\n",
        "  print('alpha: ',alpha1)\r\n",
        "  print('beta: ',beta1)\r\n",
        "  df1.plot(style=['-','-'])\r\n",
        "elif mse2<=mse1 and mse2<=mse3:\r\n",
        "  print('alpha: ',alpha2)\r\n",
        "  print('beta: ',beta2)\r\n",
        "  df2.plot(style=['-','-'])\r\n",
        "else:\r\n",
        "  print('alpha: ',alpha3)\r\n",
        "  print('beta: ',beta3)\r\n",
        "  df3.plot(style=['-','-'])"
      ],
      "execution_count": 295,
      "outputs": [
        {
          "output_type": "stream",
          "text": [
            "alpha:  0.5\n",
            "beta:  0.6\n"
          ],
          "name": "stdout"
        },
        {
          "output_type": "display_data",
          "data": {
            "image/png": "[encoded data removed]",
            "text/plain": [
              "<Figure size 432x288 with 1 Axes>"
            ]
          },
          "metadata": {
            "tags": [],
            "needs_background": "light"
          }
        }
      ]
    },
    {
      "cell_type": "markdown",
      "metadata": {
        "id": "DGpYPopmv7TH"
      },
      "source": [
        "**Triple Exponential Smoothing**"
      ]
    },
    {
      "cell_type": "code",
      "metadata": {
        "id": "l0ZKJXeHwC0q"
      },
      "source": [
        "#Defining initial trend\r\n",
        "def initial_trend(arr, slen):\r\n",
        "    Sum = 0\r\n",
        "    for i in range(slen):\r\n",
        "        Sum += float(arr[i+slen] - arr[i]) / slen\r\n",
        "    return Sum / slen"
      ],
      "execution_count": 296,
      "outputs": []
    },
    {
      "cell_type": "code",
      "metadata": {
        "id": "lglCjK_Rd8yH"
      },
      "source": [
        "#Defining initial seasonal\r\n",
        "def initial_seasonal(arr, slen):\r\n",
        "    arr1 = {}\r\n",
        "    s_avg = []\r\n",
        "    m = int(len(arr)/slen)\r\n",
        "    for j in range(m):\r\n",
        "        s_avg.append(sum(arr[slen*j:slen*j+slen])/float(slen))\r\n",
        "    for i in range(slen):\r\n",
        "        Sum = 0\r\n",
        "        for j in range(m):\r\n",
        "            Sum += arr[slen*j+i]-s_avg[j]\r\n",
        "        arr1[i] = Sum/m\r\n",
        "    return arr1"
      ],
      "execution_count": 297,
      "outputs": []
    },
    {
      "cell_type": "code",
      "metadata": {
        "id": "8HGtD3M9eGus"
      },
      "source": [
        "#Defining Triple Exponential Smoothing function tes with interval 'n'\r\n",
        "def tes(arr, slen, alpha, beta, gamma, n):\r\n",
        "    arr1 = []\r\n",
        "    seasonals = initial_seasonal(arr, slen)\r\n",
        "    for i in range(len(arr)+n):\r\n",
        "        if i == 0:\r\n",
        "            smooth = arr[0]\r\n",
        "            trend = initial_trend(arr, slen)\r\n",
        "            arr1.append(arr[0])\r\n",
        "            continue\r\n",
        "        if i >= len(arr):\r\n",
        "            m = i - len(arr) + 1\r\n",
        "            arr1.append((smooth + m*trend) + seasonals[i%slen])\r\n",
        "        else:\r\n",
        "            val = arr[i]\r\n",
        "            lsmooth, smooth = smooth, alpha*(val-seasonals[i%slen]) + (1-alpha)*(smooth+trend)\r\n",
        "            trend = beta * (smooth-lsmooth) + (1-beta)*trend\r\n",
        "            seasonals[i%slen] = gamma*(val-smooth) + (1-gamma)*seasonals[i%slen]\r\n",
        "            arr1.append(smooth+trend+seasonals[i%slen])\r\n",
        "    return arr1"
      ],
      "execution_count": 298,
      "outputs": []
    },
    {
      "cell_type": "code",
      "metadata": {
        "id": "3a9Gm5x9iF2a"
      },
      "source": [
        "#Creating demand list in 'n' intervals\r\n",
        "demand=dem_n(data.nasdaq_1985_2014,1)"
      ],
      "execution_count": 299,
      "outputs": []
    },
    {
      "cell_type": "code",
      "metadata": {
        "id": "NCQyHA5FfY19"
      },
      "source": [
        "#Forecasting\r\n",
        "alpha1=0.2\r\n",
        "alpha2=0.5\r\n",
        "alpha3=0.8\r\n",
        "\r\n",
        "beta1=0.3\r\n",
        "beta2=0.6\r\n",
        "beta3=0.9\r\n",
        "\r\n",
        "gamma1=0.4\r\n",
        "gamma2=0.7\r\n",
        "gamma3=0.95\r\n",
        "\r\n",
        "#Considering season of 1 hours here\r\n",
        "\r\n",
        "forecast1=tes(demand,1,alpha1,beta1,gamma1,0)\r\n",
        "forecast2=tes(demand,1,alpha2,beta2,gamma2,0)\r\n",
        "forecast3=tes(demand,1,alpha3,beta3,gamma3,0)"
      ],
      "execution_count": 300,
      "outputs": []
    },
    {
      "cell_type": "code",
      "metadata": {
        "colab": {
          "base_uri": "https://localhost:8080/"
        },
        "id": "Md6AMPpzi5wa",
        "outputId": "d89ddcb8-b992-404c-80db-d244e873b445"
      },
      "source": [
        "#Calculating mean of sqaured errors\r\n",
        "mse1=mean_squared_error(demand,forecast1)\r\n",
        "mse2=mean_squared_error(demand,forecast2)\r\n",
        "mse3=mean_squared_error(demand,forecast3)\r\n",
        "\r\n",
        "print(\"Mean of Square Errors for alpha = 0.2,beta= 0.3 gamma=0.4 is: \",mse1)\r\n",
        "print(\"Mean of Square Errors for alpha = 0.5,beta= 0.6 gamma=0.7 is: \",mse2)\r\n",
        "print(\"Mean of Square Errors for alpha = 0.8,beta= 0.9 gamma=0.95 is: \",mse3)"
      ],
      "execution_count": 301,
      "outputs": [
        {
          "output_type": "stream",
          "text": [
            "Mean of Square Errors for alpha = 0.2,beta= 0.3 gamma=0.4 is:  324.98461283387843\n",
            "Mean of Square Errors for alpha = 0.5,beta= 0.6 gamma=0.7 is:  159.5560160348016\n",
            "Mean of Square Errors for alpha = 0.8,beta= 0.9 gamma=0.95 is:  584.5190867801982\n"
          ],
          "name": "stdout"
        }
      ]
    },
    {
      "cell_type": "code",
      "metadata": {
        "colab": {
          "base_uri": "https://localhost:8080/"
        },
        "id": "_R9Go-Oez2ue",
        "outputId": "24e5a357-a659-42b3-ce2b-ac3c32eba200"
      },
      "source": [
        "#Calculating Mean Absolute Errors\r\n",
        "mae1=mean_absolute_error(demand,forecast1)\r\n",
        "mae2=mean_absolute_error(demand,forecast2)\r\n",
        "mae3=mean_absolute_error(demand,forecast3)\r\n",
        "\r\n",
        "print(\"Mean Absolute Errors for alpha = 0.2,beta= 0.3, gamma=0.4 is: \",mae1)\r\n",
        "print(\"Mean Absolute Errors for alpha = 0.5,beta= 0.6, gamma=0.7 is: \",mae2)\r\n",
        "print(\"Mean Absolute Errors for alpha = 0.8,beta= 0.9, gamma=0.95 is: \",mae3)"
      ],
      "execution_count": 302,
      "outputs": [
        {
          "output_type": "stream",
          "text": [
            "Mean Absolute Errors for alpha = 0.2,beta= 0.3, gamma=0.4 is:  9.812028958449401\n",
            "Mean Absolute Errors for alpha = 0.5,beta= 0.6, gamma=0.7 is:  7.130769745696372\n",
            "Mean Absolute Errors for alpha = 0.8,beta= 0.9, gamma=0.95 is:  12.927075494158293\n"
          ],
          "name": "stdout"
        }
      ]
    },
    {
      "cell_type": "code",
      "metadata": {
        "colab": {
          "base_uri": "https://localhost:8080/",
          "height": 319
        },
        "id": "4xPGF2WvjlOC",
        "outputId": "34a56661-e8e5-40f3-b38d-c3dfaa58cef8"
      },
      "source": [
        "#Comparing mse and plotting for least mse\r\n",
        "d1={'Demand':demand,'Forecast':forecast1}\r\n",
        "d2={'Demand':demand,'Forecast':forecast2}\r\n",
        "d3={'Demand':demand,'Forecast':forecast3}\r\n",
        "\r\n",
        "df1=pd.DataFrame(d1)\r\n",
        "df2=pd.DataFrame(d2)\r\n",
        "df3=pd.DataFrame(d3)\r\n",
        "\r\n",
        "if mse1<=mse2 and mse1<=mse3:\r\n",
        "  print('alpha: ',alpha1)\r\n",
        "  print('beta: ',beta1)\r\n",
        "  print('gamma: ',gamma1)\r\n",
        "  df1.plot(style=['-','-'])\r\n",
        "elif mse2<=mse1 and mse2<=mse3:\r\n",
        "  print('alpha: ',alpha2)\r\n",
        "  print('beta: ',beta2)\r\n",
        "  print('gamma: ',gamma2)\r\n",
        "  df2.plot(style=['-','-'])\r\n",
        "else:\r\n",
        "  print('alpha: ',alpha3)\r\n",
        "  print('beta: ',beta3)\r\n",
        "  print('gamma: ',gamma3)\r\n",
        "  df3.plot(style=['-','-'])"
      ],
      "execution_count": 303,
      "outputs": [
        {
          "output_type": "stream",
          "text": [
            "alpha:  0.5\n",
            "beta:  0.6\n",
            "gamma:  0.7\n"
          ],
          "name": "stdout"
        },
        {
          "output_type": "display_data",
          "data": {
            "image/png": "[encoded data removed]",
            "text/plain": [
              "<Figure size 432x288 with 1 Axes>"
            ]
          },
          "metadata": {
            "tags": [],
            "needs_background": "light"
          }
        }
      ]
    },
    {
      "cell_type": "markdown",
      "metadata": {
        "id": "q2GM2ZPDqpSx"
      },
      "source": [
        "\r\n",
        "\r\n",
        "---\r\n",
        "\r\n"
      ]
    },
    {
      "cell_type": "markdown",
      "metadata": {
        "id": "znSGiFHJsujW"
      },
      "source": [
        "For 1 Unit"
      ]
    },
    {
      "cell_type": "markdown",
      "metadata": {
        "id": "-X63WEprsy4X"
      },
      "source": [
        "**Single Exponential Smoothing**"
      ]
    },
    {
      "cell_type": "code",
      "metadata": {
        "id": "7bHzPgUZsy4c"
      },
      "source": [
        "#Creating demand list in 'n' intervals\r\n",
        "demand=dem_n(data.nasdaq_1985_2014,1)"
      ],
      "execution_count": 304,
      "outputs": []
    },
    {
      "cell_type": "code",
      "metadata": {
        "id": "uLxZE7vYsy4d"
      },
      "source": [
        "#Forecasting\r\n",
        "alpha1=0.2\r\n",
        "alpha2=0.5\r\n",
        "alpha3=0.8\r\n",
        "\r\n",
        "forecast1=ses(demand,alpha1)\r\n",
        "forecast2=ses(demand,alpha2)\r\n",
        "forecast3=ses(demand,alpha3)"
      ],
      "execution_count": 305,
      "outputs": []
    },
    {
      "cell_type": "code",
      "metadata": {
        "colab": {
          "base_uri": "https://localhost:8080/"
        },
        "id": "QBJPRnbBsy4d",
        "outputId": "f32f652a-6e0f-44f9-e7ea-96f6d100b5da"
      },
      "source": [
        "#Calculating Mean of Square Errors\r\n",
        "mse1=mean_squared_error(demand,forecast1)\r\n",
        "mse2=mean_squared_error(demand,forecast2)\r\n",
        "mse3=mean_squared_error(demand,forecast3)\r\n",
        "\r\n",
        "print(\"Mean of Square Errors for alpha = 0.2 is: \",mse1)\r\n",
        "print(\"Mean of Square Errors for alpha = 0.5 is: \",mse2)\r\n",
        "print(\"Mean of Square Errors for alpha = 0.8 is: \",mse3)"
      ],
      "execution_count": 306,
      "outputs": [
        {
          "output_type": "stream",
          "text": [
            "Mean of Square Errors for alpha = 0.2 is:  2472.741440084606\n",
            "Mean of Square Errors for alpha = 0.5 is:  1336.440186179414\n",
            "Mean of Square Errors for alpha = 0.8 is:  1117.7909898783196\n"
          ],
          "name": "stdout"
        }
      ]
    },
    {
      "cell_type": "code",
      "metadata": {
        "colab": {
          "base_uri": "https://localhost:8080/",
          "height": 283
        },
        "id": "Kxxo9Za6sy4d",
        "outputId": "b8a672e0-7a0b-491d-d49b-5bac2c9060fd"
      },
      "source": [
        "#Comparing mse and plotting for least mse\r\n",
        "d1={'Demand':demand,'Forecast':forecast1}\r\n",
        "d2={'Demand':demand,'Forecast':forecast2}\r\n",
        "d3={'Demand':demand,'Forecast':forecast3}\r\n",
        "\r\n",
        "df1=pd.DataFrame(d1)\r\n",
        "df2=pd.DataFrame(d2)\r\n",
        "df3=pd.DataFrame(d3)\r\n",
        "\r\n",
        "if mse1<=mse2 and mse1<=mse3:\r\n",
        "  print('alpha: ',alpha1)\r\n",
        "  df1.plot(style=['-','-'])\r\n",
        "  mseses.append(mse1)\r\n",
        "elif mse2<=mse1 and mse2<=mse3:\r\n",
        "  print('alpha: ',alpha2)\r\n",
        "  df2.plot(style=['-','-'])\r\n",
        "  mseses.append(mse2) \r\n",
        "else:\r\n",
        "  print('alpha: ',alpha3)\r\n",
        "  df3.plot(style=['-','-'])\r\n",
        "  mseses.append(mse3)"
      ],
      "execution_count": 307,
      "outputs": [
        {
          "output_type": "stream",
          "text": [
            "alpha:  0.8\n"
          ],
          "name": "stdout"
        },
        {
          "output_type": "display_data",
          "data": {
            "image/png": "[encoded data removed]",
            "text/plain": [
              "<Figure size 432x288 with 1 Axes>"
            ]
          },
          "metadata": {
            "tags": [],
            "needs_background": "light"
          }
        }
      ]
    },
    {
      "cell_type": "code",
      "metadata": {
        "id": "_lDLRvbT_PT-"
      },
      "source": [
        "#Storing least mae values\r\n",
        "if mae1<=mae2 and mae1<=mae3:\r\n",
        "  maeses.append(mae1)\r\n",
        "elif mae2<=mae1 and mae2<=mae3:\r\n",
        "  maeses.append(mae2)\r\n",
        "else:\r\n",
        "  maeses.append(mae3)"
      ],
      "execution_count": 308,
      "outputs": []
    },
    {
      "cell_type": "markdown",
      "metadata": {
        "id": "38PIR97Csy4e"
      },
      "source": [
        "**Double Exponential Smoothing**"
      ]
    },
    {
      "cell_type": "code",
      "metadata": {
        "id": "OMdupMjZsy4e"
      },
      "source": [
        "#Creating demand list in 'n' intervals\r\n",
        "demand=dem_n(data.nasdaq_1985_2014,1)"
      ],
      "execution_count": 309,
      "outputs": []
    },
    {
      "cell_type": "code",
      "metadata": {
        "id": "k-tQLh7Xsy4e"
      },
      "source": [
        "#Forecasting\r\n",
        "alpha1=0.2\r\n",
        "alpha2=0.5\r\n",
        "alpha3=0.8\r\n",
        "\r\n",
        "beta1=0.3\r\n",
        "beta2=0.6\r\n",
        "beta3=0.9\r\n",
        "\r\n",
        "forecast1=des(demand,alpha1,beta1)\r\n",
        "forecast2=des(demand,alpha2,beta2)\r\n",
        "forecast3=des(demand,alpha3,beta3)"
      ],
      "execution_count": 310,
      "outputs": []
    },
    {
      "cell_type": "code",
      "metadata": {
        "colab": {
          "base_uri": "https://localhost:8080/"
        },
        "id": "bYkbHKx1sy4e",
        "outputId": "3c0f5222-a761-4619-fb86-222cd3cee847"
      },
      "source": [
        "#Calculating Mean of Square Errors\r\n",
        "mse1=mean_squared_error(demand,forecast1)\r\n",
        "mse2=mean_squared_error(demand,forecast2)\r\n",
        "mse3=mean_squared_error(demand,forecast3)\r\n",
        "\r\n",
        "print(\"Mean of Square Errors for alpha = 0.2,beta= 0.3 is: \",mse1)\r\n",
        "print(\"Mean of Square Errors for alpha = 0.5,beta= 0.6 is: \",mse2)\r\n",
        "print(\"Mean of Square Errors for alpha = 0.8,beta= 0.9 is: \",mse3)"
      ],
      "execution_count": 311,
      "outputs": [
        {
          "output_type": "stream",
          "text": [
            "Mean of Square Errors for alpha = 0.2,beta= 0.3 is:  2536.946969983234\n",
            "Mean of Square Errors for alpha = 0.5,beta= 0.6 is:  1610.849168270192\n",
            "Mean of Square Errors for alpha = 0.8,beta= 0.9 is:  1730.2882602330976\n"
          ],
          "name": "stdout"
        }
      ]
    },
    {
      "cell_type": "code",
      "metadata": {
        "colab": {
          "base_uri": "https://localhost:8080/",
          "height": 300
        },
        "id": "9QzfG06Isy4e",
        "outputId": "70e8b4f5-f5f6-42cc-d2f0-a9f22e0182ec"
      },
      "source": [
        "#Comparing mse and plotting for least mse\r\n",
        "d1={'Demand':demand,'Forecast':forecast1}\r\n",
        "d2={'Demand':demand,'Forecast':forecast2}\r\n",
        "d3={'Demand':demand,'Forecast':forecast3}\r\n",
        "\r\n",
        "df1=pd.DataFrame(d1)\r\n",
        "df2=pd.DataFrame(d2)\r\n",
        "df3=pd.DataFrame(d3)\r\n",
        "\r\n",
        "if mse1<=mse2 and mse1<=mse3:\r\n",
        "  print('alpha: ',alpha1)\r\n",
        "  print('beta: ',beta1)\r\n",
        "  df1.plot(style=['-','-'])\r\n",
        "  msedes.append(mse1)\r\n",
        "elif mse2<=mse1 and mse2<=mse3:\r\n",
        "  print('alpha: ',alpha2)\r\n",
        "  print('beta: ',beta2)\r\n",
        "  df2.plot(style=['-','-'])\r\n",
        "  msedes.append(mse2) \r\n",
        "else:\r\n",
        "  print('alpha: ',alpha3)\r\n",
        "  print('beta: ',beta3)\r\n",
        "  df3.plot(style=['-','-'])\r\n",
        "  msedes.append(mse3)"
      ],
      "execution_count": 312,
      "outputs": [
        {
          "output_type": "stream",
          "text": [
            "alpha:  0.5\n",
            "beta:  0.6\n"
          ],
          "name": "stdout"
        },
        {
          "output_type": "display_data",
          "data": {
            "image/png": "[encoded data removed]",
            "text/plain": [
              "<Figure size 432x288 with 1 Axes>"
            ]
          },
          "metadata": {
            "tags": [],
            "needs_background": "light"
          }
        }
      ]
    },
    {
      "cell_type": "code",
      "metadata": {
        "id": "biwzDKO-AVQm"
      },
      "source": [
        "#Storing least mae values\r\n",
        "if mae1<=mae2 and mae1<=mae3:\r\n",
        "  maedes.append(mae1)\r\n",
        "elif mae2<=mae1 and mae2<=mae3:\r\n",
        "  maedes.append(mae2)\r\n",
        "else:\r\n",
        "  maedes.append(mae3)"
      ],
      "execution_count": 313,
      "outputs": []
    },
    {
      "cell_type": "markdown",
      "metadata": {
        "id": "XetYv_iCsy4g"
      },
      "source": [
        "**Triple Exponential Smoothing**"
      ]
    },
    {
      "cell_type": "code",
      "metadata": {
        "id": "o3FjEFBSsy4g"
      },
      "source": [
        "#Creating demand list in 'n' intervals\r\n",
        "demand=dem_n(data.nasdaq_1985_2014,1)"
      ],
      "execution_count": 314,
      "outputs": []
    },
    {
      "cell_type": "code",
      "metadata": {
        "id": "9vRVejt9sy4g"
      },
      "source": [
        "#Forecasting\r\n",
        "alpha1=0.2\r\n",
        "alpha2=0.5\r\n",
        "alpha3=0.8\r\n",
        "\r\n",
        "beta1=0.3\r\n",
        "beta2=0.6\r\n",
        "beta3=0.9\r\n",
        "\r\n",
        "gamma1=0.4\r\n",
        "gamma2=0.7\r\n",
        "gamma3=0.95\r\n",
        "\r\n",
        "#Considering season of 1 hours here\r\n",
        "\r\n",
        "forecast1=tes(demand,1,alpha1,beta1,gamma1,0)\r\n",
        "forecast2=tes(demand,1,alpha2,beta2,gamma2,0)\r\n",
        "forecast3=tes(demand,1,alpha3,beta3,gamma3,0)"
      ],
      "execution_count": 315,
      "outputs": []
    },
    {
      "cell_type": "code",
      "metadata": {
        "colab": {
          "base_uri": "https://localhost:8080/"
        },
        "id": "i8kmXQi5sy4g",
        "outputId": "84921c30-5f1e-4296-cec9-eaa91c4c5c59"
      },
      "source": [
        "#Calculating mean of sqaured errors\r\n",
        "mse1=mean_squared_error(demand,forecast1)\r\n",
        "mse2=mean_squared_error(demand,forecast2)\r\n",
        "mse3=mean_squared_error(demand,forecast3)\r\n",
        "\r\n",
        "print(\"Mean of Square Errors for alpha = 0.2,beta= 0.3 gamma=0.4 is: \",mse1)\r\n",
        "print(\"Mean of Square Errors for alpha = 0.5,beta= 0.6 gamma=0.7 is: \",mse2)\r\n",
        "print(\"Mean of Square Errors for alpha = 0.8,beta= 0.9 gamma=0.95 is: \",mse3)"
      ],
      "execution_count": 316,
      "outputs": [
        {
          "output_type": "stream",
          "text": [
            "Mean of Square Errors for alpha = 0.2,beta= 0.3 gamma=0.4 is:  324.98461283387843\n",
            "Mean of Square Errors for alpha = 0.5,beta= 0.6 gamma=0.7 is:  159.5560160348016\n",
            "Mean of Square Errors for alpha = 0.8,beta= 0.9 gamma=0.95 is:  584.5190867801982\n"
          ],
          "name": "stdout"
        }
      ]
    },
    {
      "cell_type": "code",
      "metadata": {
        "colab": {
          "base_uri": "https://localhost:8080/"
        },
        "id": "Mh7r_Oh60XcP",
        "outputId": "05219f71-f968-4cb0-a52c-632fe4e011a9"
      },
      "source": [
        "#Calculating Mean Absolute Errors\r\n",
        "mae1=mean_absolute_error(demand,forecast1)\r\n",
        "mae2=mean_absolute_error(demand,forecast2)\r\n",
        "mae3=mean_absolute_error(demand,forecast3)\r\n",
        "\r\n",
        "print(\"Mean Absolute Errors for alpha = 0.2,beta= 0.3, gamma=0.4 is: \",mae1)\r\n",
        "print(\"Mean Absolute Errors for alpha = 0.5,beta= 0.6, gamma=0.7 is: \",mae2)\r\n",
        "print(\"Mean Absolute Errors for alpha = 0.8,beta= 0.9, gamma=0.95 is: \",mae3)"
      ],
      "execution_count": 317,
      "outputs": [
        {
          "output_type": "stream",
          "text": [
            "Mean Absolute Errors for alpha = 0.2,beta= 0.3, gamma=0.4 is:  9.812028958449401\n",
            "Mean Absolute Errors for alpha = 0.5,beta= 0.6, gamma=0.7 is:  7.130769745696372\n",
            "Mean Absolute Errors for alpha = 0.8,beta= 0.9, gamma=0.95 is:  12.927075494158293\n"
          ],
          "name": "stdout"
        }
      ]
    },
    {
      "cell_type": "code",
      "metadata": {
        "colab": {
          "base_uri": "https://localhost:8080/",
          "height": 319
        },
        "id": "fRiSTBcysy4h",
        "outputId": "906420eb-577e-407a-d3b1-fd17622f27bd"
      },
      "source": [
        "#Comparing mse and plotting for least mse\r\n",
        "d1={'Demand':demand,'Forecast':forecast1}\r\n",
        "d2={'Demand':demand,'Forecast':forecast2}\r\n",
        "d3={'Demand':demand,'Forecast':forecast3}\r\n",
        "\r\n",
        "df1=pd.DataFrame(d1)\r\n",
        "df2=pd.DataFrame(d2)\r\n",
        "df3=pd.DataFrame(d3)\r\n",
        "\r\n",
        "if mse1<=mse2 and mse1<=mse3:\r\n",
        "  print('alpha: ',alpha1)\r\n",
        "  print('beta: ',beta1)\r\n",
        "  print('gamma: ',gamma1)\r\n",
        "  df1.plot(style=['-','-'])\r\n",
        "  msetes.append(mse1)\r\n",
        "elif mse2<=mse1 and mse2<=mse3:\r\n",
        "  print('alpha: ',alpha2)\r\n",
        "  print('beta: ',beta2)\r\n",
        "  print('gamma: ',gamma2)\r\n",
        "  df2.plot(style=['-','-'])\r\n",
        "  msetes.append(mse2) \r\n",
        "else:\r\n",
        "  print('alpha: ',alpha3)\r\n",
        "  print('beta: ',beta3)\r\n",
        "  print('gamma: ',gamma3)\r\n",
        "  df3.plot(style=['-','-'])\r\n",
        "  msetes.append(mse3)"
      ],
      "execution_count": 318,
      "outputs": [
        {
          "output_type": "stream",
          "text": [
            "alpha:  0.5\n",
            "beta:  0.6\n",
            "gamma:  0.7\n"
          ],
          "name": "stdout"
        },
        {
          "output_type": "display_data",
          "data": {
            "image/png": "[encoded data removed]",
            "text/plain": [
              "<Figure size 432x288 with 1 Axes>"
            ]
          },
          "metadata": {
            "tags": [],
            "needs_background": "light"
          }
        }
      ]
    },
    {
      "cell_type": "code",
      "metadata": {
        "id": "Egm7QLpEBCdS"
      },
      "source": [
        "#Storing least mae values\r\n",
        "if mae1<=mae2 and mae1<=mae3:\r\n",
        "  maetes.append(mae1)\r\n",
        "elif mae2<=mae1 and mae2<=mae3:\r\n",
        "  maetes.append(mae2)\r\n",
        "else:\r\n",
        "  maetes.append(mae3)"
      ],
      "execution_count": 319,
      "outputs": []
    },
    {
      "cell_type": "markdown",
      "metadata": {
        "id": "kS36u1E2s4BN"
      },
      "source": [
        "For 2 Unit"
      ]
    },
    {
      "cell_type": "markdown",
      "metadata": {
        "id": "89B9jbXds6H7"
      },
      "source": [
        "**Single Exponential Smoothing**"
      ]
    },
    {
      "cell_type": "code",
      "metadata": {
        "id": "f6DToo2Ss6H7"
      },
      "source": [
        "#Creating demand list in 'n' intervals\r\n",
        "demand=dem_n(data.nasdaq_1985_2014,2)"
      ],
      "execution_count": 320,
      "outputs": []
    },
    {
      "cell_type": "code",
      "metadata": {
        "id": "kSFj6L14s6H8"
      },
      "source": [
        "#Forecasting\r\n",
        "alpha1=0.2\r\n",
        "alpha2=0.5\r\n",
        "alpha3=0.8\r\n",
        "\r\n",
        "forecast1=ses(demand,alpha1)\r\n",
        "forecast2=ses(demand,alpha2)\r\n",
        "forecast3=ses(demand,alpha3)"
      ],
      "execution_count": 321,
      "outputs": []
    },
    {
      "cell_type": "code",
      "metadata": {
        "colab": {
          "base_uri": "https://localhost:8080/"
        },
        "id": "KkePmWuss6H8",
        "outputId": "a7225290-101b-4263-e86f-b91a91187a17"
      },
      "source": [
        "#Calculating Mean of Square Errors\r\n",
        "mse1=mean_squared_error(demand,forecast1)\r\n",
        "mse2=mean_squared_error(demand,forecast2)\r\n",
        "mse3=mean_squared_error(demand,forecast3)\r\n",
        "\r\n",
        "print(\"Mean of Square Errors for alpha = 0.2 is: \",mse1)\r\n",
        "print(\"Mean of Square Errors for alpha = 0.5 is: \",mse2)\r\n",
        "print(\"Mean of Square Errors for alpha = 0.8 is: \",mse3)"
      ],
      "execution_count": 322,
      "outputs": [
        {
          "output_type": "stream",
          "text": [
            "Mean of Square Errors for alpha = 0.2 is:  4853.103732434068\n",
            "Mean of Square Errors for alpha = 0.5 is:  2458.2670288633058\n",
            "Mean of Square Errors for alpha = 0.8 is:  2061.186342147135\n"
          ],
          "name": "stdout"
        }
      ]
    },
    {
      "cell_type": "code",
      "metadata": {
        "colab": {
          "base_uri": "https://localhost:8080/",
          "height": 283
        },
        "id": "42WyyLyjs6H8",
        "outputId": "f5021acb-289c-4546-97ae-907bfea9c539"
      },
      "source": [
        "#Comparing mse and plotting for least mse\r\n",
        "d1={'Demand':demand,'Forecast':forecast1}\r\n",
        "d2={'Demand':demand,'Forecast':forecast2}\r\n",
        "d3={'Demand':demand,'Forecast':forecast3}\r\n",
        "\r\n",
        "df1=pd.DataFrame(d1)\r\n",
        "df2=pd.DataFrame(d2)\r\n",
        "df3=pd.DataFrame(d3)\r\n",
        "\r\n",
        "if mse1<=mse2 and mse1<=mse3:\r\n",
        "  print('alpha: ',alpha1)\r\n",
        "  df1.plot(style=['-','-'])\r\n",
        "  mseses.append(mse1)\r\n",
        "elif mse2<=mse1 and mse2<=mse3:\r\n",
        "  print('alpha: ',alpha2)\r\n",
        "  df2.plot(style=['-','-'])\r\n",
        "  mseses.append(mse2) \r\n",
        "else:\r\n",
        "  print('alpha: ',alpha3)\r\n",
        "  df3.plot(style=['-','-'])\r\n",
        "  mseses.append(mse3)"
      ],
      "execution_count": 323,
      "outputs": [
        {
          "output_type": "stream",
          "text": [
            "alpha:  0.8\n"
          ],
          "name": "stdout"
        },
        {
          "output_type": "display_data",
          "data": {
            "image/png": "[encoded data removed]",
            "text/plain": [
              "<Figure size 432x288 with 1 Axes>"
            ]
          },
          "metadata": {
            "tags": [],
            "needs_background": "light"
          }
        }
      ]
    },
    {
      "cell_type": "code",
      "metadata": {
        "id": "ohvOs_5i_3If"
      },
      "source": [
        "#Storing least mae values\r\n",
        "if mae1<=mae2 and mae1<=mae3:\r\n",
        "  maeses.append(mae1)\r\n",
        "elif mae2<=mae1 and mae2<=mae3:\r\n",
        "  maeses.append(mae2)\r\n",
        "else:\r\n",
        "  maeses.append(mae3)"
      ],
      "execution_count": 324,
      "outputs": []
    },
    {
      "cell_type": "markdown",
      "metadata": {
        "id": "bpOo10bbs6H8"
      },
      "source": [
        "**Double Exponential Smoothing**"
      ]
    },
    {
      "cell_type": "code",
      "metadata": {
        "id": "mR_i_OWys6H8"
      },
      "source": [
        "#Creating demand list in 'n' intervals\r\n",
        "demand=dem_n(data.nasdaq_1985_2014,2)"
      ],
      "execution_count": 325,
      "outputs": []
    },
    {
      "cell_type": "code",
      "metadata": {
        "id": "yrhdlJ8vs6H8"
      },
      "source": [
        "#Forecasting\r\n",
        "alpha1=0.2\r\n",
        "alpha2=0.5\r\n",
        "alpha3=0.8\r\n",
        "\r\n",
        "beta1=0.3\r\n",
        "beta2=0.6\r\n",
        "beta3=0.9\r\n",
        "\r\n",
        "forecast1=des(demand,alpha1,beta1)\r\n",
        "forecast2=des(demand,alpha2,beta2)\r\n",
        "forecast3=des(demand,alpha3,beta3)"
      ],
      "execution_count": 326,
      "outputs": []
    },
    {
      "cell_type": "code",
      "metadata": {
        "colab": {
          "base_uri": "https://localhost:8080/"
        },
        "id": "LFduVmrts6H9",
        "outputId": "f5756ac6-e0cf-4fa9-cf5c-05a4e8badbfb"
      },
      "source": [
        "#Calculating Mean of Square Errors\r\n",
        "mse1=mean_squared_error(demand,forecast1)\r\n",
        "mse2=mean_squared_error(demand,forecast2)\r\n",
        "mse3=mean_squared_error(demand,forecast3)\r\n",
        "\r\n",
        "print(\"Mean of Square Errors for alpha = 0.2,beta= 0.3 is: \",mse1)\r\n",
        "print(\"Mean of Square Errors for alpha = 0.5,beta= 0.6 is: \",mse2)\r\n",
        "print(\"Mean of Square Errors for alpha = 0.8,beta= 0.9 is: \",mse3)"
      ],
      "execution_count": 327,
      "outputs": [
        {
          "output_type": "stream",
          "text": [
            "Mean of Square Errors for alpha = 0.2,beta= 0.3 is:  4470.512808464085\n",
            "Mean of Square Errors for alpha = 0.5,beta= 0.6 is:  2844.2289410307126\n",
            "Mean of Square Errors for alpha = 0.8,beta= 0.9 is:  3182.6378222035564\n"
          ],
          "name": "stdout"
        }
      ]
    },
    {
      "cell_type": "code",
      "metadata": {
        "colab": {
          "base_uri": "https://localhost:8080/",
          "height": 300
        },
        "id": "7y9mHMLFs6H9",
        "outputId": "1142e6de-c9db-4de4-a7b8-ee7837a93065"
      },
      "source": [
        "#Comparing mse and plotting for least mse\r\n",
        "d1={'Demand':demand,'Forecast':forecast1}\r\n",
        "d2={'Demand':demand,'Forecast':forecast2}\r\n",
        "d3={'Demand':demand,'Forecast':forecast3}\r\n",
        "\r\n",
        "df1=pd.DataFrame(d1)\r\n",
        "df2=pd.DataFrame(d2)\r\n",
        "df3=pd.DataFrame(d3)\r\n",
        "\r\n",
        "if mse1<=mse2 and mse1<=mse3:\r\n",
        "  print('alpha: ',alpha1)\r\n",
        "  print('beta: ',beta1)\r\n",
        "  df1.plot(style=['-','-'])\r\n",
        "  msedes.append(mse1)\r\n",
        "elif mse2<=mse1 and mse2<=mse3:\r\n",
        "  print('alpha: ',alpha2)\r\n",
        "  print('beta: ',beta2)\r\n",
        "  df2.plot(style=['-','-'])\r\n",
        "  msedes.append(mse2) \r\n",
        "else:\r\n",
        "  print('alpha: ',alpha3)\r\n",
        "  print('beta: ',beta3)\r\n",
        "  df3.plot(style=['-','-'])\r\n",
        "  msedes.append(mse3)"
      ],
      "execution_count": 328,
      "outputs": [
        {
          "output_type": "stream",
          "text": [
            "alpha:  0.5\n",
            "beta:  0.6\n"
          ],
          "name": "stdout"
        },
        {
          "output_type": "display_data",
          "data": {
            "image/png": "[encoded data removed]",
            "text/plain": [
              "<Figure size 432x288 with 1 Axes>"
            ]
          },
          "metadata": {
            "tags": [],
            "needs_background": "light"
          }
        }
      ]
    },
    {
      "cell_type": "code",
      "metadata": {
        "id": "J9I5blahAe4o"
      },
      "source": [
        "#Storing least mae values\r\n",
        "if mae1<=mae2 and mae1<=mae3:\r\n",
        "  maedes.append(mae1)\r\n",
        "elif mae2<=mae1 and mae2<=mae3:\r\n",
        "  maedes.append(mae2)\r\n",
        "else:\r\n",
        "  maedes.append(mae3)"
      ],
      "execution_count": 329,
      "outputs": []
    },
    {
      "cell_type": "markdown",
      "metadata": {
        "id": "Noqk1yXPs6H9"
      },
      "source": [
        "**Triple Exponential Smoothing**"
      ]
    },
    {
      "cell_type": "code",
      "metadata": {
        "id": "jaZFk7Ins6H9"
      },
      "source": [
        "#Creating demand list in 'n' intervals\r\n",
        "demand=dem_n(data.nasdaq_1985_2014,2)"
      ],
      "execution_count": 330,
      "outputs": []
    },
    {
      "cell_type": "code",
      "metadata": {
        "id": "_Pbstt-ps6H-"
      },
      "source": [
        "#Forecasting\r\n",
        "alpha1=0.2\r\n",
        "alpha2=0.5\r\n",
        "alpha3=0.8\r\n",
        "\r\n",
        "beta1=0.3\r\n",
        "beta2=0.6\r\n",
        "beta3=0.9\r\n",
        "\r\n",
        "gamma1=0.4\r\n",
        "gamma2=0.7\r\n",
        "gamma3=0.95\r\n",
        "\r\n",
        "#Considering season of 1 hours here\r\n",
        "\r\n",
        "forecast1=tes(demand,1,alpha1,beta1,gamma1,0)\r\n",
        "forecast2=tes(demand,1,alpha2,beta2,gamma2,0)\r\n",
        "forecast3=tes(demand,1,alpha3,beta3,gamma3,0)"
      ],
      "execution_count": 331,
      "outputs": []
    },
    {
      "cell_type": "code",
      "metadata": {
        "colab": {
          "base_uri": "https://localhost:8080/"
        },
        "id": "WpoRf0P9s6H-",
        "outputId": "b8f882cf-b868-4410-f246-14ec041c861f"
      },
      "source": [
        "#Calculating mean of sqaured errors\r\n",
        "mse1=mean_squared_error(demand,forecast1)\r\n",
        "mse2=mean_squared_error(demand,forecast2)\r\n",
        "mse3=mean_squared_error(demand,forecast3)\r\n",
        "\r\n",
        "print(\"Mean of Square Errors for alpha = 0.2,beta= 0.3 gamma=0.4 is: \",mse1)\r\n",
        "print(\"Mean of Square Errors for alpha = 0.5,beta= 0.6 gamma=0.7 is: \",mse2)\r\n",
        "print(\"Mean of Square Errors for alpha = 0.8,beta= 0.9 gamma=0.95 is: \",mse3)"
      ],
      "execution_count": 332,
      "outputs": [
        {
          "output_type": "stream",
          "text": [
            "Mean of Square Errors for alpha = 0.2,beta= 0.3 gamma=0.4 is:  594.8463666539786\n",
            "Mean of Square Errors for alpha = 0.5,beta= 0.6 gamma=0.7 is:  297.6694292157872\n",
            "Mean of Square Errors for alpha = 0.8,beta= 0.9 gamma=0.95 is:  1072.0211757567604\n"
          ],
          "name": "stdout"
        }
      ]
    },
    {
      "cell_type": "code",
      "metadata": {
        "colab": {
          "base_uri": "https://localhost:8080/"
        },
        "id": "SzrIO4HF0ZnW",
        "outputId": "a36c2782-58be-4c22-c67d-bf0b2e7fa4fc"
      },
      "source": [
        "#Calculating Mean Absolute Errors\r\n",
        "mae1=mean_absolute_error(demand,forecast1)\r\n",
        "mae2=mean_absolute_error(demand,forecast2)\r\n",
        "mae3=mean_absolute_error(demand,forecast3)\r\n",
        "\r\n",
        "print(\"Mean Absolute Errors for alpha = 0.2,beta= 0.3, gamma=0.4 is: \",mae1)\r\n",
        "print(\"Mean Absolute Errors for alpha = 0.5,beta= 0.6, gamma=0.7 is: \",mae2)\r\n",
        "print(\"Mean Absolute Errors for alpha = 0.8,beta= 0.9, gamma=0.95 is: \",mae3)"
      ],
      "execution_count": 333,
      "outputs": [
        {
          "output_type": "stream",
          "text": [
            "Mean Absolute Errors for alpha = 0.2,beta= 0.3, gamma=0.4 is:  13.574281218977394\n",
            "Mean Absolute Errors for alpha = 0.5,beta= 0.6, gamma=0.7 is:  9.916028550010301\n",
            "Mean Absolute Errors for alpha = 0.8,beta= 0.9, gamma=0.95 is:  18.06301492152557\n"
          ],
          "name": "stdout"
        }
      ]
    },
    {
      "cell_type": "code",
      "metadata": {
        "colab": {
          "base_uri": "https://localhost:8080/",
          "height": 318
        },
        "id": "qKgUbafAs6H-",
        "outputId": "b2befc75-f1cf-41b5-dae4-bc4fb7a6106e"
      },
      "source": [
        "#Comparing mse and plotting for least mse\r\n",
        "d1={'Demand':demand,'Forecast':forecast1}\r\n",
        "d2={'Demand':demand,'Forecast':forecast2}\r\n",
        "d3={'Demand':demand,'Forecast':forecast3}\r\n",
        "\r\n",
        "df1=pd.DataFrame(d1)\r\n",
        "df2=pd.DataFrame(d2)\r\n",
        "df3=pd.DataFrame(d3)\r\n",
        "\r\n",
        "if mse1<=mse2 and mse1<=mse3:\r\n",
        "  print('alpha: ',alpha1)\r\n",
        "  print('beta: ',beta1)\r\n",
        "  print('gamma: ',gamma1)\r\n",
        "  df1.plot(style=['-','-'])\r\n",
        "  msetes.append(mse1)\r\n",
        "elif mse2<=mse1 and mse2<=mse3:\r\n",
        "  print('alpha: ',alpha2)\r\n",
        "  print('beta: ',beta2)\r\n",
        "  print('gamma: ',gamma2)\r\n",
        "  df2.plot(style=['-','-'])\r\n",
        "  msetes.append(mse2) \r\n",
        "else:\r\n",
        "  print('alpha: ',alpha3)\r\n",
        "  print('beta: ',beta3)\r\n",
        "  print('gamma: ',gamma3)\r\n",
        "  df3.plot(style=['-','-'])\r\n",
        "  msetes.append(mse3)"
      ],
      "execution_count": 334,
      "outputs": [
        {
          "output_type": "stream",
          "text": [
            "alpha:  0.5\n",
            "beta:  0.6\n",
            "gamma:  0.7\n"
          ],
          "name": "stdout"
        },
        {
          "output_type": "display_data",
          "data": {
            "image/png": "[encoded data removed]",
            "text/plain": [
              "<Figure size 432x288 with 1 Axes>"
            ]
          },
          "metadata": {
            "tags": [],
            "needs_background": "light"
          }
        }
      ]
    },
    {
      "cell_type": "code",
      "metadata": {
        "id": "PJoZRn1lBJMK"
      },
      "source": [
        "#Storing least mae values\r\n",
        "if mae1<=mae2 and mae1<=mae3:\r\n",
        "  maetes.append(mae1)\r\n",
        "elif mae2<=mae1 and mae2<=mae3:\r\n",
        "  maetes.append(mae2)\r\n",
        "else:\r\n",
        "  maetes.append(mae3)"
      ],
      "execution_count": 335,
      "outputs": []
    },
    {
      "cell_type": "markdown",
      "metadata": {
        "id": "rTnMcDVOtD2W"
      },
      "source": [
        "For 4 Unit"
      ]
    },
    {
      "cell_type": "markdown",
      "metadata": {
        "id": "HWRhCCxFtIco"
      },
      "source": [
        "**Single Exponential Smoothing**"
      ]
    },
    {
      "cell_type": "code",
      "metadata": {
        "id": "vAKOjtC7tIcq"
      },
      "source": [
        "#Creating demand list in 'n' intervals\r\n",
        "demand=dem_n(data.nasdaq_1985_2014,4)"
      ],
      "execution_count": 336,
      "outputs": []
    },
    {
      "cell_type": "code",
      "metadata": {
        "id": "hl0Bg7-QtIcq"
      },
      "source": [
        "#Forecasting\r\n",
        "alpha1=0.2\r\n",
        "alpha2=0.5\r\n",
        "alpha3=0.8\r\n",
        "\r\n",
        "forecast1=ses(demand,alpha1)\r\n",
        "forecast2=ses(demand,alpha2)\r\n",
        "forecast3=ses(demand,alpha3)"
      ],
      "execution_count": 337,
      "outputs": []
    },
    {
      "cell_type": "code",
      "metadata": {
        "colab": {
          "base_uri": "https://localhost:8080/"
        },
        "id": "5_fyv3RQtIcq",
        "outputId": "5ca6ea40-c535-4f81-e9bd-152bd3a641b1"
      },
      "source": [
        "#Calculating Mean of Square Errors\r\n",
        "mse1=mean_squared_error(demand,forecast1)\r\n",
        "mse2=mean_squared_error(demand,forecast2)\r\n",
        "mse3=mean_squared_error(demand,forecast3)\r\n",
        "\r\n",
        "print(\"Mean of Square Errors for alpha = 0.2 is: \",mse1)\r\n",
        "print(\"Mean of Square Errors for alpha = 0.5 is: \",mse2)\r\n",
        "print(\"Mean of Square Errors for alpha = 0.8 is: \",mse3)"
      ],
      "execution_count": 338,
      "outputs": [
        {
          "output_type": "stream",
          "text": [
            "Mean of Square Errors for alpha = 0.2 is:  10016.916979346734\n",
            "Mean of Square Errors for alpha = 0.5 is:  4511.036145599884\n",
            "Mean of Square Errors for alpha = 0.8 is:  3560.3736671460274\n"
          ],
          "name": "stdout"
        }
      ]
    },
    {
      "cell_type": "code",
      "metadata": {
        "colab": {
          "base_uri": "https://localhost:8080/",
          "height": 283
        },
        "id": "yNbxwuNJtIcr",
        "outputId": "eab6e521-6de6-41aa-d38e-f61fc7bc4648"
      },
      "source": [
        "#Comparing mse and plotting for least mse\r\n",
        "d1={'Demand':demand,'Forecast':forecast1}\r\n",
        "d2={'Demand':demand,'Forecast':forecast2}\r\n",
        "d3={'Demand':demand,'Forecast':forecast3}\r\n",
        "\r\n",
        "df1=pd.DataFrame(d1)\r\n",
        "df2=pd.DataFrame(d2)\r\n",
        "df3=pd.DataFrame(d3)\r\n",
        "\r\n",
        "if mse1<=mse2 and mse1<=mse3:\r\n",
        "  print('alpha: ',alpha1)\r\n",
        "  df1.plot(style=['-','-'])\r\n",
        "  mseses.append(mse1)\r\n",
        "elif mse2<=mse1 and mse2<=mse3:\r\n",
        "  print('alpha: ',alpha2)\r\n",
        "  df2.plot(style=['-','-'])\r\n",
        "  mseses.append(mse2) \r\n",
        "else:\r\n",
        "  print('alpha: ',alpha3)\r\n",
        "  df3.plot(style=['-','-'])\r\n",
        "  mseses.append(mse3)"
      ],
      "execution_count": 339,
      "outputs": [
        {
          "output_type": "stream",
          "text": [
            "alpha:  0.8\n"
          ],
          "name": "stdout"
        },
        {
          "output_type": "display_data",
          "data": {
            "image/png": "[encoded data removed]",
            "text/plain": [
              "<Figure size 432x288 with 1 Axes>"
            ]
          },
          "metadata": {
            "tags": [],
            "needs_background": "light"
          }
        }
      ]
    },
    {
      "cell_type": "code",
      "metadata": {
        "id": "t3anvp2r_5fB"
      },
      "source": [
        "#Storing least mae values\r\n",
        "if mae1<=mae2 and mae1<=mae3:\r\n",
        "  maeses.append(mae1)\r\n",
        "elif mae2<=mae1 and mae2<=mae3:\r\n",
        "  maeses.append(mae2)\r\n",
        "else:\r\n",
        "  maeses.append(mae3)"
      ],
      "execution_count": 340,
      "outputs": []
    },
    {
      "cell_type": "markdown",
      "metadata": {
        "id": "3p1g-eXhtIcr"
      },
      "source": [
        "**Double Exponential Smoothing**"
      ]
    },
    {
      "cell_type": "code",
      "metadata": {
        "id": "fdkyUhuttIcs"
      },
      "source": [
        "#Creating demand list in 'n' intervals\r\n",
        "demand=dem_n(data.nasdaq_1985_2014,4)"
      ],
      "execution_count": 341,
      "outputs": []
    },
    {
      "cell_type": "code",
      "metadata": {
        "id": "KgvvairPtIcs"
      },
      "source": [
        "#Forecasting\r\n",
        "alpha1=0.2\r\n",
        "alpha2=0.5\r\n",
        "alpha3=0.8\r\n",
        "\r\n",
        "beta1=0.3\r\n",
        "beta2=0.6\r\n",
        "beta3=0.9\r\n",
        "\r\n",
        "forecast1=des(demand,alpha1,beta1)\r\n",
        "forecast2=des(demand,alpha2,beta2)\r\n",
        "forecast3=des(demand,alpha3,beta3)"
      ],
      "execution_count": 342,
      "outputs": []
    },
    {
      "cell_type": "code",
      "metadata": {
        "colab": {
          "base_uri": "https://localhost:8080/"
        },
        "id": "s3vqaxyJtIcs",
        "outputId": "b4e1cde0-c058-4698-cc20-a934b9d1c29b"
      },
      "source": [
        "#Calculating Mean of Square Errors\r\n",
        "mse1=mean_squared_error(demand,forecast1)\r\n",
        "mse2=mean_squared_error(demand,forecast2)\r\n",
        "mse3=mean_squared_error(demand,forecast3)\r\n",
        "\r\n",
        "print(\"Mean of Square Errors for alpha = 0.2,beta= 0.3 is: \",mse1)\r\n",
        "print(\"Mean of Square Errors for alpha = 0.5,beta= 0.6 is: \",mse2)\r\n",
        "print(\"Mean of Square Errors for alpha = 0.8,beta= 0.9 is: \",mse3)"
      ],
      "execution_count": 343,
      "outputs": [
        {
          "output_type": "stream",
          "text": [
            "Mean of Square Errors for alpha = 0.2,beta= 0.3 is:  9032.16360528243\n",
            "Mean of Square Errors for alpha = 0.5,beta= 0.6 is:  4731.670089222\n",
            "Mean of Square Errors for alpha = 0.8,beta= 0.9 is:  5163.114656800682\n"
          ],
          "name": "stdout"
        }
      ]
    },
    {
      "cell_type": "code",
      "metadata": {
        "colab": {
          "base_uri": "https://localhost:8080/",
          "height": 300
        },
        "id": "FhvIAL7PtIct",
        "outputId": "9ca229c3-cdde-4c69-fc20-4ff20ae80f7a"
      },
      "source": [
        "#Comparing mse and plotting for least mse\r\n",
        "d1={'Demand':demand,'Forecast':forecast1}\r\n",
        "d2={'Demand':demand,'Forecast':forecast2}\r\n",
        "d3={'Demand':demand,'Forecast':forecast3}\r\n",
        "\r\n",
        "df1=pd.DataFrame(d1)\r\n",
        "df2=pd.DataFrame(d2)\r\n",
        "df3=pd.DataFrame(d3)\r\n",
        "\r\n",
        "if mse1<=mse2 and mse1<=mse3:\r\n",
        "  print('alpha: ',alpha1)\r\n",
        "  print('beta: ',beta1)\r\n",
        "  df1.plot(style=['-','-'])\r\n",
        "  msedes.append(mse1)\r\n",
        "elif mse2<=mse1 and mse2<=mse3:\r\n",
        "  print('alpha: ',alpha2)\r\n",
        "  print('beta: ',beta2)\r\n",
        "  df2.plot(style=['-','-'])\r\n",
        "  msedes.append(mse2) \r\n",
        "else:\r\n",
        "  print('alpha: ',alpha3)\r\n",
        "  print('beta: ',beta3)\r\n",
        "  df3.plot(style=['-','-'])\r\n",
        "  msedes.append(mse3)"
      ],
      "execution_count": 344,
      "outputs": [
        {
          "output_type": "stream",
          "text": [
            "alpha:  0.5\n",
            "beta:  0.6\n"
          ],
          "name": "stdout"
        },
        {
          "output_type": "display_data",
          "data": {
            "image/png": "[encoded data removed]",
            "text/plain": [
              "<Figure size 432x288 with 1 Axes>"
            ]
          },
          "metadata": {
            "tags": [],
            "needs_background": "light"
          }
        }
      ]
    },
    {
      "cell_type": "code",
      "metadata": {
        "id": "b01QwYCAAhAp"
      },
      "source": [
        "#Storing least mae values\r\n",
        "if mae1<=mae2 and mae1<=mae3:\r\n",
        "  maedes.append(mae1)\r\n",
        "elif mae2<=mae1 and mae2<=mae3:\r\n",
        "  maedes.append(mae2)\r\n",
        "else:\r\n",
        "  maedes.append(mae3)"
      ],
      "execution_count": 345,
      "outputs": []
    },
    {
      "cell_type": "markdown",
      "metadata": {
        "id": "HaMO5JWitIct"
      },
      "source": [
        "**Triple Exponential Smoothing**"
      ]
    },
    {
      "cell_type": "code",
      "metadata": {
        "id": "iyBhHxcqtIct"
      },
      "source": [
        "#Creating demand list in 'n' intervals\r\n",
        "demand=dem_n(data.nasdaq_1985_2014,4)"
      ],
      "execution_count": 346,
      "outputs": []
    },
    {
      "cell_type": "code",
      "metadata": {
        "id": "bOvLhhDStIcu"
      },
      "source": [
        "#Forecasting\r\n",
        "alpha1=0.2\r\n",
        "alpha2=0.5\r\n",
        "alpha3=0.8\r\n",
        "\r\n",
        "beta1=0.3\r\n",
        "beta2=0.6\r\n",
        "beta3=0.9\r\n",
        "\r\n",
        "gamma1=0.4\r\n",
        "gamma2=0.7\r\n",
        "gamma3=0.95\r\n",
        "\r\n",
        "#Considering season of 1 hours here\r\n",
        "\r\n",
        "forecast1=tes(demand,1,alpha1,beta1,gamma1,0)\r\n",
        "forecast2=tes(demand,1,alpha2,beta2,gamma2,0)\r\n",
        "forecast3=tes(demand,1,alpha3,beta3,gamma3,0)"
      ],
      "execution_count": 347,
      "outputs": []
    },
    {
      "cell_type": "code",
      "metadata": {
        "colab": {
          "base_uri": "https://localhost:8080/"
        },
        "id": "7OSsYF0UtIcv",
        "outputId": "6f95e031-b83a-4bcb-80bf-5b33dc7f6ca9"
      },
      "source": [
        "#Calculating mean of sqaured errors\r\n",
        "mse1=mean_squared_error(demand,forecast1)\r\n",
        "mse2=mean_squared_error(demand,forecast2)\r\n",
        "mse3=mean_squared_error(demand,forecast3)\r\n",
        "\r\n",
        "print(\"Mean of Square Errors for alpha = 0.2,beta= 0.3 gamma=0.4 is: \",mse1)\r\n",
        "print(\"Mean of Square Errors for alpha = 0.5,beta= 0.6 gamma=0.7 is: \",mse2)\r\n",
        "print(\"Mean of Square Errors for alpha = 0.8,beta= 0.9 gamma=0.95 is: \",mse3)"
      ],
      "execution_count": 348,
      "outputs": [
        {
          "output_type": "stream",
          "text": [
            "Mean of Square Errors for alpha = 0.2,beta= 0.3 gamma=0.4 is:  1105.38559951607\n",
            "Mean of Square Errors for alpha = 0.5,beta= 0.6 gamma=0.7 is:  601.9928399245516\n",
            "Mean of Square Errors for alpha = 0.8,beta= 0.9 gamma=0.95 is:  1879.0043718837271\n"
          ],
          "name": "stdout"
        }
      ]
    },
    {
      "cell_type": "code",
      "metadata": {
        "colab": {
          "base_uri": "https://localhost:8080/"
        },
        "id": "KzvjLHmo0cNG",
        "outputId": "0c28a4c7-3850-4185-d987-59c5e646ddd1"
      },
      "source": [
        "#Calculating Mean Absolute Errors\r\n",
        "mae1=mean_absolute_error(demand,forecast1)\r\n",
        "mae2=mean_absolute_error(demand,forecast2)\r\n",
        "mae3=mean_absolute_error(demand,forecast3)\r\n",
        "\r\n",
        "print(\"Mean Absolute Errors for alpha = 0.2,beta= 0.3, gamma=0.4 is: \",mae1)\r\n",
        "print(\"Mean Absolute Errors for alpha = 0.5,beta= 0.6, gamma=0.7 is: \",mae2)\r\n",
        "print(\"Mean Absolute Errors for alpha = 0.8,beta= 0.9, gamma=0.95 is: \",mae3)"
      ],
      "execution_count": 349,
      "outputs": [
        {
          "output_type": "stream",
          "text": [
            "Mean Absolute Errors for alpha = 0.2,beta= 0.3, gamma=0.4 is:  19.20878869799074\n",
            "Mean Absolute Errors for alpha = 0.5,beta= 0.6, gamma=0.7 is:  14.281490895883545\n",
            "Mean Absolute Errors for alpha = 0.8,beta= 0.9, gamma=0.95 is:  24.85511351923015\n"
          ],
          "name": "stdout"
        }
      ]
    },
    {
      "cell_type": "code",
      "metadata": {
        "colab": {
          "base_uri": "https://localhost:8080/",
          "height": 317
        },
        "id": "g0MsbZYdtIcv",
        "outputId": "4a474a87-9822-465f-a16b-dc6c4c390013"
      },
      "source": [
        "#Comparing mse and plotting for least mse\r\n",
        "d1={'Demand':demand,'Forecast':forecast1}\r\n",
        "d2={'Demand':demand,'Forecast':forecast2}\r\n",
        "d3={'Demand':demand,'Forecast':forecast3}\r\n",
        "\r\n",
        "df1=pd.DataFrame(d1)\r\n",
        "df2=pd.DataFrame(d2)\r\n",
        "df3=pd.DataFrame(d3)\r\n",
        "\r\n",
        "if mse1<=mse2 and mse1<=mse3:\r\n",
        "  print('alpha: ',alpha1)\r\n",
        "  print('beta: ',beta1)\r\n",
        "  print('gamma: ',gamma1)\r\n",
        "  df1.plot(style=['-','-'])\r\n",
        "  msetes.append(mse1)\r\n",
        "elif mse2<=mse1 and mse2<=mse3:\r\n",
        "  print('alpha: ',alpha2)\r\n",
        "  print('beta: ',beta2)\r\n",
        "  print('gamma: ',gamma2)\r\n",
        "  df2.plot(style=['-','-'])\r\n",
        "  msetes.append(mse2) \r\n",
        "else:\r\n",
        "  print('alpha: ',alpha3)\r\n",
        "  print('beta: ',beta3)\r\n",
        "  print('gamma: ',gamma3)\r\n",
        "  df3.plot(style=['-','-'])\r\n",
        "  msetes.append(mse3)"
      ],
      "execution_count": 350,
      "outputs": [
        {
          "output_type": "stream",
          "text": [
            "alpha:  0.5\n",
            "beta:  0.6\n",
            "gamma:  0.7\n"
          ],
          "name": "stdout"
        },
        {
          "output_type": "display_data",
          "data": {
            "image/png": "[encoded data removed]",
            "text/plain": [
              "<Figure size 432x288 with 1 Axes>"
            ]
          },
          "metadata": {
            "tags": [],
            "needs_background": "light"
          }
        }
      ]
    },
    {
      "cell_type": "code",
      "metadata": {
        "id": "N2H4H6ySBLYY"
      },
      "source": [
        "#Storing least mae values\r\n",
        "if mae1<=mae2 and mae1<=mae3:\r\n",
        "  maetes.append(mae1)\r\n",
        "elif mae2<=mae1 and mae2<=mae3:\r\n",
        "  maetes.append(mae2)\r\n",
        "else:\r\n",
        "  maetes.append(mae3)"
      ],
      "execution_count": 351,
      "outputs": []
    },
    {
      "cell_type": "markdown",
      "metadata": {
        "id": "KQk9eTastT0-"
      },
      "source": [
        "For 8 Unit"
      ]
    },
    {
      "cell_type": "markdown",
      "metadata": {
        "id": "bvcPsWB8tVcU"
      },
      "source": [
        "**Single Exponential Smoothing**"
      ]
    },
    {
      "cell_type": "code",
      "metadata": {
        "id": "esm4j1AAtVcV"
      },
      "source": [
        "#Creating demand list in 'n' intervals\r\n",
        "demand=dem_n(data.nasdaq_1985_2014,8)"
      ],
      "execution_count": 352,
      "outputs": []
    },
    {
      "cell_type": "code",
      "metadata": {
        "id": "NV5S-103tVcV"
      },
      "source": [
        "#Forecasting\r\n",
        "alpha1=0.2\r\n",
        "alpha2=0.5\r\n",
        "alpha3=0.8\r\n",
        "\r\n",
        "forecast1=ses(demand,alpha1)\r\n",
        "forecast2=ses(demand,alpha2)\r\n",
        "forecast3=ses(demand,alpha3)"
      ],
      "execution_count": 353,
      "outputs": []
    },
    {
      "cell_type": "code",
      "metadata": {
        "colab": {
          "base_uri": "https://localhost:8080/"
        },
        "id": "owZb8iEytVcV",
        "outputId": "dcecf2bc-dc63-48a9-e96c-32aa436b029d"
      },
      "source": [
        "#Calculating Mean of Square Errors\r\n",
        "mse1=mean_squared_error(demand,forecast1)\r\n",
        "mse2=mean_squared_error(demand,forecast2)\r\n",
        "mse3=mean_squared_error(demand,forecast3)\r\n",
        "\r\n",
        "print(\"Mean of Square Errors for alpha = 0.2 is: \",mse1)\r\n",
        "print(\"Mean of Square Errors for alpha = 0.5 is: \",mse2)\r\n",
        "print(\"Mean of Square Errors for alpha = 0.8 is: \",mse3)"
      ],
      "execution_count": 354,
      "outputs": [
        {
          "output_type": "stream",
          "text": [
            "Mean of Square Errors for alpha = 0.2 is:  22001.115413497686\n",
            "Mean of Square Errors for alpha = 0.5 is:  9496.632863043103\n",
            "Mean of Square Errors for alpha = 0.8 is:  7285.948785941906\n"
          ],
          "name": "stdout"
        }
      ]
    },
    {
      "cell_type": "code",
      "metadata": {
        "colab": {
          "base_uri": "https://localhost:8080/",
          "height": 283
        },
        "id": "LD9BFqOLtVcV",
        "outputId": "3502151c-cf50-40cb-b269-85e402bfd6a3"
      },
      "source": [
        "#Comparing mse and plotting for least mse\r\n",
        "d1={'Demand':demand,'Forecast':forecast1}\r\n",
        "d2={'Demand':demand,'Forecast':forecast2}\r\n",
        "d3={'Demand':demand,'Forecast':forecast3}\r\n",
        "\r\n",
        "df1=pd.DataFrame(d1)\r\n",
        "df2=pd.DataFrame(d2)\r\n",
        "df3=pd.DataFrame(d3)\r\n",
        "\r\n",
        "if mse1<=mse2 and mse1<=mse3:\r\n",
        "  print('alpha: ',alpha1)\r\n",
        "  df1.plot(style=['-','-'])\r\n",
        "  mseses.append(mse1)\r\n",
        "elif mse2<=mse1 and mse2<=mse3:\r\n",
        "  print('alpha: ',alpha2)\r\n",
        "  df2.plot(style=['-','-'])\r\n",
        "  mseses.append(mse2) \r\n",
        "else:\r\n",
        "  print('alpha: ',alpha3)\r\n",
        "  df3.plot(style=['-','-'])\r\n",
        "  mseses.append(mse3)"
      ],
      "execution_count": 355,
      "outputs": [
        {
          "output_type": "stream",
          "text": [
            "alpha:  0.8\n"
          ],
          "name": "stdout"
        },
        {
          "output_type": "display_data",
          "data": {
            "image/png": "[encoded data removed]",
            "text/plain": [
              "<Figure size 432x288 with 1 Axes>"
            ]
          },
          "metadata": {
            "tags": [],
            "needs_background": "light"
          }
        }
      ]
    },
    {
      "cell_type": "code",
      "metadata": {
        "id": "JN0WoFSc_8Sv"
      },
      "source": [
        "#Storing least mae values\r\n",
        "if mae1<=mae2 and mae1<=mae3:\r\n",
        "  maeses.append(mae1)\r\n",
        "elif mae2<=mae1 and mae2<=mae3:\r\n",
        "  maeses.append(mae2)\r\n",
        "else:\r\n",
        "  maeses.append(mae3)"
      ],
      "execution_count": 356,
      "outputs": []
    },
    {
      "cell_type": "markdown",
      "metadata": {
        "id": "Pv5jNbzEtVcW"
      },
      "source": [
        "**Double Exponential Smoothing**"
      ]
    },
    {
      "cell_type": "code",
      "metadata": {
        "id": "Ai4nYjGptVcW"
      },
      "source": [
        "#Creating demand list in 'n' intervals\r\n",
        "demand=dem_n(data.nasdaq_1985_2014,8)"
      ],
      "execution_count": 357,
      "outputs": []
    },
    {
      "cell_type": "code",
      "metadata": {
        "id": "EkiZfgivtVcW"
      },
      "source": [
        "#Forecasting\r\n",
        "alpha1=0.2\r\n",
        "alpha2=0.5\r\n",
        "alpha3=0.8\r\n",
        "\r\n",
        "beta1=0.3\r\n",
        "beta2=0.6\r\n",
        "beta3=0.9\r\n",
        "\r\n",
        "forecast1=des(demand,alpha1,beta1)\r\n",
        "forecast2=des(demand,alpha2,beta2)\r\n",
        "forecast3=des(demand,alpha3,beta3)"
      ],
      "execution_count": 358,
      "outputs": []
    },
    {
      "cell_type": "code",
      "metadata": {
        "colab": {
          "base_uri": "https://localhost:8080/"
        },
        "id": "m0utaS3gtVcW",
        "outputId": "9bfe2a90-c1b3-4639-aa6e-3216c222d099"
      },
      "source": [
        "#Calculating Mean of Square Errors\r\n",
        "mse1=mean_squared_error(demand,forecast1)\r\n",
        "mse2=mean_squared_error(demand,forecast2)\r\n",
        "mse3=mean_squared_error(demand,forecast3)\r\n",
        "\r\n",
        "print(\"Mean of Square Errors for alpha = 0.2,beta= 0.3 is: \",mse1)\r\n",
        "print(\"Mean of Square Errors for alpha = 0.5,beta= 0.6 is: \",mse2)\r\n",
        "print(\"Mean of Square Errors for alpha = 0.8,beta= 0.9 is: \",mse3)"
      ],
      "execution_count": 359,
      "outputs": [
        {
          "output_type": "stream",
          "text": [
            "Mean of Square Errors for alpha = 0.2,beta= 0.3 is:  18784.37734055738\n",
            "Mean of Square Errors for alpha = 0.5,beta= 0.6 is:  9918.183439676426\n",
            "Mean of Square Errors for alpha = 0.8,beta= 0.9 is:  10292.573461734017\n"
          ],
          "name": "stdout"
        }
      ]
    },
    {
      "cell_type": "code",
      "metadata": {
        "colab": {
          "base_uri": "https://localhost:8080/",
          "height": 300
        },
        "id": "AyUXsQuVtVcW",
        "outputId": "954428de-8f8e-4c50-cb67-177d7adb4116"
      },
      "source": [
        "#Comparing mse and plotting for least mse\r\n",
        "d1={'Demand':demand,'Forecast':forecast1}\r\n",
        "d2={'Demand':demand,'Forecast':forecast2}\r\n",
        "d3={'Demand':demand,'Forecast':forecast3}\r\n",
        "\r\n",
        "df1=pd.DataFrame(d1)\r\n",
        "df2=pd.DataFrame(d2)\r\n",
        "df3=pd.DataFrame(d3)\r\n",
        "\r\n",
        "if mse1<=mse2 and mse1<=mse3:\r\n",
        "  print('alpha: ',alpha1)\r\n",
        "  print('beta: ',beta1)\r\n",
        "  df1.plot(style=['-','-'])\r\n",
        "  msedes.append(mse1)\r\n",
        "elif mse2<=mse1 and mse2<=mse3:\r\n",
        "  print('alpha: ',alpha2)\r\n",
        "  print('beta: ',beta2)\r\n",
        "  df2.plot(style=['-','-'])\r\n",
        "  msedes.append(mse2) \r\n",
        "else:\r\n",
        "  print('alpha: ',alpha3)\r\n",
        "  print('beta: ',beta3)\r\n",
        "  df3.plot(style=['-','-'])\r\n",
        "  msedes.append(mse3)"
      ],
      "execution_count": 360,
      "outputs": [
        {
          "output_type": "stream",
          "text": [
            "alpha:  0.5\n",
            "beta:  0.6\n"
          ],
          "name": "stdout"
        },
        {
          "output_type": "display_data",
          "data": {
            "image/png": "[encoded data removed]",
            "text/plain": [
              "<Figure size 432x288 with 1 Axes>"
            ]
          },
          "metadata": {
            "tags": [],
            "needs_background": "light"
          }
        }
      ]
    },
    {
      "cell_type": "code",
      "metadata": {
        "id": "owitqjLgAjac"
      },
      "source": [
        "#Storing least mae values\r\n",
        "if mae1<=mae2 and mae1<=mae3:\r\n",
        "  maedes.append(mae1)\r\n",
        "elif mae2<=mae1 and mae2<=mae3:\r\n",
        "  maedes.append(mae2)\r\n",
        "else:\r\n",
        "  maedes.append(mae3)"
      ],
      "execution_count": 361,
      "outputs": []
    },
    {
      "cell_type": "markdown",
      "metadata": {
        "id": "mZGxDOErtVcW"
      },
      "source": [
        "**Triple Exponential Smoothing**"
      ]
    },
    {
      "cell_type": "code",
      "metadata": {
        "id": "VBRh-RuvtVcX"
      },
      "source": [
        "#Creating demand list in 'n' intervals\r\n",
        "demand=dem_n(data.nasdaq_1985_2014,8)"
      ],
      "execution_count": 362,
      "outputs": []
    },
    {
      "cell_type": "code",
      "metadata": {
        "id": "RCEJle0FtVcX"
      },
      "source": [
        "#Forecasting\r\n",
        "alpha1=0.2\r\n",
        "alpha2=0.5\r\n",
        "alpha3=0.8\r\n",
        "\r\n",
        "beta1=0.3\r\n",
        "beta2=0.6\r\n",
        "beta3=0.9\r\n",
        "\r\n",
        "gamma1=0.4\r\n",
        "gamma2=0.7\r\n",
        "gamma3=0.95\r\n",
        "\r\n",
        "#Considering season of 1 hours here\r\n",
        "\r\n",
        "forecast1=tes(demand,1,alpha1,beta1,gamma1,0)\r\n",
        "forecast2=tes(demand,1,alpha2,beta2,gamma2,0)\r\n",
        "forecast3=tes(demand,1,alpha3,beta3,gamma3,0)"
      ],
      "execution_count": 363,
      "outputs": []
    },
    {
      "cell_type": "code",
      "metadata": {
        "colab": {
          "base_uri": "https://localhost:8080/"
        },
        "id": "-FYQo9G8tVcX",
        "outputId": "6fea5e4b-5d13-42e2-e255-92cd4d475b39"
      },
      "source": [
        "#Calculating mean of sqaured errors\r\n",
        "mse1=mean_squared_error(demand,forecast1)\r\n",
        "mse2=mean_squared_error(demand,forecast2)\r\n",
        "mse3=mean_squared_error(demand,forecast3)\r\n",
        "\r\n",
        "print(\"Mean of Square Errors for alpha = 0.2,beta= 0.3 gamma=0.4 is: \",mse1)\r\n",
        "print(\"Mean of Square Errors for alpha = 0.5,beta= 0.6 gamma=0.7 is: \",mse2)\r\n",
        "print(\"Mean of Square Errors for alpha = 0.8,beta= 0.9 gamma=0.95 is: \",mse3)"
      ],
      "execution_count": 364,
      "outputs": [
        {
          "output_type": "stream",
          "text": [
            "Mean of Square Errors for alpha = 0.2,beta= 0.3 gamma=0.4 is:  2411.5017852362967\n",
            "Mean of Square Errors for alpha = 0.5,beta= 0.6 gamma=0.7 is:  1315.0437876670146\n",
            "Mean of Square Errors for alpha = 0.8,beta= 0.9 gamma=0.95 is:  3885.604997022788\n"
          ],
          "name": "stdout"
        }
      ]
    },
    {
      "cell_type": "code",
      "metadata": {
        "colab": {
          "base_uri": "https://localhost:8080/"
        },
        "id": "g4PLBg1O0g89",
        "outputId": "c3103c2e-85a0-4fc7-f2e7-4473382e2e51"
      },
      "source": [
        "#Calculating Mean Absolute Errors\r\n",
        "mae1=mean_absolute_error(demand,forecast1)\r\n",
        "mae2=mean_absolute_error(demand,forecast2)\r\n",
        "mae3=mean_absolute_error(demand,forecast3)\r\n",
        "\r\n",
        "print(\"Mean Absolute Errors for alpha = 0.2,beta= 0.3, gamma=0.4 is: \",mae1)\r\n",
        "print(\"Mean Absolute Errors for alpha = 0.5,beta= 0.6, gamma=0.7 is: \",mae2)\r\n",
        "print(\"Mean Absolute Errors for alpha = 0.8,beta= 0.9, gamma=0.95 is: \",mae3)"
      ],
      "execution_count": 365,
      "outputs": [
        {
          "output_type": "stream",
          "text": [
            "Mean Absolute Errors for alpha = 0.2,beta= 0.3, gamma=0.4 is:  28.816348734870992\n",
            "Mean Absolute Errors for alpha = 0.5,beta= 0.6, gamma=0.7 is:  21.113458801196593\n",
            "Mean Absolute Errors for alpha = 0.8,beta= 0.9, gamma=0.95 is:  35.508952118471896\n"
          ],
          "name": "stdout"
        }
      ]
    },
    {
      "cell_type": "code",
      "metadata": {
        "colab": {
          "base_uri": "https://localhost:8080/",
          "height": 317
        },
        "id": "xMYxN8ontVcX",
        "outputId": "d5cd9b56-1f82-4871-9af3-878369900370"
      },
      "source": [
        "#Comparing mse and plotting for least mse\r\n",
        "d1={'Demand':demand,'Forecast':forecast1}\r\n",
        "d2={'Demand':demand,'Forecast':forecast2}\r\n",
        "d3={'Demand':demand,'Forecast':forecast3}\r\n",
        "\r\n",
        "df1=pd.DataFrame(d1)\r\n",
        "df2=pd.DataFrame(d2)\r\n",
        "df3=pd.DataFrame(d3)\r\n",
        "\r\n",
        "if mse1<=mse2 and mse1<=mse3:\r\n",
        "  print('alpha: ',alpha1)\r\n",
        "  print('beta: ',beta1)\r\n",
        "  print('gamma: ',gamma1)\r\n",
        "  df1.plot(style=['-','-'])\r\n",
        "  msetes.append(mse1)\r\n",
        "elif mse2<=mse1 and mse2<=mse3:\r\n",
        "  print('alpha: ',alpha2)\r\n",
        "  print('beta: ',beta2)\r\n",
        "  print('gamma: ',gamma2)\r\n",
        "  df2.plot(style=['-','-'])\r\n",
        "  msetes.append(mse2) \r\n",
        "else:\r\n",
        "  print('alpha: ',alpha3)\r\n",
        "  print('beta: ',beta3)\r\n",
        "  print('gamma: ',gamma3)\r\n",
        "  df3.plot(style=['-','-'])\r\n",
        "  msetes.append(mse3)"
      ],
      "execution_count": 366,
      "outputs": [
        {
          "output_type": "stream",
          "text": [
            "alpha:  0.5\n",
            "beta:  0.6\n",
            "gamma:  0.7\n"
          ],
          "name": "stdout"
        },
        {
          "output_type": "display_data",
          "data": {
            "image/png": "[encoded data removed]",
            "text/plain": [
              "<Figure size 432x288 with 1 Axes>"
            ]
          },
          "metadata": {
            "tags": [],
            "needs_background": "light"
          }
        }
      ]
    },
    {
      "cell_type": "code",
      "metadata": {
        "id": "93UTRGCmBNa4"
      },
      "source": [
        "#Storing least mae values\r\n",
        "if mae1<=mae2 and mae1<=mae3:\r\n",
        "  maetes.append(mae1)\r\n",
        "elif mae2<=mae1 and mae2<=mae3:\r\n",
        "  maetes.append(mae2)\r\n",
        "else:\r\n",
        "  maetes.append(mae3)"
      ],
      "execution_count": 367,
      "outputs": []
    },
    {
      "cell_type": "markdown",
      "metadata": {
        "id": "q7OmQqzauurd"
      },
      "source": [
        "For 12 Unit"
      ]
    },
    {
      "cell_type": "markdown",
      "metadata": {
        "id": "QEa-lF5zu8NW"
      },
      "source": [
        "**Single Exponential Smoothing**"
      ]
    },
    {
      "cell_type": "code",
      "metadata": {
        "id": "GQK3IcDHu8Nd"
      },
      "source": [
        "#Creating demand list in 'n' intervals\r\n",
        "demand=dem_n(data.nasdaq_1985_2014,12)"
      ],
      "execution_count": 368,
      "outputs": []
    },
    {
      "cell_type": "code",
      "metadata": {
        "id": "ebhEht9Nu8Nd"
      },
      "source": [
        "#Forecasting\r\n",
        "alpha1=0.2\r\n",
        "alpha2=0.5\r\n",
        "alpha3=0.8\r\n",
        "\r\n",
        "forecast1=ses(demand,alpha1)\r\n",
        "forecast2=ses(demand,alpha2)\r\n",
        "forecast3=ses(demand,alpha3)"
      ],
      "execution_count": 369,
      "outputs": []
    },
    {
      "cell_type": "code",
      "metadata": {
        "colab": {
          "base_uri": "https://localhost:8080/"
        },
        "id": "c4hbMx8ru8Ne",
        "outputId": "50896b6e-9a83-454e-d4b4-0bbc842d0fb6"
      },
      "source": [
        "#Calculating Mean of Square Errors\r\n",
        "mse1=mean_squared_error(demand,forecast1)\r\n",
        "mse2=mean_squared_error(demand,forecast2)\r\n",
        "mse3=mean_squared_error(demand,forecast3)\r\n",
        "\r\n",
        "print(\"Mean of Square Errors for alpha = 0.2 is: \",mse1)\r\n",
        "print(\"Mean of Square Errors for alpha = 0.5 is: \",mse2)\r\n",
        "print(\"Mean of Square Errors for alpha = 0.8 is: \",mse3)"
      ],
      "execution_count": 370,
      "outputs": [
        {
          "output_type": "stream",
          "text": [
            "Mean of Square Errors for alpha = 0.2 is:  36554.707547896985\n",
            "Mean of Square Errors for alpha = 0.5 is:  15334.264016352563\n",
            "Mean of Square Errors for alpha = 0.8 is:  11696.207437428884\n"
          ],
          "name": "stdout"
        }
      ]
    },
    {
      "cell_type": "code",
      "metadata": {
        "colab": {
          "base_uri": "https://localhost:8080/",
          "height": 283
        },
        "id": "vxlv2WWAu8Ne",
        "outputId": "61250045-9565-4425-a43e-16100cbc311c"
      },
      "source": [
        "#Comparing mse and plotting for least mse\r\n",
        "d1={'Demand':demand,'Forecast':forecast1}\r\n",
        "d2={'Demand':demand,'Forecast':forecast2}\r\n",
        "d3={'Demand':demand,'Forecast':forecast3}\r\n",
        "\r\n",
        "df1=pd.DataFrame(d1)\r\n",
        "df2=pd.DataFrame(d2)\r\n",
        "df3=pd.DataFrame(d3)\r\n",
        "\r\n",
        "if mse1<=mse2 and mse1<=mse3:\r\n",
        "  print('alpha: ',alpha1)\r\n",
        "  df1.plot(style=['-','-'])\r\n",
        "  mseses.append(mse1)\r\n",
        "elif mse2<=mse1 and mse2<=mse3:\r\n",
        "  print('alpha: ',alpha2)\r\n",
        "  df2.plot(style=['-','-'])\r\n",
        "  mseses.append(mse2) \r\n",
        "else:\r\n",
        "  print('alpha: ',alpha3)\r\n",
        "  df3.plot(style=['-','-'])\r\n",
        "  mseses.append(mse3)"
      ],
      "execution_count": 371,
      "outputs": [
        {
          "output_type": "stream",
          "text": [
            "alpha:  0.8\n"
          ],
          "name": "stdout"
        },
        {
          "output_type": "display_data",
          "data": {
            "image/png": "[encoded data removed]",
            "text/plain": [
              "<Figure size 432x288 with 1 Axes>"
            ]
          },
          "metadata": {
            "tags": [],
            "needs_background": "light"
          }
        }
      ]
    },
    {
      "cell_type": "code",
      "metadata": {
        "id": "77YA0ZWiAAxR"
      },
      "source": [
        "#Storing least mae values\r\n",
        "if mae1<=mae2 and mae1<=mae3:\r\n",
        "  maeses.append(mae1)\r\n",
        "elif mae2<=mae1 and mae2<=mae3:\r\n",
        "  maeses.append(mae2)\r\n",
        "else:\r\n",
        "  maeses.append(mae3)"
      ],
      "execution_count": 372,
      "outputs": []
    },
    {
      "cell_type": "markdown",
      "metadata": {
        "id": "zo43_S2Vu8Nf"
      },
      "source": [
        "**Double Exponential Smoothing**"
      ]
    },
    {
      "cell_type": "code",
      "metadata": {
        "id": "r8_nvH-xu8Nf"
      },
      "source": [
        "#Creating demand list in 'n' intervals\r\n",
        "demand=dem_n(data.nasdaq_1985_2014,12)"
      ],
      "execution_count": 373,
      "outputs": []
    },
    {
      "cell_type": "code",
      "metadata": {
        "id": "-AJIXLTNu8Nf"
      },
      "source": [
        "#Forecasting\r\n",
        "alpha1=0.2\r\n",
        "alpha2=0.5\r\n",
        "alpha3=0.8\r\n",
        "\r\n",
        "beta1=0.3\r\n",
        "beta2=0.6\r\n",
        "beta3=0.9\r\n",
        "\r\n",
        "forecast1=des(demand,alpha1,beta1)\r\n",
        "forecast2=des(demand,alpha2,beta2)\r\n",
        "forecast3=des(demand,alpha3,beta3)"
      ],
      "execution_count": 374,
      "outputs": []
    },
    {
      "cell_type": "code",
      "metadata": {
        "colab": {
          "base_uri": "https://localhost:8080/"
        },
        "id": "69GI49dUu8Nf",
        "outputId": "7d88c0b1-2e0e-4372-81ca-75683015d345"
      },
      "source": [
        "#Calculating Mean of Square Errors\r\n",
        "mse1=mean_squared_error(demand,forecast1)\r\n",
        "mse2=mean_squared_error(demand,forecast2)\r\n",
        "mse3=mean_squared_error(demand,forecast3)\r\n",
        "\r\n",
        "print(\"Mean of Square Errors for alpha = 0.2,beta= 0.3 is: \",mse1)\r\n",
        "print(\"Mean of Square Errors for alpha = 0.5,beta= 0.6 is: \",mse2)\r\n",
        "print(\"Mean of Square Errors for alpha = 0.8,beta= 0.9 is: \",mse3)"
      ],
      "execution_count": 375,
      "outputs": [
        {
          "output_type": "stream",
          "text": [
            "Mean of Square Errors for alpha = 0.2,beta= 0.3 is:  27677.866788889336\n",
            "Mean of Square Errors for alpha = 0.5,beta= 0.6 is:  15523.773209021978\n",
            "Mean of Square Errors for alpha = 0.8,beta= 0.9 is:  16105.13520294062\n"
          ],
          "name": "stdout"
        }
      ]
    },
    {
      "cell_type": "code",
      "metadata": {
        "colab": {
          "base_uri": "https://localhost:8080/",
          "height": 300
        },
        "id": "xKu9lmyIu8Nf",
        "outputId": "b57146a7-3217-4742-80ba-3bd43788511b"
      },
      "source": [
        "#Comparing mse and plotting for least mse\r\n",
        "d1={'Demand':demand,'Forecast':forecast1}\r\n",
        "d2={'Demand':demand,'Forecast':forecast2}\r\n",
        "d3={'Demand':demand,'Forecast':forecast3}\r\n",
        "\r\n",
        "df1=pd.DataFrame(d1)\r\n",
        "df2=pd.DataFrame(d2)\r\n",
        "df3=pd.DataFrame(d3)\r\n",
        "\r\n",
        "if mse1<=mse2 and mse1<=mse3:\r\n",
        "  print('alpha: ',alpha1)\r\n",
        "  print('beta: ',beta1)\r\n",
        "  df1.plot(style=['-','-'])\r\n",
        "  msedes.append(mse1)\r\n",
        "elif mse2<=mse1 and mse2<=mse3:\r\n",
        "  print('alpha: ',alpha2)\r\n",
        "  print('beta: ',beta2)\r\n",
        "  df2.plot(style=['-','-'])\r\n",
        "  msedes.append(mse2) \r\n",
        "else:\r\n",
        "  print('alpha: ',alpha3)\r\n",
        "  print('beta: ',beta3)\r\n",
        "  df3.plot(style=['-','-'])\r\n",
        "  msedes.append(mse3)"
      ],
      "execution_count": 376,
      "outputs": [
        {
          "output_type": "stream",
          "text": [
            "alpha:  0.5\n",
            "beta:  0.6\n"
          ],
          "name": "stdout"
        },
        {
          "output_type": "display_data",
          "data": {
            "image/png": "[encoded data removed]",
            "text/plain": [
              "<Figure size 432x288 with 1 Axes>"
            ]
          },
          "metadata": {
            "tags": [],
            "needs_background": "light"
          }
        }
      ]
    },
    {
      "cell_type": "code",
      "metadata": {
        "id": "9xpG5aITArOg"
      },
      "source": [
        "#Storing least mae values\r\n",
        "if mae1<=mae2 and mae1<=mae3:\r\n",
        "  maedes.append(mae1)\r\n",
        "elif mae2<=mae1 and mae2<=mae3:\r\n",
        "  maedes.append(mae2)\r\n",
        "else:\r\n",
        "  maedes.append(mae3)"
      ],
      "execution_count": 377,
      "outputs": []
    },
    {
      "cell_type": "markdown",
      "metadata": {
        "id": "hOEPiaOPu8Ng"
      },
      "source": [
        "**Triple Exponential Smoothing**"
      ]
    },
    {
      "cell_type": "code",
      "metadata": {
        "id": "G2V8tcbhu8Ng"
      },
      "source": [
        "#Creating demand list in 'n' intervals\r\n",
        "demand=dem_n(data.nasdaq_1985_2014,12)"
      ],
      "execution_count": 378,
      "outputs": []
    },
    {
      "cell_type": "code",
      "metadata": {
        "id": "pvCtCAqtu8Ng"
      },
      "source": [
        "#Forecasting\r\n",
        "alpha1=0.2\r\n",
        "alpha2=0.5\r\n",
        "alpha3=0.8\r\n",
        "\r\n",
        "beta1=0.3\r\n",
        "beta2=0.6\r\n",
        "beta3=0.9\r\n",
        "\r\n",
        "gamma1=0.4\r\n",
        "gamma2=0.7\r\n",
        "gamma3=0.95\r\n",
        "\r\n",
        "#Considering season of 1 hours here\r\n",
        "\r\n",
        "forecast1=tes(demand,1,alpha1,beta1,gamma1,0)\r\n",
        "forecast2=tes(demand,1,alpha2,beta2,gamma2,0)\r\n",
        "forecast3=tes(demand,1,alpha3,beta3,gamma3,0)"
      ],
      "execution_count": 379,
      "outputs": []
    },
    {
      "cell_type": "code",
      "metadata": {
        "colab": {
          "base_uri": "https://localhost:8080/"
        },
        "id": "5-UaoCVlu8Ng",
        "outputId": "68daaad9-92b4-495f-b816-bb53e8158f00"
      },
      "source": [
        "#Calculating mean of sqaured errors\r\n",
        "mse1=mean_squared_error(demand,forecast1)\r\n",
        "mse2=mean_squared_error(demand,forecast2)\r\n",
        "mse3=mean_squared_error(demand,forecast3)\r\n",
        "\r\n",
        "print(\"Mean of Square Errors for alpha = 0.2,beta= 0.3 gamma=0.4 is: \",mse1)\r\n",
        "print(\"Mean of Square Errors for alpha = 0.5,beta= 0.6 gamma=0.7 is: \",mse2)\r\n",
        "print(\"Mean of Square Errors for alpha = 0.8,beta= 0.9 gamma=0.95 is: \",mse3)"
      ],
      "execution_count": 380,
      "outputs": [
        {
          "output_type": "stream",
          "text": [
            "Mean of Square Errors for alpha = 0.2,beta= 0.3 gamma=0.4 is:  4009.291152396081\n",
            "Mean of Square Errors for alpha = 0.5,beta= 0.6 gamma=0.7 is:  2162.61293598704\n",
            "Mean of Square Errors for alpha = 0.8,beta= 0.9 gamma=0.95 is:  6217.613679652851\n"
          ],
          "name": "stdout"
        }
      ]
    },
    {
      "cell_type": "code",
      "metadata": {
        "colab": {
          "base_uri": "https://localhost:8080/"
        },
        "id": "ASg4ZN9O0jwF",
        "outputId": "cdcc5699-3968-46f3-e059-f3a9e7ee9d64"
      },
      "source": [
        "#Calculating Mean Absolute Errors\r\n",
        "mae1=mean_absolute_error(demand,forecast1)\r\n",
        "mae2=mean_absolute_error(demand,forecast2)\r\n",
        "mae3=mean_absolute_error(demand,forecast3)\r\n",
        "\r\n",
        "print(\"Mean Absolute Errors for alpha = 0.2,beta= 0.3, gamma=0.4 is: \",mae1)\r\n",
        "print(\"Mean Absolute Errors for alpha = 0.5,beta= 0.6, gamma=0.7 is: \",mae2)\r\n",
        "print(\"Mean Absolute Errors for alpha = 0.8,beta= 0.9, gamma=0.95 is: \",mae3)"
      ],
      "execution_count": 381,
      "outputs": [
        {
          "output_type": "stream",
          "text": [
            "Mean Absolute Errors for alpha = 0.2,beta= 0.3, gamma=0.4 is:  37.25633299856909\n",
            "Mean Absolute Errors for alpha = 0.5,beta= 0.6, gamma=0.7 is:  27.860130011503685\n",
            "Mean Absolute Errors for alpha = 0.8,beta= 0.9, gamma=0.95 is:  45.02798320799283\n"
          ],
          "name": "stdout"
        }
      ]
    },
    {
      "cell_type": "code",
      "metadata": {
        "colab": {
          "base_uri": "https://localhost:8080/",
          "height": 317
        },
        "id": "TDEBI-tPu8Ng",
        "outputId": "e0b22fca-2a28-4eb3-c872-92c17592cd39"
      },
      "source": [
        "#Comparing mse and plotting for least mse\r\n",
        "d1={'Demand':demand,'Forecast':forecast1}\r\n",
        "d2={'Demand':demand,'Forecast':forecast2}\r\n",
        "d3={'Demand':demand,'Forecast':forecast3}\r\n",
        "\r\n",
        "df1=pd.DataFrame(d1)\r\n",
        "df2=pd.DataFrame(d2)\r\n",
        "df3=pd.DataFrame(d3)\r\n",
        "\r\n",
        "if mse1<=mse2 and mse1<=mse3:\r\n",
        "  print('alpha: ',alpha1)\r\n",
        "  print('beta: ',beta1)\r\n",
        "  print('gamma: ',gamma1)\r\n",
        "  df1.plot(style=['-','-'])\r\n",
        "  msetes.append(mse1)\r\n",
        "elif mse2<=mse1 and mse2<=mse3:\r\n",
        "  print('alpha: ',alpha2)\r\n",
        "  print('beta: ',beta2)\r\n",
        "  print('gamma: ',gamma2)\r\n",
        "  df2.plot(style=['-','-'])\r\n",
        "  msetes.append(mse2) \r\n",
        "else:\r\n",
        "  print('alpha: ',alpha3)\r\n",
        "  print('beta: ',beta3)\r\n",
        "  print('gamma: ',gamma3)\r\n",
        "  df3.plot(style=['-','-'])\r\n",
        "  msetes.append(mse3)"
      ],
      "execution_count": 382,
      "outputs": [
        {
          "output_type": "stream",
          "text": [
            "alpha:  0.5\n",
            "beta:  0.6\n",
            "gamma:  0.7\n"
          ],
          "name": "stdout"
        },
        {
          "output_type": "display_data",
          "data": {
            "image/png": "[encoded data removed]",
            "text/plain": [
              "<Figure size 432x288 with 1 Axes>"
            ]
          },
          "metadata": {
            "tags": [],
            "needs_background": "light"
          }
        }
      ]
    },
    {
      "cell_type": "code",
      "metadata": {
        "id": "FSHE07bcBPy8"
      },
      "source": [
        "#Storing least mae values\r\n",
        "if mae1<=mae2 and mae1<=mae3:\r\n",
        "  maetes.append(mae1)\r\n",
        "elif mae2<=mae1 and mae2<=mae3:\r\n",
        "  maetes.append(mae2)\r\n",
        "else:\r\n",
        "  maetes.append(mae3)"
      ],
      "execution_count": 383,
      "outputs": []
    },
    {
      "cell_type": "markdown",
      "metadata": {
        "id": "f3-mzj0UwPjA"
      },
      "source": [
        "For 24 Interval"
      ]
    },
    {
      "cell_type": "markdown",
      "metadata": {
        "id": "GHru0XA6wRN4"
      },
      "source": [
        "**Single Exponential Smoothing**"
      ]
    },
    {
      "cell_type": "code",
      "metadata": {
        "id": "NNttI5vcwRN5"
      },
      "source": [
        "#Creating demand list in 'n' intervals\r\n",
        "demand=dem_n(data.nasdaq_1985_2014,24)"
      ],
      "execution_count": 384,
      "outputs": []
    },
    {
      "cell_type": "code",
      "metadata": {
        "id": "tr8bHzD2wRN5"
      },
      "source": [
        "#Forecasting\r\n",
        "alpha1=0.2\r\n",
        "alpha2=0.5\r\n",
        "alpha3=0.8\r\n",
        "\r\n",
        "forecast1=ses(demand,alpha1)\r\n",
        "forecast2=ses(demand,alpha2)\r\n",
        "forecast3=ses(demand,alpha3)"
      ],
      "execution_count": 385,
      "outputs": []
    },
    {
      "cell_type": "code",
      "metadata": {
        "colab": {
          "base_uri": "https://localhost:8080/"
        },
        "id": "WPw6NhYwwRN6",
        "outputId": "210b0822-f4c9-41d3-bd9f-69821c15dc61"
      },
      "source": [
        "#Calculating Mean of Square Errors\r\n",
        "mse1=mean_squared_error(demand,forecast1)\r\n",
        "mse2=mean_squared_error(demand,forecast2)\r\n",
        "mse3=mean_squared_error(demand,forecast3)\r\n",
        "\r\n",
        "print(\"Mean of Square Errors for alpha = 0.2 is: \",mse1)\r\n",
        "print(\"Mean of Square Errors for alpha = 0.5 is: \",mse2)\r\n",
        "print(\"Mean of Square Errors for alpha = 0.8 is: \",mse3)"
      ],
      "execution_count": 386,
      "outputs": [
        {
          "output_type": "stream",
          "text": [
            "Mean of Square Errors for alpha = 0.2 is:  81646.70511270332\n",
            "Mean of Square Errors for alpha = 0.5 is:  33991.33138341908\n",
            "Mean of Square Errors for alpha = 0.8 is:  25484.935350911685\n"
          ],
          "name": "stdout"
        }
      ]
    },
    {
      "cell_type": "code",
      "metadata": {
        "colab": {
          "base_uri": "https://localhost:8080/",
          "height": 283
        },
        "id": "910nhOQvwRN6",
        "outputId": "9e43d8db-8245-4ba4-a684-9587ac610c9a"
      },
      "source": [
        "#Comparing mse and plotting for least mse\r\n",
        "d1={'Demand':demand,'Forecast':forecast1}\r\n",
        "d2={'Demand':demand,'Forecast':forecast2}\r\n",
        "d3={'Demand':demand,'Forecast':forecast3}\r\n",
        "\r\n",
        "df1=pd.DataFrame(d1)\r\n",
        "df2=pd.DataFrame(d2)\r\n",
        "df3=pd.DataFrame(d3)\r\n",
        "\r\n",
        "if mse1<=mse2 and mse1<=mse3:\r\n",
        "  print('alpha: ',alpha1)\r\n",
        "  df1.plot(style=['-','-'])\r\n",
        "  mseses.append(mse1)\r\n",
        "elif mse2<=mse1 and mse2<=mse3:\r\n",
        "  print('alpha: ',alpha2)\r\n",
        "  df2.plot(style=['-','-'])\r\n",
        "  mseses.append(mse2) \r\n",
        "else:\r\n",
        "  print('alpha: ',alpha3)\r\n",
        "  df3.plot(style=['-','-'])\r\n",
        "  mseses.append(mse3)"
      ],
      "execution_count": 387,
      "outputs": [
        {
          "output_type": "stream",
          "text": [
            "alpha:  0.8\n"
          ],
          "name": "stdout"
        },
        {
          "output_type": "display_data",
          "data": {
            "image/png": "[encoded data removed]",
            "text/plain": [
              "<Figure size 432x288 with 1 Axes>"
            ]
          },
          "metadata": {
            "tags": [],
            "needs_background": "light"
          }
        }
      ]
    },
    {
      "cell_type": "code",
      "metadata": {
        "id": "k1ORCadSAGPD"
      },
      "source": [
        "#Storing least mae values\r\n",
        "if mae1<=mae2 and mae1<=mae3:\r\n",
        "  maeses.append(mae1)\r\n",
        "elif mae2<=mae1 and mae2<=mae3:\r\n",
        "  maeses.append(mae2)\r\n",
        "else:\r\n",
        "  maeses.append(mae3)"
      ],
      "execution_count": 388,
      "outputs": []
    },
    {
      "cell_type": "markdown",
      "metadata": {
        "id": "MUH0-dMrA1pX"
      },
      "source": [
        "**Double Exponential Smoothing**"
      ]
    },
    {
      "cell_type": "code",
      "metadata": {
        "id": "YLhYtbBowRN6"
      },
      "source": [
        "#Creating demand list in 'n' intervals\r\n",
        "demand=dem_n(data.nasdaq_1985_2014,24)"
      ],
      "execution_count": 389,
      "outputs": []
    },
    {
      "cell_type": "code",
      "metadata": {
        "id": "LJxgJfJkwRN6"
      },
      "source": [
        "#Forecasting\r\n",
        "alpha1=0.2\r\n",
        "alpha2=0.5\r\n",
        "alpha3=0.8\r\n",
        "\r\n",
        "beta1=0.3\r\n",
        "beta2=0.6\r\n",
        "beta3=0.9\r\n",
        "\r\n",
        "forecast1=des(demand,alpha1,beta1)\r\n",
        "forecast2=des(demand,alpha2,beta2)\r\n",
        "forecast3=des(demand,alpha3,beta3)"
      ],
      "execution_count": 390,
      "outputs": []
    },
    {
      "cell_type": "code",
      "metadata": {
        "colab": {
          "base_uri": "https://localhost:8080/"
        },
        "id": "f5OGxtrlwRN7",
        "outputId": "887388e2-c510-4d33-cd1a-8140f9656679"
      },
      "source": [
        "#Calculating Mean of Square Errors\r\n",
        "mse1=mean_squared_error(demand,forecast1)\r\n",
        "mse2=mean_squared_error(demand,forecast2)\r\n",
        "mse3=mean_squared_error(demand,forecast3)\r\n",
        "\r\n",
        "print(\"Mean of Square Errors for alpha = 0.2,beta= 0.3 is: \",mse1)\r\n",
        "print(\"Mean of Square Errors for alpha = 0.5,beta= 0.6 is: \",mse2)\r\n",
        "print(\"Mean of Square Errors for alpha = 0.8,beta= 0.9 is: \",mse3)"
      ],
      "execution_count": 391,
      "outputs": [
        {
          "output_type": "stream",
          "text": [
            "Mean of Square Errors for alpha = 0.2,beta= 0.3 is:  67629.46120193429\n",
            "Mean of Square Errors for alpha = 0.5,beta= 0.6 is:  34800.05663995416\n",
            "Mean of Square Errors for alpha = 0.8,beta= 0.9 is:  34922.28877471786\n"
          ],
          "name": "stdout"
        }
      ]
    },
    {
      "cell_type": "code",
      "metadata": {
        "colab": {
          "base_uri": "https://localhost:8080/",
          "height": 300
        },
        "id": "4B3YASvKwRN7",
        "outputId": "b41720fe-da75-47d5-b078-079d0662169c"
      },
      "source": [
        "#Comparing mse and plotting for least mse\r\n",
        "d1={'Demand':demand,'Forecast':forecast1}\r\n",
        "d2={'Demand':demand,'Forecast':forecast2}\r\n",
        "d3={'Demand':demand,'Forecast':forecast3}\r\n",
        "\r\n",
        "df1=pd.DataFrame(d1)\r\n",
        "df2=pd.DataFrame(d2)\r\n",
        "df3=pd.DataFrame(d3)\r\n",
        "\r\n",
        "if mse1<=mse2 and mse1<=mse3:\r\n",
        "  print('alpha: ',alpha1)\r\n",
        "  print('beta: ',beta1)\r\n",
        "  df1.plot(style=['-','-'])\r\n",
        "  msedes.append(mse1)\r\n",
        "elif mse2<=mse1 and mse2<=mse3:\r\n",
        "  print('alpha: ',alpha2)\r\n",
        "  print('beta: ',beta2)\r\n",
        "  df2.plot(style=['-','-'])\r\n",
        "  msedes.append(mse2) \r\n",
        "else:\r\n",
        "  print('alpha: ',alpha3)\r\n",
        "  print('beta: ',beta3)\r\n",
        "  df3.plot(style=['-','-'])\r\n",
        "  msedes.append(mse3)"
      ],
      "execution_count": 392,
      "outputs": [
        {
          "output_type": "stream",
          "text": [
            "alpha:  0.5\n",
            "beta:  0.6\n"
          ],
          "name": "stdout"
        },
        {
          "output_type": "display_data",
          "data": {
            "image/png": "[encoded data removed]",
            "text/plain": [
              "<Figure size 432x288 with 1 Axes>"
            ]
          },
          "metadata": {
            "tags": [],
            "needs_background": "light"
          }
        }
      ]
    },
    {
      "cell_type": "markdown",
      "metadata": {
        "id": "Sljqc2jUwRN7"
      },
      "source": [
        "**Triple Exponential Smoothing**"
      ]
    },
    {
      "cell_type": "code",
      "metadata": {
        "id": "9s5vOnb8wRN7"
      },
      "source": [
        "#Creating demand list in 'n' intervals\r\n",
        "demand=dem_n(data.nasdaq_1985_2014,24)"
      ],
      "execution_count": 393,
      "outputs": []
    },
    {
      "cell_type": "code",
      "metadata": {
        "id": "D5pQOb91wRN7"
      },
      "source": [
        "#Forecasting\r\n",
        "alpha1=0.2\r\n",
        "alpha2=0.5\r\n",
        "alpha3=0.8\r\n",
        "\r\n",
        "beta1=0.3\r\n",
        "beta2=0.6\r\n",
        "beta3=0.9\r\n",
        "\r\n",
        "gamma1=0.4\r\n",
        "gamma2=0.7\r\n",
        "gamma3=0.95\r\n",
        "\r\n",
        "#Considering season of 1 hours here\r\n",
        "\r\n",
        "forecast1=tes(demand,1,alpha1,beta1,gamma1,0)\r\n",
        "forecast2=tes(demand,1,alpha2,beta2,gamma2,0)\r\n",
        "forecast3=tes(demand,1,alpha3,beta3,gamma3,0)"
      ],
      "execution_count": 394,
      "outputs": []
    },
    {
      "cell_type": "code",
      "metadata": {
        "colab": {
          "base_uri": "https://localhost:8080/"
        },
        "id": "D1RFhGaOwRN7",
        "outputId": "1658b5c9-a6cb-4095-c5e4-d76889be7b0b"
      },
      "source": [
        "#Calculating mean of sqaured errors\r\n",
        "mse1=mean_squared_error(demand,forecast1)\r\n",
        "mse2=mean_squared_error(demand,forecast2)\r\n",
        "mse3=mean_squared_error(demand,forecast3)\r\n",
        "\r\n",
        "print(\"Mean of Square Errors for alpha = 0.2,beta= 0.3 gamma=0.4 is: \",mse1)\r\n",
        "print(\"Mean of Square Errors for alpha = 0.5,beta= 0.6 gamma=0.7 is: \",mse2)\r\n",
        "print(\"Mean of Square Errors for alpha = 0.8,beta= 0.9 gamma=0.95 is: \",mse3)"
      ],
      "execution_count": 395,
      "outputs": [
        {
          "output_type": "stream",
          "text": [
            "Mean of Square Errors for alpha = 0.2,beta= 0.3 gamma=0.4 is:  8382.365317435291\n",
            "Mean of Square Errors for alpha = 0.5,beta= 0.6 gamma=0.7 is:  4817.319971579469\n",
            "Mean of Square Errors for alpha = 0.8,beta= 0.9 gamma=0.95 is:  13690.609282051906\n"
          ],
          "name": "stdout"
        }
      ]
    },
    {
      "cell_type": "code",
      "metadata": {
        "colab": {
          "base_uri": "https://localhost:8080/"
        },
        "id": "IDUrvVOk0su0",
        "outputId": "61d3b30d-f87b-427e-85fd-629fce3b6d63"
      },
      "source": [
        "#Calculating Mean Absolute Errors\r\n",
        "mae1=mean_absolute_error(demand,forecast1)\r\n",
        "mae2=mean_absolute_error(demand,forecast2)\r\n",
        "mae3=mean_absolute_error(demand,forecast3)\r\n",
        "\r\n",
        "print(\"Mean Absolute Errors for alpha = 0.2,beta= 0.3, gamma=0.4 is: \",mae1)\r\n",
        "print(\"Mean Absolute Errors for alpha = 0.5,beta= 0.6, gamma=0.7 is: \",mae2)\r\n",
        "print(\"Mean Absolute Errors for alpha = 0.8,beta= 0.9, gamma=0.95 is: \",mae3)"
      ],
      "execution_count": 396,
      "outputs": [
        {
          "output_type": "stream",
          "text": [
            "Mean Absolute Errors for alpha = 0.2,beta= 0.3, gamma=0.4 is:  54.238860420695346\n",
            "Mean Absolute Errors for alpha = 0.5,beta= 0.6, gamma=0.7 is:  42.58463728481874\n",
            "Mean Absolute Errors for alpha = 0.8,beta= 0.9, gamma=0.95 is:  67.30157256856023\n"
          ],
          "name": "stdout"
        }
      ]
    },
    {
      "cell_type": "code",
      "metadata": {
        "colab": {
          "base_uri": "https://localhost:8080/",
          "height": 317
        },
        "id": "vqp66F6ywRN8",
        "outputId": "29065236-619d-473b-8ddb-433849d992ad"
      },
      "source": [
        "#Comparing mse and plotting for least mse\r\n",
        "d1={'Demand':demand,'Forecast':forecast1}\r\n",
        "d2={'Demand':demand,'Forecast':forecast2}\r\n",
        "d3={'Demand':demand,'Forecast':forecast3}\r\n",
        "\r\n",
        "df1=pd.DataFrame(d1)\r\n",
        "df2=pd.DataFrame(d2)\r\n",
        "df3=pd.DataFrame(d3)\r\n",
        "\r\n",
        "if mse1<=mse2 and mse1<=mse3:\r\n",
        "  print('alpha: ',alpha1)\r\n",
        "  print('beta: ',beta1)\r\n",
        "  print('gamma: ',gamma1)\r\n",
        "  df1.plot(style=['-','-'])\r\n",
        "  msetes.append(mse1)\r\n",
        "elif mse2<=mse1 and mse2<=mse3:\r\n",
        "  print('alpha: ',alpha2)\r\n",
        "  print('beta: ',beta2)\r\n",
        "  print('gamma: ',gamma2)\r\n",
        "  df2.plot(style=['-','-'])\r\n",
        "  msetes.append(mse2) \r\n",
        "else:\r\n",
        "  print('alpha: ',alpha3)\r\n",
        "  print('beta: ',beta3)\r\n",
        "  print('gamma: ',gamma3)\r\n",
        "  df3.plot(style=['-','-'])\r\n",
        "  msetes.append(mse3)"
      ],
      "execution_count": 397,
      "outputs": [
        {
          "output_type": "stream",
          "text": [
            "alpha:  0.5\n",
            "beta:  0.6\n",
            "gamma:  0.7\n"
          ],
          "name": "stdout"
        },
        {
          "output_type": "display_data",
          "data": {
            "image/png": "[encoded data removed]",
            "text/plain": [
              "<Figure size 432x288 with 1 Axes>"
            ]
          },
          "metadata": {
            "tags": [],
            "needs_background": "light"
          }
        }
      ]
    },
    {
      "cell_type": "code",
      "metadata": {
        "id": "rWb63GxrBRzT"
      },
      "source": [
        "#Storing least mae values\r\n",
        "if mae1<=mae2 and mae1<=mae3:\r\n",
        "  maetes.append(mae1)\r\n",
        "elif mae2<=mae1 and mae2<=mae3:\r\n",
        "  maetes.append(mae2)\r\n",
        "else:\r\n",
        "  maetes.append(mae3)"
      ],
      "execution_count": 398,
      "outputs": []
    },
    {
      "cell_type": "markdown",
      "metadata": {
        "id": "sNCnw00zBWXI"
      },
      "source": [
        "\r\n",
        "\r\n",
        "---\r\n",
        "\r\n",
        "Least MSE and MAE values are\r\n"
      ]
    },
    {
      "cell_type": "code",
      "metadata": {
        "colab": {
          "base_uri": "https://localhost:8080/"
        },
        "id": "gbQdygsbBbaT",
        "outputId": "b1483d73-413f-4a76-9839-0fd8ea74f29b"
      },
      "source": [
        "print(\"Least MSE ses\")\r\n",
        "print(mseses)\r\n",
        "print(\"Least MSE des\")\r\n",
        "print(msedes)\r\n",
        "print(\"Least MSE tes\")\r\n",
        "print(msetes)\r\n",
        "\r\n",
        "\r\n",
        "print(\"Least MAE ses\")\r\n",
        "print(maeses)\r\n",
        "print(\"Least MAE des\")\r\n",
        "print(maedes)\r\n",
        "print(\"Least MAE tes\")\r\n",
        "print(maetes)\r\n"
      ],
      "execution_count": 399,
      "outputs": [
        {
          "output_type": "stream",
          "text": [
            "Least MSE ses\n",
            "[1117.7909898783196, 2061.186342147135, 3560.3736671460274, 7285.948785941906, 11696.207437428884, 25484.935350911685]\n",
            "Least MSE des\n",
            "[1610.849168270192, 2844.2289410307126, 4731.670089222, 9918.183439676426, 15523.773209021978, 34800.05663995416]\n",
            "Least MSE tes\n",
            "[159.5560160348016, 297.6694292157872, 601.9928399245516, 1315.0437876670146, 2162.61293598704, 4817.319971579469]\n",
            "Least MAE ses\n",
            "[7.130769745696372, 7.130769745696372, 9.916028550010301, 14.281490895883545, 21.113458801196593, 27.860130011503685]\n",
            "Least MAE des\n",
            "[7.130769745696372, 7.130769745696372, 9.916028550010301, 14.281490895883545, 21.113458801196593]\n",
            "Least MAE tes\n",
            "[7.130769745696372, 9.916028550010301, 14.281490895883545, 21.113458801196593, 27.860130011503685, 42.58463728481874]\n"
          ],
          "name": "stdout"
        }
      ]
    },
    {
      "cell_type": "markdown",
      "metadata": {
        "id": "92kr0FN236u8"
      },
      "source": [
        "\r\n",
        "\r\n",
        "---\r\n",
        "\r\n"
      ]
    },
    {
      "cell_type": "markdown",
      "metadata": {
        "id": "_94u6LTj38Dj"
      },
      "source": [
        "Applying ACF and PACF"
      ]
    },
    {
      "cell_type": "code",
      "metadata": {
        "colab": {
          "base_uri": "https://localhost:8080/",
          "height": 299
        },
        "id": "0R7SZTg2wtgo",
        "outputId": "045a41a6-b9ee-412c-a302-33a51f45be5d"
      },
      "source": [
        "#Plotting ACF\r\n",
        "plot_acf(data.nasdaq_1985_2014,lags=10)\r\n",
        "plt.show"
      ],
      "execution_count": 400,
      "outputs": [
        {
          "output_type": "execute_result",
          "data": {
            "text/plain": [
              "<function matplotlib.pyplot.show>"
            ]
          },
          "metadata": {
            "tags": []
          },
          "execution_count": 400
        },
        {
          "output_type": "display_data",
          "data": {
            "image/png": "[encoded data removed]",
            "text/plain": [
              "<Figure size 432x288 with 1 Axes>"
            ]
          },
          "metadata": {
            "tags": [],
            "needs_background": "light"
          }
        }
      ]
    },
    {
      "cell_type": "code",
      "metadata": {
        "colab": {
          "base_uri": "https://localhost:8080/",
          "height": 299
        },
        "id": "qkkvPqrfwtgo",
        "outputId": "c3942602-20c9-4666-9c43-b999b63f799a"
      },
      "source": [
        "#plotting PACF\r\n",
        "plot_pacf(data.nasdaq_1985_2014,lags=10)\r\n",
        "plt.show"
      ],
      "execution_count": 401,
      "outputs": [
        {
          "output_type": "execute_result",
          "data": {
            "text/plain": [
              "<function matplotlib.pyplot.show>"
            ]
          },
          "metadata": {
            "tags": []
          },
          "execution_count": 401
        },
        {
          "output_type": "display_data",
          "data": {
            "image/png": "[encoded data removed]",
            "text/plain": [
              "<Figure size 432x288 with 1 Axes>"
            ]
          },
          "metadata": {
            "tags": [],
            "needs_background": "light"
          }
        }
      ]
    },
    {
      "cell_type": "markdown",
      "metadata": {
        "id": "mdWD1GATrgaA"
      },
      "source": [
        "\r\n",
        "\r\n",
        "---\r\n",
        "\r\n"
      ]
    },
    {
      "cell_type": "markdown",
      "metadata": {
        "id": "-xJISjbow7ek"
      },
      "source": [
        "Applying AR, MA, ARIMA Models"
      ]
    },
    {
      "cell_type": "code",
      "metadata": {
        "id": "QSrgwzMrDNLW",
        "colab": {
          "base_uri": "https://localhost:8080/",
          "height": 629
        },
        "outputId": "d27c9bd2-624c-4565-9fbc-814fa8f255c1"
      },
      "source": [
        "#AR\r\n",
        "\r\n",
        "#fit model\r\n",
        "model=ARIMA(data['nasdaq_1985_2014'], order=(1,0,0))\r\n",
        "model_fit=model.fit()\r\n",
        "\r\n",
        "#model summary\r\n",
        "print(model_fit.summary())\r\n",
        "\r\n",
        "#make prediction\r\n",
        "data['forecastAR'] = model_fit.predict()\r\n",
        "data[['nasdaq_1985_2014','forecastAR']].plot()"
      ],
      "execution_count": 402,
      "outputs": [
        {
          "output_type": "stream",
          "text": [
            "                              ARMA Model Results                              \n",
            "==============================================================================\n",
            "Dep. Variable:       nasdaq_1985_2014   No. Observations:                 7276\n",
            "Model:                     ARMA(1, 0)   Log Likelihood              -35820.448\n",
            "Method:                       css-mle   S.D. of innovations             33.236\n",
            "Date:                Mon, 01 Mar 2021   AIC                          71646.896\n",
            "Time:                        05:20:12   BIC                          71667.573\n",
            "Sample:                             0   HQIC                         71654.008\n",
            "                                                                              \n",
            "==========================================================================================\n",
            "                             coef    std err          z      P>|z|      [0.025      0.975]\n",
            "------------------------------------------------------------------------------------------\n",
            "const                    883.2554   9045.957      0.098      0.922   -1.68e+04    1.86e+04\n",
            "ar.L1.nasdaq_1985_2014     0.9998      0.002    555.560      0.000       0.996       1.003\n",
            "                                    Roots                                    \n",
            "=============================================================================\n",
            "                  Real          Imaginary           Modulus         Frequency\n",
            "-----------------------------------------------------------------------------\n",
            "AR.1            1.0002           +0.0000j            1.0002            0.0000\n",
            "-----------------------------------------------------------------------------\n"
          ],
          "name": "stdout"
        },
        {
          "output_type": "execute_result",
          "data": {
            "text/plain": [
              "<matplotlib.axes._subplots.AxesSubplot at 0x7f1aefc368d0>"
            ]
          },
          "metadata": {
            "tags": []
          },
          "execution_count": 402
        },
        {
          "output_type": "display_data",
          "data": {
            "image/png": "[encoded data removed]",
            "text/plain": [
              "<Figure size 432x288 with 1 Axes>"
            ]
          },
          "metadata": {
            "tags": [],
            "needs_background": "light"
          }
        }
      ]
    },
    {
      "cell_type": "code",
      "metadata": {
        "colab": {
          "base_uri": "https://localhost:8080/"
        },
        "id": "ff-vvGJCE6wX",
        "outputId": "cae189cc-a9fa-4aae-a519-60fa347d8583"
      },
      "source": [
        "mse=mean_squared_error(data.nasdaq_1985_2014,data.forecastAR.dropna())\r\n",
        "print(\"MSE for AR is:\",mse)"
      ],
      "execution_count": 403,
      "outputs": [
        {
          "output_type": "stream",
          "text": [
            "MSE for AR is: 2345.0059510285555\n"
          ],
          "name": "stdout"
        }
      ]
    },
    {
      "cell_type": "code",
      "metadata": {
        "colab": {
          "base_uri": "https://localhost:8080/"
        },
        "id": "LxeFr6VsFnlf",
        "outputId": "e1161f90-9eb9-4c2b-dc8e-62b88998e728"
      },
      "source": [
        "mae=mean_absolute_error(data.nasdaq_1985_2014,data.forecastAR.dropna())\r\n",
        "print(\"MAE for AR is:\",mae)"
      ],
      "execution_count": 404,
      "outputs": [
        {
          "output_type": "stream",
          "text": [
            "MAE for AR is: 17.872702594616264\n"
          ],
          "name": "stdout"
        }
      ]
    },
    {
      "cell_type": "code",
      "metadata": {
        "colab": {
          "base_uri": "https://localhost:8080/",
          "height": 629
        },
        "id": "Ox8gS63vTxGH",
        "outputId": "f0748fda-b988-467e-e37b-1249f86f5ecc"
      },
      "source": [
        "#MA\r\n",
        "\r\n",
        "#fit model\r\n",
        "model=ARIMA(data['nasdaq_1985_2014'].dropna(), order=(0,0,1))\r\n",
        "model_fit=model.fit()\r\n",
        "\r\n",
        "#model summary\r\n",
        "print(model_fit.summary())\r\n",
        "\r\n",
        "#make prediction\r\n",
        "data['forecastMA'] = model_fit.predict()\r\n",
        "data[['nasdaq_1985_2014','forecastMA']].plot()"
      ],
      "execution_count": 405,
      "outputs": [
        {
          "output_type": "stream",
          "text": [
            "                              ARMA Model Results                              \n",
            "==============================================================================\n",
            "Dep. Variable:       nasdaq_1985_2014   No. Observations:                 7276\n",
            "Model:                     ARMA(0, 1)   Log Likelihood              -55311.023\n",
            "Method:                       css-mle   S.D. of innovations            484.294\n",
            "Date:                Mon, 01 Mar 2021   AIC                         110628.046\n",
            "Time:                        05:20:14   BIC                         110648.723\n",
            "Sample:                             0   HQIC                        110635.157\n",
            "                                                                              \n",
            "==========================================================================================\n",
            "                             coef    std err          z      P>|z|      [0.025      0.975]\n",
            "------------------------------------------------------------------------------------------\n",
            "const                   1375.7653     11.228    122.534      0.000    1353.760    1397.771\n",
            "ma.L1.nasdaq_1985_2014     0.9777      0.002    574.513      0.000       0.974       0.981\n",
            "                                    Roots                                    \n",
            "=============================================================================\n",
            "                  Real          Imaginary           Modulus         Frequency\n",
            "-----------------------------------------------------------------------------\n",
            "MA.1           -1.0228           +0.0000j            1.0228            0.5000\n",
            "-----------------------------------------------------------------------------\n"
          ],
          "name": "stdout"
        },
        {
          "output_type": "execute_result",
          "data": {
            "text/plain": [
              "<matplotlib.axes._subplots.AxesSubplot at 0x7f1aefa49310>"
            ]
          },
          "metadata": {
            "tags": []
          },
          "execution_count": 405
        },
        {
          "output_type": "display_data",
          "data": {
            "image/png": "[encoded data removed]",
            "text/plain": [
              "<Figure size 432x288 with 1 Axes>"
            ]
          },
          "metadata": {
            "tags": [],
            "needs_background": "light"
          }
        }
      ]
    },
    {
      "cell_type": "code",
      "metadata": {
        "colab": {
          "base_uri": "https://localhost:8080/"
        },
        "id": "jdGfFS2pF9Yt",
        "outputId": "eb0baf2a-4937-44ce-dc07-556e144d98bd"
      },
      "source": [
        "mse=mean_squared_error(data.nasdaq_1985_2014,data.forecastMA.dropna())\r\n",
        "print(\"MSE for MA is:\",mse)"
      ],
      "execution_count": 406,
      "outputs": [
        {
          "output_type": "stream",
          "text": [
            "MSE for MA is: 235534.93345216895\n"
          ],
          "name": "stdout"
        }
      ]
    },
    {
      "cell_type": "code",
      "metadata": {
        "colab": {
          "base_uri": "https://localhost:8080/"
        },
        "id": "prumknJeF9Y9",
        "outputId": "3b2b983a-ee8e-4f98-9b5a-97174e3e3948"
      },
      "source": [
        "mae=mean_absolute_error(data.nasdaq_1985_2014,data.forecastMA.dropna())\r\n",
        "print(\"MAE for MA is:\",mae)"
      ],
      "execution_count": 407,
      "outputs": [
        {
          "output_type": "stream",
          "text": [
            "MAE for MA is: 392.66799044674684\n"
          ],
          "name": "stdout"
        }
      ]
    },
    {
      "cell_type": "code",
      "metadata": {
        "colab": {
          "base_uri": "https://localhost:8080/",
          "height": 664
        },
        "id": "CWZ05AcIT8U7",
        "outputId": "1dfa5bc9-c7fb-4f6d-da3a-2f6120e02071"
      },
      "source": [
        "#ARIMA\r\n",
        "\r\n",
        "#fit model\r\n",
        "model=ARIMA(data['diff'].dropna(), order=(1,1,1))\r\n",
        "model_fit=model.fit()\r\n",
        "\r\n",
        "#model summary\r\n",
        "print(model_fit.summary())\r\n",
        "\r\n",
        "#make prediction\r\n",
        "data['forecastARIMA'] = model_fit.predict()\r\n",
        "data[['diff','forecastARIMA']].plot()"
      ],
      "execution_count": 408,
      "outputs": [
        {
          "output_type": "stream",
          "text": [
            "                             ARIMA Model Results                              \n",
            "==============================================================================\n",
            "Dep. Variable:                 D.diff   No. Observations:                 7274\n",
            "Model:                 ARIMA(1, 1, 1)   Log Likelihood              -35797.946\n",
            "Method:                       css-mle   S.D. of innovations             33.176\n",
            "Date:                Mon, 01 Mar 2021   AIC                          71603.892\n",
            "Time:                        05:20:18   BIC                          71631.461\n",
            "Sample:                             1   HQIC                         71613.374\n",
            "                                                                              \n",
            "================================================================================\n",
            "                   coef    std err          z      P>|z|      [0.025      0.975]\n",
            "--------------------------------------------------------------------------------\n",
            "const            0.0002      0.000      0.878      0.380      -0.000       0.000\n",
            "ar.L1.D.diff    -0.0591      0.012     -5.052      0.000      -0.082      -0.036\n",
            "ma.L1.D.diff    -1.0000      0.000  -2208.018      0.000      -1.001      -0.999\n",
            "                                    Roots                                    \n",
            "=============================================================================\n",
            "                  Real          Imaginary           Modulus         Frequency\n",
            "-----------------------------------------------------------------------------\n",
            "AR.1          -16.9101           +0.0000j           16.9101            0.5000\n",
            "MA.1            1.0000           +0.0000j            1.0000            0.0000\n",
            "-----------------------------------------------------------------------------\n"
          ],
          "name": "stdout"
        },
        {
          "output_type": "execute_result",
          "data": {
            "text/plain": [
              "<matplotlib.axes._subplots.AxesSubplot at 0x7f1af0932350>"
            ]
          },
          "metadata": {
            "tags": []
          },
          "execution_count": 408
        },
        {
          "output_type": "display_data",
          "data": {
            "image/png": "[encoded data removed]",
            "text/plain": [
              "<Figure size 432x288 with 1 Axes>"
            ]
          },
          "metadata": {
            "tags": [],
            "needs_background": "light"
          }
        }
      ]
    },
    {
      "cell_type": "code",
      "metadata": {
        "colab": {
          "base_uri": "https://localhost:8080/"
        },
        "id": "bbb4AjfvGXxT",
        "outputId": "bdacbb3b-fa5f-4ae8-e9cd-26dda8f251f3"
      },
      "source": [
        "mse=mean_squared_error(data.nasdaq_1985_2014[0:-2],data.forecastARIMA.dropna())\r\n",
        "print(\"MSE for MA is:\",mse)"
      ],
      "execution_count": 409,
      "outputs": [
        {
          "output_type": "stream",
          "text": [
            "MSE for MA is: 2790845.8382340004\n"
          ],
          "name": "stdout"
        }
      ]
    },
    {
      "cell_type": "code",
      "metadata": {
        "colab": {
          "base_uri": "https://localhost:8080/"
        },
        "id": "qY9jum2DGXxV",
        "outputId": "17690347-9174-408f-c1cf-db1bc5864747"
      },
      "source": [
        "mae=mean_absolute_error(data.nasdaq_1985_2014[0:-2],data.forecastARIMA.dropna())\r\n",
        "print(\"MAE for MA is:\",mae)"
      ],
      "execution_count": 410,
      "outputs": [
        {
          "output_type": "stream",
          "text": [
            "MAE for MA is: 1376.2490735730798\n"
          ],
          "name": "stdout"
        }
      ]
    },
    {
      "cell_type": "markdown",
      "metadata": {
        "id": "4gGVXGjX6NkJ"
      },
      "source": [
        "\r\n",
        "\r\n",
        "---\r\n",
        "\r\n"
      ]
    },
    {
      "cell_type": "markdown",
      "metadata": {
        "id": "tC0GYNaixFML"
      },
      "source": [
        "Applying Auto ARIMA"
      ]
    },
    {
      "cell_type": "code",
      "metadata": {
        "colab": {
          "base_uri": "https://localhost:8080/"
        },
        "id": "jqYkTZfSxJOn",
        "outputId": "ff084698-9b92-443d-8aa6-67611caebc57"
      },
      "source": [
        "import pmdarima as pm\r\n",
        "model = pm.auto_arima(data.iloc[:,0], start_p=1, start_q=1,test='adf',max_p=3, max_q=3,m=1,d=None,seasonal=False,start_P=0, D=0, trace=True,error_action='ignore',  suppress_warnings=True,stepwise=True)\r\n",
        "print(model.summary())"
      ],
      "execution_count": 411,
      "outputs": [
        {
          "output_type": "stream",
          "text": [
            "Performing stepwise search to minimize aic\n",
            " ARIMA(1,1,1)(0,0,0)[0] intercept   : AIC=71573.519, Time=2.28 sec\n",
            " ARIMA(0,1,0)(0,0,0)[0] intercept   : AIC=71626.005, Time=0.17 sec\n",
            " ARIMA(1,1,0)(0,0,0)[0] intercept   : AIC=71602.481, Time=0.22 sec\n",
            " ARIMA(0,1,1)(0,0,0)[0] intercept   : AIC=71598.884, Time=0.67 sec\n",
            " ARIMA(0,1,0)(0,0,0)[0]             : AIC=71625.676, Time=0.11 sec\n",
            " ARIMA(2,1,1)(0,0,0)[0] intercept   : AIC=71573.861, Time=4.34 sec\n",
            " ARIMA(1,1,2)(0,0,0)[0] intercept   : AIC=71573.643, Time=3.13 sec\n",
            " ARIMA(0,1,2)(0,0,0)[0] intercept   : AIC=71574.051, Time=2.33 sec\n",
            " ARIMA(2,1,0)(0,0,0)[0] intercept   : AIC=71575.909, Time=0.71 sec\n",
            " ARIMA(2,1,2)(0,0,0)[0] intercept   : AIC=71575.157, Time=4.78 sec\n",
            " ARIMA(1,1,1)(0,0,0)[0]             : AIC=71573.985, Time=0.87 sec\n",
            "\n",
            "Best model:  ARIMA(1,1,1)(0,0,0)[0] intercept\n",
            "Total fit time: 19.657 seconds\n",
            "                               SARIMAX Results                                \n",
            "==============================================================================\n",
            "Dep. Variable:                      y   No. Observations:                 7276\n",
            "Model:               SARIMAX(1, 1, 1)   Log Likelihood              -35782.760\n",
            "Date:                Mon, 01 Mar 2021   AIC                          71573.519\n",
            "Time:                        05:20:38   BIC                          71601.088\n",
            "Sample:                             0   HQIC                         71583.001\n",
            "                               - 7276                                         \n",
            "Covariance Type:                  opg                                         \n",
            "==============================================================================\n",
            "                 coef    std err          z      P>|z|      [0.025      0.975]\n",
            "------------------------------------------------------------------------------\n",
            "intercept     -0.2041      0.131     -1.552      0.121      -0.462       0.054\n",
            "ar.L1          0.5947      0.030     19.738      0.000       0.536       0.654\n",
            "ma.L1         -0.6657      0.028    -23.530      0.000      -0.721      -0.610\n",
            "sigma2      1096.2903      5.118    214.201      0.000    1086.259    1106.322\n",
            "===================================================================================\n",
            "Ljung-Box (L1) (Q):                   0.26   Jarque-Bera (JB):            167022.66\n",
            "Prob(Q):                              0.61   Prob(JB):                         0.00\n",
            "Heteroskedasticity (H):               0.15   Skew:                             0.19\n",
            "Prob(H) (two-sided):                  0.00   Kurtosis:                        26.47\n",
            "===================================================================================\n",
            "\n",
            "Warnings:\n",
            "[1] Covariance matrix calculated using the outer product of gradients (complex-step).\n"
          ],
          "name": "stdout"
        }
      ]
    },
    {
      "cell_type": "markdown",
      "metadata": {
        "id": "Iy9Hh21Hxa6g"
      },
      "source": [
        "# Best model:  ARIMA(1,1,1)(0,0,0)[0]\r\n",
        "\r\n"
      ]
    },
    {
      "cell_type": "markdown",
      "metadata": {
        "id": "Qz_R50pjhjBZ"
      },
      "source": [
        "Final Result![3.PNG](data:image/png;base64,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)"
      ]
    }
  ]
}